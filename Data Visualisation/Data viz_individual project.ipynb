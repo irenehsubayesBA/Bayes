{
 "cells": [
  {
   "cell_type": "code",
   "execution_count": 1,
   "id": "7b1d86a7",
   "metadata": {
    "ExecuteTime": {
     "end_time": "2023-01-07T14:17:04.731440Z",
     "start_time": "2023-01-07T14:16:56.413572Z"
    }
   },
   "outputs": [],
   "source": [
    "import pandas as pd\n",
    "from collections import Counter\n",
    "import numpy as np\n",
    "import plotly.express as px\n",
    "import seaborn as sns\n",
    "import matplotlib.pyplot as plt\n",
    "import plotly.graph_objects as go\n",
    "%matplotlib inline"
   ]
  },
  {
   "cell_type": "code",
   "execution_count": 2,
   "id": "4768fbaf",
   "metadata": {
    "ExecuteTime": {
     "end_time": "2023-01-07T14:17:48.952178Z",
     "start_time": "2023-01-07T14:17:48.670016Z"
    }
   },
   "outputs": [],
   "source": [
    "df = pd.read_csv(\"Data Model - Pizza Sales.csv\")"
   ]
  },
  {
   "cell_type": "markdown",
   "id": "d0bf4e4e",
   "metadata": {},
   "source": [
    "This pizza sales dataset make up 12 relevant features:\n",
    "\n",
    "```order_id```: Unique identifier for each order placed by a table\n",
    "    \n",
    "```order_details_id```: Unique identifier for each pizza placed within each order (pizzas of the same type and size are kept in the same row, and the quantity increases)\n",
    "    \n",
    "```pizza_id```: Unique key identifier that ties the pizza ordered to its details, like size and price\n",
    "    \n",
    "```quantity```: Quantity ordered for each pizza of the same type and size\n",
    "    \n",
    "```order_date```: Date the order was placed (entered into the system prior to cooking & serving)\n",
    "    \n",
    "```order_time```: Time the order was placed (entered into the system prior to cooking & serving)\n",
    "    \n",
    "```unit_price```: Price of the pizza in USD\n",
    "    \n",
    "```total_price```: unit_price * quantity\n",
    "    \n",
    "```pizza_size```: Size of the pizza (Small, Medium, Large, X Large, or XX Large)\n",
    "    \n",
    "```pizza_type```: Unique key identifier that ties the pizza ordered to its details, like size and price\n",
    "    \n",
    "```pizza_ingredients```: ingredients used in the pizza as shown in the menu (they all include Mozzarella Cheese, even if not specified; and they all include Tomato Sauce, unless another sauce is specified)\n",
    "    \n",
    "```pizza_name```: Name of the pizza as shown in the menu\n"
   ]
  },
  {
   "cell_type": "markdown",
   "id": "f36bf456",
   "metadata": {},
   "source": [
    "# Data Cleaning"
   ]
  },
  {
   "cell_type": "markdown",
   "id": "de03e3b3",
   "metadata": {},
   "source": [
    "## Drop useless columns"
   ]
  },
  {
   "cell_type": "code",
   "execution_count": 3,
   "id": "8e782331",
   "metadata": {
    "ExecuteTime": {
     "end_time": "2023-01-07T14:17:51.924427Z",
     "start_time": "2023-01-07T14:17:51.897289Z"
    }
   },
   "outputs": [],
   "source": [
    "df.drop(columns=\"Unnamed: 12\",inplace=True)"
   ]
  },
  {
   "cell_type": "markdown",
   "id": "6cd86ffb",
   "metadata": {},
   "source": [
    "## Check none values"
   ]
  },
  {
   "cell_type": "code",
   "execution_count": 4,
   "id": "f1d7e9c7",
   "metadata": {
    "ExecuteTime": {
     "end_time": "2023-01-07T14:17:53.374967Z",
     "start_time": "2023-01-07T14:17:53.256610Z"
    }
   },
   "outputs": [
    {
     "data": {
      "text/plain": [
       "order_details_id     0\n",
       "order_id             0\n",
       "pizza_id             0\n",
       "quantity             0\n",
       "order_date           0\n",
       "order_time           0\n",
       "unit_price           0\n",
       "total_price          0\n",
       "pizza_size           0\n",
       "pizza_category       0\n",
       "pizza_ingredients    0\n",
       "pizza_name           0\n",
       "dtype: int64"
      ]
     },
     "execution_count": 4,
     "metadata": {},
     "output_type": "execute_result"
    }
   ],
   "source": [
    "df.isna().sum()"
   ]
  },
  {
   "cell_type": "markdown",
   "id": "f365302a",
   "metadata": {},
   "source": [
    "## Correct string in ```pizza_ingredients```"
   ]
  },
  {
   "cell_type": "code",
   "execution_count": 5,
   "id": "e19adef0",
   "metadata": {
    "ExecuteTime": {
     "end_time": "2023-01-07T14:17:55.811401Z",
     "start_time": "2023-01-07T14:17:55.741332Z"
    }
   },
   "outputs": [],
   "source": [
    "df['pizza_ingredients'] = df['pizza_ingredients'].str.replace('慛duja Salami, Pancetta, Tomatoes, Red Onions, Friggitello Peppers, Garlic','Nduja Salami, Pancetta, Tomatoes, Red Onions, Friggitello Peppers, Garlic')"
   ]
  },
  {
   "cell_type": "markdown",
   "id": "1d0cf021",
   "metadata": {},
   "source": [
    "## Change ```order_date``` datatype to timestamp"
   ]
  },
  {
   "cell_type": "code",
   "execution_count": 6,
   "id": "09f2b177",
   "metadata": {
    "ExecuteTime": {
     "end_time": "2023-01-07T14:18:01.232240Z",
     "start_time": "2023-01-07T14:17:56.730460Z"
    }
   },
   "outputs": [],
   "source": [
    "df.loc[:, \"timestamp\"] = df[\"order_date\"].apply(lambda s: pd.Timestamp(s))"
   ]
  },
  {
   "cell_type": "markdown",
   "id": "28bc006b",
   "metadata": {},
   "source": [
    "## Price distribution "
   ]
  },
  {
   "cell_type": "code",
   "execution_count": 16,
   "id": "74a1a5cb",
   "metadata": {
    "ExecuteTime": {
     "end_time": "2023-01-07T14:18:29.259283Z",
     "start_time": "2023-01-07T14:18:29.249655Z"
    }
   },
   "outputs": [],
   "source": [
    "frequency = df.loc[:, [\"pizza_category\",\"unit_price\"]]"
   ]
  },
  {
   "cell_type": "code",
   "execution_count": 17,
   "id": "aaa7a0d2",
   "metadata": {
    "ExecuteTime": {
     "end_time": "2023-01-07T14:18:33.554490Z",
     "start_time": "2023-01-07T14:18:33.408049Z"
    }
   },
   "outputs": [],
   "source": [
    "pivot1 = frequency.pivot(columns = 'pizza_category',values = 'unit_price')"
   ]
  },
  {
   "cell_type": "code",
   "execution_count": 18,
   "id": "7a25147d",
   "metadata": {
    "ExecuteTime": {
     "end_time": "2023-01-07T14:18:37.859921Z",
     "start_time": "2023-01-07T14:18:37.850898Z"
    }
   },
   "outputs": [],
   "source": [
    "from matplotlib import font_manager\n",
    "import matplotlib.ticker as tick\n",
    "from matplotlib.ticker import EngFormatter, StrMethodFormatter"
   ]
  },
  {
   "cell_type": "code",
   "execution_count": 19,
   "id": "00728f7f",
   "metadata": {
    "ExecuteTime": {
     "end_time": "2023-01-07T14:18:52.026316Z",
     "start_time": "2023-01-07T14:18:51.632779Z"
    }
   },
   "outputs": [
    {
     "data": {
      "image/png": "[encoded data removed]",
      "text/plain": [
       "<Figure size 576x432 with 1 Axes>"
      ]
     },
     "metadata": {
      "needs_background": "light"
     },
     "output_type": "display_data"
    }
   ],
   "source": [
    "fig = plt.figure(figsize=(8,6))\n",
    "ax = fig.add_subplot(111)\n",
    "\n",
    "x = frequency[\"unit_price\"]\n",
    "\n",
    "ax.hist(pivot1[\"Chicken\"], bins=6, alpha=0.5, label=\"Chicken\", color=\"#eec9e5\")\n",
    "ax.hist(pivot1[\"Classic\"], bins=25, alpha=0.5, label=\"Classic\", color=\"#b9ddf1\")\n",
    "ax.hist(pivot1[\"Supreme\"], bins=10, alpha=0.5, label=\"Supreme\", color=\"#ffbeb2\")\n",
    "ax.hist(pivot1[\"Veggie\"], bins=9, alpha=0.5, label=\"Veggie\", color=\"#b3e1a6\")\n",
    "\n",
    "ax.set_frame_on(False) \n",
    "\n",
    "ax.text(14, 4900, \"Average\", fontsize = 9, color=\"red\")\n",
    "\n",
    "plt.xlabel(\"Price (USD)\", size=10, labelpad=20)\n",
    "plt.ylabel(\"Frequency\", size=10, labelpad=20)\n",
    "\n",
    "ax.xaxis.set_major_formatter(StrMethodFormatter(\"${x:.0f}\"))\n",
    "\n",
    "ax.tick_params(axis=u'y', which=u'both',length=0)\n",
    "ax.tick_params(axis=u'x', which=u'both',length=0)\n",
    "\n",
    "plt.title(\"Frequency Distributions of Pizza Restaurant Price Range\", size=15, pad=26)\n",
    "plt.legend(loc='upper right', frameon=False)\n",
    "\n",
    "plt.axvline(x.mean(), color='red', linestyle='dashed', linewidth=1)\n",
    "\n",
    "#plt.tight_layout()\n",
    "#plt.savefig('consumer preference1.jpg',dpi=250)\n",
    "\n",
    "plt.show()"
   ]
  }
 ],
 "metadata": {
  "kernelspec": {
   "display_name": "Python 3 (ipykernel)",
   "language": "python",
   "name": "python3"
  },
  "language_info": {
   "codemirror_mode": {
    "name": "ipython",
    "version": 3
   },
   "file_extension": ".py",
   "mimetype": "text/x-python",
   "name": "python",
   "nbconvert_exporter": "python",
   "pygments_lexer": "ipython3",
   "version": "3.9.12"
  },
  "toc": {
   "base_numbering": 1,
   "nav_menu": {},
   "number_sections": true,
   "sideBar": true,
   "skip_h1_title": false,
   "title_cell": "Table of Contents",
   "title_sidebar": "Contents",
   "toc_cell": false,
   "toc_position": {},
   "toc_section_display": true,
   "toc_window_display": false
  },
  "varInspector": {
   "cols": {
    "lenName": 16,
    "lenType": 16,
    "lenVar": 40
   },
   "kernels_config": {
    "python": {
     "delete_cmd_postfix": "",
     "delete_cmd_prefix": "del ",
     "library": "var_list.py",
     "varRefreshCmd": "print(var_dic_list())"
    },
    "r": {
     "delete_cmd_postfix": ") ",
     "delete_cmd_prefix": "rm(",
     "library": "var_list.r",
     "varRefreshCmd": "cat(var_dic_list()) "
    }
   },
   "types_to_exclude": [
    "module",
    "function",
    "builtin_function_or_method",
    "instance",
    "_Feature"
   ],
   "window_display": false
  },
  "vscode": {
   "interpreter": {
    "hash": "40d3a090f54c6569ab1632332b64b2c03c39dcf918b08424e98f38b5ae0af88f"
   }
  }
 },
 "nbformat": 4,
 "nbformat_minor": 5
}

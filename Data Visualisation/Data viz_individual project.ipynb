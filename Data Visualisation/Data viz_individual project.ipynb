{
 "cells": [
  {
   "cell_type": "code",
   "execution_count": 1,
   "id": "7b1d86a7",
   "metadata": {
    "ExecuteTime": {
     "end_time": "2022-12-05T16:27:50.145846Z",
     "start_time": "2022-12-05T16:27:43.154351Z"
    }
   },
   "outputs": [],
   "source": [
    "import pandas as pd\n",
    "from collections import Counter\n",
    "import numpy as np\n",
    "import plotly.express as px\n",
    "import seaborn as sns\n",
    "import matplotlib.pyplot as plt\n",
    "import plotly.graph_objects as go\n",
    "%matplotlib inline"
   ]
  },
  {
   "cell_type": "code",
   "execution_count": 2,
   "id": "4768fbaf",
   "metadata": {
    "ExecuteTime": {
     "end_time": "2022-12-05T16:27:50.502661Z",
     "start_time": "2022-12-05T16:27:50.198934Z"
    }
   },
   "outputs": [
    {
     "data": {
      "text/html": [
       "<div>\n",
       "<style scoped>\n",
       "    .dataframe tbody tr th:only-of-type {\n",
       "        vertical-align: middle;\n",
       "    }\n",
       "\n",
       "    .dataframe tbody tr th {\n",
       "        vertical-align: top;\n",
       "    }\n",
       "\n",
       "    .dataframe thead th {\n",
       "        text-align: right;\n",
       "    }\n",
       "</style>\n",
       "<table border=\"1\" class=\"dataframe\">\n",
       "  <thead>\n",
       "    <tr style=\"text-align: right;\">\n",
       "      <th></th>\n",
       "      <th>order_details_id</th>\n",
       "      <th>order_id</th>\n",
       "      <th>pizza_id</th>\n",
       "      <th>quantity</th>\n",
       "      <th>order_date</th>\n",
       "      <th>order_time</th>\n",
       "      <th>unit_price</th>\n",
       "      <th>total_price</th>\n",
       "      <th>pizza_size</th>\n",
       "      <th>pizza_category</th>\n",
       "      <th>pizza_ingredients</th>\n",
       "      <th>pizza_name</th>\n",
       "      <th>Unnamed: 12</th>\n",
       "    </tr>\n",
       "  </thead>\n",
       "  <tbody>\n",
       "    <tr>\n",
       "      <th>0</th>\n",
       "      <td>1</td>\n",
       "      <td>1</td>\n",
       "      <td>hawaiian_m</td>\n",
       "      <td>1</td>\n",
       "      <td>1/1/15</td>\n",
       "      <td>11:38:36</td>\n",
       "      <td>13.25</td>\n",
       "      <td>13.25</td>\n",
       "      <td>M</td>\n",
       "      <td>Classic</td>\n",
       "      <td>Sliced Ham, Pineapple, Mozzarella Cheese</td>\n",
       "      <td>The Hawaiian Pizza</td>\n",
       "      <td>NaN</td>\n",
       "    </tr>\n",
       "    <tr>\n",
       "      <th>1</th>\n",
       "      <td>2</td>\n",
       "      <td>2</td>\n",
       "      <td>classic_dlx_m</td>\n",
       "      <td>1</td>\n",
       "      <td>1/1/15</td>\n",
       "      <td>11:57:40</td>\n",
       "      <td>16.00</td>\n",
       "      <td>16.00</td>\n",
       "      <td>M</td>\n",
       "      <td>Classic</td>\n",
       "      <td>Pepperoni, Mushrooms, Red Onions, Red Peppers,...</td>\n",
       "      <td>The Classic Deluxe Pizza</td>\n",
       "      <td>NaN</td>\n",
       "    </tr>\n",
       "    <tr>\n",
       "      <th>2</th>\n",
       "      <td>3</td>\n",
       "      <td>2</td>\n",
       "      <td>five_cheese_l</td>\n",
       "      <td>1</td>\n",
       "      <td>1/1/15</td>\n",
       "      <td>11:57:40</td>\n",
       "      <td>18.50</td>\n",
       "      <td>18.50</td>\n",
       "      <td>L</td>\n",
       "      <td>Veggie</td>\n",
       "      <td>Mozzarella Cheese, Provolone Cheese, Smoked Go...</td>\n",
       "      <td>The Five Cheese Pizza</td>\n",
       "      <td>NaN</td>\n",
       "    </tr>\n",
       "    <tr>\n",
       "      <th>3</th>\n",
       "      <td>4</td>\n",
       "      <td>2</td>\n",
       "      <td>ital_supr_l</td>\n",
       "      <td>1</td>\n",
       "      <td>1/1/15</td>\n",
       "      <td>11:57:40</td>\n",
       "      <td>20.75</td>\n",
       "      <td>20.75</td>\n",
       "      <td>L</td>\n",
       "      <td>Supreme</td>\n",
       "      <td>Calabrese Salami, Capocollo, Tomatoes, Red Oni...</td>\n",
       "      <td>The Italian Supreme Pizza</td>\n",
       "      <td>NaN</td>\n",
       "    </tr>\n",
       "    <tr>\n",
       "      <th>4</th>\n",
       "      <td>5</td>\n",
       "      <td>2</td>\n",
       "      <td>mexicana_m</td>\n",
       "      <td>1</td>\n",
       "      <td>1/1/15</td>\n",
       "      <td>11:57:40</td>\n",
       "      <td>16.00</td>\n",
       "      <td>16.00</td>\n",
       "      <td>M</td>\n",
       "      <td>Veggie</td>\n",
       "      <td>Tomatoes, Red Peppers, Jalapeno Peppers, Red O...</td>\n",
       "      <td>The Mexicana Pizza</td>\n",
       "      <td>NaN</td>\n",
       "    </tr>\n",
       "    <tr>\n",
       "      <th>...</th>\n",
       "      <td>...</td>\n",
       "      <td>...</td>\n",
       "      <td>...</td>\n",
       "      <td>...</td>\n",
       "      <td>...</td>\n",
       "      <td>...</td>\n",
       "      <td>...</td>\n",
       "      <td>...</td>\n",
       "      <td>...</td>\n",
       "      <td>...</td>\n",
       "      <td>...</td>\n",
       "      <td>...</td>\n",
       "      <td>...</td>\n",
       "    </tr>\n",
       "    <tr>\n",
       "      <th>48615</th>\n",
       "      <td>48616</td>\n",
       "      <td>21348</td>\n",
       "      <td>ckn_alfredo_m</td>\n",
       "      <td>1</td>\n",
       "      <td>12/31/15</td>\n",
       "      <td>21:23:10</td>\n",
       "      <td>16.75</td>\n",
       "      <td>16.75</td>\n",
       "      <td>M</td>\n",
       "      <td>Chicken</td>\n",
       "      <td>Chicken, Red Onions, Red Peppers, Mushrooms, A...</td>\n",
       "      <td>The Chicken Alfredo Pizza</td>\n",
       "      <td>NaN</td>\n",
       "    </tr>\n",
       "    <tr>\n",
       "      <th>48616</th>\n",
       "      <td>48617</td>\n",
       "      <td>21348</td>\n",
       "      <td>four_cheese_l</td>\n",
       "      <td>1</td>\n",
       "      <td>12/31/15</td>\n",
       "      <td>21:23:10</td>\n",
       "      <td>17.95</td>\n",
       "      <td>17.95</td>\n",
       "      <td>L</td>\n",
       "      <td>Veggie</td>\n",
       "      <td>Ricotta Cheese, Gorgonzola Piccante Cheese, Mo...</td>\n",
       "      <td>The Four Cheese Pizza</td>\n",
       "      <td>NaN</td>\n",
       "    </tr>\n",
       "    <tr>\n",
       "      <th>48617</th>\n",
       "      <td>48618</td>\n",
       "      <td>21348</td>\n",
       "      <td>napolitana_s</td>\n",
       "      <td>1</td>\n",
       "      <td>12/31/15</td>\n",
       "      <td>21:23:10</td>\n",
       "      <td>12.00</td>\n",
       "      <td>12.00</td>\n",
       "      <td>S</td>\n",
       "      <td>Classic</td>\n",
       "      <td>Tomatoes, Anchovies, Green Olives, Red Onions,...</td>\n",
       "      <td>The Napolitana Pizza</td>\n",
       "      <td>NaN</td>\n",
       "    </tr>\n",
       "    <tr>\n",
       "      <th>48618</th>\n",
       "      <td>48619</td>\n",
       "      <td>21349</td>\n",
       "      <td>mexicana_l</td>\n",
       "      <td>1</td>\n",
       "      <td>12/31/15</td>\n",
       "      <td>22:09:54</td>\n",
       "      <td>20.25</td>\n",
       "      <td>20.25</td>\n",
       "      <td>L</td>\n",
       "      <td>Veggie</td>\n",
       "      <td>Tomatoes, Red Peppers, Jalapeno Peppers, Red O...</td>\n",
       "      <td>The Mexicana Pizza</td>\n",
       "      <td>NaN</td>\n",
       "    </tr>\n",
       "    <tr>\n",
       "      <th>48619</th>\n",
       "      <td>48620</td>\n",
       "      <td>21350</td>\n",
       "      <td>bbq_ckn_s</td>\n",
       "      <td>1</td>\n",
       "      <td>12/31/15</td>\n",
       "      <td>23:02:05</td>\n",
       "      <td>12.75</td>\n",
       "      <td>12.75</td>\n",
       "      <td>S</td>\n",
       "      <td>Chicken</td>\n",
       "      <td>Barbecued Chicken, Red Peppers, Green Peppers,...</td>\n",
       "      <td>The Barbecue Chicken Pizza</td>\n",
       "      <td>NaN</td>\n",
       "    </tr>\n",
       "  </tbody>\n",
       "</table>\n",
       "<p>48620 rows × 13 columns</p>\n",
       "</div>"
      ],
      "text/plain": [
       "       order_details_id  order_id       pizza_id  quantity order_date  \\\n",
       "0                     1         1     hawaiian_m         1     1/1/15   \n",
       "1                     2         2  classic_dlx_m         1     1/1/15   \n",
       "2                     3         2  five_cheese_l         1     1/1/15   \n",
       "3                     4         2    ital_supr_l         1     1/1/15   \n",
       "4                     5         2     mexicana_m         1     1/1/15   \n",
       "...                 ...       ...            ...       ...        ...   \n",
       "48615             48616     21348  ckn_alfredo_m         1   12/31/15   \n",
       "48616             48617     21348  four_cheese_l         1   12/31/15   \n",
       "48617             48618     21348   napolitana_s         1   12/31/15   \n",
       "48618             48619     21349     mexicana_l         1   12/31/15   \n",
       "48619             48620     21350      bbq_ckn_s         1   12/31/15   \n",
       "\n",
       "      order_time  unit_price  total_price pizza_size pizza_category  \\\n",
       "0       11:38:36       13.25        13.25          M        Classic   \n",
       "1       11:57:40       16.00        16.00          M        Classic   \n",
       "2       11:57:40       18.50        18.50          L         Veggie   \n",
       "3       11:57:40       20.75        20.75          L        Supreme   \n",
       "4       11:57:40       16.00        16.00          M         Veggie   \n",
       "...          ...         ...          ...        ...            ...   \n",
       "48615   21:23:10       16.75        16.75          M        Chicken   \n",
       "48616   21:23:10       17.95        17.95          L         Veggie   \n",
       "48617   21:23:10       12.00        12.00          S        Classic   \n",
       "48618   22:09:54       20.25        20.25          L         Veggie   \n",
       "48619   23:02:05       12.75        12.75          S        Chicken   \n",
       "\n",
       "                                       pizza_ingredients  \\\n",
       "0               Sliced Ham, Pineapple, Mozzarella Cheese   \n",
       "1      Pepperoni, Mushrooms, Red Onions, Red Peppers,...   \n",
       "2      Mozzarella Cheese, Provolone Cheese, Smoked Go...   \n",
       "3      Calabrese Salami, Capocollo, Tomatoes, Red Oni...   \n",
       "4      Tomatoes, Red Peppers, Jalapeno Peppers, Red O...   \n",
       "...                                                  ...   \n",
       "48615  Chicken, Red Onions, Red Peppers, Mushrooms, A...   \n",
       "48616  Ricotta Cheese, Gorgonzola Piccante Cheese, Mo...   \n",
       "48617  Tomatoes, Anchovies, Green Olives, Red Onions,...   \n",
       "48618  Tomatoes, Red Peppers, Jalapeno Peppers, Red O...   \n",
       "48619  Barbecued Chicken, Red Peppers, Green Peppers,...   \n",
       "\n",
       "                       pizza_name  Unnamed: 12  \n",
       "0              The Hawaiian Pizza          NaN  \n",
       "1        The Classic Deluxe Pizza          NaN  \n",
       "2           The Five Cheese Pizza          NaN  \n",
       "3       The Italian Supreme Pizza          NaN  \n",
       "4              The Mexicana Pizza          NaN  \n",
       "...                           ...          ...  \n",
       "48615   The Chicken Alfredo Pizza          NaN  \n",
       "48616       The Four Cheese Pizza          NaN  \n",
       "48617        The Napolitana Pizza          NaN  \n",
       "48618          The Mexicana Pizza          NaN  \n",
       "48619  The Barbecue Chicken Pizza          NaN  \n",
       "\n",
       "[48620 rows x 13 columns]"
      ]
     },
     "execution_count": 2,
     "metadata": {},
     "output_type": "execute_result"
    }
   ],
   "source": [
    "df = pd.read_csv(\"Data Model - Pizza Sales.csv\")\n",
    "df"
   ]
  },
  {
   "cell_type": "markdown",
   "id": "d0bf4e4e",
   "metadata": {},
   "source": [
    "This pizza sales dataset make up 12 relevant features:\n",
    "\n",
    "```order_id```: Unique identifier for each order placed by a table\n",
    "    \n",
    "```order_details_id```: Unique identifier for each pizza placed within each order (pizzas of the same type and size are kept in the same row, and the quantity increases)\n",
    "    \n",
    "```pizza_id```: Unique key identifier that ties the pizza ordered to its details, like size and price\n",
    "    \n",
    "```quantity```: Quantity ordered for each pizza of the same type and size\n",
    "    \n",
    "```order_date```: Date the order was placed (entered into the system prior to cooking & serving)\n",
    "    \n",
    "```order_time```: Time the order was placed (entered into the system prior to cooking & serving)\n",
    "    \n",
    "```unit_price```: Price of the pizza in USD\n",
    "    \n",
    "```total_price```: unit_price * quantity\n",
    "    \n",
    "```pizza_size```: Size of the pizza (Small, Medium, Large, X Large, or XX Large)\n",
    "    \n",
    "```pizza_type```: Unique key identifier that ties the pizza ordered to its details, like size and price\n",
    "    \n",
    "```pizza_ingredients```: ingredients used in the pizza as shown in the menu (they all include Mozzarella Cheese, even if not specified; and they all include Tomato Sauce, unless another sauce is specified)\n",
    "    \n",
    "```pizza_name```: Name of the pizza as shown in the menu\n"
   ]
  },
  {
   "cell_type": "markdown",
   "id": "f36bf456",
   "metadata": {},
   "source": [
    "# Data Cleaning"
   ]
  },
  {
   "cell_type": "markdown",
   "id": "de03e3b3",
   "metadata": {},
   "source": [
    "## Drop useless columns"
   ]
  },
  {
   "cell_type": "code",
   "execution_count": 3,
   "id": "8e782331",
   "metadata": {
    "ExecuteTime": {
     "end_time": "2022-12-05T16:27:50.559163Z",
     "start_time": "2022-12-05T16:27:50.544945Z"
    }
   },
   "outputs": [],
   "source": [
    "df.drop(columns=\"Unnamed: 12\",inplace=True)"
   ]
  },
  {
   "cell_type": "markdown",
   "id": "6cd86ffb",
   "metadata": {},
   "source": [
    "## Check none values"
   ]
  },
  {
   "cell_type": "code",
   "execution_count": 47,
   "id": "f1d7e9c7",
   "metadata": {
    "ExecuteTime": {
     "end_time": "2022-11-28T22:19:29.883625Z",
     "start_time": "2022-11-28T22:19:29.797957Z"
    }
   },
   "outputs": [
    {
     "data": {
      "text/plain": [
       "order_details_id     0\n",
       "order_id             0\n",
       "pizza_id             0\n",
       "quantity             0\n",
       "order_date           0\n",
       "order_time           0\n",
       "unit_price           0\n",
       "total_price          0\n",
       "pizza_size           0\n",
       "pizza_category       0\n",
       "pizza_ingredients    0\n",
       "pizza_name           0\n",
       "dtype: int64"
      ]
     },
     "execution_count": 47,
     "metadata": {},
     "output_type": "execute_result"
    }
   ],
   "source": [
    "df.isna().sum()"
   ]
  },
  {
   "cell_type": "markdown",
   "id": "f365302a",
   "metadata": {},
   "source": [
    "## Correct string in ```pizza_ingredients```"
   ]
  },
  {
   "cell_type": "code",
   "execution_count": 60,
   "id": "e19adef0",
   "metadata": {
    "ExecuteTime": {
     "end_time": "2022-11-28T22:30:30.141890Z",
     "start_time": "2022-11-28T22:30:30.078340Z"
    }
   },
   "outputs": [],
   "source": [
    "df['pizza_ingredients'] = df['pizza_ingredients'].str.replace('慛duja Salami, Pancetta, Tomatoes, Red Onions, Friggitello Peppers, Garlic','Nduja Salami, Pancetta, Tomatoes, Red Onions, Friggitello Peppers, Garlic')"
   ]
  },
  {
   "cell_type": "markdown",
   "id": "1d0cf021",
   "metadata": {},
   "source": [
    "## Change ```order_date``` datatype to timestamp"
   ]
  },
  {
   "cell_type": "code",
   "execution_count": 73,
   "id": "09f2b177",
   "metadata": {
    "ExecuteTime": {
     "end_time": "2022-11-28T22:37:31.995644Z",
     "start_time": "2022-11-28T22:37:28.194193Z"
    }
   },
   "outputs": [],
   "source": [
    "df.loc[:, \"timestamp\"] = df[\"order_date\"].apply(lambda s: pd.Timestamp(s))"
   ]
  },
  {
   "cell_type": "code",
   "execution_count": 600,
   "id": "d886eef3",
   "metadata": {
    "ExecuteTime": {
     "end_time": "2022-12-04T17:48:47.991105Z",
     "start_time": "2022-12-04T17:48:47.967739Z"
    }
   },
   "outputs": [
    {
     "data": {
      "text/html": [
       "<div>\n",
       "<style scoped>\n",
       "    .dataframe tbody tr th:only-of-type {\n",
       "        vertical-align: middle;\n",
       "    }\n",
       "\n",
       "    .dataframe tbody tr th {\n",
       "        vertical-align: top;\n",
       "    }\n",
       "\n",
       "    .dataframe thead th {\n",
       "        text-align: right;\n",
       "    }\n",
       "</style>\n",
       "<table border=\"1\" class=\"dataframe\">\n",
       "  <thead>\n",
       "    <tr style=\"text-align: right;\">\n",
       "      <th></th>\n",
       "      <th>order_details_id</th>\n",
       "      <th>order_id</th>\n",
       "      <th>pizza_id</th>\n",
       "      <th>quantity</th>\n",
       "      <th>order_date</th>\n",
       "      <th>order_time</th>\n",
       "      <th>unit_price</th>\n",
       "      <th>total_price</th>\n",
       "      <th>pizza_size</th>\n",
       "      <th>pizza_category</th>\n",
       "      <th>pizza_ingredients</th>\n",
       "      <th>pizza_name</th>\n",
       "      <th>timestamp</th>\n",
       "      <th>month</th>\n",
       "      <th>day</th>\n",
       "      <th>weekday</th>\n",
       "    </tr>\n",
       "  </thead>\n",
       "  <tbody>\n",
       "    <tr>\n",
       "      <th>0</th>\n",
       "      <td>1</td>\n",
       "      <td>1</td>\n",
       "      <td>hawaiian_m</td>\n",
       "      <td>1</td>\n",
       "      <td>1/1/15</td>\n",
       "      <td>11:38:36</td>\n",
       "      <td>13.25</td>\n",
       "      <td>13.25</td>\n",
       "      <td>M</td>\n",
       "      <td>Classic</td>\n",
       "      <td>Sliced Ham, Pineapple, Mozzarella Cheese</td>\n",
       "      <td>The Hawaiian Pizza</td>\n",
       "      <td>2015-01-01</td>\n",
       "      <td>1</td>\n",
       "      <td>1</td>\n",
       "      <td>Thursday</td>\n",
       "    </tr>\n",
       "    <tr>\n",
       "      <th>1</th>\n",
       "      <td>2</td>\n",
       "      <td>2</td>\n",
       "      <td>classic_dlx_m</td>\n",
       "      <td>1</td>\n",
       "      <td>1/1/15</td>\n",
       "      <td>11:57:40</td>\n",
       "      <td>16.00</td>\n",
       "      <td>16.00</td>\n",
       "      <td>M</td>\n",
       "      <td>Classic</td>\n",
       "      <td>Pepperoni, Mushrooms, Red Onions, Red Peppers,...</td>\n",
       "      <td>The Classic Deluxe Pizza</td>\n",
       "      <td>2015-01-01</td>\n",
       "      <td>1</td>\n",
       "      <td>1</td>\n",
       "      <td>Thursday</td>\n",
       "    </tr>\n",
       "    <tr>\n",
       "      <th>2</th>\n",
       "      <td>3</td>\n",
       "      <td>2</td>\n",
       "      <td>five_cheese_l</td>\n",
       "      <td>1</td>\n",
       "      <td>1/1/15</td>\n",
       "      <td>11:57:40</td>\n",
       "      <td>18.50</td>\n",
       "      <td>18.50</td>\n",
       "      <td>L</td>\n",
       "      <td>Veggie</td>\n",
       "      <td>Mozzarella Cheese, Provolone Cheese, Smoked Go...</td>\n",
       "      <td>The Five Cheese Pizza</td>\n",
       "      <td>2015-01-01</td>\n",
       "      <td>1</td>\n",
       "      <td>1</td>\n",
       "      <td>Thursday</td>\n",
       "    </tr>\n",
       "    <tr>\n",
       "      <th>3</th>\n",
       "      <td>4</td>\n",
       "      <td>2</td>\n",
       "      <td>ital_supr_l</td>\n",
       "      <td>1</td>\n",
       "      <td>1/1/15</td>\n",
       "      <td>11:57:40</td>\n",
       "      <td>20.75</td>\n",
       "      <td>20.75</td>\n",
       "      <td>L</td>\n",
       "      <td>Supreme</td>\n",
       "      <td>Calabrese Salami, Capocollo, Tomatoes, Red Oni...</td>\n",
       "      <td>The Italian Supreme Pizza</td>\n",
       "      <td>2015-01-01</td>\n",
       "      <td>1</td>\n",
       "      <td>1</td>\n",
       "      <td>Thursday</td>\n",
       "    </tr>\n",
       "    <tr>\n",
       "      <th>4</th>\n",
       "      <td>5</td>\n",
       "      <td>2</td>\n",
       "      <td>mexicana_m</td>\n",
       "      <td>1</td>\n",
       "      <td>1/1/15</td>\n",
       "      <td>11:57:40</td>\n",
       "      <td>16.00</td>\n",
       "      <td>16.00</td>\n",
       "      <td>M</td>\n",
       "      <td>Veggie</td>\n",
       "      <td>Tomatoes, Red Peppers, Jalapeno Peppers, Red O...</td>\n",
       "      <td>The Mexicana Pizza</td>\n",
       "      <td>2015-01-01</td>\n",
       "      <td>1</td>\n",
       "      <td>1</td>\n",
       "      <td>Thursday</td>\n",
       "    </tr>\n",
       "    <tr>\n",
       "      <th>...</th>\n",
       "      <td>...</td>\n",
       "      <td>...</td>\n",
       "      <td>...</td>\n",
       "      <td>...</td>\n",
       "      <td>...</td>\n",
       "      <td>...</td>\n",
       "      <td>...</td>\n",
       "      <td>...</td>\n",
       "      <td>...</td>\n",
       "      <td>...</td>\n",
       "      <td>...</td>\n",
       "      <td>...</td>\n",
       "      <td>...</td>\n",
       "      <td>...</td>\n",
       "      <td>...</td>\n",
       "      <td>...</td>\n",
       "    </tr>\n",
       "    <tr>\n",
       "      <th>48615</th>\n",
       "      <td>48616</td>\n",
       "      <td>21348</td>\n",
       "      <td>ckn_alfredo_m</td>\n",
       "      <td>1</td>\n",
       "      <td>12/31/15</td>\n",
       "      <td>21:23:10</td>\n",
       "      <td>16.75</td>\n",
       "      <td>16.75</td>\n",
       "      <td>M</td>\n",
       "      <td>Chicken</td>\n",
       "      <td>Chicken, Red Onions, Red Peppers, Mushrooms, A...</td>\n",
       "      <td>The Chicken Alfredo Pizza</td>\n",
       "      <td>2015-12-31</td>\n",
       "      <td>12</td>\n",
       "      <td>31</td>\n",
       "      <td>Thursday</td>\n",
       "    </tr>\n",
       "    <tr>\n",
       "      <th>48616</th>\n",
       "      <td>48617</td>\n",
       "      <td>21348</td>\n",
       "      <td>four_cheese_l</td>\n",
       "      <td>1</td>\n",
       "      <td>12/31/15</td>\n",
       "      <td>21:23:10</td>\n",
       "      <td>17.95</td>\n",
       "      <td>17.95</td>\n",
       "      <td>L</td>\n",
       "      <td>Veggie</td>\n",
       "      <td>Ricotta Cheese, Gorgonzola Piccante Cheese, Mo...</td>\n",
       "      <td>The Four Cheese Pizza</td>\n",
       "      <td>2015-12-31</td>\n",
       "      <td>12</td>\n",
       "      <td>31</td>\n",
       "      <td>Thursday</td>\n",
       "    </tr>\n",
       "    <tr>\n",
       "      <th>48617</th>\n",
       "      <td>48618</td>\n",
       "      <td>21348</td>\n",
       "      <td>napolitana_s</td>\n",
       "      <td>1</td>\n",
       "      <td>12/31/15</td>\n",
       "      <td>21:23:10</td>\n",
       "      <td>12.00</td>\n",
       "      <td>12.00</td>\n",
       "      <td>S</td>\n",
       "      <td>Classic</td>\n",
       "      <td>Tomatoes, Anchovies, Green Olives, Red Onions,...</td>\n",
       "      <td>The Napolitana Pizza</td>\n",
       "      <td>2015-12-31</td>\n",
       "      <td>12</td>\n",
       "      <td>31</td>\n",
       "      <td>Thursday</td>\n",
       "    </tr>\n",
       "    <tr>\n",
       "      <th>48618</th>\n",
       "      <td>48619</td>\n",
       "      <td>21349</td>\n",
       "      <td>mexicana_l</td>\n",
       "      <td>1</td>\n",
       "      <td>12/31/15</td>\n",
       "      <td>22:09:54</td>\n",
       "      <td>20.25</td>\n",
       "      <td>20.25</td>\n",
       "      <td>L</td>\n",
       "      <td>Veggie</td>\n",
       "      <td>Tomatoes, Red Peppers, Jalapeno Peppers, Red O...</td>\n",
       "      <td>The Mexicana Pizza</td>\n",
       "      <td>2015-12-31</td>\n",
       "      <td>12</td>\n",
       "      <td>31</td>\n",
       "      <td>Thursday</td>\n",
       "    </tr>\n",
       "    <tr>\n",
       "      <th>48619</th>\n",
       "      <td>48620</td>\n",
       "      <td>21350</td>\n",
       "      <td>bbq_ckn_s</td>\n",
       "      <td>1</td>\n",
       "      <td>12/31/15</td>\n",
       "      <td>23:02:05</td>\n",
       "      <td>12.75</td>\n",
       "      <td>12.75</td>\n",
       "      <td>S</td>\n",
       "      <td>Chicken</td>\n",
       "      <td>Barbecued Chicken, Red Peppers, Green Peppers,...</td>\n",
       "      <td>The Barbecue Chicken Pizza</td>\n",
       "      <td>2015-12-31</td>\n",
       "      <td>12</td>\n",
       "      <td>31</td>\n",
       "      <td>Thursday</td>\n",
       "    </tr>\n",
       "  </tbody>\n",
       "</table>\n",
       "<p>48620 rows × 16 columns</p>\n",
       "</div>"
      ],
      "text/plain": [
       "       order_details_id  order_id       pizza_id  quantity order_date  \\\n",
       "0                     1         1     hawaiian_m         1     1/1/15   \n",
       "1                     2         2  classic_dlx_m         1     1/1/15   \n",
       "2                     3         2  five_cheese_l         1     1/1/15   \n",
       "3                     4         2    ital_supr_l         1     1/1/15   \n",
       "4                     5         2     mexicana_m         1     1/1/15   \n",
       "...                 ...       ...            ...       ...        ...   \n",
       "48615             48616     21348  ckn_alfredo_m         1   12/31/15   \n",
       "48616             48617     21348  four_cheese_l         1   12/31/15   \n",
       "48617             48618     21348   napolitana_s         1   12/31/15   \n",
       "48618             48619     21349     mexicana_l         1   12/31/15   \n",
       "48619             48620     21350      bbq_ckn_s         1   12/31/15   \n",
       "\n",
       "      order_time  unit_price  total_price pizza_size pizza_category  \\\n",
       "0       11:38:36       13.25        13.25          M        Classic   \n",
       "1       11:57:40       16.00        16.00          M        Classic   \n",
       "2       11:57:40       18.50        18.50          L         Veggie   \n",
       "3       11:57:40       20.75        20.75          L        Supreme   \n",
       "4       11:57:40       16.00        16.00          M         Veggie   \n",
       "...          ...         ...          ...        ...            ...   \n",
       "48615   21:23:10       16.75        16.75          M        Chicken   \n",
       "48616   21:23:10       17.95        17.95          L         Veggie   \n",
       "48617   21:23:10       12.00        12.00          S        Classic   \n",
       "48618   22:09:54       20.25        20.25          L         Veggie   \n",
       "48619   23:02:05       12.75        12.75          S        Chicken   \n",
       "\n",
       "                                       pizza_ingredients  \\\n",
       "0               Sliced Ham, Pineapple, Mozzarella Cheese   \n",
       "1      Pepperoni, Mushrooms, Red Onions, Red Peppers,...   \n",
       "2      Mozzarella Cheese, Provolone Cheese, Smoked Go...   \n",
       "3      Calabrese Salami, Capocollo, Tomatoes, Red Oni...   \n",
       "4      Tomatoes, Red Peppers, Jalapeno Peppers, Red O...   \n",
       "...                                                  ...   \n",
       "48615  Chicken, Red Onions, Red Peppers, Mushrooms, A...   \n",
       "48616  Ricotta Cheese, Gorgonzola Piccante Cheese, Mo...   \n",
       "48617  Tomatoes, Anchovies, Green Olives, Red Onions,...   \n",
       "48618  Tomatoes, Red Peppers, Jalapeno Peppers, Red O...   \n",
       "48619  Barbecued Chicken, Red Peppers, Green Peppers,...   \n",
       "\n",
       "                       pizza_name  timestamp  month  day   weekday  \n",
       "0              The Hawaiian Pizza 2015-01-01      1    1  Thursday  \n",
       "1        The Classic Deluxe Pizza 2015-01-01      1    1  Thursday  \n",
       "2           The Five Cheese Pizza 2015-01-01      1    1  Thursday  \n",
       "3       The Italian Supreme Pizza 2015-01-01      1    1  Thursday  \n",
       "4              The Mexicana Pizza 2015-01-01      1    1  Thursday  \n",
       "...                           ...        ...    ...  ...       ...  \n",
       "48615   The Chicken Alfredo Pizza 2015-12-31     12   31  Thursday  \n",
       "48616       The Four Cheese Pizza 2015-12-31     12   31  Thursday  \n",
       "48617        The Napolitana Pizza 2015-12-31     12   31  Thursday  \n",
       "48618          The Mexicana Pizza 2015-12-31     12   31  Thursday  \n",
       "48619  The Barbecue Chicken Pizza 2015-12-31     12   31  Thursday  \n",
       "\n",
       "[48620 rows x 16 columns]"
      ]
     },
     "execution_count": 600,
     "metadata": {},
     "output_type": "execute_result"
    }
   ],
   "source": [
    "df"
   ]
  },
  {
   "cell_type": "markdown",
   "id": "fb9a7578",
   "metadata": {},
   "source": [
    "## Ingredients"
   ]
  },
  {
   "cell_type": "code",
   "execution_count": 120,
   "id": "36bcf253",
   "metadata": {
    "ExecuteTime": {
     "end_time": "2022-11-29T15:52:30.217547Z",
     "start_time": "2022-11-29T15:52:30.147940Z"
    },
    "scrolled": true
   },
   "outputs": [
    {
     "data": {
      "text/plain": [
       "['Sliced Ham, Pineapple, Mozzarella Cheese',\n",
       " 'Pepperoni, Mushrooms, Red Onions, Red Peppers, Bacon',\n",
       " 'Mozzarella Cheese, Provolone Cheese, Smoked Gouda Cheese, Romano Cheese, Blue Cheese, Garlic',\n",
       " 'Calabrese Salami, Capocollo, Tomatoes, Red Onions, Green Olives, Garlic',\n",
       " 'Tomatoes, Red Peppers, Jalapeno Peppers, Red Onions, Cilantro, Corn, Chipotle Sauce, Garlic',\n",
       " 'Chicken, Pineapple, Tomatoes, Red Peppers, Thai Sweet Chilli Sauce',\n",
       " 'Calabrese Salami, Capocollo, Tomatoes, Red Onions, Green Olives, Garlic',\n",
       " 'Prosciutto di San Daniele, Arugula, Mozzarella Cheese',\n",
       " 'Calabrese Salami, Capocollo, Tomatoes, Red Onions, Green Olives, Garlic',\n",
       " 'Calabrese Salami, Capocollo, Tomatoes, Red Onions, Green Olives, Garlic',\n",
       " 'Barbecued Chicken, Red Peppers, Green Peppers, Tomatoes, Red Onions, Barbecue Sauce',\n",
       " 'Kalamata Olives, Feta Cheese, Tomatoes, Garlic, Beef Chuck Roast, Red Onions',\n",
       " 'Spinach, Red Onions, Pepperoni, Tomatoes, Artichokes, Kalamata Olives, Garlic, Asiago Cheese',\n",
       " 'Spinach, Red Onions, Pepperoni, Tomatoes, Artichokes, Kalamata Olives, Garlic, Asiago Cheese',\n",
       " 'Pepperoni, Mushrooms, Red Onions, Red Peppers, Bacon',\n",
       " 'Spinach, Mushrooms, Tomatoes, Green Olives, Feta Cheese',\n",
       " 'Capocollo, Red Peppers, Tomatoes, Goat Cheese, Garlic, Oregano',\n",
       " 'Calabrese Salami, Capocollo, Tomatoes, Red Onions, Green Olives, Garlic',\n",
       " 'Calabrese Salami, Capocollo, Tomatoes, Red Onions, Green Olives, Garlic',\n",
       " 'Tomatoes, Red Peppers, Jalapeno Peppers, Red Onions, Cilantro, Corn, Chipotle Sauce, Garlic',\n",
       " 'Capocollo, Tomatoes, Goat Cheese, Artichokes, Peperoncini verdi, Garlic',\n",
       " 'Spinach, Artichokes, Tomatoes, Sun-dried Tomatoes, Garlic, Pesto Sauce',\n",
       " 'Mushrooms, Tomatoes, Red Peppers, Green Peppers, Red Onions, Zucchini, Spinach, Garlic',\n",
       " 'Tomatoes, Red Peppers, Jalapeno Peppers, Red Onions, Cilantro, Corn, Chipotle Sauce, Garlic',\n",
       " 'Chicken, Tomatoes, Red Peppers, Red Onions, Jalapeno Peppers, Corn, Cilantro, Chipotle Sauce',\n",
       " 'Barbecued Chicken, Red Peppers, Green Peppers, Tomatoes, Red Onions, Barbecue Sauce',\n",
       " 'Chicken, Artichoke, Spinach, Garlic, Jalapeno Peppers, Fontina Cheese, Gouda Cheese',\n",
       " 'Chicken, Artichoke, Spinach, Garlic, Jalapeno Peppers, Fontina Cheese, Gouda Cheese',\n",
       " 'Mozzarella Cheese, Pepperoni',\n",
       " 'Chicken, Artichoke, Spinach, Garlic, Jalapeno Peppers, Fontina Cheese, Gouda Cheese',\n",
       " 'Chicken, Artichoke, Spinach, Garlic, Jalapeno Peppers, Fontina Cheese, Gouda Cheese',\n",
       " 'Chicken, Tomatoes, Red Peppers, Spinach, Garlic, Pesto Sauce',\n",
       " 'Calabrese Salami, Capocollo, Tomatoes, Red Onions, Green Olives, Garlic',\n",
       " 'Tomatoes, Red Peppers, Jalapeno Peppers, Red Onions, Cilantro, Corn, Chipotle Sauce, Garlic',\n",
       " 'Kalamata Olives, Feta Cheese, Tomatoes, Garlic, Beef Chuck Roast, Red Onions',\n",
       " 'Bacon, Pepperoni, Italian Sausage, Chorizo Sausage',\n",
       " 'Mozzarella Cheese, Provolone Cheese, Smoked Gouda Cheese, Romano Cheese, Blue Cheese, Garlic',\n",
       " 'Soppressata Salami, Fontina Cheese, Mozzarella Cheese, Mushrooms, Garlic',\n",
       " 'Kalamata Olives, Feta Cheese, Tomatoes, Garlic, Beef Chuck Roast, Red Onions',\n",
       " 'Ricotta Cheese, Gorgonzola Piccante Cheese, Mozzarella Cheese, Parmigiano Reggiano Cheese, Garlic',\n",
       " 'Tomatoes, Anchovies, Green Olives, Red Onions, Garlic',\n",
       " 'Chicken, Pineapple, Tomatoes, Red Peppers, Thai Sweet Chilli Sauce',\n",
       " 'Barbecued Chicken, Red Peppers, Green Peppers, Tomatoes, Red Onions, Barbecue Sauce',\n",
       " 'Nduja Salami, Pancetta, Tomatoes, Red Onions, Friggitello Peppers, Garlic',\n",
       " 'Mozzarella Cheese, Provolone Cheese, Smoked Gouda Cheese, Romano Cheese, Blue Cheese, Garlic',\n",
       " 'Ricotta Cheese, Gorgonzola Piccante Cheese, Mozzarella Cheese, Parmigiano Reggiano Cheese, Garlic',\n",
       " 'Calabrese Salami, Capocollo, Tomatoes, Red Onions, Green Olives, Garlic',\n",
       " 'Eggplant, Artichokes, Tomatoes, Zucchini, Red Peppers, Garlic, Pesto Sauce',\n",
       " 'Spinach, Artichokes, Kalamata Olives, Sun-dried Tomatoes, Feta Cheese, Plum Tomatoes, Red Onions',\n",
       " 'Tomatoes, Red Peppers, Jalapeno Peppers, Red Onions, Cilantro, Corn, Chipotle Sauce, Garlic',\n",
       " 'Genoa Salami, Capocollo, Pepperoni, Tomatoes, Asiago Cheese, Garlic',\n",
       " 'Spinach, Mushrooms, Red Onions, Feta Cheese, Garlic',\n",
       " 'Tomatoes, Anchovies, Green Olives, Red Onions, Garlic',\n",
       " 'Capocollo, Red Peppers, Tomatoes, Goat Cheese, Garlic, Oregano',\n",
       " 'Coarse Sicilian Salami, Tomatoes, Green Olives, Luganega Sausage, Onions, Garlic',\n",
       " 'Bacon, Pepperoni, Italian Sausage, Chorizo Sausage',\n",
       " 'Mozzarella Cheese, Provolone Cheese, Smoked Gouda Cheese, Romano Cheese, Blue Cheese, Garlic',\n",
       " 'Capocollo, Red Peppers, Tomatoes, Goat Cheese, Garlic, Oregano',\n",
       " 'Mozzarella Cheese, Provolone Cheese, Smoked Gouda Cheese, Romano Cheese, Blue Cheese, Garlic',\n",
       " 'Capocollo, Red Peppers, Tomatoes, Goat Cheese, Garlic, Oregano',\n",
       " 'Chicken, Tomatoes, Red Peppers, Red Onions, Jalapeno Peppers, Corn, Cilantro, Chipotle Sauce',\n",
       " 'Chicken, Tomatoes, Red Peppers, Red Onions, Jalapeno Peppers, Corn, Cilantro, Chipotle Sauce',\n",
       " 'Barbecued Chicken, Red Peppers, Green Peppers, Tomatoes, Red Onions, Barbecue Sauce',\n",
       " 'Capocollo, Red Peppers, Tomatoes, Goat Cheese, Garlic, Oregano',\n",
       " 'Mozzarella Cheese, Pepperoni',\n",
       " 'Prosciutto di San Daniele, Arugula, Mozzarella Cheese',\n",
       " 'Coarse Sicilian Salami, Tomatoes, Green Olives, Luganega Sausage, Onions, Garlic',\n",
       " 'Chicken, Pineapple, Tomatoes, Red Peppers, Thai Sweet Chilli Sauce',\n",
       " 'Pepperoni, Mushrooms, Red Onions, Red Peppers, Bacon',\n",
       " 'Mushrooms, Tomatoes, Red Peppers, Green Peppers, Red Onions, Zucchini, Spinach, Garlic',\n",
       " 'Barbecued Chicken, Red Peppers, Green Peppers, Tomatoes, Red Onions, Barbecue Sauce',\n",
       " 'Pepperoni, Mushrooms, Red Onions, Red Peppers, Bacon',\n",
       " 'Spinach, Mushrooms, Red Onions, Feta Cheese, Garlic',\n",
       " 'Chicken, Red Onions, Red Peppers, Mushrooms, Asiago Cheese, Alfredo Sauce',\n",
       " 'Spinach, Mushrooms, Tomatoes, Green Olives, Feta Cheese',\n",
       " 'Chicken, Pineapple, Tomatoes, Red Peppers, Thai Sweet Chilli Sauce',\n",
       " 'Tomatoes, Red Peppers, Jalapeno Peppers, Red Onions, Cilantro, Corn, Chipotle Sauce, Garlic',\n",
       " 'Mozzarella Cheese, Pepperoni',\n",
       " 'Bacon, Pepperoni, Italian Sausage, Chorizo Sausage',\n",
       " 'Spinach, Mushrooms, Tomatoes, Green Olives, Feta Cheese',\n",
       " 'Capocollo, Red Peppers, Tomatoes, Goat Cheese, Garlic, Oregano',\n",
       " 'Calabrese Salami, Capocollo, Tomatoes, Red Onions, Green Olives, Garlic',\n",
       " 'Barbecued Chicken, Red Peppers, Green Peppers, Tomatoes, Red Onions, Barbecue Sauce',\n",
       " 'Spinach, Mushrooms, Tomatoes, Green Olives, Feta Cheese',\n",
       " 'Kalamata Olives, Feta Cheese, Tomatoes, Garlic, Beef Chuck Roast, Red Onions',\n",
       " 'Spinach, Mushrooms, Tomatoes, Green Olives, Feta Cheese',\n",
       " 'Pepperoni, Mushrooms, Green Peppers',\n",
       " 'Mozzarella Cheese, Pepperoni',\n",
       " 'Chicken, Pineapple, Tomatoes, Red Peppers, Thai Sweet Chilli Sauce',\n",
       " 'Barbecued Chicken, Red Peppers, Green Peppers, Tomatoes, Red Onions, Barbecue Sauce',\n",
       " 'Pepperoni, Mushrooms, Red Onions, Red Peppers, Bacon',\n",
       " 'Calabrese Salami, Capocollo, Tomatoes, Red Onions, Green Olives, Garlic',\n",
       " 'Tomatoes, Red Peppers, Jalapeno Peppers, Red Onions, Cilantro, Corn, Chipotle Sauce, Garlic',\n",
       " 'Sliced Ham, Pineapple, Mozzarella Cheese',\n",
       " 'Capocollo, Red Peppers, Tomatoes, Goat Cheese, Garlic, Oregano',\n",
       " 'Calabrese Salami, Capocollo, Tomatoes, Red Onions, Green Olives, Garlic',\n",
       " 'Ricotta Cheese, Gorgonzola Piccante Cheese, Mozzarella Cheese, Parmigiano Reggiano Cheese, Garlic',\n",
       " 'Chicken, Tomatoes, Red Peppers, Red Onions, Jalapeno Peppers, Corn, Cilantro, Chipotle Sauce',\n",
       " 'Ricotta Cheese, Gorgonzola Piccante Cheese, Mozzarella Cheese, Parmigiano Reggiano Cheese, Garlic',\n",
       " 'Spinach, Mushrooms, Tomatoes, Green Olives, Feta Cheese',\n",
       " 'Bacon, Pepperoni, Italian Sausage, Chorizo Sausage',\n",
       " 'Mozzarella Cheese, Provolone Cheese, Smoked Gouda Cheese, Romano Cheese, Blue Cheese, Garlic',\n",
       " 'Tomatoes, Red Peppers, Jalapeno Peppers, Red Onions, Cilantro, Corn, Chipotle Sauce, Garlic',\n",
       " 'Genoa Salami, Capocollo, Pepperoni, Tomatoes, Asiago Cheese, Garlic',\n",
       " 'Chicken, Red Onions, Red Peppers, Mushrooms, Asiago Cheese, Alfredo Sauce',\n",
       " 'Calabrese Salami, Capocollo, Tomatoes, Red Onions, Green Olives, Garlic',\n",
       " 'Genoa Salami, Capocollo, Pepperoni, Tomatoes, Asiago Cheese, Garlic',\n",
       " 'Spinach, Artichokes, Tomatoes, Sun-dried Tomatoes, Garlic, Pesto Sauce',\n",
       " 'Ricotta Cheese, Gorgonzola Piccante Cheese, Mozzarella Cheese, Parmigiano Reggiano Cheese, Garlic',\n",
       " 'Sliced Ham, Pineapple, Mozzarella Cheese',\n",
       " 'Chicken, Pineapple, Tomatoes, Red Peppers, Thai Sweet Chilli Sauce',\n",
       " 'Chicken, Tomatoes, Red Peppers, Spinach, Garlic, Pesto Sauce',\n",
       " 'Pepperoni, Mushrooms, Red Onions, Red Peppers, Bacon',\n",
       " 'Chicken, Pineapple, Tomatoes, Red Peppers, Thai Sweet Chilli Sauce',\n",
       " 'Chicken, Tomatoes, Red Peppers, Red Onions, Jalapeno Peppers, Corn, Cilantro, Chipotle Sauce',\n",
       " 'Mushrooms, Tomatoes, Red Peppers, Green Peppers, Red Onions, Zucchini, Spinach, Garlic',\n",
       " 'Chicken, Tomatoes, Red Peppers, Spinach, Garlic, Pesto Sauce',\n",
       " 'Spinach, Mushrooms, Tomatoes, Green Olives, Feta Cheese',\n",
       " 'Prosciutto di San Daniele, Arugula, Mozzarella Cheese',\n",
       " 'Capocollo, Tomatoes, Goat Cheese, Artichokes, Peperoncini verdi, Garlic',\n",
       " 'Coarse Sicilian Salami, Tomatoes, Green Olives, Luganega Sausage, Onions, Garlic',\n",
       " 'Kalamata Olives, Feta Cheese, Tomatoes, Garlic, Beef Chuck Roast, Red Onions',\n",
       " 'Barbecued Chicken, Red Peppers, Green Peppers, Tomatoes, Red Onions, Barbecue Sauce',\n",
       " 'Pepperoni, Mushrooms, Green Peppers',\n",
       " 'Sliced Ham, Pineapple, Mozzarella Cheese',\n",
       " 'Tomatoes, Red Peppers, Jalapeno Peppers, Red Onions, Cilantro, Corn, Chipotle Sauce, Garlic',\n",
       " 'Capocollo, Tomatoes, Goat Cheese, Artichokes, Peperoncini verdi, Garlic',\n",
       " 'Pepperoni, Mushrooms, Green Peppers',\n",
       " 'Spinach, Red Onions, Pepperoni, Tomatoes, Artichokes, Kalamata Olives, Garlic, Asiago Cheese',\n",
       " 'Prosciutto di San Daniele, Arugula, Mozzarella Cheese',\n",
       " 'Chicken, Pineapple, Tomatoes, Red Peppers, Thai Sweet Chilli Sauce',\n",
       " 'Genoa Salami, Capocollo, Pepperoni, Tomatoes, Asiago Cheese, Garlic',\n",
       " 'Capocollo, Tomatoes, Goat Cheese, Artichokes, Peperoncini verdi, Garlic',\n",
       " 'Pepperoni, Mushrooms, Red Onions, Red Peppers, Bacon',\n",
       " 'Spinach, Artichokes, Kalamata Olives, Sun-dried Tomatoes, Feta Cheese, Plum Tomatoes, Red Onions',\n",
       " 'Chicken, Tomatoes, Red Peppers, Red Onions, Jalapeno Peppers, Corn, Cilantro, Chipotle Sauce',\n",
       " 'Pepperoni, Mushrooms, Red Onions, Red Peppers, Bacon',\n",
       " 'Mozzarella Cheese, Provolone Cheese, Smoked Gouda Cheese, Romano Cheese, Blue Cheese, Garlic',\n",
       " 'Mozzarella Cheese, Pepperoni',\n",
       " 'Eggplant, Artichokes, Tomatoes, Zucchini, Red Peppers, Garlic, Pesto Sauce',\n",
       " 'Pepperoni, Mushrooms, Green Peppers',\n",
       " 'Mozzarella Cheese, Pepperoni',\n",
       " 'Chicken, Tomatoes, Red Peppers, Spinach, Garlic, Pesto Sauce',\n",
       " 'Ricotta Cheese, Gorgonzola Piccante Cheese, Mozzarella Cheese, Parmigiano Reggiano Cheese, Garlic',\n",
       " 'Barbecued Chicken, Red Peppers, Green Peppers, Tomatoes, Red Onions, Barbecue Sauce',\n",
       " 'Calabrese Salami, Capocollo, Tomatoes, Red Onions, Green Olives, Garlic',\n",
       " 'Barbecued Chicken, Red Peppers, Green Peppers, Tomatoes, Red Onions, Barbecue Sauce',\n",
       " 'Spinach, Red Onions, Pepperoni, Tomatoes, Artichokes, Kalamata Olives, Garlic, Asiago Cheese',\n",
       " 'Pepperoni, Mushrooms, Green Peppers',\n",
       " 'Bacon, Pepperoni, Italian Sausage, Chorizo Sausage',\n",
       " 'Pepperoni, Mushrooms, Green Peppers',\n",
       " 'Coarse Sicilian Salami, Tomatoes, Green Olives, Luganega Sausage, Onions, Garlic',\n",
       " 'Capocollo, Tomatoes, Goat Cheese, Artichokes, Peperoncini verdi, Garlic',\n",
       " 'Spinach, Red Onions, Pepperoni, Tomatoes, Artichokes, Kalamata Olives, Garlic, Asiago Cheese',\n",
       " 'Pepperoni, Mushrooms, Red Onions, Red Peppers, Bacon',\n",
       " 'Capocollo, Red Peppers, Tomatoes, Goat Cheese, Garlic, Oregano',\n",
       " 'Chicken, Tomatoes, Red Peppers, Red Onions, Jalapeno Peppers, Corn, Cilantro, Chipotle Sauce',\n",
       " 'Pepperoni, Mushrooms, Red Onions, Red Peppers, Bacon',\n",
       " 'Calabrese Salami, Capocollo, Tomatoes, Red Onions, Green Olives, Garlic',\n",
       " 'Calabrese Salami, Capocollo, Tomatoes, Red Onions, Green Olives, Garlic',\n",
       " 'Barbecued Chicken, Red Peppers, Green Peppers, Tomatoes, Red Onions, Barbecue Sauce',\n",
       " 'Eggplant, Artichokes, Tomatoes, Zucchini, Red Peppers, Garlic, Pesto Sauce',\n",
       " 'Soppressata Salami, Fontina Cheese, Mozzarella Cheese, Mushrooms, Garlic',\n",
       " 'Chicken, Pineapple, Tomatoes, Red Peppers, Thai Sweet Chilli Sauce',\n",
       " 'Spinach, Mushrooms, Red Onions, Feta Cheese, Garlic',\n",
       " 'Chicken, Pineapple, Tomatoes, Red Peppers, Thai Sweet Chilli Sauce',\n",
       " 'Mozzarella Cheese, Provolone Cheese, Smoked Gouda Cheese, Romano Cheese, Blue Cheese, Garlic',\n",
       " 'Tomatoes, Red Peppers, Jalapeno Peppers, Red Onions, Cilantro, Corn, Chipotle Sauce, Garlic',\n",
       " 'Spinach, Artichokes, Tomatoes, Sun-dried Tomatoes, Garlic, Pesto Sauce',\n",
       " 'Spinach, Red Onions, Pepperoni, Tomatoes, Artichokes, Kalamata Olives, Garlic, Asiago Cheese',\n",
       " 'Calabrese Salami, Capocollo, Tomatoes, Red Onions, Green Olives, Garlic',\n",
       " 'Spinach, Artichokes, Kalamata Olives, Sun-dried Tomatoes, Feta Cheese, Plum Tomatoes, Red Onions',\n",
       " 'Tomatoes, Anchovies, Green Olives, Red Onions, Garlic',\n",
       " 'Bacon, Pepperoni, Italian Sausage, Chorizo Sausage',\n",
       " 'Sliced Ham, Pineapple, Mozzarella Cheese',\n",
       " 'Eggplant, Artichokes, Tomatoes, Zucchini, Red Peppers, Garlic, Pesto Sauce',\n",
       " 'Capocollo, Tomatoes, Goat Cheese, Artichokes, Peperoncini verdi, Garlic',\n",
       " 'Barbecued Chicken, Red Peppers, Green Peppers, Tomatoes, Red Onions, Barbecue Sauce',\n",
       " 'Sliced Ham, Pineapple, Mozzarella Cheese',\n",
       " 'Bacon, Pepperoni, Italian Sausage, Chorizo Sausage',\n",
       " 'Pepperoni, Mushrooms, Red Onions, Red Peppers, Bacon',\n",
       " 'Ricotta Cheese, Gorgonzola Piccante Cheese, Mozzarella Cheese, Parmigiano Reggiano Cheese, Garlic',\n",
       " 'Capocollo, Red Peppers, Tomatoes, Goat Cheese, Garlic, Oregano',\n",
       " 'Capocollo, Tomatoes, Goat Cheese, Artichokes, Peperoncini verdi, Garlic',\n",
       " 'Chicken, Pineapple, Tomatoes, Red Peppers, Thai Sweet Chilli Sauce',\n",
       " 'Capocollo, Red Peppers, Tomatoes, Goat Cheese, Garlic, Oregano',\n",
       " 'Pepperoni, Mushrooms, Green Peppers',\n",
       " 'Chicken, Pineapple, Tomatoes, Red Peppers, Thai Sweet Chilli Sauce',\n",
       " 'Mozzarella Cheese, Pepperoni',\n",
       " 'Chicken, Pineapple, Tomatoes, Red Peppers, Thai Sweet Chilli Sauce',\n",
       " 'Chicken, Pineapple, Tomatoes, Red Peppers, Thai Sweet Chilli Sauce',\n",
       " 'Bacon, Pepperoni, Italian Sausage, Chorizo Sausage',\n",
       " 'Chicken, Artichoke, Spinach, Garlic, Jalapeno Peppers, Fontina Cheese, Gouda Cheese',\n",
       " 'Capocollo, Tomatoes, Goat Cheese, Artichokes, Peperoncini verdi, Garlic',\n",
       " 'Mushrooms, Tomatoes, Red Peppers, Green Peppers, Red Onions, Zucchini, Spinach, Garlic',\n",
       " 'Chicken, Tomatoes, Red Peppers, Red Onions, Jalapeno Peppers, Corn, Cilantro, Chipotle Sauce',\n",
       " 'Mozzarella Cheese, Pepperoni',\n",
       " 'Pepperoni, Mushrooms, Red Onions, Red Peppers, Bacon',\n",
       " 'Pepperoni, Mushrooms, Red Onions, Red Peppers, Bacon',\n",
       " 'Calabrese Salami, Capocollo, Tomatoes, Red Onions, Green Olives, Garlic',\n",
       " 'Kalamata Olives, Feta Cheese, Tomatoes, Garlic, Beef Chuck Roast, Red Onions',\n",
       " 'Sliced Ham, Pineapple, Mozzarella Cheese',\n",
       " 'Capocollo, Red Peppers, Tomatoes, Goat Cheese, Garlic, Oregano',\n",
       " 'Tomatoes, Red Peppers, Jalapeno Peppers, Red Onions, Cilantro, Corn, Chipotle Sauce, Garlic',\n",
       " 'Spinach, Red Onions, Pepperoni, Tomatoes, Artichokes, Kalamata Olives, Garlic, Asiago Cheese',\n",
       " 'Spinach, Red Onions, Pepperoni, Tomatoes, Artichokes, Kalamata Olives, Garlic, Asiago Cheese',\n",
       " 'Mozzarella Cheese, Provolone Cheese, Smoked Gouda Cheese, Romano Cheese, Blue Cheese, Garlic',\n",
       " 'Soppressata Salami, Fontina Cheese, Mozzarella Cheese, Mushrooms, Garlic',\n",
       " 'Chicken, Pineapple, Tomatoes, Red Peppers, Thai Sweet Chilli Sauce',\n",
       " 'Coarse Sicilian Salami, Tomatoes, Green Olives, Luganega Sausage, Onions, Garlic',\n",
       " 'Chicken, Pineapple, Tomatoes, Red Peppers, Thai Sweet Chilli Sauce',\n",
       " 'Barbecued Chicken, Red Peppers, Green Peppers, Tomatoes, Red Onions, Barbecue Sauce',\n",
       " 'Chicken, Tomatoes, Red Peppers, Spinach, Garlic, Pesto Sauce',\n",
       " 'Mozzarella Cheese, Pepperoni',\n",
       " 'Barbecued Chicken, Red Peppers, Green Peppers, Tomatoes, Red Onions, Barbecue Sauce',\n",
       " 'Calabrese Salami, Capocollo, Tomatoes, Red Onions, Green Olives, Garlic',\n",
       " 'Calabrese Salami, Capocollo, Tomatoes, Red Onions, Green Olives, Garlic',\n",
       " 'Eggplant, Artichokes, Tomatoes, Zucchini, Red Peppers, Garlic, Pesto Sauce',\n",
       " 'Mozzarella Cheese, Pepperoni',\n",
       " 'Genoa Salami, Capocollo, Pepperoni, Tomatoes, Asiago Cheese, Garlic',\n",
       " 'Spinach, Mushrooms, Red Onions, Feta Cheese, Garlic',\n",
       " 'Spinach, Red Onions, Pepperoni, Tomatoes, Artichokes, Kalamata Olives, Garlic, Asiago Cheese',\n",
       " 'Kalamata Olives, Feta Cheese, Tomatoes, Garlic, Beef Chuck Roast, Red Onions',\n",
       " 'Coarse Sicilian Salami, Tomatoes, Green Olives, Luganega Sausage, Onions, Garlic',\n",
       " 'Capocollo, Red Peppers, Tomatoes, Goat Cheese, Garlic, Oregano',\n",
       " 'Chicken, Tomatoes, Red Peppers, Red Onions, Jalapeno Peppers, Corn, Cilantro, Chipotle Sauce',\n",
       " 'Tomatoes, Anchovies, Green Olives, Red Onions, Garlic',\n",
       " 'Genoa Salami, Capocollo, Pepperoni, Tomatoes, Asiago Cheese, Garlic',\n",
       " 'Tomatoes, Anchovies, Green Olives, Red Onions, Garlic',\n",
       " 'Bacon, Pepperoni, Italian Sausage, Chorizo Sausage',\n",
       " 'Pepperoni, Mushrooms, Red Onions, Red Peppers, Bacon',\n",
       " 'Tomatoes, Anchovies, Green Olives, Red Onions, Garlic',\n",
       " 'Calabrese Salami, Capocollo, Tomatoes, Red Onions, Green Olives, Garlic',\n",
       " 'Sliced Ham, Pineapple, Mozzarella Cheese',\n",
       " 'Chicken, Artichoke, Spinach, Garlic, Jalapeno Peppers, Fontina Cheese, Gouda Cheese',\n",
       " 'Mozzarella Cheese, Pepperoni',\n",
       " 'Soppressata Salami, Fontina Cheese, Mozzarella Cheese, Mushrooms, Garlic',\n",
       " 'Capocollo, Tomatoes, Goat Cheese, Artichokes, Peperoncini verdi, Garlic',\n",
       " 'Barbecued Chicken, Red Peppers, Green Peppers, Tomatoes, Red Onions, Barbecue Sauce',\n",
       " 'Prosciutto di San Daniele, Arugula, Mozzarella Cheese',\n",
       " 'Spinach, Red Onions, Pepperoni, Tomatoes, Artichokes, Kalamata Olives, Garlic, Asiago Cheese',\n",
       " 'Barbecued Chicken, Red Peppers, Green Peppers, Tomatoes, Red Onions, Barbecue Sauce',\n",
       " 'Chicken, Red Onions, Red Peppers, Mushrooms, Asiago Cheese, Alfredo Sauce',\n",
       " 'Eggplant, Artichokes, Tomatoes, Zucchini, Red Peppers, Garlic, Pesto Sauce',\n",
       " 'Mushrooms, Tomatoes, Red Peppers, Green Peppers, Red Onions, Zucchini, Spinach, Garlic',\n",
       " 'Sliced Ham, Pineapple, Mozzarella Cheese',\n",
       " 'Mozzarella Cheese, Pepperoni',\n",
       " 'Prosciutto di San Daniele, Arugula, Mozzarella Cheese',\n",
       " 'Tomatoes, Red Peppers, Jalapeno Peppers, Red Onions, Cilantro, Corn, Chipotle Sauce, Garlic',\n",
       " 'Capocollo, Tomatoes, Goat Cheese, Artichokes, Peperoncini verdi, Garlic',\n",
       " 'Chicken, Artichoke, Spinach, Garlic, Jalapeno Peppers, Fontina Cheese, Gouda Cheese',\n",
       " 'Calabrese Salami, Capocollo, Tomatoes, Red Onions, Green Olives, Garlic',\n",
       " 'Capocollo, Tomatoes, Goat Cheese, Artichokes, Peperoncini verdi, Garlic',\n",
       " 'Mushrooms, Tomatoes, Red Peppers, Green Peppers, Red Onions, Zucchini, Spinach, Garlic',\n",
       " 'Pepperoni, Mushrooms, Red Onions, Red Peppers, Bacon',\n",
       " 'Sliced Ham, Pineapple, Mozzarella Cheese',\n",
       " 'Spinach, Red Onions, Pepperoni, Tomatoes, Artichokes, Kalamata Olives, Garlic, Asiago Cheese',\n",
       " 'Capocollo, Red Peppers, Tomatoes, Goat Cheese, Garlic, Oregano',\n",
       " 'Calabrese Salami, Capocollo, Tomatoes, Red Onions, Green Olives, Garlic',\n",
       " 'Mozzarella Cheese, Pepperoni',\n",
       " 'Prosciutto di San Daniele, Arugula, Mozzarella Cheese',\n",
       " 'Bacon, Pepperoni, Italian Sausage, Chorizo Sausage',\n",
       " 'Tomatoes, Anchovies, Green Olives, Red Onions, Garlic',\n",
       " 'Soppressata Salami, Fontina Cheese, Mozzarella Cheese, Mushrooms, Garlic',\n",
       " 'Capocollo, Tomatoes, Goat Cheese, Artichokes, Peperoncini verdi, Garlic',\n",
       " 'Chicken, Artichoke, Spinach, Garlic, Jalapeno Peppers, Fontina Cheese, Gouda Cheese',\n",
       " 'Mozzarella Cheese, Provolone Cheese, Smoked Gouda Cheese, Romano Cheese, Blue Cheese, Garlic',\n",
       " 'Mozzarella Cheese, Pepperoni',\n",
       " 'Spinach, Artichokes, Tomatoes, Sun-dried Tomatoes, Garlic, Pesto Sauce',\n",
       " 'Mozzarella Cheese, Pepperoni',\n",
       " 'Chicken, Artichoke, Spinach, Garlic, Jalapeno Peppers, Fontina Cheese, Gouda Cheese',\n",
       " 'Tomatoes, Red Peppers, Jalapeno Peppers, Red Onions, Cilantro, Corn, Chipotle Sauce, Garlic',\n",
       " 'Chicken, Tomatoes, Red Peppers, Red Onions, Jalapeno Peppers, Corn, Cilantro, Chipotle Sauce',\n",
       " 'Mozzarella Cheese, Pepperoni',\n",
       " 'Coarse Sicilian Salami, Tomatoes, Green Olives, Luganega Sausage, Onions, Garlic',\n",
       " 'Bacon, Pepperoni, Italian Sausage, Chorizo Sausage',\n",
       " 'Tomatoes, Anchovies, Green Olives, Red Onions, Garlic',\n",
       " 'Chicken, Pineapple, Tomatoes, Red Peppers, Thai Sweet Chilli Sauce',\n",
       " 'Mozzarella Cheese, Provolone Cheese, Smoked Gouda Cheese, Romano Cheese, Blue Cheese, Garlic',\n",
       " 'Genoa Salami, Capocollo, Pepperoni, Tomatoes, Asiago Cheese, Garlic',\n",
       " 'Coarse Sicilian Salami, Tomatoes, Green Olives, Luganega Sausage, Onions, Garlic',\n",
       " 'Prosciutto di San Daniele, Arugula, Mozzarella Cheese',\n",
       " 'Spinach, Mushrooms, Red Onions, Feta Cheese, Garlic',\n",
       " 'Ricotta Cheese, Gorgonzola Piccante Cheese, Mozzarella Cheese, Parmigiano Reggiano Cheese, Garlic',\n",
       " 'Pepperoni, Mushrooms, Red Onions, Red Peppers, Bacon',\n",
       " 'Sliced Ham, Pineapple, Mozzarella Cheese',\n",
       " 'Spinach, Mushrooms, Red Onions, Feta Cheese, Garlic',\n",
       " 'Barbecued Chicken, Red Peppers, Green Peppers, Tomatoes, Red Onions, Barbecue Sauce',\n",
       " 'Ricotta Cheese, Gorgonzola Piccante Cheese, Mozzarella Cheese, Parmigiano Reggiano Cheese, Garlic',\n",
       " 'Coarse Sicilian Salami, Tomatoes, Green Olives, Luganega Sausage, Onions, Garlic',\n",
       " 'Chicken, Tomatoes, Red Peppers, Red Onions, Jalapeno Peppers, Corn, Cilantro, Chipotle Sauce',\n",
       " 'Calabrese Salami, Capocollo, Tomatoes, Red Onions, Green Olives, Garlic',\n",
       " 'Capocollo, Red Peppers, Tomatoes, Goat Cheese, Garlic, Oregano',\n",
       " 'Barbecued Chicken, Red Peppers, Green Peppers, Tomatoes, Red Onions, Barbecue Sauce',\n",
       " 'Coarse Sicilian Salami, Tomatoes, Green Olives, Luganega Sausage, Onions, Garlic',\n",
       " 'Capocollo, Tomatoes, Goat Cheese, Artichokes, Peperoncini verdi, Garlic',\n",
       " 'Kalamata Olives, Feta Cheese, Tomatoes, Garlic, Beef Chuck Roast, Red Onions',\n",
       " 'Kalamata Olives, Feta Cheese, Tomatoes, Garlic, Beef Chuck Roast, Red Onions',\n",
       " 'Mushrooms, Tomatoes, Red Peppers, Green Peppers, Red Onions, Zucchini, Spinach, Garlic',\n",
       " 'Mozzarella Cheese, Pepperoni',\n",
       " 'Capocollo, Tomatoes, Goat Cheese, Artichokes, Peperoncini verdi, Garlic',\n",
       " 'Bacon, Pepperoni, Italian Sausage, Chorizo Sausage',\n",
       " 'Kalamata Olives, Feta Cheese, Tomatoes, Garlic, Beef Chuck Roast, Red Onions',\n",
       " 'Sliced Ham, Pineapple, Mozzarella Cheese',\n",
       " 'Capocollo, Red Peppers, Tomatoes, Goat Cheese, Garlic, Oregano',\n",
       " 'Tomatoes, Red Peppers, Jalapeno Peppers, Red Onions, Cilantro, Corn, Chipotle Sauce, Garlic',\n",
       " 'Chicken, Tomatoes, Red Peppers, Red Onions, Jalapeno Peppers, Corn, Cilantro, Chipotle Sauce',\n",
       " 'Chicken, Tomatoes, Red Peppers, Spinach, Garlic, Pesto Sauce',\n",
       " 'Mozzarella Cheese, Provolone Cheese, Smoked Gouda Cheese, Romano Cheese, Blue Cheese, Garlic',\n",
       " 'Spinach, Mushrooms, Tomatoes, Green Olives, Feta Cheese',\n",
       " 'Spinach, Red Onions, Pepperoni, Tomatoes, Artichokes, Kalamata Olives, Garlic, Asiago Cheese',\n",
       " 'Mozzarella Cheese, Pepperoni',\n",
       " 'Barbecued Chicken, Red Peppers, Green Peppers, Tomatoes, Red Onions, Barbecue Sauce',\n",
       " 'Sliced Ham, Pineapple, Mozzarella Cheese',\n",
       " 'Kalamata Olives, Feta Cheese, Tomatoes, Garlic, Beef Chuck Roast, Red Onions',\n",
       " 'Bacon, Pepperoni, Italian Sausage, Chorizo Sausage',\n",
       " 'Chicken, Tomatoes, Red Peppers, Red Onions, Jalapeno Peppers, Corn, Cilantro, Chipotle Sauce',\n",
       " 'Spinach, Red Onions, Pepperoni, Tomatoes, Artichokes, Kalamata Olives, Garlic, Asiago Cheese',\n",
       " 'Mushrooms, Tomatoes, Red Peppers, Green Peppers, Red Onions, Zucchini, Spinach, Garlic',\n",
       " 'Mozzarella Cheese, Provolone Cheese, Smoked Gouda Cheese, Romano Cheese, Blue Cheese, Garlic',\n",
       " 'Genoa Salami, Capocollo, Pepperoni, Tomatoes, Asiago Cheese, Garlic',\n",
       " 'Spinach, Artichokes, Kalamata Olives, Sun-dried Tomatoes, Feta Cheese, Plum Tomatoes, Red Onions',\n",
       " 'Mozzarella Cheese, Pepperoni',\n",
       " 'Capocollo, Tomatoes, Goat Cheese, Artichokes, Peperoncini verdi, Garlic',\n",
       " 'Chicken, Artichoke, Spinach, Garlic, Jalapeno Peppers, Fontina Cheese, Gouda Cheese',\n",
       " 'Ricotta Cheese, Gorgonzola Piccante Cheese, Mozzarella Cheese, Parmigiano Reggiano Cheese, Garlic',\n",
       " 'Eggplant, Artichokes, Tomatoes, Zucchini, Red Peppers, Garlic, Pesto Sauce',\n",
       " 'Coarse Sicilian Salami, Tomatoes, Green Olives, Luganega Sausage, Onions, Garlic',\n",
       " 'Mozzarella Cheese, Provolone Cheese, Smoked Gouda Cheese, Romano Cheese, Blue Cheese, Garlic',\n",
       " 'Prosciutto di San Daniele, Arugula, Mozzarella Cheese',\n",
       " 'Mushrooms, Tomatoes, Red Peppers, Green Peppers, Red Onions, Zucchini, Spinach, Garlic',\n",
       " 'Pepperoni, Mushrooms, Red Onions, Red Peppers, Bacon',\n",
       " 'Spinach, Mushrooms, Tomatoes, Green Olives, Feta Cheese',\n",
       " 'Chicken, Artichoke, Spinach, Garlic, Jalapeno Peppers, Fontina Cheese, Gouda Cheese',\n",
       " 'Pepperoni, Mushrooms, Red Onions, Red Peppers, Bacon',\n",
       " 'Sliced Ham, Pineapple, Mozzarella Cheese',\n",
       " 'Tomatoes, Red Peppers, Jalapeno Peppers, Red Onions, Cilantro, Corn, Chipotle Sauce, Garlic',\n",
       " 'Mozzarella Cheese, Pepperoni',\n",
       " 'Prosciutto di San Daniele, Arugula, Mozzarella Cheese',\n",
       " 'Chicken, Pineapple, Tomatoes, Red Peppers, Thai Sweet Chilli Sauce',\n",
       " 'Mushrooms, Tomatoes, Red Peppers, Green Peppers, Red Onions, Zucchini, Spinach, Garlic',\n",
       " 'Barbecued Chicken, Red Peppers, Green Peppers, Tomatoes, Red Onions, Barbecue Sauce',\n",
       " 'Bacon, Pepperoni, Italian Sausage, Chorizo Sausage',\n",
       " 'Chicken, Artichoke, Spinach, Garlic, Jalapeno Peppers, Fontina Cheese, Gouda Cheese',\n",
       " 'Chicken, Tomatoes, Red Peppers, Spinach, Garlic, Pesto Sauce',\n",
       " 'Mozzarella Cheese, Provolone Cheese, Smoked Gouda Cheese, Romano Cheese, Blue Cheese, Garlic',\n",
       " 'Ricotta Cheese, Gorgonzola Piccante Cheese, Mozzarella Cheese, Parmigiano Reggiano Cheese, Garlic',\n",
       " 'Pepperoni, Mushrooms, Green Peppers',\n",
       " 'Chicken, Tomatoes, Red Peppers, Red Onions, Jalapeno Peppers, Corn, Cilantro, Chipotle Sauce',\n",
       " 'Chicken, Tomatoes, Red Peppers, Red Onions, Jalapeno Peppers, Corn, Cilantro, Chipotle Sauce',\n",
       " 'Capocollo, Tomatoes, Goat Cheese, Artichokes, Peperoncini verdi, Garlic',\n",
       " 'Chicken, Pineapple, Tomatoes, Red Peppers, Thai Sweet Chilli Sauce',\n",
       " 'Mushrooms, Tomatoes, Red Peppers, Green Peppers, Red Onions, Zucchini, Spinach, Garlic',\n",
       " 'Kalamata Olives, Feta Cheese, Tomatoes, Garlic, Beef Chuck Roast, Red Onions',\n",
       " 'Chicken, Artichoke, Spinach, Garlic, Jalapeno Peppers, Fontina Cheese, Gouda Cheese',\n",
       " 'Ricotta Cheese, Gorgonzola Piccante Cheese, Mozzarella Cheese, Parmigiano Reggiano Cheese, Garlic',\n",
       " 'Sliced Ham, Pineapple, Mozzarella Cheese',\n",
       " 'Kalamata Olives, Feta Cheese, Tomatoes, Garlic, Beef Chuck Roast, Red Onions',\n",
       " 'Spinach, Artichokes, Kalamata Olives, Sun-dried Tomatoes, Feta Cheese, Plum Tomatoes, Red Onions',\n",
       " 'Spinach, Mushrooms, Red Onions, Feta Cheese, Garlic',\n",
       " 'Mozzarella Cheese, Pepperoni',\n",
       " 'Chicken, Tomatoes, Red Peppers, Red Onions, Jalapeno Peppers, Corn, Cilantro, Chipotle Sauce',\n",
       " 'Spinach, Red Onions, Pepperoni, Tomatoes, Artichokes, Kalamata Olives, Garlic, Asiago Cheese',\n",
       " 'Sliced Ham, Pineapple, Mozzarella Cheese',\n",
       " 'Spinach, Mushrooms, Red Onions, Feta Cheese, Garlic',\n",
       " 'Chicken, Pineapple, Tomatoes, Red Peppers, Thai Sweet Chilli Sauce',\n",
       " 'Kalamata Olives, Feta Cheese, Tomatoes, Garlic, Beef Chuck Roast, Red Onions',\n",
       " 'Tomatoes, Red Peppers, Jalapeno Peppers, Red Onions, Cilantro, Corn, Chipotle Sauce, Garlic',\n",
       " 'Prosciutto di San Daniele, Arugula, Mozzarella Cheese',\n",
       " 'Chicken, Tomatoes, Red Peppers, Spinach, Garlic, Pesto Sauce',\n",
       " 'Tomatoes, Anchovies, Green Olives, Red Onions, Garlic',\n",
       " 'Mozzarella Cheese, Pepperoni',\n",
       " 'Genoa Salami, Capocollo, Pepperoni, Tomatoes, Asiago Cheese, Garlic',\n",
       " 'Tomatoes, Anchovies, Green Olives, Red Onions, Garlic',\n",
       " 'Chicken, Pineapple, Tomatoes, Red Peppers, Thai Sweet Chilli Sauce',\n",
       " 'Calabrese Salami, Capocollo, Tomatoes, Red Onions, Green Olives, Garlic',\n",
       " 'Spinach, Artichokes, Kalamata Olives, Sun-dried Tomatoes, Feta Cheese, Plum Tomatoes, Red Onions',\n",
       " 'Coarse Sicilian Salami, Tomatoes, Green Olives, Luganega Sausage, Onions, Garlic',\n",
       " 'Spinach, Artichokes, Tomatoes, Sun-dried Tomatoes, Garlic, Pesto Sauce',\n",
       " 'Eggplant, Artichokes, Tomatoes, Zucchini, Red Peppers, Garlic, Pesto Sauce',\n",
       " 'Chicken, Pineapple, Tomatoes, Red Peppers, Thai Sweet Chilli Sauce',\n",
       " 'Ricotta Cheese, Gorgonzola Piccante Cheese, Mozzarella Cheese, Parmigiano Reggiano Cheese, Garlic',\n",
       " 'Chicken, Pineapple, Tomatoes, Red Peppers, Thai Sweet Chilli Sauce',\n",
       " 'Pepperoni, Mushrooms, Red Onions, Red Peppers, Bacon',\n",
       " 'Sliced Ham, Pineapple, Mozzarella Cheese',\n",
       " 'Capocollo, Tomatoes, Goat Cheese, Artichokes, Peperoncini verdi, Garlic',\n",
       " 'Kalamata Olives, Feta Cheese, Tomatoes, Garlic, Beef Chuck Roast, Red Onions',\n",
       " 'Bacon, Pepperoni, Italian Sausage, Chorizo Sausage',\n",
       " 'Sliced Ham, Pineapple, Mozzarella Cheese',\n",
       " 'Mozzarella Cheese, Pepperoni',\n",
       " 'Kalamata Olives, Feta Cheese, Tomatoes, Garlic, Beef Chuck Roast, Red Onions',\n",
       " 'Chicken, Artichoke, Spinach, Garlic, Jalapeno Peppers, Fontina Cheese, Gouda Cheese',\n",
       " 'Mozzarella Cheese, Pepperoni',\n",
       " 'Prosciutto di San Daniele, Arugula, Mozzarella Cheese',\n",
       " 'Prosciutto di San Daniele, Arugula, Mozzarella Cheese',\n",
       " 'Barbecued Chicken, Red Peppers, Green Peppers, Tomatoes, Red Onions, Barbecue Sauce',\n",
       " 'Calabrese Salami, Capocollo, Tomatoes, Red Onions, Green Olives, Garlic',\n",
       " 'Mozzarella Cheese, Pepperoni',\n",
       " 'Bacon, Pepperoni, Italian Sausage, Chorizo Sausage',\n",
       " 'Mushrooms, Tomatoes, Red Peppers, Green Peppers, Red Onions, Zucchini, Spinach, Garlic',\n",
       " 'Ricotta Cheese, Gorgonzola Piccante Cheese, Mozzarella Cheese, Parmigiano Reggiano Cheese, Garlic',\n",
       " 'Capocollo, Red Peppers, Tomatoes, Goat Cheese, Garlic, Oregano',\n",
       " 'Coarse Sicilian Salami, Tomatoes, Green Olives, Luganega Sausage, Onions, Garlic',\n",
       " 'Sliced Ham, Pineapple, Mozzarella Cheese',\n",
       " 'Tomatoes, Anchovies, Green Olives, Red Onions, Garlic',\n",
       " 'Tomatoes, Anchovies, Green Olives, Red Onions, Garlic',\n",
       " 'Spinach, Red Onions, Pepperoni, Tomatoes, Artichokes, Kalamata Olives, Garlic, Asiago Cheese',\n",
       " 'Chicken, Pineapple, Tomatoes, Red Peppers, Thai Sweet Chilli Sauce',\n",
       " 'Chicken, Artichoke, Spinach, Garlic, Jalapeno Peppers, Fontina Cheese, Gouda Cheese',\n",
       " 'Pepperoni, Mushrooms, Red Onions, Red Peppers, Bacon',\n",
       " 'Mushrooms, Tomatoes, Red Peppers, Green Peppers, Red Onions, Zucchini, Spinach, Garlic',\n",
       " 'Bacon, Pepperoni, Italian Sausage, Chorizo Sausage',\n",
       " 'Chicken, Artichoke, Spinach, Garlic, Jalapeno Peppers, Fontina Cheese, Gouda Cheese',\n",
       " 'Chicken, Artichoke, Spinach, Garlic, Jalapeno Peppers, Fontina Cheese, Gouda Cheese',\n",
       " 'Capocollo, Red Peppers, Tomatoes, Goat Cheese, Garlic, Oregano',\n",
       " 'Calabrese Salami, Capocollo, Tomatoes, Red Onions, Green Olives, Garlic',\n",
       " 'Chicken, Artichoke, Spinach, Garlic, Jalapeno Peppers, Fontina Cheese, Gouda Cheese',\n",
       " 'Genoa Salami, Capocollo, Pepperoni, Tomatoes, Asiago Cheese, Garlic',\n",
       " 'Tomatoes, Anchovies, Green Olives, Red Onions, Garlic',\n",
       " 'Chicken, Pineapple, Tomatoes, Red Peppers, Thai Sweet Chilli Sauce',\n",
       " 'Genoa Salami, Capocollo, Pepperoni, Tomatoes, Asiago Cheese, Garlic',\n",
       " 'Sliced Ham, Pineapple, Mozzarella Cheese',\n",
       " 'Coarse Sicilian Salami, Tomatoes, Green Olives, Luganega Sausage, Onions, Garlic',\n",
       " 'Mushrooms, Tomatoes, Red Peppers, Green Peppers, Red Onions, Zucchini, Spinach, Garlic',\n",
       " 'Pepperoni, Mushrooms, Red Onions, Red Peppers, Bacon',\n",
       " 'Prosciutto di San Daniele, Arugula, Mozzarella Cheese',\n",
       " 'Tomatoes, Red Peppers, Jalapeno Peppers, Red Onions, Cilantro, Corn, Chipotle Sauce, Garlic',\n",
       " 'Brie Carre Cheese, Prosciutto, Caramelized Onions, Pears, Thyme, Garlic',\n",
       " 'Genoa Salami, Capocollo, Pepperoni, Tomatoes, Asiago Cheese, Garlic',\n",
       " 'Tomatoes, Anchovies, Green Olives, Red Onions, Garlic',\n",
       " 'Spinach, Artichokes, Tomatoes, Sun-dried Tomatoes, Garlic, Pesto Sauce',\n",
       " 'Spinach, Artichokes, Tomatoes, Sun-dried Tomatoes, Garlic, Pesto Sauce',\n",
       " 'Sliced Ham, Pineapple, Mozzarella Cheese',\n",
       " 'Coarse Sicilian Salami, Tomatoes, Green Olives, Luganega Sausage, Onions, Garlic',\n",
       " 'Spinach, Artichokes, Tomatoes, Sun-dried Tomatoes, Garlic, Pesto Sauce',\n",
       " 'Tomatoes, Red Peppers, Jalapeno Peppers, Red Onions, Cilantro, Corn, Chipotle Sauce, Garlic',\n",
       " 'Chicken, Tomatoes, Red Peppers, Red Onions, Jalapeno Peppers, Corn, Cilantro, Chipotle Sauce',\n",
       " 'Spinach, Artichokes, Tomatoes, Sun-dried Tomatoes, Garlic, Pesto Sauce',\n",
       " 'Chicken, Pineapple, Tomatoes, Red Peppers, Thai Sweet Chilli Sauce',\n",
       " 'Mozzarella Cheese, Provolone Cheese, Smoked Gouda Cheese, Romano Cheese, Blue Cheese, Garlic',\n",
       " 'Spinach, Artichokes, Tomatoes, Sun-dried Tomatoes, Garlic, Pesto Sauce',\n",
       " 'Mozzarella Cheese, Provolone Cheese, Smoked Gouda Cheese, Romano Cheese, Blue Cheese, Garlic',\n",
       " 'Mozzarella Cheese, Pepperoni',\n",
       " 'Genoa Salami, Capocollo, Pepperoni, Tomatoes, Asiago Cheese, Garlic',\n",
       " 'Bacon, Pepperoni, Italian Sausage, Chorizo Sausage',\n",
       " 'Chicken, Pineapple, Tomatoes, Red Peppers, Thai Sweet Chilli Sauce',\n",
       " 'Barbecued Chicken, Red Peppers, Green Peppers, Tomatoes, Red Onions, Barbecue Sauce',\n",
       " 'Ricotta Cheese, Gorgonzola Piccante Cheese, Mozzarella Cheese, Parmigiano Reggiano Cheese, Garlic',\n",
       " 'Pepperoni, Mushrooms, Green Peppers',\n",
       " 'Prosciutto di San Daniele, Arugula, Mozzarella Cheese',\n",
       " 'Chicken, Artichoke, Spinach, Garlic, Jalapeno Peppers, Fontina Cheese, Gouda Cheese',\n",
       " 'Chicken, Red Onions, Red Peppers, Mushrooms, Asiago Cheese, Alfredo Sauce',\n",
       " 'Coarse Sicilian Salami, Tomatoes, Green Olives, Luganega Sausage, Onions, Garlic',\n",
       " 'Chicken, Tomatoes, Red Peppers, Red Onions, Jalapeno Peppers, Corn, Cilantro, Chipotle Sauce',\n",
       " 'Bacon, Pepperoni, Italian Sausage, Chorizo Sausage',\n",
       " 'Chicken, Artichoke, Spinach, Garlic, Jalapeno Peppers, Fontina Cheese, Gouda Cheese',\n",
       " 'Chicken, Red Onions, Red Peppers, Mushrooms, Asiago Cheese, Alfredo Sauce',\n",
       " 'Barbecued Chicken, Red Peppers, Green Peppers, Tomatoes, Red Onions, Barbecue Sauce',\n",
       " 'Barbecued Chicken, Red Peppers, Green Peppers, Tomatoes, Red Onions, Barbecue Sauce',\n",
       " 'Coarse Sicilian Salami, Tomatoes, Green Olives, Luganega Sausage, Onions, Garlic',\n",
       " 'Capocollo, Tomatoes, Goat Cheese, Artichokes, Peperoncini verdi, Garlic',\n",
       " 'Mushrooms, Tomatoes, Red Peppers, Green Peppers, Red Onions, Zucchini, Spinach, Garlic',\n",
       " 'Ricotta Cheese, Gorgonzola Piccante Cheese, Mozzarella Cheese, Parmigiano Reggiano Cheese, Garlic',\n",
       " 'Capocollo, Red Peppers, Tomatoes, Goat Cheese, Garlic, Oregano',\n",
       " 'Eggplant, Artichokes, Tomatoes, Zucchini, Red Peppers, Garlic, Pesto Sauce',\n",
       " 'Soppressata Salami, Fontina Cheese, Mozzarella Cheese, Mushrooms, Garlic',\n",
       " 'Bacon, Pepperoni, Italian Sausage, Chorizo Sausage',\n",
       " 'Chicken, Red Onions, Red Peppers, Mushrooms, Asiago Cheese, Alfredo Sauce',\n",
       " 'Chicken, Red Onions, Red Peppers, Mushrooms, Asiago Cheese, Alfredo Sauce',\n",
       " 'Kalamata Olives, Feta Cheese, Tomatoes, Garlic, Beef Chuck Roast, Red Onions',\n",
       " 'Nduja Salami, Pancetta, Tomatoes, Red Onions, Friggitello Peppers, Garlic',\n",
       " 'Chicken, Tomatoes, Red Peppers, Spinach, Garlic, Pesto Sauce',\n",
       " 'Calabrese Salami, Capocollo, Tomatoes, Red Onions, Green Olives, Garlic',\n",
       " 'Kalamata Olives, Feta Cheese, Tomatoes, Garlic, Beef Chuck Roast, Red Onions',\n",
       " 'Chicken, Artichoke, Spinach, Garlic, Jalapeno Peppers, Fontina Cheese, Gouda Cheese',\n",
       " 'Chicken, Artichoke, Spinach, Garlic, Jalapeno Peppers, Fontina Cheese, Gouda Cheese',\n",
       " 'Eggplant, Artichokes, Tomatoes, Zucchini, Red Peppers, Garlic, Pesto Sauce',\n",
       " 'Pepperoni, Mushrooms, Green Peppers',\n",
       " 'Kalamata Olives, Feta Cheese, Tomatoes, Garlic, Beef Chuck Roast, Red Onions',\n",
       " 'Capocollo, Tomatoes, Goat Cheese, Artichokes, Peperoncini verdi, Garlic',\n",
       " 'Chicken, Artichoke, Spinach, Garlic, Jalapeno Peppers, Fontina Cheese, Gouda Cheese',\n",
       " 'Chicken, Red Onions, Red Peppers, Mushrooms, Asiago Cheese, Alfredo Sauce',\n",
       " 'Prosciutto di San Daniele, Arugula, Mozzarella Cheese',\n",
       " 'Tomatoes, Anchovies, Green Olives, Red Onions, Garlic',\n",
       " 'Mozzarella Cheese, Pepperoni',\n",
       " 'Capocollo, Tomatoes, Goat Cheese, Artichokes, Peperoncini verdi, Garlic',\n",
       " 'Capocollo, Tomatoes, Goat Cheese, Artichokes, Peperoncini verdi, Garlic',\n",
       " 'Barbecued Chicken, Red Peppers, Green Peppers, Tomatoes, Red Onions, Barbecue Sauce',\n",
       " 'Barbecued Chicken, Red Peppers, Green Peppers, Tomatoes, Red Onions, Barbecue Sauce',\n",
       " 'Chicken, Red Onions, Red Peppers, Mushrooms, Asiago Cheese, Alfredo Sauce',\n",
       " 'Mozzarella Cheese, Pepperoni',\n",
       " 'Kalamata Olives, Feta Cheese, Tomatoes, Garlic, Beef Chuck Roast, Red Onions',\n",
       " 'Chicken, Artichoke, Spinach, Garlic, Jalapeno Peppers, Fontina Cheese, Gouda Cheese',\n",
       " 'Spinach, Mushrooms, Red Onions, Feta Cheese, Garlic',\n",
       " 'Mozzarella Cheese, Pepperoni',\n",
       " 'Capocollo, Red Peppers, Tomatoes, Goat Cheese, Garlic, Oregano',\n",
       " 'Ricotta Cheese, Gorgonzola Piccante Cheese, Mozzarella Cheese, Parmigiano Reggiano Cheese, Garlic',\n",
       " 'Capocollo, Red Peppers, Tomatoes, Goat Cheese, Garlic, Oregano',\n",
       " 'Calabrese Salami, Capocollo, Tomatoes, Red Onions, Green Olives, Garlic',\n",
       " 'Tomatoes, Red Peppers, Jalapeno Peppers, Red Onions, Cilantro, Corn, Chipotle Sauce, Garlic',\n",
       " 'Spinach, Artichokes, Tomatoes, Sun-dried Tomatoes, Garlic, Pesto Sauce',\n",
       " 'Spinach, Mushrooms, Tomatoes, Green Olives, Feta Cheese',\n",
       " 'Barbecued Chicken, Red Peppers, Green Peppers, Tomatoes, Red Onions, Barbecue Sauce',\n",
       " 'Mozzarella Cheese, Provolone Cheese, Smoked Gouda Cheese, Romano Cheese, Blue Cheese, Garlic',\n",
       " 'Sliced Ham, Pineapple, Mozzarella Cheese',\n",
       " 'Pepperoni, Mushrooms, Red Onions, Red Peppers, Bacon',\n",
       " 'Spinach, Mushrooms, Red Onions, Feta Cheese, Garlic',\n",
       " 'Capocollo, Tomatoes, Goat Cheese, Artichokes, Peperoncini verdi, Garlic',\n",
       " 'Barbecued Chicken, Red Peppers, Green Peppers, Tomatoes, Red Onions, Barbecue Sauce',\n",
       " 'Mozzarella Cheese, Provolone Cheese, Smoked Gouda Cheese, Romano Cheese, Blue Cheese, Garlic',\n",
       " 'Genoa Salami, Capocollo, Pepperoni, Tomatoes, Asiago Cheese, Garlic',\n",
       " 'Spinach, Mushrooms, Red Onions, Feta Cheese, Garlic',\n",
       " 'Sliced Ham, Pineapple, Mozzarella Cheese',\n",
       " 'Capocollo, Red Peppers, Tomatoes, Goat Cheese, Garlic, Oregano',\n",
       " 'Tomatoes, Anchovies, Green Olives, Red Onions, Garlic',\n",
       " 'Capocollo, Tomatoes, Goat Cheese, Artichokes, Peperoncini verdi, Garlic',\n",
       " 'Mozzarella Cheese, Provolone Cheese, Smoked Gouda Cheese, Romano Cheese, Blue Cheese, Garlic',\n",
       " 'Prosciutto di San Daniele, Arugula, Mozzarella Cheese',\n",
       " 'Kalamata Olives, Feta Cheese, Tomatoes, Garlic, Beef Chuck Roast, Red Onions',\n",
       " 'Ricotta Cheese, Gorgonzola Piccante Cheese, Mozzarella Cheese, Parmigiano Reggiano Cheese, Garlic',\n",
       " 'Coarse Sicilian Salami, Tomatoes, Green Olives, Luganega Sausage, Onions, Garlic',\n",
       " 'Pepperoni, Mushrooms, Green Peppers',\n",
       " 'Chicken, Red Onions, Red Peppers, Mushrooms, Asiago Cheese, Alfredo Sauce',\n",
       " 'Calabrese Salami, Capocollo, Tomatoes, Red Onions, Green Olives, Garlic',\n",
       " 'Tomatoes, Anchovies, Green Olives, Red Onions, Garlic',\n",
       " 'Chicken, Pineapple, Tomatoes, Red Peppers, Thai Sweet Chilli Sauce',\n",
       " 'Barbecued Chicken, Red Peppers, Green Peppers, Tomatoes, Red Onions, Barbecue Sauce',\n",
       " 'Barbecued Chicken, Red Peppers, Green Peppers, Tomatoes, Red Onions, Barbecue Sauce',\n",
       " 'Chicken, Tomatoes, Red Peppers, Red Onions, Jalapeno Peppers, Corn, Cilantro, Chipotle Sauce',\n",
       " 'Pepperoni, Mushrooms, Red Onions, Red Peppers, Bacon',\n",
       " 'Barbecued Chicken, Red Peppers, Green Peppers, Tomatoes, Red Onions, Barbecue Sauce',\n",
       " 'Kalamata Olives, Feta Cheese, Tomatoes, Garlic, Beef Chuck Roast, Red Onions',\n",
       " 'Eggplant, Artichokes, Tomatoes, Zucchini, Red Peppers, Garlic, Pesto Sauce',\n",
       " 'Eggplant, Artichokes, Tomatoes, Zucchini, Red Peppers, Garlic, Pesto Sauce',\n",
       " 'Prosciutto di San Daniele, Arugula, Mozzarella Cheese',\n",
       " 'Spinach, Artichokes, Tomatoes, Sun-dried Tomatoes, Garlic, Pesto Sauce',\n",
       " 'Chicken, Pineapple, Tomatoes, Red Peppers, Thai Sweet Chilli Sauce',\n",
       " 'Chicken, Artichoke, Spinach, Garlic, Jalapeno Peppers, Fontina Cheese, Gouda Cheese',\n",
       " 'Tomatoes, Anchovies, Green Olives, Red Onions, Garlic',\n",
       " 'Prosciutto di San Daniele, Arugula, Mozzarella Cheese',\n",
       " 'Barbecued Chicken, Red Peppers, Green Peppers, Tomatoes, Red Onions, Barbecue Sauce',\n",
       " 'Spinach, Red Onions, Pepperoni, Tomatoes, Artichokes, Kalamata Olives, Garlic, Asiago Cheese',\n",
       " 'Spinach, Mushrooms, Red Onions, Feta Cheese, Garlic',\n",
       " 'Chicken, Red Onions, Red Peppers, Mushrooms, Asiago Cheese, Alfredo Sauce',\n",
       " 'Calabrese Salami, Capocollo, Tomatoes, Red Onions, Green Olives, Garlic',\n",
       " 'Tomatoes, Anchovies, Green Olives, Red Onions, Garlic',\n",
       " 'Chicken, Artichoke, Spinach, Garlic, Jalapeno Peppers, Fontina Cheese, Gouda Cheese',\n",
       " 'Pepperoni, Mushrooms, Red Onions, Red Peppers, Bacon',\n",
       " 'Spinach, Mushrooms, Tomatoes, Green Olives, Feta Cheese',\n",
       " 'Spinach, Mushrooms, Tomatoes, Green Olives, Feta Cheese',\n",
       " 'Spinach, Artichokes, Tomatoes, Sun-dried Tomatoes, Garlic, Pesto Sauce',\n",
       " 'Calabrese Salami, Capocollo, Tomatoes, Red Onions, Green Olives, Garlic',\n",
       " 'Chicken, Pineapple, Tomatoes, Red Peppers, Thai Sweet Chilli Sauce',\n",
       " 'Ricotta Cheese, Gorgonzola Piccante Cheese, Mozzarella Cheese, Parmigiano Reggiano Cheese, Garlic',\n",
       " 'Coarse Sicilian Salami, Tomatoes, Green Olives, Luganega Sausage, Onions, Garlic',\n",
       " 'Spinach, Red Onions, Pepperoni, Tomatoes, Artichokes, Kalamata Olives, Garlic, Asiago Cheese',\n",
       " 'Nduja Salami, Pancetta, Tomatoes, Red Onions, Friggitello Peppers, Garlic',\n",
       " 'Chicken, Pineapple, Tomatoes, Red Peppers, Thai Sweet Chilli Sauce',\n",
       " 'Mushrooms, Tomatoes, Red Peppers, Green Peppers, Red Onions, Zucchini, Spinach, Garlic',\n",
       " 'Pepperoni, Mushrooms, Red Onions, Red Peppers, Bacon',\n",
       " 'Spinach, Red Onions, Pepperoni, Tomatoes, Artichokes, Kalamata Olives, Garlic, Asiago Cheese',\n",
       " 'Calabrese Salami, Capocollo, Tomatoes, Red Onions, Green Olives, Garlic',\n",
       " 'Capocollo, Tomatoes, Goat Cheese, Artichokes, Peperoncini verdi, Garlic',\n",
       " 'Barbecued Chicken, Red Peppers, Green Peppers, Tomatoes, Red Onions, Barbecue Sauce',\n",
       " 'Chicken, Tomatoes, Red Peppers, Spinach, Garlic, Pesto Sauce',\n",
       " 'Chicken, Red Onions, Red Peppers, Mushrooms, Asiago Cheese, Alfredo Sauce',\n",
       " 'Mozzarella Cheese, Pepperoni',\n",
       " 'Sliced Ham, Pineapple, Mozzarella Cheese',\n",
       " 'Coarse Sicilian Salami, Tomatoes, Green Olives, Luganega Sausage, Onions, Garlic',\n",
       " 'Spinach, Red Onions, Pepperoni, Tomatoes, Artichokes, Kalamata Olives, Garlic, Asiago Cheese',\n",
       " 'Sliced Ham, Pineapple, Mozzarella Cheese',\n",
       " 'Chicken, Pineapple, Tomatoes, Red Peppers, Thai Sweet Chilli Sauce',\n",
       " 'Barbecued Chicken, Red Peppers, Green Peppers, Tomatoes, Red Onions, Barbecue Sauce',\n",
       " 'Nduja Salami, Pancetta, Tomatoes, Red Onions, Friggitello Peppers, Garlic',\n",
       " 'Ricotta Cheese, Gorgonzola Piccante Cheese, Mozzarella Cheese, Parmigiano Reggiano Cheese, Garlic',\n",
       " 'Tomatoes, Red Peppers, Jalapeno Peppers, Red Onions, Cilantro, Corn, Chipotle Sauce, Garlic',\n",
       " 'Prosciutto di San Daniele, Arugula, Mozzarella Cheese',\n",
       " 'Brie Carre Cheese, Prosciutto, Caramelized Onions, Pears, Thyme, Garlic',\n",
       " 'Barbecued Chicken, Red Peppers, Green Peppers, Tomatoes, Red Onions, Barbecue Sauce',\n",
       " 'Brie Carre Cheese, Prosciutto, Caramelized Onions, Pears, Thyme, Garlic',\n",
       " 'Mozzarella Cheese, Provolone Cheese, Smoked Gouda Cheese, Romano Cheese, Blue Cheese, Garlic',\n",
       " 'Mozzarella Cheese, Provolone Cheese, Smoked Gouda Cheese, Romano Cheese, Blue Cheese, Garlic',\n",
       " 'Spinach, Mushrooms, Tomatoes, Green Olives, Feta Cheese',\n",
       " 'Sliced Ham, Pineapple, Mozzarella Cheese',\n",
       " 'Spinach, Mushrooms, Red Onions, Feta Cheese, Garlic',\n",
       " 'Pepperoni, Mushrooms, Green Peppers',\n",
       " 'Chicken, Artichoke, Spinach, Garlic, Jalapeno Peppers, Fontina Cheese, Gouda Cheese',\n",
       " 'Chicken, Red Onions, Red Peppers, Mushrooms, Asiago Cheese, Alfredo Sauce',\n",
       " 'Pepperoni, Mushrooms, Red Onions, Red Peppers, Bacon',\n",
       " 'Mozzarella Cheese, Pepperoni',\n",
       " 'Mozzarella Cheese, Provolone Cheese, Smoked Gouda Cheese, Romano Cheese, Blue Cheese, Garlic',\n",
       " 'Kalamata Olives, Feta Cheese, Tomatoes, Garlic, Beef Chuck Roast, Red Onions',\n",
       " 'Brie Carre Cheese, Prosciutto, Caramelized Onions, Pears, Thyme, Garlic',\n",
       " 'Chicken, Artichoke, Spinach, Garlic, Jalapeno Peppers, Fontina Cheese, Gouda Cheese',\n",
       " 'Spinach, Artichokes, Tomatoes, Sun-dried Tomatoes, Garlic, Pesto Sauce',\n",
       " 'Tomatoes, Red Peppers, Jalapeno Peppers, Red Onions, Cilantro, Corn, Chipotle Sauce, Garlic',\n",
       " 'Chicken, Red Onions, Red Peppers, Mushrooms, Asiago Cheese, Alfredo Sauce',\n",
       " 'Tomatoes, Red Peppers, Jalapeno Peppers, Red Onions, Cilantro, Corn, Chipotle Sauce, Garlic',\n",
       " 'Coarse Sicilian Salami, Tomatoes, Green Olives, Luganega Sausage, Onions, Garlic',\n",
       " 'Capocollo, Tomatoes, Goat Cheese, Artichokes, Peperoncini verdi, Garlic',\n",
       " 'Genoa Salami, Capocollo, Pepperoni, Tomatoes, Asiago Cheese, Garlic',\n",
       " 'Ricotta Cheese, Gorgonzola Piccante Cheese, Mozzarella Cheese, Parmigiano Reggiano Cheese, Garlic',\n",
       " 'Spinach, Artichokes, Kalamata Olives, Sun-dried Tomatoes, Feta Cheese, Plum Tomatoes, Red Onions',\n",
       " 'Tomatoes, Anchovies, Green Olives, Red Onions, Garlic',\n",
       " 'Calabrese Salami, Capocollo, Tomatoes, Red Onions, Green Olives, Garlic',\n",
       " 'Mozzarella Cheese, Pepperoni',\n",
       " 'Chicken, Red Onions, Red Peppers, Mushrooms, Asiago Cheese, Alfredo Sauce',\n",
       " 'Chicken, Tomatoes, Red Peppers, Red Onions, Jalapeno Peppers, Corn, Cilantro, Chipotle Sauce',\n",
       " 'Spinach, Artichokes, Tomatoes, Sun-dried Tomatoes, Garlic, Pesto Sauce',\n",
       " 'Chicken, Pineapple, Tomatoes, Red Peppers, Thai Sweet Chilli Sauce',\n",
       " 'Bacon, Pepperoni, Italian Sausage, Chorizo Sausage',\n",
       " 'Chicken, Artichoke, Spinach, Garlic, Jalapeno Peppers, Fontina Cheese, Gouda Cheese',\n",
       " 'Chicken, Red Onions, Red Peppers, Mushrooms, Asiago Cheese, Alfredo Sauce',\n",
       " 'Chicken, Tomatoes, Red Peppers, Spinach, Garlic, Pesto Sauce',\n",
       " 'Pepperoni, Mushrooms, Red Onions, Red Peppers, Bacon',\n",
       " 'Calabrese Salami, Capocollo, Tomatoes, Red Onions, Green Olives, Garlic',\n",
       " 'Coarse Sicilian Salami, Tomatoes, Green Olives, Luganega Sausage, Onions, Garlic',\n",
       " 'Soppressata Salami, Fontina Cheese, Mozzarella Cheese, Mushrooms, Garlic',\n",
       " 'Chicken, Tomatoes, Red Peppers, Red Onions, Jalapeno Peppers, Corn, Cilantro, Chipotle Sauce',\n",
       " 'Kalamata Olives, Feta Cheese, Tomatoes, Garlic, Beef Chuck Roast, Red Onions',\n",
       " 'Calabrese Salami, Capocollo, Tomatoes, Red Onions, Green Olives, Garlic',\n",
       " 'Soppressata Salami, Fontina Cheese, Mozzarella Cheese, Mushrooms, Garlic',\n",
       " 'Ricotta Cheese, Gorgonzola Piccante Cheese, Mozzarella Cheese, Parmigiano Reggiano Cheese, Garlic',\n",
       " 'Chicken, Pineapple, Tomatoes, Red Peppers, Thai Sweet Chilli Sauce',\n",
       " 'Pepperoni, Mushrooms, Red Onions, Red Peppers, Bacon',\n",
       " 'Mozzarella Cheese, Provolone Cheese, Smoked Gouda Cheese, Romano Cheese, Blue Cheese, Garlic',\n",
       " 'Mozzarella Cheese, Pepperoni',\n",
       " 'Coarse Sicilian Salami, Tomatoes, Green Olives, Luganega Sausage, Onions, Garlic',\n",
       " 'Mozzarella Cheese, Provolone Cheese, Smoked Gouda Cheese, Romano Cheese, Blue Cheese, Garlic',\n",
       " 'Capocollo, Tomatoes, Goat Cheese, Artichokes, Peperoncini verdi, Garlic',\n",
       " 'Ricotta Cheese, Gorgonzola Piccante Cheese, Mozzarella Cheese, Parmigiano Reggiano Cheese, Garlic',\n",
       " 'Eggplant, Artichokes, Tomatoes, Zucchini, Red Peppers, Garlic, Pesto Sauce',\n",
       " 'Chicken, Tomatoes, Red Peppers, Red Onions, Jalapeno Peppers, Corn, Cilantro, Chipotle Sauce',\n",
       " 'Chicken, Artichoke, Spinach, Garlic, Jalapeno Peppers, Fontina Cheese, Gouda Cheese',\n",
       " 'Chicken, Red Onions, Red Peppers, Mushrooms, Asiago Cheese, Alfredo Sauce',\n",
       " 'Prosciutto di San Daniele, Arugula, Mozzarella Cheese',\n",
       " 'Mushrooms, Tomatoes, Red Peppers, Green Peppers, Red Onions, Zucchini, Spinach, Garlic',\n",
       " 'Coarse Sicilian Salami, Tomatoes, Green Olives, Luganega Sausage, Onions, Garlic',\n",
       " 'Pepperoni, Mushrooms, Red Onions, Red Peppers, Bacon',\n",
       " 'Mozzarella Cheese, Provolone Cheese, Smoked Gouda Cheese, Romano Cheese, Blue Cheese, Garlic',\n",
       " 'Genoa Salami, Capocollo, Pepperoni, Tomatoes, Asiago Cheese, Garlic',\n",
       " 'Spinach, Artichokes, Tomatoes, Sun-dried Tomatoes, Garlic, Pesto Sauce',\n",
       " 'Tomatoes, Anchovies, Green Olives, Red Onions, Garlic',\n",
       " 'Ricotta Cheese, Gorgonzola Piccante Cheese, Mozzarella Cheese, Parmigiano Reggiano Cheese, Garlic',\n",
       " 'Sliced Ham, Pineapple, Mozzarella Cheese',\n",
       " 'Tomatoes, Anchovies, Green Olives, Red Onions, Garlic',\n",
       " 'Prosciutto di San Daniele, Arugula, Mozzarella Cheese',\n",
       " 'Calabrese Salami, Capocollo, Tomatoes, Red Onions, Green Olives, Garlic',\n",
       " 'Genoa Salami, Capocollo, Pepperoni, Tomatoes, Asiago Cheese, Garlic',\n",
       " 'Calabrese Salami, Capocollo, Tomatoes, Red Onions, Green Olives, Garlic',\n",
       " 'Pepperoni, Mushrooms, Green Peppers',\n",
       " 'Mozzarella Cheese, Pepperoni',\n",
       " 'Coarse Sicilian Salami, Tomatoes, Green Olives, Luganega Sausage, Onions, Garlic',\n",
       " 'Brie Carre Cheese, Prosciutto, Caramelized Onions, Pears, Thyme, Garlic',\n",
       " 'Prosciutto di San Daniele, Arugula, Mozzarella Cheese',\n",
       " 'Spinach, Red Onions, Pepperoni, Tomatoes, Artichokes, Kalamata Olives, Garlic, Asiago Cheese',\n",
       " 'Mozzarella Cheese, Provolone Cheese, Smoked Gouda Cheese, Romano Cheese, Blue Cheese, Garlic',\n",
       " 'Pepperoni, Mushrooms, Red Onions, Red Peppers, Bacon',\n",
       " 'Mushrooms, Tomatoes, Red Peppers, Green Peppers, Red Onions, Zucchini, Spinach, Garlic',\n",
       " 'Barbecued Chicken, Red Peppers, Green Peppers, Tomatoes, Red Onions, Barbecue Sauce',\n",
       " 'Chicken, Red Onions, Red Peppers, Mushrooms, Asiago Cheese, Alfredo Sauce',\n",
       " 'Ricotta Cheese, Gorgonzola Piccante Cheese, Mozzarella Cheese, Parmigiano Reggiano Cheese, Garlic',\n",
       " 'Spinach, Artichokes, Tomatoes, Sun-dried Tomatoes, Garlic, Pesto Sauce',\n",
       " 'Spinach, Mushrooms, Red Onions, Feta Cheese, Garlic',\n",
       " 'Pepperoni, Mushrooms, Red Onions, Red Peppers, Bacon',\n",
       " 'Eggplant, Artichokes, Tomatoes, Zucchini, Red Peppers, Garlic, Pesto Sauce',\n",
       " 'Barbecued Chicken, Red Peppers, Green Peppers, Tomatoes, Red Onions, Barbecue Sauce',\n",
       " 'Calabrese Salami, Capocollo, Tomatoes, Red Onions, Green Olives, Garlic',\n",
       " 'Chicken, Pineapple, Tomatoes, Red Peppers, Thai Sweet Chilli Sauce',\n",
       " 'Chicken, Artichoke, Spinach, Garlic, Jalapeno Peppers, Fontina Cheese, Gouda Cheese',\n",
       " 'Spinach, Mushrooms, Tomatoes, Green Olives, Feta Cheese',\n",
       " 'Capocollo, Red Peppers, Tomatoes, Goat Cheese, Garlic, Oregano',\n",
       " 'Chicken, Pineapple, Tomatoes, Red Peppers, Thai Sweet Chilli Sauce',\n",
       " 'Chicken, Tomatoes, Red Peppers, Red Onions, Jalapeno Peppers, Corn, Cilantro, Chipotle Sauce',\n",
       " 'Chicken, Artichoke, Spinach, Garlic, Jalapeno Peppers, Fontina Cheese, Gouda Cheese',\n",
       " 'Chicken, Artichoke, Spinach, Garlic, Jalapeno Peppers, Fontina Cheese, Gouda Cheese',\n",
       " 'Chicken, Red Onions, Red Peppers, Mushrooms, Asiago Cheese, Alfredo Sauce',\n",
       " 'Pepperoni, Mushrooms, Red Onions, Red Peppers, Bacon',\n",
       " 'Pepperoni, Mushrooms, Red Onions, Red Peppers, Bacon',\n",
       " 'Spinach, Mushrooms, Red Onions, Feta Cheese, Garlic',\n",
       " 'Bacon, Pepperoni, Italian Sausage, Chorizo Sausage',\n",
       " 'Capocollo, Red Peppers, Tomatoes, Goat Cheese, Garlic, Oregano',\n",
       " 'Eggplant, Artichokes, Tomatoes, Zucchini, Red Peppers, Garlic, Pesto Sauce',\n",
       " 'Spinach, Red Onions, Pepperoni, Tomatoes, Artichokes, Kalamata Olives, Garlic, Asiago Cheese',\n",
       " 'Tomatoes, Anchovies, Green Olives, Red Onions, Garlic',\n",
       " 'Genoa Salami, Capocollo, Pepperoni, Tomatoes, Asiago Cheese, Garlic',\n",
       " 'Bacon, Pepperoni, Italian Sausage, Chorizo Sausage',\n",
       " 'Capocollo, Red Peppers, Tomatoes, Goat Cheese, Garlic, Oregano',\n",
       " 'Mozzarella Cheese, Pepperoni',\n",
       " 'Sliced Ham, Pineapple, Mozzarella Cheese',\n",
       " 'Tomatoes, Red Peppers, Jalapeno Peppers, Red Onions, Cilantro, Corn, Chipotle Sauce, Garlic',\n",
       " 'Mozzarella Cheese, Pepperoni',\n",
       " 'Coarse Sicilian Salami, Tomatoes, Green Olives, Luganega Sausage, Onions, Garlic',\n",
       " 'Capocollo, Tomatoes, Goat Cheese, Artichokes, Peperoncini verdi, Garlic',\n",
       " 'Bacon, Pepperoni, Italian Sausage, Chorizo Sausage',\n",
       " 'Sliced Ham, Pineapple, Mozzarella Cheese',\n",
       " 'Tomatoes, Anchovies, Green Olives, Red Onions, Garlic',\n",
       " 'Pepperoni, Mushrooms, Red Onions, Red Peppers, Bacon',\n",
       " 'Chicken, Pineapple, Tomatoes, Red Peppers, Thai Sweet Chilli Sauce',\n",
       " 'Sliced Ham, Pineapple, Mozzarella Cheese',\n",
       " 'Pepperoni, Mushrooms, Green Peppers',\n",
       " 'Chicken, Pineapple, Tomatoes, Red Peppers, Thai Sweet Chilli Sauce',\n",
       " 'Mozzarella Cheese, Provolone Cheese, Smoked Gouda Cheese, Romano Cheese, Blue Cheese, Garlic',\n",
       " 'Genoa Salami, Capocollo, Pepperoni, Tomatoes, Asiago Cheese, Garlic',\n",
       " 'Sliced Ham, Pineapple, Mozzarella Cheese',\n",
       " 'Chicken, Pineapple, Tomatoes, Red Peppers, Thai Sweet Chilli Sauce',\n",
       " 'Coarse Sicilian Salami, Tomatoes, Green Olives, Luganega Sausage, Onions, Garlic',\n",
       " 'Bacon, Pepperoni, Italian Sausage, Chorizo Sausage',\n",
       " 'Brie Carre Cheese, Prosciutto, Caramelized Onions, Pears, Thyme, Garlic',\n",
       " 'Chicken, Red Onions, Red Peppers, Mushrooms, Asiago Cheese, Alfredo Sauce',\n",
       " 'Coarse Sicilian Salami, Tomatoes, Green Olives, Luganega Sausage, Onions, Garlic',\n",
       " 'Pepperoni, Mushrooms, Red Onions, Red Peppers, Bacon',\n",
       " 'Nduja Salami, Pancetta, Tomatoes, Red Onions, Friggitello Peppers, Garlic',\n",
       " 'Mozzarella Cheese, Provolone Cheese, Smoked Gouda Cheese, Romano Cheese, Blue Cheese, Garlic',\n",
       " 'Spinach, Mushrooms, Tomatoes, Green Olives, Feta Cheese',\n",
       " 'Sliced Ham, Pineapple, Mozzarella Cheese',\n",
       " 'Mushrooms, Tomatoes, Red Peppers, Green Peppers, Red Onions, Zucchini, Spinach, Garlic',\n",
       " 'Pepperoni, Mushrooms, Red Onions, Red Peppers, Bacon',\n",
       " 'Sliced Ham, Pineapple, Mozzarella Cheese',\n",
       " 'Calabrese Salami, Capocollo, Tomatoes, Red Onions, Green Olives, Garlic',\n",
       " 'Chicken, Artichoke, Spinach, Garlic, Jalapeno Peppers, Fontina Cheese, Gouda Cheese',\n",
       " 'Pepperoni, Mushrooms, Red Onions, Red Peppers, Bacon',\n",
       " 'Ricotta Cheese, Gorgonzola Piccante Cheese, Mozzarella Cheese, Parmigiano Reggiano Cheese, Garlic',\n",
       " 'Sliced Ham, Pineapple, Mozzarella Cheese',\n",
       " 'Pepperoni, Mushrooms, Green Peppers',\n",
       " 'Prosciutto di San Daniele, Arugula, Mozzarella Cheese',\n",
       " 'Spinach, Mushrooms, Red Onions, Feta Cheese, Garlic',\n",
       " 'Capocollo, Red Peppers, Tomatoes, Goat Cheese, Garlic, Oregano',\n",
       " 'Tomatoes, Red Peppers, Jalapeno Peppers, Red Onions, Cilantro, Corn, Chipotle Sauce, Garlic',\n",
       " 'Soppressata Salami, Fontina Cheese, Mozzarella Cheese, Mushrooms, Garlic',\n",
       " 'Capocollo, Tomatoes, Goat Cheese, Artichokes, Peperoncini verdi, Garlic',\n",
       " 'Calabrese Salami, Capocollo, Tomatoes, Red Onions, Green Olives, Garlic',\n",
       " 'Chicken, Artichoke, Spinach, Garlic, Jalapeno Peppers, Fontina Cheese, Gouda Cheese',\n",
       " 'Chicken, Tomatoes, Red Peppers, Spinach, Garlic, Pesto Sauce',\n",
       " 'Calabrese Salami, Capocollo, Tomatoes, Red Onions, Green Olives, Garlic',\n",
       " 'Chicken, Artichoke, Spinach, Garlic, Jalapeno Peppers, Fontina Cheese, Gouda Cheese',\n",
       " 'Chicken, Tomatoes, Red Peppers, Spinach, Garlic, Pesto Sauce',\n",
       " 'Pepperoni, Mushrooms, Red Onions, Red Peppers, Bacon',\n",
       " 'Chicken, Pineapple, Tomatoes, Red Peppers, Thai Sweet Chilli Sauce',\n",
       " 'Pepperoni, Mushrooms, Red Onions, Red Peppers, Bacon',\n",
       " 'Mozzarella Cheese, Provolone Cheese, Smoked Gouda Cheese, Romano Cheese, Blue Cheese, Garlic',\n",
       " 'Pepperoni, Mushrooms, Red Onions, Red Peppers, Bacon',\n",
       " 'Mushrooms, Tomatoes, Red Peppers, Green Peppers, Red Onions, Zucchini, Spinach, Garlic',\n",
       " 'Chicken, Artichoke, Spinach, Garlic, Jalapeno Peppers, Fontina Cheese, Gouda Cheese',\n",
       " 'Spinach, Red Onions, Pepperoni, Tomatoes, Artichokes, Kalamata Olives, Garlic, Asiago Cheese',\n",
       " 'Pepperoni, Mushrooms, Red Onions, Red Peppers, Bacon',\n",
       " 'Spinach, Artichokes, Kalamata Olives, Sun-dried Tomatoes, Feta Cheese, Plum Tomatoes, Red Onions',\n",
       " 'Capocollo, Tomatoes, Goat Cheese, Artichokes, Peperoncini verdi, Garlic',\n",
       " 'Spinach, Red Onions, Pepperoni, Tomatoes, Artichokes, Kalamata Olives, Garlic, Asiago Cheese',\n",
       " 'Bacon, Pepperoni, Italian Sausage, Chorizo Sausage',\n",
       " 'Chicken, Red Onions, Red Peppers, Mushrooms, Asiago Cheese, Alfredo Sauce',\n",
       " 'Pepperoni, Mushrooms, Red Onions, Red Peppers, Bacon',\n",
       " 'Pepperoni, Mushrooms, Red Onions, Red Peppers, Bacon',\n",
       " 'Mozzarella Cheese, Provolone Cheese, Smoked Gouda Cheese, Romano Cheese, Blue Cheese, Garlic',\n",
       " 'Ricotta Cheese, Gorgonzola Piccante Cheese, Mozzarella Cheese, Parmigiano Reggiano Cheese, Garlic',\n",
       " 'Sliced Ham, Pineapple, Mozzarella Cheese',\n",
       " 'Pepperoni, Mushrooms, Green Peppers',\n",
       " 'Genoa Salami, Capocollo, Pepperoni, Tomatoes, Asiago Cheese, Garlic',\n",
       " 'Coarse Sicilian Salami, Tomatoes, Green Olives, Luganega Sausage, Onions, Garlic',\n",
       " 'Capocollo, Tomatoes, Goat Cheese, Artichokes, Peperoncini verdi, Garlic',\n",
       " 'Capocollo, Tomatoes, Goat Cheese, Artichokes, Peperoncini verdi, Garlic',\n",
       " 'Spinach, Mushrooms, Red Onions, Feta Cheese, Garlic',\n",
       " 'Kalamata Olives, Feta Cheese, Tomatoes, Garlic, Beef Chuck Roast, Red Onions',\n",
       " 'Prosciutto di San Daniele, Arugula, Mozzarella Cheese',\n",
       " 'Coarse Sicilian Salami, Tomatoes, Green Olives, Luganega Sausage, Onions, Garlic',\n",
       " 'Chicken, Tomatoes, Red Peppers, Red Onions, Jalapeno Peppers, Corn, Cilantro, Chipotle Sauce',\n",
       " 'Chicken, Pineapple, Tomatoes, Red Peppers, Thai Sweet Chilli Sauce',\n",
       " 'Chicken, Red Onions, Red Peppers, Mushrooms, Asiago Cheese, Alfredo Sauce',\n",
       " 'Nduja Salami, Pancetta, Tomatoes, Red Onions, Friggitello Peppers, Garlic',\n",
       " 'Mozzarella Cheese, Pepperoni',\n",
       " 'Chicken, Tomatoes, Red Peppers, Red Onions, Jalapeno Peppers, Corn, Cilantro, Chipotle Sauce',\n",
       " 'Chicken, Pineapple, Tomatoes, Red Peppers, Thai Sweet Chilli Sauce',\n",
       " 'Spinach, Artichokes, Kalamata Olives, Sun-dried Tomatoes, Feta Cheese, Plum Tomatoes, Red Onions',\n",
       " 'Prosciutto di San Daniele, Arugula, Mozzarella Cheese',\n",
       " 'Sliced Ham, Pineapple, Mozzarella Cheese',\n",
       " 'Mozzarella Cheese, Pepperoni',\n",
       " 'Tomatoes, Red Peppers, Jalapeno Peppers, Red Onions, Cilantro, Corn, Chipotle Sauce, Garlic',\n",
       " 'Chicken, Pineapple, Tomatoes, Red Peppers, Thai Sweet Chilli Sauce',\n",
       " 'Kalamata Olives, Feta Cheese, Tomatoes, Garlic, Beef Chuck Roast, Red Onions',\n",
       " 'Capocollo, Tomatoes, Goat Cheese, Artichokes, Peperoncini verdi, Garlic',\n",
       " 'Genoa Salami, Capocollo, Pepperoni, Tomatoes, Asiago Cheese, Garlic',\n",
       " 'Barbecued Chicken, Red Peppers, Green Peppers, Tomatoes, Red Onions, Barbecue Sauce',\n",
       " 'Mozzarella Cheese, Pepperoni',\n",
       " 'Coarse Sicilian Salami, Tomatoes, Green Olives, Luganega Sausage, Onions, Garlic',\n",
       " 'Chicken, Tomatoes, Red Peppers, Red Onions, Jalapeno Peppers, Corn, Cilantro, Chipotle Sauce',\n",
       " 'Mozzarella Cheese, Provolone Cheese, Smoked Gouda Cheese, Romano Cheese, Blue Cheese, Garlic',\n",
       " 'Ricotta Cheese, Gorgonzola Piccante Cheese, Mozzarella Cheese, Parmigiano Reggiano Cheese, Garlic',\n",
       " 'Capocollo, Red Peppers, Tomatoes, Goat Cheese, Garlic, Oregano',\n",
       " 'Genoa Salami, Capocollo, Pepperoni, Tomatoes, Asiago Cheese, Garlic',\n",
       " 'Spinach, Mushrooms, Red Onions, Feta Cheese, Garlic',\n",
       " 'Spinach, Mushrooms, Tomatoes, Green Olives, Feta Cheese',\n",
       " 'Sliced Ham, Pineapple, Mozzarella Cheese',\n",
       " 'Capocollo, Red Peppers, Tomatoes, Goat Cheese, Garlic, Oregano',\n",
       " 'Tomatoes, Anchovies, Green Olives, Red Onions, Garlic',\n",
       " 'Spinach, Mushrooms, Red Onions, Feta Cheese, Garlic',\n",
       " 'Chicken, Pineapple, Tomatoes, Red Peppers, Thai Sweet Chilli Sauce',\n",
       " 'Mushrooms, Tomatoes, Red Peppers, Green Peppers, Red Onions, Zucchini, Spinach, Garlic',\n",
       " 'Pepperoni, Mushrooms, Red Onions, Red Peppers, Bacon',\n",
       " 'Chicken, Pineapple, Tomatoes, Red Peppers, Thai Sweet Chilli Sauce',\n",
       " 'Chicken, Pineapple, Tomatoes, Red Peppers, Thai Sweet Chilli Sauce',\n",
       " 'Mozzarella Cheese, Pepperoni',\n",
       " 'Pepperoni, Mushrooms, Red Onions, Red Peppers, Bacon',\n",
       " 'Mozzarella Cheese, Pepperoni',\n",
       " 'Capocollo, Tomatoes, Goat Cheese, Artichokes, Peperoncini verdi, Garlic',\n",
       " 'Bacon, Pepperoni, Italian Sausage, Chorizo Sausage',\n",
       " 'Sliced Ham, Pineapple, Mozzarella Cheese',\n",
       " 'Bacon, Pepperoni, Italian Sausage, Chorizo Sausage',\n",
       " 'Capocollo, Red Peppers, Tomatoes, Goat Cheese, Garlic, Oregano',\n",
       " 'Barbecued Chicken, Red Peppers, Green Peppers, Tomatoes, Red Onions, Barbecue Sauce',\n",
       " 'Chicken, Artichoke, Spinach, Garlic, Jalapeno Peppers, Fontina Cheese, Gouda Cheese',\n",
       " 'Prosciutto di San Daniele, Arugula, Mozzarella Cheese',\n",
       " 'Spinach, Mushrooms, Tomatoes, Green Olives, Feta Cheese',\n",
       " 'Mushrooms, Tomatoes, Red Peppers, Green Peppers, Red Onions, Zucchini, Spinach, Garlic',\n",
       " 'Chicken, Red Onions, Red Peppers, Mushrooms, Asiago Cheese, Alfredo Sauce',\n",
       " 'Calabrese Salami, Capocollo, Tomatoes, Red Onions, Green Olives, Garlic',\n",
       " 'Chicken, Red Onions, Red Peppers, Mushrooms, Asiago Cheese, Alfredo Sauce',\n",
       " 'Chicken, Artichoke, Spinach, Garlic, Jalapeno Peppers, Fontina Cheese, Gouda Cheese',\n",
       " 'Chicken, Tomatoes, Red Peppers, Red Onions, Jalapeno Peppers, Corn, Cilantro, Chipotle Sauce',\n",
       " 'Spinach, Mushrooms, Red Onions, Feta Cheese, Garlic',\n",
       " 'Calabrese Salami, Capocollo, Tomatoes, Red Onions, Green Olives, Garlic',\n",
       " 'Spinach, Mushrooms, Tomatoes, Green Olives, Feta Cheese',\n",
       " 'Chicken, Pineapple, Tomatoes, Red Peppers, Thai Sweet Chilli Sauce',\n",
       " 'Barbecued Chicken, Red Peppers, Green Peppers, Tomatoes, Red Onions, Barbecue Sauce',\n",
       " 'Spinach, Mushrooms, Tomatoes, Green Olives, Feta Cheese',\n",
       " 'Sliced Ham, Pineapple, Mozzarella Cheese',\n",
       " 'Bacon, Pepperoni, Italian Sausage, Chorizo Sausage',\n",
       " 'Capocollo, Red Peppers, Tomatoes, Goat Cheese, Garlic, Oregano',\n",
       " 'Barbecued Chicken, Red Peppers, Green Peppers, Tomatoes, Red Onions, Barbecue Sauce',\n",
       " 'Tomatoes, Red Peppers, Jalapeno Peppers, Red Onions, Cilantro, Corn, Chipotle Sauce, Garlic',\n",
       " 'Spinach, Artichokes, Kalamata Olives, Sun-dried Tomatoes, Feta Cheese, Plum Tomatoes, Red Onions',\n",
       " 'Tomatoes, Red Peppers, Jalapeno Peppers, Red Onions, Cilantro, Corn, Chipotle Sauce, Garlic',\n",
       " 'Calabrese Salami, Capocollo, Tomatoes, Red Onions, Green Olives, Garlic',\n",
       " 'Kalamata Olives, Feta Cheese, Tomatoes, Garlic, Beef Chuck Roast, Red Onions',\n",
       " 'Ricotta Cheese, Gorgonzola Piccante Cheese, Mozzarella Cheese, Parmigiano Reggiano Cheese, Garlic',\n",
       " 'Spinach, Artichokes, Kalamata Olives, Sun-dried Tomatoes, Feta Cheese, Plum Tomatoes, Red Onions',\n",
       " 'Mozzarella Cheese, Pepperoni',\n",
       " 'Capocollo, Red Peppers, Tomatoes, Goat Cheese, Garlic, Oregano',\n",
       " 'Sliced Ham, Pineapple, Mozzarella Cheese',\n",
       " 'Spinach, Mushrooms, Red Onions, Feta Cheese, Garlic',\n",
       " 'Spinach, Artichokes, Tomatoes, Sun-dried Tomatoes, Garlic, Pesto Sauce',\n",
       " 'Chicken, Pineapple, Tomatoes, Red Peppers, Thai Sweet Chilli Sauce',\n",
       " 'Spinach, Mushrooms, Red Onions, Feta Cheese, Garlic',\n",
       " 'Ricotta Cheese, Gorgonzola Piccante Cheese, Mozzarella Cheese, Parmigiano Reggiano Cheese, Garlic',\n",
       " 'Sliced Ham, Pineapple, Mozzarella Cheese',\n",
       " 'Mozzarella Cheese, Pepperoni',\n",
       " 'Spinach, Mushrooms, Red Onions, Feta Cheese, Garlic',\n",
       " 'Chicken, Tomatoes, Red Peppers, Spinach, Garlic, Pesto Sauce',\n",
       " 'Pepperoni, Mushrooms, Red Onions, Red Peppers, Bacon',\n",
       " 'Coarse Sicilian Salami, Tomatoes, Green Olives, Luganega Sausage, Onions, Garlic',\n",
       " 'Bacon, Pepperoni, Italian Sausage, Chorizo Sausage',\n",
       " 'Chicken, Red Onions, Red Peppers, Mushrooms, Asiago Cheese, Alfredo Sauce',\n",
       " 'Genoa Salami, Capocollo, Pepperoni, Tomatoes, Asiago Cheese, Garlic',\n",
       " 'Tomatoes, Red Peppers, Jalapeno Peppers, Red Onions, Cilantro, Corn, Chipotle Sauce, Garlic',\n",
       " 'Kalamata Olives, Feta Cheese, Tomatoes, Garlic, Beef Chuck Roast, Red Onions',\n",
       " 'Mushrooms, Tomatoes, Red Peppers, Green Peppers, Red Onions, Zucchini, Spinach, Garlic',\n",
       " 'Sliced Ham, Pineapple, Mozzarella Cheese',\n",
       " 'Chicken, Pineapple, Tomatoes, Red Peppers, Thai Sweet Chilli Sauce',\n",
       " 'Eggplant, Artichokes, Tomatoes, Zucchini, Red Peppers, Garlic, Pesto Sauce',\n",
       " 'Chicken, Pineapple, Tomatoes, Red Peppers, Thai Sweet Chilli Sauce',\n",
       " 'Nduja Salami, Pancetta, Tomatoes, Red Onions, Friggitello Peppers, Garlic',\n",
       " 'Chicken, Artichoke, Spinach, Garlic, Jalapeno Peppers, Fontina Cheese, Gouda Cheese',\n",
       " 'Chicken, Tomatoes, Red Peppers, Red Onions, Jalapeno Peppers, Corn, Cilantro, Chipotle Sauce',\n",
       " 'Chicken, Pineapple, Tomatoes, Red Peppers, Thai Sweet Chilli Sauce',\n",
       " 'Mushrooms, Tomatoes, Red Peppers, Green Peppers, Red Onions, Zucchini, Spinach, Garlic',\n",
       " 'Capocollo, Tomatoes, Goat Cheese, Artichokes, Peperoncini verdi, Garlic',\n",
       " 'Sliced Ham, Pineapple, Mozzarella Cheese',\n",
       " 'Capocollo, Red Peppers, Tomatoes, Goat Cheese, Garlic, Oregano',\n",
       " 'Spinach, Artichokes, Kalamata Olives, Sun-dried Tomatoes, Feta Cheese, Plum Tomatoes, Red Onions',\n",
       " 'Kalamata Olives, Feta Cheese, Tomatoes, Garlic, Beef Chuck Roast, Red Onions',\n",
       " 'Mushrooms, Tomatoes, Red Peppers, Green Peppers, Red Onions, Zucchini, Spinach, Garlic',\n",
       " 'Eggplant, Artichokes, Tomatoes, Zucchini, Red Peppers, Garlic, Pesto Sauce',\n",
       " 'Soppressata Salami, Fontina Cheese, Mozzarella Cheese, Mushrooms, Garlic',\n",
       " 'Chicken, Pineapple, Tomatoes, Red Peppers, Thai Sweet Chilli Sauce',\n",
       " 'Barbecued Chicken, Red Peppers, Green Peppers, Tomatoes, Red Onions, Barbecue Sauce',\n",
       " 'Bacon, Pepperoni, Italian Sausage, Chorizo Sausage',\n",
       " 'Chicken, Tomatoes, Red Peppers, Spinach, Garlic, Pesto Sauce',\n",
       " 'Mozzarella Cheese, Provolone Cheese, Smoked Gouda Cheese, Romano Cheese, Blue Cheese, Garlic',\n",
       " 'Mozzarella Cheese, Pepperoni',\n",
       " 'Capocollo, Tomatoes, Goat Cheese, Artichokes, Peperoncini verdi, Garlic',\n",
       " 'Spinach, Mushrooms, Red Onions, Feta Cheese, Garlic',\n",
       " 'Barbecued Chicken, Red Peppers, Green Peppers, Tomatoes, Red Onions, Barbecue Sauce',\n",
       " 'Chicken, Red Onions, Red Peppers, Mushrooms, Asiago Cheese, Alfredo Sauce',\n",
       " 'Spinach, Artichokes, Kalamata Olives, Sun-dried Tomatoes, Feta Cheese, Plum Tomatoes, Red Onions',\n",
       " 'Mushrooms, Tomatoes, Red Peppers, Green Peppers, Red Onions, Zucchini, Spinach, Garlic',\n",
       " 'Spinach, Artichokes, Tomatoes, Sun-dried Tomatoes, Garlic, Pesto Sauce',\n",
       " 'Pepperoni, Mushrooms, Green Peppers',\n",
       " 'Kalamata Olives, Feta Cheese, Tomatoes, Garlic, Beef Chuck Roast, Red Onions',\n",
       " 'Bacon, Pepperoni, Italian Sausage, Chorizo Sausage',\n",
       " 'Nduja Salami, Pancetta, Tomatoes, Red Onions, Friggitello Peppers, Garlic',\n",
       " 'Chicken, Artichoke, Spinach, Garlic, Jalapeno Peppers, Fontina Cheese, Gouda Cheese',\n",
       " 'Mozzarella Cheese, Pepperoni',\n",
       " 'Prosciutto di San Daniele, Arugula, Mozzarella Cheese',\n",
       " 'Coarse Sicilian Salami, Tomatoes, Green Olives, Luganega Sausage, Onions, Garlic',\n",
       " 'Soppressata Salami, Fontina Cheese, Mozzarella Cheese, Mushrooms, Garlic',\n",
       " 'Capocollo, Tomatoes, Goat Cheese, Artichokes, Peperoncini verdi, Garlic',\n",
       " 'Spinach, Mushrooms, Tomatoes, Green Olives, Feta Cheese',\n",
       " 'Sliced Ham, Pineapple, Mozzarella Cheese',\n",
       " 'Bacon, Pepperoni, Italian Sausage, Chorizo Sausage',\n",
       " 'Chicken, Tomatoes, Red Peppers, Spinach, Garlic, Pesto Sauce',\n",
       " 'Sliced Ham, Pineapple, Mozzarella Cheese',\n",
       " 'Sliced Ham, Pineapple, Mozzarella Cheese',\n",
       " 'Pepperoni, Mushrooms, Green Peppers',\n",
       " 'Mozzarella Cheese, Pepperoni',\n",
       " 'Mozzarella Cheese, Pepperoni',\n",
       " 'Coarse Sicilian Salami, Tomatoes, Green Olives, Luganega Sausage, Onions, Garlic',\n",
       " 'Capocollo, Tomatoes, Goat Cheese, Artichokes, Peperoncini verdi, Garlic',\n",
       " 'Spinach, Artichokes, Tomatoes, Sun-dried Tomatoes, Garlic, Pesto Sauce',\n",
       " 'Chicken, Pineapple, Tomatoes, Red Peppers, Thai Sweet Chilli Sauce',\n",
       " 'Mushrooms, Tomatoes, Red Peppers, Green Peppers, Red Onions, Zucchini, Spinach, Garlic',\n",
       " 'Tomatoes, Anchovies, Green Olives, Red Onions, Garlic',\n",
       " 'Spinach, Mushrooms, Red Onions, Feta Cheese, Garlic',\n",
       " 'Mozzarella Cheese, Provolone Cheese, Smoked Gouda Cheese, Romano Cheese, Blue Cheese, Garlic',\n",
       " 'Sliced Ham, Pineapple, Mozzarella Cheese',\n",
       " 'Mozzarella Cheese, Pepperoni',\n",
       " 'Mozzarella Cheese, Pepperoni',\n",
       " 'Barbecued Chicken, Red Peppers, Green Peppers, Tomatoes, Red Onions, Barbecue Sauce',\n",
       " 'Chicken, Artichoke, Spinach, Garlic, Jalapeno Peppers, Fontina Cheese, Gouda Cheese',\n",
       " 'Ricotta Cheese, Gorgonzola Piccante Cheese, Mozzarella Cheese, Parmigiano Reggiano Cheese, Garlic',\n",
       " 'Kalamata Olives, Feta Cheese, Tomatoes, Garlic, Beef Chuck Roast, Red Onions',\n",
       " 'Mozzarella Cheese, Pepperoni',\n",
       " 'Chicken, Pineapple, Tomatoes, Red Peppers, Thai Sweet Chilli Sauce',\n",
       " 'Mushrooms, Tomatoes, Red Peppers, Green Peppers, Red Onions, Zucchini, Spinach, Garlic',\n",
       " 'Ricotta Cheese, Gorgonzola Piccante Cheese, Mozzarella Cheese, Parmigiano Reggiano Cheese, Garlic',\n",
       " 'Calabrese Salami, Capocollo, Tomatoes, Red Onions, Green Olives, Garlic',\n",
       " 'Barbecued Chicken, Red Peppers, Green Peppers, Tomatoes, Red Onions, Barbecue Sauce',\n",
       " 'Pepperoni, Mushrooms, Red Onions, Red Peppers, Bacon',\n",
       " 'Prosciutto di San Daniele, Arugula, Mozzarella Cheese',\n",
       " 'Chicken, Tomatoes, Red Peppers, Spinach, Garlic, Pesto Sauce',\n",
       " 'Coarse Sicilian Salami, Tomatoes, Green Olives, Luganega Sausage, Onions, Garlic',\n",
       " 'Chicken, Red Onions, Red Peppers, Mushrooms, Asiago Cheese, Alfredo Sauce',\n",
       " 'Pepperoni, Mushrooms, Red Onions, Red Peppers, Bacon',\n",
       " 'Eggplant, Artichokes, Tomatoes, Zucchini, Red Peppers, Garlic, Pesto Sauce',\n",
       " 'Chicken, Artichoke, Spinach, Garlic, Jalapeno Peppers, Fontina Cheese, Gouda Cheese',\n",
       " 'Pepperoni, Mushrooms, Red Onions, Red Peppers, Bacon',\n",
       " 'Mozzarella Cheese, Pepperoni',\n",
       " 'Brie Carre Cheese, Prosciutto, Caramelized Onions, Pears, Thyme, Garlic',\n",
       " 'Genoa Salami, Capocollo, Pepperoni, Tomatoes, Asiago Cheese, Garlic',\n",
       " 'Mozzarella Cheese, Pepperoni',\n",
       " 'Bacon, Pepperoni, Italian Sausage, Chorizo Sausage',\n",
       " 'Spinach, Artichokes, Kalamata Olives, Sun-dried Tomatoes, Feta Cheese, Plum Tomatoes, Red Onions',\n",
       " 'Kalamata Olives, Feta Cheese, Tomatoes, Garlic, Beef Chuck Roast, Red Onions',\n",
       " 'Calabrese Salami, Capocollo, Tomatoes, Red Onions, Green Olives, Garlic',\n",
       " 'Chicken, Tomatoes, Red Peppers, Red Onions, Jalapeno Peppers, Corn, Cilantro, Chipotle Sauce',\n",
       " 'Brie Carre Cheese, Prosciutto, Caramelized Onions, Pears, Thyme, Garlic',\n",
       " 'Spinach, Red Onions, Pepperoni, Tomatoes, Artichokes, Kalamata Olives, Garlic, Asiago Cheese',\n",
       " 'Kalamata Olives, Feta Cheese, Tomatoes, Garlic, Beef Chuck Roast, Red Onions',\n",
       " 'Pepperoni, Mushrooms, Red Onions, Red Peppers, Bacon',\n",
       " 'Mozzarella Cheese, Provolone Cheese, Smoked Gouda Cheese, Romano Cheese, Blue Cheese, Garlic',\n",
       " 'Calabrese Salami, Capocollo, Tomatoes, Red Onions, Green Olives, Garlic',\n",
       " 'Chicken, Artichoke, Spinach, Garlic, Jalapeno Peppers, Fontina Cheese, Gouda Cheese',\n",
       " 'Spinach, Mushrooms, Red Onions, Feta Cheese, Garlic',\n",
       " 'Mozzarella Cheese, Pepperoni',\n",
       " 'Chicken, Tomatoes, Red Peppers, Spinach, Garlic, Pesto Sauce',\n",
       " 'Coarse Sicilian Salami, Tomatoes, Green Olives, Luganega Sausage, Onions, Garlic',\n",
       " 'Barbecued Chicken, Red Peppers, Green Peppers, Tomatoes, Red Onions, Barbecue Sauce',\n",
       " 'Sliced Ham, Pineapple, Mozzarella Cheese',\n",
       " 'Eggplant, Artichokes, Tomatoes, Zucchini, Red Peppers, Garlic, Pesto Sauce',\n",
       " 'Mushrooms, Tomatoes, Red Peppers, Green Peppers, Red Onions, Zucchini, Spinach, Garlic',\n",
       " 'Mozzarella Cheese, Provolone Cheese, Smoked Gouda Cheese, Romano Cheese, Blue Cheese, Garlic',\n",
       " 'Pepperoni, Mushrooms, Green Peppers',\n",
       " 'Barbecued Chicken, Red Peppers, Green Peppers, Tomatoes, Red Onions, Barbecue Sauce',\n",
       " 'Nduja Salami, Pancetta, Tomatoes, Red Onions, Friggitello Peppers, Garlic',\n",
       " 'Chicken, Tomatoes, Red Peppers, Spinach, Garlic, Pesto Sauce',\n",
       " 'Ricotta Cheese, Gorgonzola Piccante Cheese, Mozzarella Cheese, Parmigiano Reggiano Cheese, Garlic',\n",
       " 'Calabrese Salami, Capocollo, Tomatoes, Red Onions, Green Olives, Garlic',\n",
       " 'Spinach, Mushrooms, Red Onions, Feta Cheese, Garlic',\n",
       " 'Calabrese Salami, Capocollo, Tomatoes, Red Onions, Green Olives, Garlic',\n",
       " 'Coarse Sicilian Salami, Tomatoes, Green Olives, Luganega Sausage, Onions, Garlic',\n",
       " 'Mozzarella Cheese, Pepperoni',\n",
       " 'Soppressata Salami, Fontina Cheese, Mozzarella Cheese, Mushrooms, Garlic',\n",
       " 'Pepperoni, Mushrooms, Red Onions, Red Peppers, Bacon',\n",
       " 'Coarse Sicilian Salami, Tomatoes, Green Olives, Luganega Sausage, Onions, Garlic',\n",
       " 'Soppressata Salami, Fontina Cheese, Mozzarella Cheese, Mushrooms, Garlic',\n",
       " 'Spinach, Mushrooms, Red Onions, Feta Cheese, Garlic',\n",
       " 'Nduja Salami, Pancetta, Tomatoes, Red Onions, Friggitello Peppers, Garlic',\n",
       " 'Capocollo, Red Peppers, Tomatoes, Goat Cheese, Garlic, Oregano',\n",
       " 'Capocollo, Tomatoes, Goat Cheese, Artichokes, Peperoncini verdi, Garlic',\n",
       " 'Spinach, Mushrooms, Tomatoes, Green Olives, Feta Cheese',\n",
       " 'Coarse Sicilian Salami, Tomatoes, Green Olives, Luganega Sausage, Onions, Garlic',\n",
       " 'Bacon, Pepperoni, Italian Sausage, Chorizo Sausage',\n",
       " 'Chicken, Red Onions, Red Peppers, Mushrooms, Asiago Cheese, Alfredo Sauce',\n",
       " 'Ricotta Cheese, Gorgonzola Piccante Cheese, Mozzarella Cheese, Parmigiano Reggiano Cheese, Garlic',\n",
       " 'Sliced Ham, Pineapple, Mozzarella Cheese',\n",
       " 'Capocollo, Red Peppers, Tomatoes, Goat Cheese, Garlic, Oregano',\n",
       " 'Chicken, Pineapple, Tomatoes, Red Peppers, Thai Sweet Chilli Sauce',\n",
       " 'Mushrooms, Tomatoes, Red Peppers, Green Peppers, Red Onions, Zucchini, Spinach, Garlic',\n",
       " 'Capocollo, Tomatoes, Goat Cheese, Artichokes, Peperoncini verdi, Garlic',\n",
       " 'Tomatoes, Anchovies, Green Olives, Red Onions, Garlic',\n",
       " 'Capocollo, Tomatoes, Goat Cheese, Artichokes, Peperoncini verdi, Garlic',\n",
       " 'Mushrooms, Tomatoes, Red Peppers, Green Peppers, Red Onions, Zucchini, Spinach, Garlic',\n",
       " 'Pepperoni, Mushrooms, Red Onions, Red Peppers, Bacon',\n",
       " 'Pepperoni, Mushrooms, Green Peppers',\n",
       " 'Spinach, Red Onions, Pepperoni, Tomatoes, Artichokes, Kalamata Olives, Garlic, Asiago Cheese',\n",
       " 'Pepperoni, Mushrooms, Red Onions, Red Peppers, Bacon',\n",
       " 'Calabrese Salami, Capocollo, Tomatoes, Red Onions, Green Olives, Garlic',\n",
       " 'Pepperoni, Mushrooms, Green Peppers',\n",
       " 'Genoa Salami, Capocollo, Pepperoni, Tomatoes, Asiago Cheese, Garlic',\n",
       " 'Barbecued Chicken, Red Peppers, Green Peppers, Tomatoes, Red Onions, Barbecue Sauce',\n",
       " 'Mushrooms, Tomatoes, Red Peppers, Green Peppers, Red Onions, Zucchini, Spinach, Garlic',\n",
       " 'Chicken, Red Onions, Red Peppers, Mushrooms, Asiago Cheese, Alfredo Sauce',\n",
       " ...]"
      ]
     },
     "execution_count": 120,
     "metadata": {},
     "output_type": "execute_result"
    }
   ],
   "source": [
    "toppings = list(df[\"pizza_ingredients\"])\n",
    "toppings"
   ]
  },
  {
   "cell_type": "code",
   "execution_count": 124,
   "id": "5abb8e8c",
   "metadata": {
    "ExecuteTime": {
     "end_time": "2022-11-29T15:54:07.718522Z",
     "start_time": "2022-11-29T15:54:07.606639Z"
    }
   },
   "outputs": [
    {
     "data": {
      "text/plain": [
       "['Sliced Ham',\n",
       " ' Pineapple',\n",
       " ' Mozzarella Cheese',\n",
       " 'Pepperoni',\n",
       " ' Mushrooms',\n",
       " ' Red Onions',\n",
       " ' Red Peppers',\n",
       " ' Bacon',\n",
       " 'Mozzarella Cheese',\n",
       " ' Provolone Cheese',\n",
       " ' Smoked Gouda Cheese',\n",
       " ' Romano Cheese',\n",
       " ' Blue Cheese',\n",
       " ' Garlic',\n",
       " 'Calabrese Salami',\n",
       " ' Capocollo',\n",
       " ' Tomatoes',\n",
       " ' Red Onions',\n",
       " ' Green Olives',\n",
       " ' Garlic',\n",
       " 'Tomatoes',\n",
       " ' Red Peppers',\n",
       " ' Jalapeno Peppers',\n",
       " ' Red Onions',\n",
       " ' Cilantro',\n",
       " ' Corn',\n",
       " ' Chipotle Sauce',\n",
       " ' Garlic',\n",
       " 'Chicken',\n",
       " ' Pineapple',\n",
       " ' Tomatoes',\n",
       " ' Red Peppers',\n",
       " ' Thai Sweet Chilli Sauce',\n",
       " 'Calabrese Salami',\n",
       " ' Capocollo',\n",
       " ' Tomatoes',\n",
       " ' Red Onions',\n",
       " ' Green Olives',\n",
       " ' Garlic',\n",
       " 'Prosciutto di San Daniele',\n",
       " ' Arugula',\n",
       " ' Mozzarella Cheese',\n",
       " 'Calabrese Salami',\n",
       " ' Capocollo',\n",
       " ' Tomatoes',\n",
       " ' Red Onions',\n",
       " ' Green Olives',\n",
       " ' Garlic',\n",
       " 'Calabrese Salami',\n",
       " ' Capocollo',\n",
       " ' Tomatoes',\n",
       " ' Red Onions',\n",
       " ' Green Olives',\n",
       " ' Garlic',\n",
       " 'Barbecued Chicken',\n",
       " ' Red Peppers',\n",
       " ' Green Peppers',\n",
       " ' Tomatoes',\n",
       " ' Red Onions',\n",
       " ' Barbecue Sauce',\n",
       " 'Kalamata Olives',\n",
       " ' Feta Cheese',\n",
       " ' Tomatoes',\n",
       " ' Garlic',\n",
       " ' Beef Chuck Roast',\n",
       " ' Red Onions',\n",
       " 'Spinach',\n",
       " ' Red Onions',\n",
       " ' Pepperoni',\n",
       " ' Tomatoes',\n",
       " ' Artichokes',\n",
       " ' Kalamata Olives',\n",
       " ' Garlic',\n",
       " ' Asiago Cheese',\n",
       " 'Spinach',\n",
       " ' Red Onions',\n",
       " ' Pepperoni',\n",
       " ' Tomatoes',\n",
       " ' Artichokes',\n",
       " ' Kalamata Olives',\n",
       " ' Garlic',\n",
       " ' Asiago Cheese',\n",
       " 'Pepperoni',\n",
       " ' Mushrooms',\n",
       " ' Red Onions',\n",
       " ' Red Peppers',\n",
       " ' Bacon',\n",
       " 'Spinach',\n",
       " ' Mushrooms',\n",
       " ' Tomatoes',\n",
       " ' Green Olives',\n",
       " ' Feta Cheese',\n",
       " 'Capocollo',\n",
       " ' Red Peppers',\n",
       " ' Tomatoes',\n",
       " ' Goat Cheese',\n",
       " ' Garlic',\n",
       " ' Oregano',\n",
       " 'Calabrese Salami',\n",
       " ' Capocollo',\n",
       " ' Tomatoes',\n",
       " ' Red Onions',\n",
       " ' Green Olives',\n",
       " ' Garlic',\n",
       " 'Calabrese Salami',\n",
       " ' Capocollo',\n",
       " ' Tomatoes',\n",
       " ' Red Onions',\n",
       " ' Green Olives',\n",
       " ' Garlic',\n",
       " 'Tomatoes',\n",
       " ' Red Peppers',\n",
       " ' Jalapeno Peppers',\n",
       " ' Red Onions',\n",
       " ' Cilantro',\n",
       " ' Corn',\n",
       " ' Chipotle Sauce',\n",
       " ' Garlic',\n",
       " 'Capocollo',\n",
       " ' Tomatoes',\n",
       " ' Goat Cheese',\n",
       " ' Artichokes',\n",
       " ' Peperoncini verdi',\n",
       " ' Garlic',\n",
       " 'Spinach',\n",
       " ' Artichokes',\n",
       " ' Tomatoes',\n",
       " ' Sun-dried Tomatoes',\n",
       " ' Garlic',\n",
       " ' Pesto Sauce',\n",
       " 'Mushrooms',\n",
       " ' Tomatoes',\n",
       " ' Red Peppers',\n",
       " ' Green Peppers',\n",
       " ' Red Onions',\n",
       " ' Zucchini',\n",
       " ' Spinach',\n",
       " ' Garlic',\n",
       " 'Tomatoes',\n",
       " ' Red Peppers',\n",
       " ' Jalapeno Peppers',\n",
       " ' Red Onions',\n",
       " ' Cilantro',\n",
       " ' Corn',\n",
       " ' Chipotle Sauce',\n",
       " ' Garlic',\n",
       " 'Chicken',\n",
       " ' Tomatoes',\n",
       " ' Red Peppers',\n",
       " ' Red Onions',\n",
       " ' Jalapeno Peppers',\n",
       " ' Corn',\n",
       " ' Cilantro',\n",
       " ' Chipotle Sauce',\n",
       " 'Barbecued Chicken',\n",
       " ' Red Peppers',\n",
       " ' Green Peppers',\n",
       " ' Tomatoes',\n",
       " ' Red Onions',\n",
       " ' Barbecue Sauce',\n",
       " 'Chicken',\n",
       " ' Artichoke',\n",
       " ' Spinach',\n",
       " ' Garlic',\n",
       " ' Jalapeno Peppers',\n",
       " ' Fontina Cheese',\n",
       " ' Gouda Cheese',\n",
       " 'Chicken',\n",
       " ' Artichoke',\n",
       " ' Spinach',\n",
       " ' Garlic',\n",
       " ' Jalapeno Peppers',\n",
       " ' Fontina Cheese',\n",
       " ' Gouda Cheese',\n",
       " 'Mozzarella Cheese',\n",
       " ' Pepperoni',\n",
       " 'Chicken',\n",
       " ' Artichoke',\n",
       " ' Spinach',\n",
       " ' Garlic',\n",
       " ' Jalapeno Peppers',\n",
       " ' Fontina Cheese',\n",
       " ' Gouda Cheese',\n",
       " 'Chicken',\n",
       " ' Artichoke',\n",
       " ' Spinach',\n",
       " ' Garlic',\n",
       " ' Jalapeno Peppers',\n",
       " ' Fontina Cheese',\n",
       " ' Gouda Cheese',\n",
       " 'Chicken',\n",
       " ' Tomatoes',\n",
       " ' Red Peppers',\n",
       " ' Spinach',\n",
       " ' Garlic',\n",
       " ' Pesto Sauce',\n",
       " 'Calabrese Salami',\n",
       " ' Capocollo',\n",
       " ' Tomatoes',\n",
       " ' Red Onions',\n",
       " ' Green Olives',\n",
       " ' Garlic',\n",
       " 'Tomatoes',\n",
       " ' Red Peppers',\n",
       " ' Jalapeno Peppers',\n",
       " ' Red Onions',\n",
       " ' Cilantro',\n",
       " ' Corn',\n",
       " ' Chipotle Sauce',\n",
       " ' Garlic',\n",
       " 'Kalamata Olives',\n",
       " ' Feta Cheese',\n",
       " ' Tomatoes',\n",
       " ' Garlic',\n",
       " ' Beef Chuck Roast',\n",
       " ' Red Onions',\n",
       " 'Bacon',\n",
       " ' Pepperoni',\n",
       " ' Italian Sausage',\n",
       " ' Chorizo Sausage',\n",
       " 'Mozzarella Cheese',\n",
       " ' Provolone Cheese',\n",
       " ' Smoked Gouda Cheese',\n",
       " ' Romano Cheese',\n",
       " ' Blue Cheese',\n",
       " ' Garlic',\n",
       " 'Soppressata Salami',\n",
       " ' Fontina Cheese',\n",
       " ' Mozzarella Cheese',\n",
       " ' Mushrooms',\n",
       " ' Garlic',\n",
       " 'Kalamata Olives',\n",
       " ' Feta Cheese',\n",
       " ' Tomatoes',\n",
       " ' Garlic',\n",
       " ' Beef Chuck Roast',\n",
       " ' Red Onions',\n",
       " 'Ricotta Cheese',\n",
       " ' Gorgonzola Piccante Cheese',\n",
       " ' Mozzarella Cheese',\n",
       " ' Parmigiano Reggiano Cheese',\n",
       " ' Garlic',\n",
       " 'Tomatoes',\n",
       " ' Anchovies',\n",
       " ' Green Olives',\n",
       " ' Red Onions',\n",
       " ' Garlic',\n",
       " 'Chicken',\n",
       " ' Pineapple',\n",
       " ' Tomatoes',\n",
       " ' Red Peppers',\n",
       " ' Thai Sweet Chilli Sauce',\n",
       " 'Barbecued Chicken',\n",
       " ' Red Peppers',\n",
       " ' Green Peppers',\n",
       " ' Tomatoes',\n",
       " ' Red Onions',\n",
       " ' Barbecue Sauce',\n",
       " 'Nduja Salami',\n",
       " ' Pancetta',\n",
       " ' Tomatoes',\n",
       " ' Red Onions',\n",
       " ' Friggitello Peppers',\n",
       " ' Garlic',\n",
       " 'Mozzarella Cheese',\n",
       " ' Provolone Cheese',\n",
       " ' Smoked Gouda Cheese',\n",
       " ' Romano Cheese',\n",
       " ' Blue Cheese',\n",
       " ' Garlic',\n",
       " 'Ricotta Cheese',\n",
       " ' Gorgonzola Piccante Cheese',\n",
       " ' Mozzarella Cheese',\n",
       " ' Parmigiano Reggiano Cheese',\n",
       " ' Garlic',\n",
       " 'Calabrese Salami',\n",
       " ' Capocollo',\n",
       " ' Tomatoes',\n",
       " ' Red Onions',\n",
       " ' Green Olives',\n",
       " ' Garlic',\n",
       " 'Eggplant',\n",
       " ' Artichokes',\n",
       " ' Tomatoes',\n",
       " ' Zucchini',\n",
       " ' Red Peppers',\n",
       " ' Garlic',\n",
       " ' Pesto Sauce',\n",
       " 'Spinach',\n",
       " ' Artichokes',\n",
       " ' Kalamata Olives',\n",
       " ' Sun-dried Tomatoes',\n",
       " ' Feta Cheese',\n",
       " ' Plum Tomatoes',\n",
       " ' Red Onions',\n",
       " 'Tomatoes',\n",
       " ' Red Peppers',\n",
       " ' Jalapeno Peppers',\n",
       " ' Red Onions',\n",
       " ' Cilantro',\n",
       " ' Corn',\n",
       " ' Chipotle Sauce',\n",
       " ' Garlic',\n",
       " 'Genoa Salami',\n",
       " ' Capocollo',\n",
       " ' Pepperoni',\n",
       " ' Tomatoes',\n",
       " ' Asiago Cheese',\n",
       " ' Garlic',\n",
       " 'Spinach',\n",
       " ' Mushrooms',\n",
       " ' Red Onions',\n",
       " ' Feta Cheese',\n",
       " ' Garlic',\n",
       " 'Tomatoes',\n",
       " ' Anchovies',\n",
       " ' Green Olives',\n",
       " ' Red Onions',\n",
       " ' Garlic',\n",
       " 'Capocollo',\n",
       " ' Red Peppers',\n",
       " ' Tomatoes',\n",
       " ' Goat Cheese',\n",
       " ' Garlic',\n",
       " ' Oregano',\n",
       " 'Coarse Sicilian Salami',\n",
       " ' Tomatoes',\n",
       " ' Green Olives',\n",
       " ' Luganega Sausage',\n",
       " ' Onions',\n",
       " ' Garlic',\n",
       " 'Bacon',\n",
       " ' Pepperoni',\n",
       " ' Italian Sausage',\n",
       " ' Chorizo Sausage',\n",
       " 'Mozzarella Cheese',\n",
       " ' Provolone Cheese',\n",
       " ' Smoked Gouda Cheese',\n",
       " ' Romano Cheese',\n",
       " ' Blue Cheese',\n",
       " ' Garlic',\n",
       " 'Capocollo',\n",
       " ' Red Peppers',\n",
       " ' Tomatoes',\n",
       " ' Goat Cheese',\n",
       " ' Garlic',\n",
       " ' Oregano',\n",
       " 'Mozzarella Cheese',\n",
       " ' Provolone Cheese',\n",
       " ' Smoked Gouda Cheese',\n",
       " ' Romano Cheese',\n",
       " ' Blue Cheese',\n",
       " ' Garlic',\n",
       " 'Capocollo',\n",
       " ' Red Peppers',\n",
       " ' Tomatoes',\n",
       " ' Goat Cheese',\n",
       " ' Garlic',\n",
       " ' Oregano',\n",
       " 'Chicken',\n",
       " ' Tomatoes',\n",
       " ' Red Peppers',\n",
       " ' Red Onions',\n",
       " ' Jalapeno Peppers',\n",
       " ' Corn',\n",
       " ' Cilantro',\n",
       " ' Chipotle Sauce',\n",
       " 'Chicken',\n",
       " ' Tomatoes',\n",
       " ' Red Peppers',\n",
       " ' Red Onions',\n",
       " ' Jalapeno Peppers',\n",
       " ' Corn',\n",
       " ' Cilantro',\n",
       " ' Chipotle Sauce',\n",
       " 'Barbecued Chicken',\n",
       " ' Red Peppers',\n",
       " ' Green Peppers',\n",
       " ' Tomatoes',\n",
       " ' Red Onions',\n",
       " ' Barbecue Sauce',\n",
       " 'Capocollo',\n",
       " ' Red Peppers',\n",
       " ' Tomatoes',\n",
       " ' Goat Cheese',\n",
       " ' Garlic',\n",
       " ' Oregano',\n",
       " 'Mozzarella Cheese',\n",
       " ' Pepperoni',\n",
       " 'Prosciutto di San Daniele',\n",
       " ' Arugula',\n",
       " ' Mozzarella Cheese',\n",
       " 'Coarse Sicilian Salami',\n",
       " ' Tomatoes',\n",
       " ' Green Olives',\n",
       " ' Luganega Sausage',\n",
       " ' Onions',\n",
       " ' Garlic',\n",
       " 'Chicken',\n",
       " ' Pineapple',\n",
       " ' Tomatoes',\n",
       " ' Red Peppers',\n",
       " ' Thai Sweet Chilli Sauce',\n",
       " 'Pepperoni',\n",
       " ' Mushrooms',\n",
       " ' Red Onions',\n",
       " ' Red Peppers',\n",
       " ' Bacon',\n",
       " 'Mushrooms',\n",
       " ' Tomatoes',\n",
       " ' Red Peppers',\n",
       " ' Green Peppers',\n",
       " ' Red Onions',\n",
       " ' Zucchini',\n",
       " ' Spinach',\n",
       " ' Garlic',\n",
       " 'Barbecued Chicken',\n",
       " ' Red Peppers',\n",
       " ' Green Peppers',\n",
       " ' Tomatoes',\n",
       " ' Red Onions',\n",
       " ' Barbecue Sauce',\n",
       " 'Pepperoni',\n",
       " ' Mushrooms',\n",
       " ' Red Onions',\n",
       " ' Red Peppers',\n",
       " ' Bacon',\n",
       " 'Spinach',\n",
       " ' Mushrooms',\n",
       " ' Red Onions',\n",
       " ' Feta Cheese',\n",
       " ' Garlic',\n",
       " 'Chicken',\n",
       " ' Red Onions',\n",
       " ' Red Peppers',\n",
       " ' Mushrooms',\n",
       " ' Asiago Cheese',\n",
       " ' Alfredo Sauce',\n",
       " 'Spinach',\n",
       " ' Mushrooms',\n",
       " ' Tomatoes',\n",
       " ' Green Olives',\n",
       " ' Feta Cheese',\n",
       " 'Chicken',\n",
       " ' Pineapple',\n",
       " ' Tomatoes',\n",
       " ' Red Peppers',\n",
       " ' Thai Sweet Chilli Sauce',\n",
       " 'Tomatoes',\n",
       " ' Red Peppers',\n",
       " ' Jalapeno Peppers',\n",
       " ' Red Onions',\n",
       " ' Cilantro',\n",
       " ' Corn',\n",
       " ' Chipotle Sauce',\n",
       " ' Garlic',\n",
       " 'Mozzarella Cheese',\n",
       " ' Pepperoni',\n",
       " 'Bacon',\n",
       " ' Pepperoni',\n",
       " ' Italian Sausage',\n",
       " ' Chorizo Sausage',\n",
       " 'Spinach',\n",
       " ' Mushrooms',\n",
       " ' Tomatoes',\n",
       " ' Green Olives',\n",
       " ' Feta Cheese',\n",
       " 'Capocollo',\n",
       " ' Red Peppers',\n",
       " ' Tomatoes',\n",
       " ' Goat Cheese',\n",
       " ' Garlic',\n",
       " ' Oregano',\n",
       " 'Calabrese Salami',\n",
       " ' Capocollo',\n",
       " ' Tomatoes',\n",
       " ' Red Onions',\n",
       " ' Green Olives',\n",
       " ' Garlic',\n",
       " 'Barbecued Chicken',\n",
       " ' Red Peppers',\n",
       " ' Green Peppers',\n",
       " ' Tomatoes',\n",
       " ' Red Onions',\n",
       " ' Barbecue Sauce',\n",
       " 'Spinach',\n",
       " ' Mushrooms',\n",
       " ' Tomatoes',\n",
       " ' Green Olives',\n",
       " ' Feta Cheese',\n",
       " 'Kalamata Olives',\n",
       " ' Feta Cheese',\n",
       " ' Tomatoes',\n",
       " ' Garlic',\n",
       " ' Beef Chuck Roast',\n",
       " ' Red Onions',\n",
       " 'Spinach',\n",
       " ' Mushrooms',\n",
       " ' Tomatoes',\n",
       " ' Green Olives',\n",
       " ' Feta Cheese',\n",
       " 'Pepperoni',\n",
       " ' Mushrooms',\n",
       " ' Green Peppers',\n",
       " 'Mozzarella Cheese',\n",
       " ' Pepperoni',\n",
       " 'Chicken',\n",
       " ' Pineapple',\n",
       " ' Tomatoes',\n",
       " ' Red Peppers',\n",
       " ' Thai Sweet Chilli Sauce',\n",
       " 'Barbecued Chicken',\n",
       " ' Red Peppers',\n",
       " ' Green Peppers',\n",
       " ' Tomatoes',\n",
       " ' Red Onions',\n",
       " ' Barbecue Sauce',\n",
       " 'Pepperoni',\n",
       " ' Mushrooms',\n",
       " ' Red Onions',\n",
       " ' Red Peppers',\n",
       " ' Bacon',\n",
       " 'Calabrese Salami',\n",
       " ' Capocollo',\n",
       " ' Tomatoes',\n",
       " ' Red Onions',\n",
       " ' Green Olives',\n",
       " ' Garlic',\n",
       " 'Tomatoes',\n",
       " ' Red Peppers',\n",
       " ' Jalapeno Peppers',\n",
       " ' Red Onions',\n",
       " ' Cilantro',\n",
       " ' Corn',\n",
       " ' Chipotle Sauce',\n",
       " ' Garlic',\n",
       " 'Sliced Ham',\n",
       " ' Pineapple',\n",
       " ' Mozzarella Cheese',\n",
       " 'Capocollo',\n",
       " ' Red Peppers',\n",
       " ' Tomatoes',\n",
       " ' Goat Cheese',\n",
       " ' Garlic',\n",
       " ' Oregano',\n",
       " 'Calabrese Salami',\n",
       " ' Capocollo',\n",
       " ' Tomatoes',\n",
       " ' Red Onions',\n",
       " ' Green Olives',\n",
       " ' Garlic',\n",
       " 'Ricotta Cheese',\n",
       " ' Gorgonzola Piccante Cheese',\n",
       " ' Mozzarella Cheese',\n",
       " ' Parmigiano Reggiano Cheese',\n",
       " ' Garlic',\n",
       " 'Chicken',\n",
       " ' Tomatoes',\n",
       " ' Red Peppers',\n",
       " ' Red Onions',\n",
       " ' Jalapeno Peppers',\n",
       " ' Corn',\n",
       " ' Cilantro',\n",
       " ' Chipotle Sauce',\n",
       " 'Ricotta Cheese',\n",
       " ' Gorgonzola Piccante Cheese',\n",
       " ' Mozzarella Cheese',\n",
       " ' Parmigiano Reggiano Cheese',\n",
       " ' Garlic',\n",
       " 'Spinach',\n",
       " ' Mushrooms',\n",
       " ' Tomatoes',\n",
       " ' Green Olives',\n",
       " ' Feta Cheese',\n",
       " 'Bacon',\n",
       " ' Pepperoni',\n",
       " ' Italian Sausage',\n",
       " ' Chorizo Sausage',\n",
       " 'Mozzarella Cheese',\n",
       " ' Provolone Cheese',\n",
       " ' Smoked Gouda Cheese',\n",
       " ' Romano Cheese',\n",
       " ' Blue Cheese',\n",
       " ' Garlic',\n",
       " 'Tomatoes',\n",
       " ' Red Peppers',\n",
       " ' Jalapeno Peppers',\n",
       " ' Red Onions',\n",
       " ' Cilantro',\n",
       " ' Corn',\n",
       " ' Chipotle Sauce',\n",
       " ' Garlic',\n",
       " 'Genoa Salami',\n",
       " ' Capocollo',\n",
       " ' Pepperoni',\n",
       " ' Tomatoes',\n",
       " ' Asiago Cheese',\n",
       " ' Garlic',\n",
       " 'Chicken',\n",
       " ' Red Onions',\n",
       " ' Red Peppers',\n",
       " ' Mushrooms',\n",
       " ' Asiago Cheese',\n",
       " ' Alfredo Sauce',\n",
       " 'Calabrese Salami',\n",
       " ' Capocollo',\n",
       " ' Tomatoes',\n",
       " ' Red Onions',\n",
       " ' Green Olives',\n",
       " ' Garlic',\n",
       " 'Genoa Salami',\n",
       " ' Capocollo',\n",
       " ' Pepperoni',\n",
       " ' Tomatoes',\n",
       " ' Asiago Cheese',\n",
       " ' Garlic',\n",
       " 'Spinach',\n",
       " ' Artichokes',\n",
       " ' Tomatoes',\n",
       " ' Sun-dried Tomatoes',\n",
       " ' Garlic',\n",
       " ' Pesto Sauce',\n",
       " 'Ricotta Cheese',\n",
       " ' Gorgonzola Piccante Cheese',\n",
       " ' Mozzarella Cheese',\n",
       " ' Parmigiano Reggiano Cheese',\n",
       " ' Garlic',\n",
       " 'Sliced Ham',\n",
       " ' Pineapple',\n",
       " ' Mozzarella Cheese',\n",
       " 'Chicken',\n",
       " ' Pineapple',\n",
       " ' Tomatoes',\n",
       " ' Red Peppers',\n",
       " ' Thai Sweet Chilli Sauce',\n",
       " 'Chicken',\n",
       " ' Tomatoes',\n",
       " ' Red Peppers',\n",
       " ' Spinach',\n",
       " ' Garlic',\n",
       " ' Pesto Sauce',\n",
       " 'Pepperoni',\n",
       " ' Mushrooms',\n",
       " ' Red Onions',\n",
       " ' Red Peppers',\n",
       " ' Bacon',\n",
       " 'Chicken',\n",
       " ' Pineapple',\n",
       " ' Tomatoes',\n",
       " ' Red Peppers',\n",
       " ' Thai Sweet Chilli Sauce',\n",
       " 'Chicken',\n",
       " ' Tomatoes',\n",
       " ' Red Peppers',\n",
       " ' Red Onions',\n",
       " ' Jalapeno Peppers',\n",
       " ' Corn',\n",
       " ' Cilantro',\n",
       " ' Chipotle Sauce',\n",
       " 'Mushrooms',\n",
       " ' Tomatoes',\n",
       " ' Red Peppers',\n",
       " ' Green Peppers',\n",
       " ' Red Onions',\n",
       " ' Zucchini',\n",
       " ' Spinach',\n",
       " ' Garlic',\n",
       " 'Chicken',\n",
       " ' Tomatoes',\n",
       " ' Red Peppers',\n",
       " ' Spinach',\n",
       " ' Garlic',\n",
       " ' Pesto Sauce',\n",
       " 'Spinach',\n",
       " ' Mushrooms',\n",
       " ' Tomatoes',\n",
       " ' Green Olives',\n",
       " ' Feta Cheese',\n",
       " 'Prosciutto di San Daniele',\n",
       " ' Arugula',\n",
       " ' Mozzarella Cheese',\n",
       " 'Capocollo',\n",
       " ' Tomatoes',\n",
       " ' Goat Cheese',\n",
       " ' Artichokes',\n",
       " ' Peperoncini verdi',\n",
       " ' Garlic',\n",
       " 'Coarse Sicilian Salami',\n",
       " ' Tomatoes',\n",
       " ' Green Olives',\n",
       " ' Luganega Sausage',\n",
       " ' Onions',\n",
       " ' Garlic',\n",
       " 'Kalamata Olives',\n",
       " ' Feta Cheese',\n",
       " ' Tomatoes',\n",
       " ' Garlic',\n",
       " ' Beef Chuck Roast',\n",
       " ' Red Onions',\n",
       " 'Barbecued Chicken',\n",
       " ' Red Peppers',\n",
       " ' Green Peppers',\n",
       " ' Tomatoes',\n",
       " ' Red Onions',\n",
       " ' Barbecue Sauce',\n",
       " 'Pepperoni',\n",
       " ' Mushrooms',\n",
       " ' Green Peppers',\n",
       " 'Sliced Ham',\n",
       " ' Pineapple',\n",
       " ' Mozzarella Cheese',\n",
       " 'Tomatoes',\n",
       " ' Red Peppers',\n",
       " ' Jalapeno Peppers',\n",
       " ' Red Onions',\n",
       " ' Cilantro',\n",
       " ' Corn',\n",
       " ' Chipotle Sauce',\n",
       " ' Garlic',\n",
       " 'Capocollo',\n",
       " ' Tomatoes',\n",
       " ' Goat Cheese',\n",
       " ' Artichokes',\n",
       " ' Peperoncini verdi',\n",
       " ' Garlic',\n",
       " 'Pepperoni',\n",
       " ' Mushrooms',\n",
       " ' Green Peppers',\n",
       " 'Spinach',\n",
       " ' Red Onions',\n",
       " ' Pepperoni',\n",
       " ' Tomatoes',\n",
       " ' Artichokes',\n",
       " ' Kalamata Olives',\n",
       " ' Garlic',\n",
       " ' Asiago Cheese',\n",
       " 'Prosciutto di San Daniele',\n",
       " ' Arugula',\n",
       " ' Mozzarella Cheese',\n",
       " 'Chicken',\n",
       " ' Pineapple',\n",
       " ' Tomatoes',\n",
       " ' Red Peppers',\n",
       " ' Thai Sweet Chilli Sauce',\n",
       " 'Genoa Salami',\n",
       " ' Capocollo',\n",
       " ' Pepperoni',\n",
       " ' Tomatoes',\n",
       " ' Asiago Cheese',\n",
       " ' Garlic',\n",
       " 'Capocollo',\n",
       " ' Tomatoes',\n",
       " ' Goat Cheese',\n",
       " ' Artichokes',\n",
       " ' Peperoncini verdi',\n",
       " ' Garlic',\n",
       " 'Pepperoni',\n",
       " ' Mushrooms',\n",
       " ' Red Onions',\n",
       " ' Red Peppers',\n",
       " ' Bacon',\n",
       " 'Spinach',\n",
       " ' Artichokes',\n",
       " ' Kalamata Olives',\n",
       " ' Sun-dried Tomatoes',\n",
       " ' Feta Cheese',\n",
       " ' Plum Tomatoes',\n",
       " ' Red Onions',\n",
       " 'Chicken',\n",
       " ' Tomatoes',\n",
       " ' Red Peppers',\n",
       " ' Red Onions',\n",
       " ' Jalapeno Peppers',\n",
       " ' Corn',\n",
       " ' Cilantro',\n",
       " ' Chipotle Sauce',\n",
       " 'Pepperoni',\n",
       " ' Mushrooms',\n",
       " ' Red Onions',\n",
       " ' Red Peppers',\n",
       " ' Bacon',\n",
       " 'Mozzarella Cheese',\n",
       " ' Provolone Cheese',\n",
       " ' Smoked Gouda Cheese',\n",
       " ' Romano Cheese',\n",
       " ' Blue Cheese',\n",
       " ' Garlic',\n",
       " 'Mozzarella Cheese',\n",
       " ' Pepperoni',\n",
       " 'Eggplant',\n",
       " ' Artichokes',\n",
       " ' Tomatoes',\n",
       " ' Zucchini',\n",
       " ' Red Peppers',\n",
       " ' Garlic',\n",
       " ' Pesto Sauce',\n",
       " 'Pepperoni',\n",
       " ' Mushrooms',\n",
       " ' Green Peppers',\n",
       " 'Mozzarella Cheese',\n",
       " ' Pepperoni',\n",
       " 'Chicken',\n",
       " ' Tomatoes',\n",
       " ' Red Peppers',\n",
       " ' Spinach',\n",
       " ' Garlic',\n",
       " ' Pesto Sauce',\n",
       " 'Ricotta Cheese',\n",
       " ' Gorgonzola Piccante Cheese',\n",
       " ' Mozzarella Cheese',\n",
       " ' Parmigiano Reggiano Cheese',\n",
       " ' Garlic',\n",
       " 'Barbecued Chicken',\n",
       " ' Red Peppers',\n",
       " ' Green Peppers',\n",
       " ' Tomatoes',\n",
       " ' Red Onions',\n",
       " ' Barbecue Sauce',\n",
       " 'Calabrese Salami',\n",
       " ' Capocollo',\n",
       " ' Tomatoes',\n",
       " ' Red Onions',\n",
       " ' Green Olives',\n",
       " ' Garlic',\n",
       " 'Barbecued Chicken',\n",
       " ' Red Peppers',\n",
       " ' Green Peppers',\n",
       " ' Tomatoes',\n",
       " ' Red Onions',\n",
       " ' Barbecue Sauce',\n",
       " 'Spinach',\n",
       " ' Red Onions',\n",
       " ' Pepperoni',\n",
       " ' Tomatoes',\n",
       " ' Artichokes',\n",
       " ' Kalamata Olives',\n",
       " ' Garlic',\n",
       " ' Asiago Cheese',\n",
       " 'Pepperoni',\n",
       " ' Mushrooms',\n",
       " ' Green Peppers',\n",
       " 'Bacon',\n",
       " ' Pepperoni',\n",
       " ' Italian Sausage',\n",
       " ' Chorizo Sausage',\n",
       " 'Pepperoni',\n",
       " ' Mushrooms',\n",
       " ' Green Peppers',\n",
       " 'Coarse Sicilian Salami',\n",
       " ' Tomatoes',\n",
       " ' Green Olives',\n",
       " ' Luganega Sausage',\n",
       " ' Onions',\n",
       " ' Garlic',\n",
       " 'Capocollo',\n",
       " ' Tomatoes',\n",
       " ' Goat Cheese',\n",
       " ' Artichokes',\n",
       " ' Peperoncini verdi',\n",
       " ' Garlic',\n",
       " 'Spinach',\n",
       " ' Red Onions',\n",
       " ' Pepperoni',\n",
       " ' Tomatoes',\n",
       " ' Artichokes',\n",
       " ' Kalamata Olives',\n",
       " ' Garlic',\n",
       " ' Asiago Cheese',\n",
       " 'Pepperoni',\n",
       " ' Mushrooms',\n",
       " ' Red Onions',\n",
       " ' Red Peppers',\n",
       " ' Bacon',\n",
       " 'Capocollo',\n",
       " ' Red Peppers',\n",
       " ' Tomatoes',\n",
       " ' Goat Cheese',\n",
       " ' Garlic',\n",
       " ' Oregano',\n",
       " 'Chicken',\n",
       " ' Tomatoes',\n",
       " ' Red Peppers',\n",
       " ' Red Onions',\n",
       " ' Jalapeno Peppers',\n",
       " ' Corn',\n",
       " ' Cilantro',\n",
       " ' Chipotle Sauce',\n",
       " 'Pepperoni',\n",
       " ' Mushrooms',\n",
       " ' Red Onions',\n",
       " ' Red Peppers',\n",
       " ' Bacon',\n",
       " 'Calabrese Salami',\n",
       " ' Capocollo',\n",
       " ' Tomatoes',\n",
       " ' Red Onions',\n",
       " ' Green Olives',\n",
       " ' Garlic',\n",
       " 'Calabrese Salami',\n",
       " ' Capocollo',\n",
       " ' Tomatoes',\n",
       " ' Red Onions',\n",
       " ' Green Olives',\n",
       " ' Garlic',\n",
       " 'Barbecued Chicken',\n",
       " ' Red Peppers',\n",
       " ' Green Peppers',\n",
       " ' Tomatoes',\n",
       " ' Red Onions',\n",
       " ' Barbecue Sauce',\n",
       " 'Eggplant',\n",
       " ' Artichokes',\n",
       " ' Tomatoes',\n",
       " ' Zucchini',\n",
       " ' Red Peppers',\n",
       " ' Garlic',\n",
       " ' Pesto Sauce',\n",
       " 'Soppressata Salami',\n",
       " ' Fontina Cheese',\n",
       " ' Mozzarella Cheese',\n",
       " ' Mushrooms',\n",
       " ' Garlic',\n",
       " 'Chicken',\n",
       " ' Pineapple',\n",
       " ' Tomatoes',\n",
       " ' Red Peppers',\n",
       " ' Thai Sweet Chilli Sauce',\n",
       " 'Spinach',\n",
       " ' Mushrooms',\n",
       " ' Red Onions',\n",
       " ' Feta Cheese',\n",
       " ' Garlic',\n",
       " 'Chicken',\n",
       " ' Pineapple',\n",
       " ' Tomatoes',\n",
       " ' Red Peppers',\n",
       " ' Thai Sweet Chilli Sauce',\n",
       " 'Mozzarella Cheese',\n",
       " ' Provolone Cheese',\n",
       " ' Smoked Gouda Cheese',\n",
       " ' Romano Cheese',\n",
       " ' Blue Cheese',\n",
       " ' Garlic',\n",
       " 'Tomatoes',\n",
       " ' Red Peppers',\n",
       " ' Jalapeno Peppers',\n",
       " ' Red Onions',\n",
       " ' Cilantro',\n",
       " ' Corn',\n",
       " ' Chipotle Sauce',\n",
       " ' Garlic',\n",
       " 'Spinach',\n",
       " ' Artichokes',\n",
       " ' Tomatoes',\n",
       " ' Sun-dried Tomatoes',\n",
       " ' Garlic',\n",
       " ' Pesto Sauce',\n",
       " 'Spinach',\n",
       " ' Red Onions',\n",
       " ' Pepperoni',\n",
       " ' Tomatoes',\n",
       " ' Artichokes',\n",
       " ' Kalamata Olives',\n",
       " ' Garlic',\n",
       " ' Asiago Cheese',\n",
       " 'Calabrese Salami',\n",
       " ' Capocollo',\n",
       " ' Tomatoes',\n",
       " ' Red Onions',\n",
       " ' Green Olives',\n",
       " ' Garlic',\n",
       " 'Spinach',\n",
       " ' Artichokes',\n",
       " ' Kalamata Olives',\n",
       " ' Sun-dried Tomatoes',\n",
       " ' Feta Cheese',\n",
       " ' Plum Tomatoes',\n",
       " ' Red Onions',\n",
       " 'Tomatoes',\n",
       " ' Anchovies',\n",
       " ' Green Olives',\n",
       " ' Red Onions',\n",
       " ' Garlic',\n",
       " 'Bacon',\n",
       " ' Pepperoni',\n",
       " ' Italian Sausage',\n",
       " ' Chorizo Sausage',\n",
       " 'Sliced Ham',\n",
       " ' Pineapple',\n",
       " ' Mozzarella Cheese',\n",
       " 'Eggplant',\n",
       " ' Artichokes',\n",
       " ' Tomatoes',\n",
       " ' Zucchini',\n",
       " ' Red Peppers',\n",
       " ' Garlic',\n",
       " ' Pesto Sauce',\n",
       " 'Capocollo',\n",
       " ' Tomatoes',\n",
       " ' Goat Cheese',\n",
       " ...]"
      ]
     },
     "execution_count": 124,
     "metadata": {},
     "output_type": "execute_result"
    }
   ],
   "source": [
    "toppings_list = [t for tt in toppings for t in tt.split(',')]\n",
    "toppings_list"
   ]
  },
  {
   "cell_type": "code",
   "execution_count": 125,
   "id": "e2ac7eaf",
   "metadata": {
    "ExecuteTime": {
     "end_time": "2022-11-29T15:55:25.894927Z",
     "start_time": "2022-11-29T15:55:25.762026Z"
    }
   },
   "outputs": [
    {
     "data": {
      "text/plain": [
       "['SlicedHam',\n",
       " 'Pineapple',\n",
       " 'MozzarellaCheese',\n",
       " 'Pepperoni',\n",
       " 'Mushrooms',\n",
       " 'RedOnions',\n",
       " 'RedPeppers',\n",
       " 'Bacon',\n",
       " 'MozzarellaCheese',\n",
       " 'ProvoloneCheese',\n",
       " 'SmokedGoudaCheese',\n",
       " 'RomanoCheese',\n",
       " 'BlueCheese',\n",
       " 'Garlic',\n",
       " 'CalabreseSalami',\n",
       " 'Capocollo',\n",
       " 'Tomatoes',\n",
       " 'RedOnions',\n",
       " 'GreenOlives',\n",
       " 'Garlic',\n",
       " 'Tomatoes',\n",
       " 'RedPeppers',\n",
       " 'JalapenoPeppers',\n",
       " 'RedOnions',\n",
       " 'Cilantro',\n",
       " 'Corn',\n",
       " 'ChipotleSauce',\n",
       " 'Garlic',\n",
       " 'Chicken',\n",
       " 'Pineapple',\n",
       " 'Tomatoes',\n",
       " 'RedPeppers',\n",
       " 'ThaiSweetChilliSauce',\n",
       " 'CalabreseSalami',\n",
       " 'Capocollo',\n",
       " 'Tomatoes',\n",
       " 'RedOnions',\n",
       " 'GreenOlives',\n",
       " 'Garlic',\n",
       " 'ProsciuttodiSanDaniele',\n",
       " 'Arugula',\n",
       " 'MozzarellaCheese',\n",
       " 'CalabreseSalami',\n",
       " 'Capocollo',\n",
       " 'Tomatoes',\n",
       " 'RedOnions',\n",
       " 'GreenOlives',\n",
       " 'Garlic',\n",
       " 'CalabreseSalami',\n",
       " 'Capocollo',\n",
       " 'Tomatoes',\n",
       " 'RedOnions',\n",
       " 'GreenOlives',\n",
       " 'Garlic',\n",
       " 'BarbecuedChicken',\n",
       " 'RedPeppers',\n",
       " 'GreenPeppers',\n",
       " 'Tomatoes',\n",
       " 'RedOnions',\n",
       " 'BarbecueSauce',\n",
       " 'KalamataOlives',\n",
       " 'FetaCheese',\n",
       " 'Tomatoes',\n",
       " 'Garlic',\n",
       " 'BeefChuckRoast',\n",
       " 'RedOnions',\n",
       " 'Spinach',\n",
       " 'RedOnions',\n",
       " 'Pepperoni',\n",
       " 'Tomatoes',\n",
       " 'Artichokes',\n",
       " 'KalamataOlives',\n",
       " 'Garlic',\n",
       " 'AsiagoCheese',\n",
       " 'Spinach',\n",
       " 'RedOnions',\n",
       " 'Pepperoni',\n",
       " 'Tomatoes',\n",
       " 'Artichokes',\n",
       " 'KalamataOlives',\n",
       " 'Garlic',\n",
       " 'AsiagoCheese',\n",
       " 'Pepperoni',\n",
       " 'Mushrooms',\n",
       " 'RedOnions',\n",
       " 'RedPeppers',\n",
       " 'Bacon',\n",
       " 'Spinach',\n",
       " 'Mushrooms',\n",
       " 'Tomatoes',\n",
       " 'GreenOlives',\n",
       " 'FetaCheese',\n",
       " 'Capocollo',\n",
       " 'RedPeppers',\n",
       " 'Tomatoes',\n",
       " 'GoatCheese',\n",
       " 'Garlic',\n",
       " 'Oregano',\n",
       " 'CalabreseSalami',\n",
       " 'Capocollo',\n",
       " 'Tomatoes',\n",
       " 'RedOnions',\n",
       " 'GreenOlives',\n",
       " 'Garlic',\n",
       " 'CalabreseSalami',\n",
       " 'Capocollo',\n",
       " 'Tomatoes',\n",
       " 'RedOnions',\n",
       " 'GreenOlives',\n",
       " 'Garlic',\n",
       " 'Tomatoes',\n",
       " 'RedPeppers',\n",
       " 'JalapenoPeppers',\n",
       " 'RedOnions',\n",
       " 'Cilantro',\n",
       " 'Corn',\n",
       " 'ChipotleSauce',\n",
       " 'Garlic',\n",
       " 'Capocollo',\n",
       " 'Tomatoes',\n",
       " 'GoatCheese',\n",
       " 'Artichokes',\n",
       " 'Peperonciniverdi',\n",
       " 'Garlic',\n",
       " 'Spinach',\n",
       " 'Artichokes',\n",
       " 'Tomatoes',\n",
       " 'Sun-driedTomatoes',\n",
       " 'Garlic',\n",
       " 'PestoSauce',\n",
       " 'Mushrooms',\n",
       " 'Tomatoes',\n",
       " 'RedPeppers',\n",
       " 'GreenPeppers',\n",
       " 'RedOnions',\n",
       " 'Zucchini',\n",
       " 'Spinach',\n",
       " 'Garlic',\n",
       " 'Tomatoes',\n",
       " 'RedPeppers',\n",
       " 'JalapenoPeppers',\n",
       " 'RedOnions',\n",
       " 'Cilantro',\n",
       " 'Corn',\n",
       " 'ChipotleSauce',\n",
       " 'Garlic',\n",
       " 'Chicken',\n",
       " 'Tomatoes',\n",
       " 'RedPeppers',\n",
       " 'RedOnions',\n",
       " 'JalapenoPeppers',\n",
       " 'Corn',\n",
       " 'Cilantro',\n",
       " 'ChipotleSauce',\n",
       " 'BarbecuedChicken',\n",
       " 'RedPeppers',\n",
       " 'GreenPeppers',\n",
       " 'Tomatoes',\n",
       " 'RedOnions',\n",
       " 'BarbecueSauce',\n",
       " 'Chicken',\n",
       " 'Artichoke',\n",
       " 'Spinach',\n",
       " 'Garlic',\n",
       " 'JalapenoPeppers',\n",
       " 'FontinaCheese',\n",
       " 'GoudaCheese',\n",
       " 'Chicken',\n",
       " 'Artichoke',\n",
       " 'Spinach',\n",
       " 'Garlic',\n",
       " 'JalapenoPeppers',\n",
       " 'FontinaCheese',\n",
       " 'GoudaCheese',\n",
       " 'MozzarellaCheese',\n",
       " 'Pepperoni',\n",
       " 'Chicken',\n",
       " 'Artichoke',\n",
       " 'Spinach',\n",
       " 'Garlic',\n",
       " 'JalapenoPeppers',\n",
       " 'FontinaCheese',\n",
       " 'GoudaCheese',\n",
       " 'Chicken',\n",
       " 'Artichoke',\n",
       " 'Spinach',\n",
       " 'Garlic',\n",
       " 'JalapenoPeppers',\n",
       " 'FontinaCheese',\n",
       " 'GoudaCheese',\n",
       " 'Chicken',\n",
       " 'Tomatoes',\n",
       " 'RedPeppers',\n",
       " 'Spinach',\n",
       " 'Garlic',\n",
       " 'PestoSauce',\n",
       " 'CalabreseSalami',\n",
       " 'Capocollo',\n",
       " 'Tomatoes',\n",
       " 'RedOnions',\n",
       " 'GreenOlives',\n",
       " 'Garlic',\n",
       " 'Tomatoes',\n",
       " 'RedPeppers',\n",
       " 'JalapenoPeppers',\n",
       " 'RedOnions',\n",
       " 'Cilantro',\n",
       " 'Corn',\n",
       " 'ChipotleSauce',\n",
       " 'Garlic',\n",
       " 'KalamataOlives',\n",
       " 'FetaCheese',\n",
       " 'Tomatoes',\n",
       " 'Garlic',\n",
       " 'BeefChuckRoast',\n",
       " 'RedOnions',\n",
       " 'Bacon',\n",
       " 'Pepperoni',\n",
       " 'ItalianSausage',\n",
       " 'ChorizoSausage',\n",
       " 'MozzarellaCheese',\n",
       " 'ProvoloneCheese',\n",
       " 'SmokedGoudaCheese',\n",
       " 'RomanoCheese',\n",
       " 'BlueCheese',\n",
       " 'Garlic',\n",
       " 'SoppressataSalami',\n",
       " 'FontinaCheese',\n",
       " 'MozzarellaCheese',\n",
       " 'Mushrooms',\n",
       " 'Garlic',\n",
       " 'KalamataOlives',\n",
       " 'FetaCheese',\n",
       " 'Tomatoes',\n",
       " 'Garlic',\n",
       " 'BeefChuckRoast',\n",
       " 'RedOnions',\n",
       " 'RicottaCheese',\n",
       " 'GorgonzolaPiccanteCheese',\n",
       " 'MozzarellaCheese',\n",
       " 'ParmigianoReggianoCheese',\n",
       " 'Garlic',\n",
       " 'Tomatoes',\n",
       " 'Anchovies',\n",
       " 'GreenOlives',\n",
       " 'RedOnions',\n",
       " 'Garlic',\n",
       " 'Chicken',\n",
       " 'Pineapple',\n",
       " 'Tomatoes',\n",
       " 'RedPeppers',\n",
       " 'ThaiSweetChilliSauce',\n",
       " 'BarbecuedChicken',\n",
       " 'RedPeppers',\n",
       " 'GreenPeppers',\n",
       " 'Tomatoes',\n",
       " 'RedOnions',\n",
       " 'BarbecueSauce',\n",
       " 'NdujaSalami',\n",
       " 'Pancetta',\n",
       " 'Tomatoes',\n",
       " 'RedOnions',\n",
       " 'FriggitelloPeppers',\n",
       " 'Garlic',\n",
       " 'MozzarellaCheese',\n",
       " 'ProvoloneCheese',\n",
       " 'SmokedGoudaCheese',\n",
       " 'RomanoCheese',\n",
       " 'BlueCheese',\n",
       " 'Garlic',\n",
       " 'RicottaCheese',\n",
       " 'GorgonzolaPiccanteCheese',\n",
       " 'MozzarellaCheese',\n",
       " 'ParmigianoReggianoCheese',\n",
       " 'Garlic',\n",
       " 'CalabreseSalami',\n",
       " 'Capocollo',\n",
       " 'Tomatoes',\n",
       " 'RedOnions',\n",
       " 'GreenOlives',\n",
       " 'Garlic',\n",
       " 'Eggplant',\n",
       " 'Artichokes',\n",
       " 'Tomatoes',\n",
       " 'Zucchini',\n",
       " 'RedPeppers',\n",
       " 'Garlic',\n",
       " 'PestoSauce',\n",
       " 'Spinach',\n",
       " 'Artichokes',\n",
       " 'KalamataOlives',\n",
       " 'Sun-driedTomatoes',\n",
       " 'FetaCheese',\n",
       " 'PlumTomatoes',\n",
       " 'RedOnions',\n",
       " 'Tomatoes',\n",
       " 'RedPeppers',\n",
       " 'JalapenoPeppers',\n",
       " 'RedOnions',\n",
       " 'Cilantro',\n",
       " 'Corn',\n",
       " 'ChipotleSauce',\n",
       " 'Garlic',\n",
       " 'GenoaSalami',\n",
       " 'Capocollo',\n",
       " 'Pepperoni',\n",
       " 'Tomatoes',\n",
       " 'AsiagoCheese',\n",
       " 'Garlic',\n",
       " 'Spinach',\n",
       " 'Mushrooms',\n",
       " 'RedOnions',\n",
       " 'FetaCheese',\n",
       " 'Garlic',\n",
       " 'Tomatoes',\n",
       " 'Anchovies',\n",
       " 'GreenOlives',\n",
       " 'RedOnions',\n",
       " 'Garlic',\n",
       " 'Capocollo',\n",
       " 'RedPeppers',\n",
       " 'Tomatoes',\n",
       " 'GoatCheese',\n",
       " 'Garlic',\n",
       " 'Oregano',\n",
       " 'CoarseSicilianSalami',\n",
       " 'Tomatoes',\n",
       " 'GreenOlives',\n",
       " 'LuganegaSausage',\n",
       " 'Onions',\n",
       " 'Garlic',\n",
       " 'Bacon',\n",
       " 'Pepperoni',\n",
       " 'ItalianSausage',\n",
       " 'ChorizoSausage',\n",
       " 'MozzarellaCheese',\n",
       " 'ProvoloneCheese',\n",
       " 'SmokedGoudaCheese',\n",
       " 'RomanoCheese',\n",
       " 'BlueCheese',\n",
       " 'Garlic',\n",
       " 'Capocollo',\n",
       " 'RedPeppers',\n",
       " 'Tomatoes',\n",
       " 'GoatCheese',\n",
       " 'Garlic',\n",
       " 'Oregano',\n",
       " 'MozzarellaCheese',\n",
       " 'ProvoloneCheese',\n",
       " 'SmokedGoudaCheese',\n",
       " 'RomanoCheese',\n",
       " 'BlueCheese',\n",
       " 'Garlic',\n",
       " 'Capocollo',\n",
       " 'RedPeppers',\n",
       " 'Tomatoes',\n",
       " 'GoatCheese',\n",
       " 'Garlic',\n",
       " 'Oregano',\n",
       " 'Chicken',\n",
       " 'Tomatoes',\n",
       " 'RedPeppers',\n",
       " 'RedOnions',\n",
       " 'JalapenoPeppers',\n",
       " 'Corn',\n",
       " 'Cilantro',\n",
       " 'ChipotleSauce',\n",
       " 'Chicken',\n",
       " 'Tomatoes',\n",
       " 'RedPeppers',\n",
       " 'RedOnions',\n",
       " 'JalapenoPeppers',\n",
       " 'Corn',\n",
       " 'Cilantro',\n",
       " 'ChipotleSauce',\n",
       " 'BarbecuedChicken',\n",
       " 'RedPeppers',\n",
       " 'GreenPeppers',\n",
       " 'Tomatoes',\n",
       " 'RedOnions',\n",
       " 'BarbecueSauce',\n",
       " 'Capocollo',\n",
       " 'RedPeppers',\n",
       " 'Tomatoes',\n",
       " 'GoatCheese',\n",
       " 'Garlic',\n",
       " 'Oregano',\n",
       " 'MozzarellaCheese',\n",
       " 'Pepperoni',\n",
       " 'ProsciuttodiSanDaniele',\n",
       " 'Arugula',\n",
       " 'MozzarellaCheese',\n",
       " 'CoarseSicilianSalami',\n",
       " 'Tomatoes',\n",
       " 'GreenOlives',\n",
       " 'LuganegaSausage',\n",
       " 'Onions',\n",
       " 'Garlic',\n",
       " 'Chicken',\n",
       " 'Pineapple',\n",
       " 'Tomatoes',\n",
       " 'RedPeppers',\n",
       " 'ThaiSweetChilliSauce',\n",
       " 'Pepperoni',\n",
       " 'Mushrooms',\n",
       " 'RedOnions',\n",
       " 'RedPeppers',\n",
       " 'Bacon',\n",
       " 'Mushrooms',\n",
       " 'Tomatoes',\n",
       " 'RedPeppers',\n",
       " 'GreenPeppers',\n",
       " 'RedOnions',\n",
       " 'Zucchini',\n",
       " 'Spinach',\n",
       " 'Garlic',\n",
       " 'BarbecuedChicken',\n",
       " 'RedPeppers',\n",
       " 'GreenPeppers',\n",
       " 'Tomatoes',\n",
       " 'RedOnions',\n",
       " 'BarbecueSauce',\n",
       " 'Pepperoni',\n",
       " 'Mushrooms',\n",
       " 'RedOnions',\n",
       " 'RedPeppers',\n",
       " 'Bacon',\n",
       " 'Spinach',\n",
       " 'Mushrooms',\n",
       " 'RedOnions',\n",
       " 'FetaCheese',\n",
       " 'Garlic',\n",
       " 'Chicken',\n",
       " 'RedOnions',\n",
       " 'RedPeppers',\n",
       " 'Mushrooms',\n",
       " 'AsiagoCheese',\n",
       " 'AlfredoSauce',\n",
       " 'Spinach',\n",
       " 'Mushrooms',\n",
       " 'Tomatoes',\n",
       " 'GreenOlives',\n",
       " 'FetaCheese',\n",
       " 'Chicken',\n",
       " 'Pineapple',\n",
       " 'Tomatoes',\n",
       " 'RedPeppers',\n",
       " 'ThaiSweetChilliSauce',\n",
       " 'Tomatoes',\n",
       " 'RedPeppers',\n",
       " 'JalapenoPeppers',\n",
       " 'RedOnions',\n",
       " 'Cilantro',\n",
       " 'Corn',\n",
       " 'ChipotleSauce',\n",
       " 'Garlic',\n",
       " 'MozzarellaCheese',\n",
       " 'Pepperoni',\n",
       " 'Bacon',\n",
       " 'Pepperoni',\n",
       " 'ItalianSausage',\n",
       " 'ChorizoSausage',\n",
       " 'Spinach',\n",
       " 'Mushrooms',\n",
       " 'Tomatoes',\n",
       " 'GreenOlives',\n",
       " 'FetaCheese',\n",
       " 'Capocollo',\n",
       " 'RedPeppers',\n",
       " 'Tomatoes',\n",
       " 'GoatCheese',\n",
       " 'Garlic',\n",
       " 'Oregano',\n",
       " 'CalabreseSalami',\n",
       " 'Capocollo',\n",
       " 'Tomatoes',\n",
       " 'RedOnions',\n",
       " 'GreenOlives',\n",
       " 'Garlic',\n",
       " 'BarbecuedChicken',\n",
       " 'RedPeppers',\n",
       " 'GreenPeppers',\n",
       " 'Tomatoes',\n",
       " 'RedOnions',\n",
       " 'BarbecueSauce',\n",
       " 'Spinach',\n",
       " 'Mushrooms',\n",
       " 'Tomatoes',\n",
       " 'GreenOlives',\n",
       " 'FetaCheese',\n",
       " 'KalamataOlives',\n",
       " 'FetaCheese',\n",
       " 'Tomatoes',\n",
       " 'Garlic',\n",
       " 'BeefChuckRoast',\n",
       " 'RedOnions',\n",
       " 'Spinach',\n",
       " 'Mushrooms',\n",
       " 'Tomatoes',\n",
       " 'GreenOlives',\n",
       " 'FetaCheese',\n",
       " 'Pepperoni',\n",
       " 'Mushrooms',\n",
       " 'GreenPeppers',\n",
       " 'MozzarellaCheese',\n",
       " 'Pepperoni',\n",
       " 'Chicken',\n",
       " 'Pineapple',\n",
       " 'Tomatoes',\n",
       " 'RedPeppers',\n",
       " 'ThaiSweetChilliSauce',\n",
       " 'BarbecuedChicken',\n",
       " 'RedPeppers',\n",
       " 'GreenPeppers',\n",
       " 'Tomatoes',\n",
       " 'RedOnions',\n",
       " 'BarbecueSauce',\n",
       " 'Pepperoni',\n",
       " 'Mushrooms',\n",
       " 'RedOnions',\n",
       " 'RedPeppers',\n",
       " 'Bacon',\n",
       " 'CalabreseSalami',\n",
       " 'Capocollo',\n",
       " 'Tomatoes',\n",
       " 'RedOnions',\n",
       " 'GreenOlives',\n",
       " 'Garlic',\n",
       " 'Tomatoes',\n",
       " 'RedPeppers',\n",
       " 'JalapenoPeppers',\n",
       " 'RedOnions',\n",
       " 'Cilantro',\n",
       " 'Corn',\n",
       " 'ChipotleSauce',\n",
       " 'Garlic',\n",
       " 'SlicedHam',\n",
       " 'Pineapple',\n",
       " 'MozzarellaCheese',\n",
       " 'Capocollo',\n",
       " 'RedPeppers',\n",
       " 'Tomatoes',\n",
       " 'GoatCheese',\n",
       " 'Garlic',\n",
       " 'Oregano',\n",
       " 'CalabreseSalami',\n",
       " 'Capocollo',\n",
       " 'Tomatoes',\n",
       " 'RedOnions',\n",
       " 'GreenOlives',\n",
       " 'Garlic',\n",
       " 'RicottaCheese',\n",
       " 'GorgonzolaPiccanteCheese',\n",
       " 'MozzarellaCheese',\n",
       " 'ParmigianoReggianoCheese',\n",
       " 'Garlic',\n",
       " 'Chicken',\n",
       " 'Tomatoes',\n",
       " 'RedPeppers',\n",
       " 'RedOnions',\n",
       " 'JalapenoPeppers',\n",
       " 'Corn',\n",
       " 'Cilantro',\n",
       " 'ChipotleSauce',\n",
       " 'RicottaCheese',\n",
       " 'GorgonzolaPiccanteCheese',\n",
       " 'MozzarellaCheese',\n",
       " 'ParmigianoReggianoCheese',\n",
       " 'Garlic',\n",
       " 'Spinach',\n",
       " 'Mushrooms',\n",
       " 'Tomatoes',\n",
       " 'GreenOlives',\n",
       " 'FetaCheese',\n",
       " 'Bacon',\n",
       " 'Pepperoni',\n",
       " 'ItalianSausage',\n",
       " 'ChorizoSausage',\n",
       " 'MozzarellaCheese',\n",
       " 'ProvoloneCheese',\n",
       " 'SmokedGoudaCheese',\n",
       " 'RomanoCheese',\n",
       " 'BlueCheese',\n",
       " 'Garlic',\n",
       " 'Tomatoes',\n",
       " 'RedPeppers',\n",
       " 'JalapenoPeppers',\n",
       " 'RedOnions',\n",
       " 'Cilantro',\n",
       " 'Corn',\n",
       " 'ChipotleSauce',\n",
       " 'Garlic',\n",
       " 'GenoaSalami',\n",
       " 'Capocollo',\n",
       " 'Pepperoni',\n",
       " 'Tomatoes',\n",
       " 'AsiagoCheese',\n",
       " 'Garlic',\n",
       " 'Chicken',\n",
       " 'RedOnions',\n",
       " 'RedPeppers',\n",
       " 'Mushrooms',\n",
       " 'AsiagoCheese',\n",
       " 'AlfredoSauce',\n",
       " 'CalabreseSalami',\n",
       " 'Capocollo',\n",
       " 'Tomatoes',\n",
       " 'RedOnions',\n",
       " 'GreenOlives',\n",
       " 'Garlic',\n",
       " 'GenoaSalami',\n",
       " 'Capocollo',\n",
       " 'Pepperoni',\n",
       " 'Tomatoes',\n",
       " 'AsiagoCheese',\n",
       " 'Garlic',\n",
       " 'Spinach',\n",
       " 'Artichokes',\n",
       " 'Tomatoes',\n",
       " 'Sun-driedTomatoes',\n",
       " 'Garlic',\n",
       " 'PestoSauce',\n",
       " 'RicottaCheese',\n",
       " 'GorgonzolaPiccanteCheese',\n",
       " 'MozzarellaCheese',\n",
       " 'ParmigianoReggianoCheese',\n",
       " 'Garlic',\n",
       " 'SlicedHam',\n",
       " 'Pineapple',\n",
       " 'MozzarellaCheese',\n",
       " 'Chicken',\n",
       " 'Pineapple',\n",
       " 'Tomatoes',\n",
       " 'RedPeppers',\n",
       " 'ThaiSweetChilliSauce',\n",
       " 'Chicken',\n",
       " 'Tomatoes',\n",
       " 'RedPeppers',\n",
       " 'Spinach',\n",
       " 'Garlic',\n",
       " 'PestoSauce',\n",
       " 'Pepperoni',\n",
       " 'Mushrooms',\n",
       " 'RedOnions',\n",
       " 'RedPeppers',\n",
       " 'Bacon',\n",
       " 'Chicken',\n",
       " 'Pineapple',\n",
       " 'Tomatoes',\n",
       " 'RedPeppers',\n",
       " 'ThaiSweetChilliSauce',\n",
       " 'Chicken',\n",
       " 'Tomatoes',\n",
       " 'RedPeppers',\n",
       " 'RedOnions',\n",
       " 'JalapenoPeppers',\n",
       " 'Corn',\n",
       " 'Cilantro',\n",
       " 'ChipotleSauce',\n",
       " 'Mushrooms',\n",
       " 'Tomatoes',\n",
       " 'RedPeppers',\n",
       " 'GreenPeppers',\n",
       " 'RedOnions',\n",
       " 'Zucchini',\n",
       " 'Spinach',\n",
       " 'Garlic',\n",
       " 'Chicken',\n",
       " 'Tomatoes',\n",
       " 'RedPeppers',\n",
       " 'Spinach',\n",
       " 'Garlic',\n",
       " 'PestoSauce',\n",
       " 'Spinach',\n",
       " 'Mushrooms',\n",
       " 'Tomatoes',\n",
       " 'GreenOlives',\n",
       " 'FetaCheese',\n",
       " 'ProsciuttodiSanDaniele',\n",
       " 'Arugula',\n",
       " 'MozzarellaCheese',\n",
       " 'Capocollo',\n",
       " 'Tomatoes',\n",
       " 'GoatCheese',\n",
       " 'Artichokes',\n",
       " 'Peperonciniverdi',\n",
       " 'Garlic',\n",
       " 'CoarseSicilianSalami',\n",
       " 'Tomatoes',\n",
       " 'GreenOlives',\n",
       " 'LuganegaSausage',\n",
       " 'Onions',\n",
       " 'Garlic',\n",
       " 'KalamataOlives',\n",
       " 'FetaCheese',\n",
       " 'Tomatoes',\n",
       " 'Garlic',\n",
       " 'BeefChuckRoast',\n",
       " 'RedOnions',\n",
       " 'BarbecuedChicken',\n",
       " 'RedPeppers',\n",
       " 'GreenPeppers',\n",
       " 'Tomatoes',\n",
       " 'RedOnions',\n",
       " 'BarbecueSauce',\n",
       " 'Pepperoni',\n",
       " 'Mushrooms',\n",
       " 'GreenPeppers',\n",
       " 'SlicedHam',\n",
       " 'Pineapple',\n",
       " 'MozzarellaCheese',\n",
       " 'Tomatoes',\n",
       " 'RedPeppers',\n",
       " 'JalapenoPeppers',\n",
       " 'RedOnions',\n",
       " 'Cilantro',\n",
       " 'Corn',\n",
       " 'ChipotleSauce',\n",
       " 'Garlic',\n",
       " 'Capocollo',\n",
       " 'Tomatoes',\n",
       " 'GoatCheese',\n",
       " 'Artichokes',\n",
       " 'Peperonciniverdi',\n",
       " 'Garlic',\n",
       " 'Pepperoni',\n",
       " 'Mushrooms',\n",
       " 'GreenPeppers',\n",
       " 'Spinach',\n",
       " 'RedOnions',\n",
       " 'Pepperoni',\n",
       " 'Tomatoes',\n",
       " 'Artichokes',\n",
       " 'KalamataOlives',\n",
       " 'Garlic',\n",
       " 'AsiagoCheese',\n",
       " 'ProsciuttodiSanDaniele',\n",
       " 'Arugula',\n",
       " 'MozzarellaCheese',\n",
       " 'Chicken',\n",
       " 'Pineapple',\n",
       " 'Tomatoes',\n",
       " 'RedPeppers',\n",
       " 'ThaiSweetChilliSauce',\n",
       " 'GenoaSalami',\n",
       " 'Capocollo',\n",
       " 'Pepperoni',\n",
       " 'Tomatoes',\n",
       " 'AsiagoCheese',\n",
       " 'Garlic',\n",
       " 'Capocollo',\n",
       " 'Tomatoes',\n",
       " 'GoatCheese',\n",
       " 'Artichokes',\n",
       " 'Peperonciniverdi',\n",
       " 'Garlic',\n",
       " 'Pepperoni',\n",
       " 'Mushrooms',\n",
       " 'RedOnions',\n",
       " 'RedPeppers',\n",
       " 'Bacon',\n",
       " 'Spinach',\n",
       " 'Artichokes',\n",
       " 'KalamataOlives',\n",
       " 'Sun-driedTomatoes',\n",
       " 'FetaCheese',\n",
       " 'PlumTomatoes',\n",
       " 'RedOnions',\n",
       " 'Chicken',\n",
       " 'Tomatoes',\n",
       " 'RedPeppers',\n",
       " 'RedOnions',\n",
       " 'JalapenoPeppers',\n",
       " 'Corn',\n",
       " 'Cilantro',\n",
       " 'ChipotleSauce',\n",
       " 'Pepperoni',\n",
       " 'Mushrooms',\n",
       " 'RedOnions',\n",
       " 'RedPeppers',\n",
       " 'Bacon',\n",
       " 'MozzarellaCheese',\n",
       " 'ProvoloneCheese',\n",
       " 'SmokedGoudaCheese',\n",
       " 'RomanoCheese',\n",
       " 'BlueCheese',\n",
       " 'Garlic',\n",
       " 'MozzarellaCheese',\n",
       " 'Pepperoni',\n",
       " 'Eggplant',\n",
       " 'Artichokes',\n",
       " 'Tomatoes',\n",
       " 'Zucchini',\n",
       " 'RedPeppers',\n",
       " 'Garlic',\n",
       " 'PestoSauce',\n",
       " 'Pepperoni',\n",
       " 'Mushrooms',\n",
       " 'GreenPeppers',\n",
       " 'MozzarellaCheese',\n",
       " 'Pepperoni',\n",
       " 'Chicken',\n",
       " 'Tomatoes',\n",
       " 'RedPeppers',\n",
       " 'Spinach',\n",
       " 'Garlic',\n",
       " 'PestoSauce',\n",
       " 'RicottaCheese',\n",
       " 'GorgonzolaPiccanteCheese',\n",
       " 'MozzarellaCheese',\n",
       " 'ParmigianoReggianoCheese',\n",
       " 'Garlic',\n",
       " 'BarbecuedChicken',\n",
       " 'RedPeppers',\n",
       " 'GreenPeppers',\n",
       " 'Tomatoes',\n",
       " 'RedOnions',\n",
       " 'BarbecueSauce',\n",
       " 'CalabreseSalami',\n",
       " 'Capocollo',\n",
       " 'Tomatoes',\n",
       " 'RedOnions',\n",
       " 'GreenOlives',\n",
       " 'Garlic',\n",
       " 'BarbecuedChicken',\n",
       " 'RedPeppers',\n",
       " 'GreenPeppers',\n",
       " 'Tomatoes',\n",
       " 'RedOnions',\n",
       " 'BarbecueSauce',\n",
       " 'Spinach',\n",
       " 'RedOnions',\n",
       " 'Pepperoni',\n",
       " 'Tomatoes',\n",
       " 'Artichokes',\n",
       " 'KalamataOlives',\n",
       " 'Garlic',\n",
       " 'AsiagoCheese',\n",
       " 'Pepperoni',\n",
       " 'Mushrooms',\n",
       " 'GreenPeppers',\n",
       " 'Bacon',\n",
       " 'Pepperoni',\n",
       " 'ItalianSausage',\n",
       " 'ChorizoSausage',\n",
       " 'Pepperoni',\n",
       " 'Mushrooms',\n",
       " 'GreenPeppers',\n",
       " 'CoarseSicilianSalami',\n",
       " 'Tomatoes',\n",
       " 'GreenOlives',\n",
       " 'LuganegaSausage',\n",
       " 'Onions',\n",
       " 'Garlic',\n",
       " 'Capocollo',\n",
       " 'Tomatoes',\n",
       " 'GoatCheese',\n",
       " 'Artichokes',\n",
       " 'Peperonciniverdi',\n",
       " 'Garlic',\n",
       " 'Spinach',\n",
       " 'RedOnions',\n",
       " 'Pepperoni',\n",
       " 'Tomatoes',\n",
       " 'Artichokes',\n",
       " 'KalamataOlives',\n",
       " 'Garlic',\n",
       " 'AsiagoCheese',\n",
       " 'Pepperoni',\n",
       " 'Mushrooms',\n",
       " 'RedOnions',\n",
       " 'RedPeppers',\n",
       " 'Bacon',\n",
       " 'Capocollo',\n",
       " 'RedPeppers',\n",
       " 'Tomatoes',\n",
       " 'GoatCheese',\n",
       " 'Garlic',\n",
       " 'Oregano',\n",
       " 'Chicken',\n",
       " 'Tomatoes',\n",
       " 'RedPeppers',\n",
       " 'RedOnions',\n",
       " 'JalapenoPeppers',\n",
       " 'Corn',\n",
       " 'Cilantro',\n",
       " 'ChipotleSauce',\n",
       " 'Pepperoni',\n",
       " 'Mushrooms',\n",
       " 'RedOnions',\n",
       " 'RedPeppers',\n",
       " 'Bacon',\n",
       " 'CalabreseSalami',\n",
       " 'Capocollo',\n",
       " 'Tomatoes',\n",
       " 'RedOnions',\n",
       " 'GreenOlives',\n",
       " 'Garlic',\n",
       " 'CalabreseSalami',\n",
       " 'Capocollo',\n",
       " 'Tomatoes',\n",
       " 'RedOnions',\n",
       " 'GreenOlives',\n",
       " 'Garlic',\n",
       " 'BarbecuedChicken',\n",
       " 'RedPeppers',\n",
       " 'GreenPeppers',\n",
       " 'Tomatoes',\n",
       " 'RedOnions',\n",
       " 'BarbecueSauce',\n",
       " 'Eggplant',\n",
       " 'Artichokes',\n",
       " 'Tomatoes',\n",
       " 'Zucchini',\n",
       " 'RedPeppers',\n",
       " 'Garlic',\n",
       " 'PestoSauce',\n",
       " 'SoppressataSalami',\n",
       " 'FontinaCheese',\n",
       " 'MozzarellaCheese',\n",
       " 'Mushrooms',\n",
       " 'Garlic',\n",
       " 'Chicken',\n",
       " 'Pineapple',\n",
       " 'Tomatoes',\n",
       " 'RedPeppers',\n",
       " 'ThaiSweetChilliSauce',\n",
       " 'Spinach',\n",
       " 'Mushrooms',\n",
       " 'RedOnions',\n",
       " 'FetaCheese',\n",
       " 'Garlic',\n",
       " 'Chicken',\n",
       " 'Pineapple',\n",
       " 'Tomatoes',\n",
       " 'RedPeppers',\n",
       " 'ThaiSweetChilliSauce',\n",
       " 'MozzarellaCheese',\n",
       " 'ProvoloneCheese',\n",
       " 'SmokedGoudaCheese',\n",
       " 'RomanoCheese',\n",
       " 'BlueCheese',\n",
       " 'Garlic',\n",
       " 'Tomatoes',\n",
       " 'RedPeppers',\n",
       " 'JalapenoPeppers',\n",
       " 'RedOnions',\n",
       " 'Cilantro',\n",
       " 'Corn',\n",
       " 'ChipotleSauce',\n",
       " 'Garlic',\n",
       " 'Spinach',\n",
       " 'Artichokes',\n",
       " 'Tomatoes',\n",
       " 'Sun-driedTomatoes',\n",
       " 'Garlic',\n",
       " 'PestoSauce',\n",
       " 'Spinach',\n",
       " 'RedOnions',\n",
       " 'Pepperoni',\n",
       " 'Tomatoes',\n",
       " 'Artichokes',\n",
       " 'KalamataOlives',\n",
       " 'Garlic',\n",
       " 'AsiagoCheese',\n",
       " 'CalabreseSalami',\n",
       " 'Capocollo',\n",
       " 'Tomatoes',\n",
       " 'RedOnions',\n",
       " 'GreenOlives',\n",
       " 'Garlic',\n",
       " 'Spinach',\n",
       " 'Artichokes',\n",
       " 'KalamataOlives',\n",
       " 'Sun-driedTomatoes',\n",
       " 'FetaCheese',\n",
       " 'PlumTomatoes',\n",
       " 'RedOnions',\n",
       " 'Tomatoes',\n",
       " 'Anchovies',\n",
       " 'GreenOlives',\n",
       " 'RedOnions',\n",
       " 'Garlic',\n",
       " 'Bacon',\n",
       " 'Pepperoni',\n",
       " 'ItalianSausage',\n",
       " 'ChorizoSausage',\n",
       " 'SlicedHam',\n",
       " 'Pineapple',\n",
       " 'MozzarellaCheese',\n",
       " 'Eggplant',\n",
       " 'Artichokes',\n",
       " 'Tomatoes',\n",
       " 'Zucchini',\n",
       " 'RedPeppers',\n",
       " 'Garlic',\n",
       " 'PestoSauce',\n",
       " 'Capocollo',\n",
       " 'Tomatoes',\n",
       " 'GoatCheese',\n",
       " ...]"
      ]
     },
     "execution_count": 125,
     "metadata": {},
     "output_type": "execute_result"
    }
   ],
   "source": [
    "toppings_list_cleaned = [word.replace(\" \",\"\") for word in toppings_list]\n",
    "toppings_list_cleaned"
   ]
  },
  {
   "cell_type": "code",
   "execution_count": 136,
   "id": "74ee3183",
   "metadata": {
    "ExecuteTime": {
     "end_time": "2022-11-29T16:02:34.749612Z",
     "start_time": "2022-11-29T16:02:34.698402Z"
    }
   },
   "outputs": [
    {
     "data": {
      "text/plain": [
       "dict_keys(['SlicedHam', 'Pineapple', 'MozzarellaCheese', 'Pepperoni', 'Mushrooms', 'RedOnions', 'RedPeppers', 'Bacon', 'ProvoloneCheese', 'SmokedGoudaCheese', 'RomanoCheese', 'BlueCheese', 'Garlic', 'CalabreseSalami', 'Capocollo', 'Tomatoes', 'GreenOlives', 'JalapenoPeppers', 'Cilantro', 'Corn', 'ChipotleSauce', 'Chicken', 'ThaiSweetChilliSauce', 'ProsciuttodiSanDaniele', 'Arugula', 'BarbecuedChicken', 'GreenPeppers', 'BarbecueSauce', 'KalamataOlives', 'FetaCheese', 'BeefChuckRoast', 'Spinach', 'Artichokes', 'AsiagoCheese', 'GoatCheese', 'Oregano', 'Peperonciniverdi', 'Sun-driedTomatoes', 'PestoSauce', 'Zucchini', 'Artichoke', 'FontinaCheese', 'GoudaCheese', 'ItalianSausage', 'ChorizoSausage', 'SoppressataSalami', 'RicottaCheese', 'GorgonzolaPiccanteCheese', 'ParmigianoReggianoCheese', 'Anchovies', 'NdujaSalami', 'Pancetta', 'FriggitelloPeppers', 'Eggplant', 'PlumTomatoes', 'GenoaSalami', 'CoarseSicilianSalami', 'LuganegaSausage', 'Onions', 'AlfredoSauce', 'BrieCarreCheese', 'Prosciutto', 'CaramelizedOnions', 'Pears', 'Thyme'])"
      ]
     },
     "execution_count": 136,
     "metadata": {},
     "output_type": "execute_result"
    }
   ],
   "source": [
    "toppings_keys = Counter(toppings_list_cleaned).keys()\n",
    "toppings_keys"
   ]
  },
  {
   "cell_type": "code",
   "execution_count": 137,
   "id": "a0a60dfa",
   "metadata": {
    "ExecuteTime": {
     "end_time": "2022-11-29T16:02:36.320585Z",
     "start_time": "2022-11-29T16:02:36.276983Z"
    }
   },
   "outputs": [
    {
     "data": {
      "text/plain": [
       "dict_values([2370, 4685, 10333, 10300, 9624, 19547, 16284, 4227, 1359, 1359, 1359, 1359, 27422, 1849, 6572, 26601, 6174, 5643, 3341, 3341, 3341, 8443, 2315, 1428, 1428, 2372, 5224, 2372, 3269, 4748, 1406, 10012, 5682, 3342, 3301, 1414, 1887, 1880, 2893, 2485, 2302, 3259, 2302, 1811, 1811, 957, 1850, 1850, 1850, 1451, 927, 927, 927, 975, 923, 1422, 1887, 1887, 1887, 980, 480, 480, 480, 480, 480])"
      ]
     },
     "execution_count": 137,
     "metadata": {},
     "output_type": "execute_result"
    }
   ],
   "source": [
    "toppings_values = Counter(toppings_list_cleaned).values()\n",
    "toppings_values"
   ]
  },
  {
   "cell_type": "code",
   "execution_count": 138,
   "id": "15d8c6d1",
   "metadata": {
    "ExecuteTime": {
     "end_time": "2022-11-29T16:02:56.820360Z",
     "start_time": "2022-11-29T16:02:56.801997Z"
    },
    "scrolled": true
   },
   "outputs": [
    {
     "data": {
      "text/plain": [
       "{'SlicedHam': 2370,\n",
       " 'Pineapple': 4685,\n",
       " 'MozzarellaCheese': 10333,\n",
       " 'Pepperoni': 10300,\n",
       " 'Mushrooms': 9624,\n",
       " 'RedOnions': 19547,\n",
       " 'RedPeppers': 16284,\n",
       " 'Bacon': 4227,\n",
       " 'ProvoloneCheese': 1359,\n",
       " 'SmokedGoudaCheese': 1359,\n",
       " 'RomanoCheese': 1359,\n",
       " 'BlueCheese': 1359,\n",
       " 'Garlic': 27422,\n",
       " 'CalabreseSalami': 1849,\n",
       " 'Capocollo': 6572,\n",
       " 'Tomatoes': 26601,\n",
       " 'GreenOlives': 6174,\n",
       " 'JalapenoPeppers': 5643,\n",
       " 'Cilantro': 3341,\n",
       " 'Corn': 3341,\n",
       " 'ChipotleSauce': 3341,\n",
       " 'Chicken': 8443,\n",
       " 'ThaiSweetChilliSauce': 2315,\n",
       " 'ProsciuttodiSanDaniele': 1428,\n",
       " 'Arugula': 1428,\n",
       " 'BarbecuedChicken': 2372,\n",
       " 'GreenPeppers': 5224,\n",
       " 'BarbecueSauce': 2372,\n",
       " 'KalamataOlives': 3269,\n",
       " 'FetaCheese': 4748,\n",
       " 'BeefChuckRoast': 1406,\n",
       " 'Spinach': 10012,\n",
       " 'Artichokes': 5682,\n",
       " 'AsiagoCheese': 3342,\n",
       " 'GoatCheese': 3301,\n",
       " 'Oregano': 1414,\n",
       " 'Peperonciniverdi': 1887,\n",
       " 'Sun-driedTomatoes': 1880,\n",
       " 'PestoSauce': 2893,\n",
       " 'Zucchini': 2485,\n",
       " 'Artichoke': 2302,\n",
       " 'FontinaCheese': 3259,\n",
       " 'GoudaCheese': 2302,\n",
       " 'ItalianSausage': 1811,\n",
       " 'ChorizoSausage': 1811,\n",
       " 'SoppressataSalami': 957,\n",
       " 'RicottaCheese': 1850,\n",
       " 'GorgonzolaPiccanteCheese': 1850,\n",
       " 'ParmigianoReggianoCheese': 1850,\n",
       " 'Anchovies': 1451,\n",
       " 'NdujaSalami': 927,\n",
       " 'Pancetta': 927,\n",
       " 'FriggitelloPeppers': 927,\n",
       " 'Eggplant': 975,\n",
       " 'PlumTomatoes': 923,\n",
       " 'GenoaSalami': 1422,\n",
       " 'CoarseSicilianSalami': 1887,\n",
       " 'LuganegaSausage': 1887,\n",
       " 'Onions': 1887,\n",
       " 'AlfredoSauce': 980,\n",
       " 'BrieCarreCheese': 480,\n",
       " 'Prosciutto': 480,\n",
       " 'CaramelizedOnions': 480,\n",
       " 'Pears': 480,\n",
       " 'Thyme': 480}"
      ]
     },
     "execution_count": 138,
     "metadata": {},
     "output_type": "execute_result"
    }
   ],
   "source": [
    "toppings_dic = dict(zip(toppings_keys, toppings_values))\n",
    "toppings_dic"
   ]
  },
  {
   "cell_type": "code",
   "execution_count": 145,
   "id": "dadd8966",
   "metadata": {
    "ExecuteTime": {
     "end_time": "2022-11-29T16:18:28.291052Z",
     "start_time": "2022-11-29T16:18:28.270923Z"
    }
   },
   "outputs": [
    {
     "data": {
      "text/html": [
       "<div>\n",
       "<style scoped>\n",
       "    .dataframe tbody tr th:only-of-type {\n",
       "        vertical-align: middle;\n",
       "    }\n",
       "\n",
       "    .dataframe tbody tr th {\n",
       "        vertical-align: top;\n",
       "    }\n",
       "\n",
       "    .dataframe thead th {\n",
       "        text-align: right;\n",
       "    }\n",
       "</style>\n",
       "<table border=\"1\" class=\"dataframe\">\n",
       "  <thead>\n",
       "    <tr style=\"text-align: right;\">\n",
       "      <th></th>\n",
       "      <th>topping</th>\n",
       "      <th>count</th>\n",
       "    </tr>\n",
       "  </thead>\n",
       "  <tbody>\n",
       "    <tr>\n",
       "      <th>0</th>\n",
       "      <td>SlicedHam</td>\n",
       "      <td>2370</td>\n",
       "    </tr>\n",
       "    <tr>\n",
       "      <th>1</th>\n",
       "      <td>Pineapple</td>\n",
       "      <td>4685</td>\n",
       "    </tr>\n",
       "    <tr>\n",
       "      <th>2</th>\n",
       "      <td>MozzarellaCheese</td>\n",
       "      <td>10333</td>\n",
       "    </tr>\n",
       "    <tr>\n",
       "      <th>3</th>\n",
       "      <td>Pepperoni</td>\n",
       "      <td>10300</td>\n",
       "    </tr>\n",
       "    <tr>\n",
       "      <th>4</th>\n",
       "      <td>Mushrooms</td>\n",
       "      <td>9624</td>\n",
       "    </tr>\n",
       "    <tr>\n",
       "      <th>...</th>\n",
       "      <td>...</td>\n",
       "      <td>...</td>\n",
       "    </tr>\n",
       "    <tr>\n",
       "      <th>60</th>\n",
       "      <td>BrieCarreCheese</td>\n",
       "      <td>480</td>\n",
       "    </tr>\n",
       "    <tr>\n",
       "      <th>61</th>\n",
       "      <td>Prosciutto</td>\n",
       "      <td>480</td>\n",
       "    </tr>\n",
       "    <tr>\n",
       "      <th>62</th>\n",
       "      <td>CaramelizedOnions</td>\n",
       "      <td>480</td>\n",
       "    </tr>\n",
       "    <tr>\n",
       "      <th>63</th>\n",
       "      <td>Pears</td>\n",
       "      <td>480</td>\n",
       "    </tr>\n",
       "    <tr>\n",
       "      <th>64</th>\n",
       "      <td>Thyme</td>\n",
       "      <td>480</td>\n",
       "    </tr>\n",
       "  </tbody>\n",
       "</table>\n",
       "<p>65 rows × 2 columns</p>\n",
       "</div>"
      ],
      "text/plain": [
       "              topping  count\n",
       "0           SlicedHam   2370\n",
       "1           Pineapple   4685\n",
       "2    MozzarellaCheese  10333\n",
       "3           Pepperoni  10300\n",
       "4           Mushrooms   9624\n",
       "..                ...    ...\n",
       "60    BrieCarreCheese    480\n",
       "61         Prosciutto    480\n",
       "62  CaramelizedOnions    480\n",
       "63              Pears    480\n",
       "64              Thyme    480\n",
       "\n",
       "[65 rows x 2 columns]"
      ]
     },
     "execution_count": 145,
     "metadata": {},
     "output_type": "execute_result"
    }
   ],
   "source": [
    "toppings_df = pd.DataFrame.from_dict(toppings_dic, orient=\"index\")\n",
    "toppings_df.reset_index(inplace=True)\n",
    "toppings_df.rename(columns={\"index\":\"topping\", 0:\"count\"},inplace=True)\n",
    "toppings_df"
   ]
  },
  {
   "cell_type": "code",
   "execution_count": 161,
   "id": "d20002ba",
   "metadata": {
    "ExecuteTime": {
     "end_time": "2022-11-29T16:39:50.825535Z",
     "start_time": "2022-11-29T16:39:50.811985Z"
    }
   },
   "outputs": [
    {
     "data": {
      "text/html": [
       "<div>\n",
       "<style scoped>\n",
       "    .dataframe tbody tr th:only-of-type {\n",
       "        vertical-align: middle;\n",
       "    }\n",
       "\n",
       "    .dataframe tbody tr th {\n",
       "        vertical-align: top;\n",
       "    }\n",
       "\n",
       "    .dataframe thead th {\n",
       "        text-align: right;\n",
       "    }\n",
       "</style>\n",
       "<table border=\"1\" class=\"dataframe\">\n",
       "  <thead>\n",
       "    <tr style=\"text-align: right;\">\n",
       "      <th></th>\n",
       "      <th>topping</th>\n",
       "      <th>count</th>\n",
       "    </tr>\n",
       "  </thead>\n",
       "  <tbody>\n",
       "    <tr>\n",
       "      <th>12</th>\n",
       "      <td>Garlic</td>\n",
       "      <td>27422</td>\n",
       "    </tr>\n",
       "    <tr>\n",
       "      <th>15</th>\n",
       "      <td>Tomatoes</td>\n",
       "      <td>26601</td>\n",
       "    </tr>\n",
       "    <tr>\n",
       "      <th>5</th>\n",
       "      <td>RedOnions</td>\n",
       "      <td>19547</td>\n",
       "    </tr>\n",
       "    <tr>\n",
       "      <th>6</th>\n",
       "      <td>RedPeppers</td>\n",
       "      <td>16284</td>\n",
       "    </tr>\n",
       "    <tr>\n",
       "      <th>2</th>\n",
       "      <td>MozzarellaCheese</td>\n",
       "      <td>10333</td>\n",
       "    </tr>\n",
       "    <tr>\n",
       "      <th>...</th>\n",
       "      <td>...</td>\n",
       "      <td>...</td>\n",
       "    </tr>\n",
       "    <tr>\n",
       "      <th>60</th>\n",
       "      <td>BrieCarreCheese</td>\n",
       "      <td>480</td>\n",
       "    </tr>\n",
       "    <tr>\n",
       "      <th>61</th>\n",
       "      <td>Prosciutto</td>\n",
       "      <td>480</td>\n",
       "    </tr>\n",
       "    <tr>\n",
       "      <th>62</th>\n",
       "      <td>CaramelizedOnions</td>\n",
       "      <td>480</td>\n",
       "    </tr>\n",
       "    <tr>\n",
       "      <th>63</th>\n",
       "      <td>Pears</td>\n",
       "      <td>480</td>\n",
       "    </tr>\n",
       "    <tr>\n",
       "      <th>64</th>\n",
       "      <td>Thyme</td>\n",
       "      <td>480</td>\n",
       "    </tr>\n",
       "  </tbody>\n",
       "</table>\n",
       "<p>65 rows × 2 columns</p>\n",
       "</div>"
      ],
      "text/plain": [
       "              topping  count\n",
       "12             Garlic  27422\n",
       "15           Tomatoes  26601\n",
       "5           RedOnions  19547\n",
       "6          RedPeppers  16284\n",
       "2    MozzarellaCheese  10333\n",
       "..                ...    ...\n",
       "60    BrieCarreCheese    480\n",
       "61         Prosciutto    480\n",
       "62  CaramelizedOnions    480\n",
       "63              Pears    480\n",
       "64              Thyme    480\n",
       "\n",
       "[65 rows x 2 columns]"
      ]
     },
     "execution_count": 161,
     "metadata": {},
     "output_type": "execute_result"
    }
   ],
   "source": [
    "toppings_df_sorted = toppings_df.sort_values(by=\"count\",ascending=False)\n",
    "toppings_df_sorted"
   ]
  },
  {
   "cell_type": "code",
   "execution_count": 162,
   "id": "4aebd1e6",
   "metadata": {
    "ExecuteTime": {
     "end_time": "2022-11-29T16:39:55.063067Z",
     "start_time": "2022-11-29T16:39:54.967807Z"
    }
   },
   "outputs": [
    {
     "data": {
      "application/vnd.plotly.v1+json": {
       "config": {
        "plotlyServerURL": "https://plot.ly"
       },
       "data": [
        {
         "alignmentgroup": "True",
         "hovertemplate": "topping=%{x}<br>count=%{y}<extra></extra>",
         "legendgroup": "",
         "marker": {
          "color": "#636efa",
          "pattern": {
           "shape": ""
          }
         },
         "name": "",
         "offsetgroup": "",
         "orientation": "v",
         "showlegend": false,
         "textposition": "auto",
         "type": "bar",
         "x": [
          "Garlic",
          "Tomatoes",
          "RedOnions",
          "RedPeppers",
          "MozzarellaCheese",
          "Pepperoni",
          "Spinach",
          "Mushrooms",
          "Chicken",
          "Capocollo",
          "GreenOlives",
          "Artichokes",
          "JalapenoPeppers",
          "GreenPeppers",
          "FetaCheese",
          "Pineapple",
          "Bacon",
          "AsiagoCheese",
          "Cilantro",
          "Corn",
          "ChipotleSauce",
          "GoatCheese",
          "KalamataOlives",
          "FontinaCheese",
          "PestoSauce",
          "Zucchini",
          "BarbecuedChicken",
          "BarbecueSauce",
          "SlicedHam",
          "ThaiSweetChilliSauce",
          "Artichoke",
          "GoudaCheese",
          "Onions",
          "LuganegaSausage",
          "CoarseSicilianSalami",
          "Peperonciniverdi",
          "Sun-driedTomatoes",
          "GorgonzolaPiccanteCheese",
          "ParmigianoReggianoCheese",
          "RicottaCheese",
          "CalabreseSalami",
          "ChorizoSausage",
          "ItalianSausage",
          "Anchovies",
          "Arugula",
          "ProsciuttodiSanDaniele",
          "GenoaSalami",
          "Oregano",
          "BeefChuckRoast",
          "ProvoloneCheese",
          "SmokedGoudaCheese",
          "RomanoCheese",
          "BlueCheese",
          "AlfredoSauce",
          "Eggplant",
          "SoppressataSalami",
          "FriggitelloPeppers",
          "Pancetta",
          "NdujaSalami",
          "PlumTomatoes",
          "BrieCarreCheese",
          "Prosciutto",
          "CaramelizedOnions",
          "Pears",
          "Thyme"
         ],
         "xaxis": "x",
         "y": [
          27422,
          26601,
          19547,
          16284,
          10333,
          10300,
          10012,
          9624,
          8443,
          6572,
          6174,
          5682,
          5643,
          5224,
          4748,
          4685,
          4227,
          3342,
          3341,
          3341,
          3341,
          3301,
          3269,
          3259,
          2893,
          2485,
          2372,
          2372,
          2370,
          2315,
          2302,
          2302,
          1887,
          1887,
          1887,
          1887,
          1880,
          1850,
          1850,
          1850,
          1849,
          1811,
          1811,
          1451,
          1428,
          1428,
          1422,
          1414,
          1406,
          1359,
          1359,
          1359,
          1359,
          980,
          975,
          957,
          927,
          927,
          927,
          923,
          480,
          480,
          480,
          480,
          480
         ],
         "yaxis": "y"
        }
       ],
       "layout": {
        "barmode": "relative",
        "legend": {
         "tracegroupgap": 0
        },
        "margin": {
         "t": 60
        },
        "template": {
         "data": {
          "bar": [
           {
            "error_x": {
             "color": "#2a3f5f"
            },
            "error_y": {
             "color": "#2a3f5f"
            },
            "marker": {
             "line": {
              "color": "#E5ECF6",
              "width": 0.5
             },
             "pattern": {
              "fillmode": "overlay",
              "size": 10,
              "solidity": 0.2
             }
            },
            "type": "bar"
           }
          ],
          "barpolar": [
           {
            "marker": {
             "line": {
              "color": "#E5ECF6",
              "width": 0.5
             },
             "pattern": {
              "fillmode": "overlay",
              "size": 10,
              "solidity": 0.2
             }
            },
            "type": "barpolar"
           }
          ],
          "carpet": [
           {
            "aaxis": {
             "endlinecolor": "#2a3f5f",
             "gridcolor": "white",
             "linecolor": "white",
             "minorgridcolor": "white",
             "startlinecolor": "#2a3f5f"
            },
            "baxis": {
             "endlinecolor": "#2a3f5f",
             "gridcolor": "white",
             "linecolor": "white",
             "minorgridcolor": "white",
             "startlinecolor": "#2a3f5f"
            },
            "type": "carpet"
           }
          ],
          "choropleth": [
           {
            "colorbar": {
             "outlinewidth": 0,
             "ticks": ""
            },
            "type": "choropleth"
           }
          ],
          "contour": [
           {
            "colorbar": {
             "outlinewidth": 0,
             "ticks": ""
            },
            "colorscale": [
             [
              0,
              "#0d0887"
             ],
             [
              0.1111111111111111,
              "#46039f"
             ],
             [
              0.2222222222222222,
              "#7201a8"
             ],
             [
              0.3333333333333333,
              "#9c179e"
             ],
             [
              0.4444444444444444,
              "#bd3786"
             ],
             [
              0.5555555555555556,
              "#d8576b"
             ],
             [
              0.6666666666666666,
              "#ed7953"
             ],
             [
              0.7777777777777778,
              "#fb9f3a"
             ],
             [
              0.8888888888888888,
              "#fdca26"
             ],
             [
              1,
              "#f0f921"
             ]
            ],
            "type": "contour"
           }
          ],
          "contourcarpet": [
           {
            "colorbar": {
             "outlinewidth": 0,
             "ticks": ""
            },
            "type": "contourcarpet"
           }
          ],
          "heatmap": [
           {
            "colorbar": {
             "outlinewidth": 0,
             "ticks": ""
            },
            "colorscale": [
             [
              0,
              "#0d0887"
             ],
             [
              0.1111111111111111,
              "#46039f"
             ],
             [
              0.2222222222222222,
              "#7201a8"
             ],
             [
              0.3333333333333333,
              "#9c179e"
             ],
             [
              0.4444444444444444,
              "#bd3786"
             ],
             [
              0.5555555555555556,
              "#d8576b"
             ],
             [
              0.6666666666666666,
              "#ed7953"
             ],
             [
              0.7777777777777778,
              "#fb9f3a"
             ],
             [
              0.8888888888888888,
              "#fdca26"
             ],
             [
              1,
              "#f0f921"
             ]
            ],
            "type": "heatmap"
           }
          ],
          "heatmapgl": [
           {
            "colorbar": {
             "outlinewidth": 0,
             "ticks": ""
            },
            "colorscale": [
             [
              0,
              "#0d0887"
             ],
             [
              0.1111111111111111,
              "#46039f"
             ],
             [
              0.2222222222222222,
              "#7201a8"
             ],
             [
              0.3333333333333333,
              "#9c179e"
             ],
             [
              0.4444444444444444,
              "#bd3786"
             ],
             [
              0.5555555555555556,
              "#d8576b"
             ],
             [
              0.6666666666666666,
              "#ed7953"
             ],
             [
              0.7777777777777778,
              "#fb9f3a"
             ],
             [
              0.8888888888888888,
              "#fdca26"
             ],
             [
              1,
              "#f0f921"
             ]
            ],
            "type": "heatmapgl"
           }
          ],
          "histogram": [
           {
            "marker": {
             "pattern": {
              "fillmode": "overlay",
              "size": 10,
              "solidity": 0.2
             }
            },
            "type": "histogram"
           }
          ],
          "histogram2d": [
           {
            "colorbar": {
             "outlinewidth": 0,
             "ticks": ""
            },
            "colorscale": [
             [
              0,
              "#0d0887"
             ],
             [
              0.1111111111111111,
              "#46039f"
             ],
             [
              0.2222222222222222,
              "#7201a8"
             ],
             [
              0.3333333333333333,
              "#9c179e"
             ],
             [
              0.4444444444444444,
              "#bd3786"
             ],
             [
              0.5555555555555556,
              "#d8576b"
             ],
             [
              0.6666666666666666,
              "#ed7953"
             ],
             [
              0.7777777777777778,
              "#fb9f3a"
             ],
             [
              0.8888888888888888,
              "#fdca26"
             ],
             [
              1,
              "#f0f921"
             ]
            ],
            "type": "histogram2d"
           }
          ],
          "histogram2dcontour": [
           {
            "colorbar": {
             "outlinewidth": 0,
             "ticks": ""
            },
            "colorscale": [
             [
              0,
              "#0d0887"
             ],
             [
              0.1111111111111111,
              "#46039f"
             ],
             [
              0.2222222222222222,
              "#7201a8"
             ],
             [
              0.3333333333333333,
              "#9c179e"
             ],
             [
              0.4444444444444444,
              "#bd3786"
             ],
             [
              0.5555555555555556,
              "#d8576b"
             ],
             [
              0.6666666666666666,
              "#ed7953"
             ],
             [
              0.7777777777777778,
              "#fb9f3a"
             ],
             [
              0.8888888888888888,
              "#fdca26"
             ],
             [
              1,
              "#f0f921"
             ]
            ],
            "type": "histogram2dcontour"
           }
          ],
          "mesh3d": [
           {
            "colorbar": {
             "outlinewidth": 0,
             "ticks": ""
            },
            "type": "mesh3d"
           }
          ],
          "parcoords": [
           {
            "line": {
             "colorbar": {
              "outlinewidth": 0,
              "ticks": ""
             }
            },
            "type": "parcoords"
           }
          ],
          "pie": [
           {
            "automargin": true,
            "type": "pie"
           }
          ],
          "scatter": [
           {
            "fillpattern": {
             "fillmode": "overlay",
             "size": 10,
             "solidity": 0.2
            },
            "type": "scatter"
           }
          ],
          "scatter3d": [
           {
            "line": {
             "colorbar": {
              "outlinewidth": 0,
              "ticks": ""
             }
            },
            "marker": {
             "colorbar": {
              "outlinewidth": 0,
              "ticks": ""
             }
            },
            "type": "scatter3d"
           }
          ],
          "scattercarpet": [
           {
            "marker": {
             "colorbar": {
              "outlinewidth": 0,
              "ticks": ""
             }
            },
            "type": "scattercarpet"
           }
          ],
          "scattergeo": [
           {
            "marker": {
             "colorbar": {
              "outlinewidth": 0,
              "ticks": ""
             }
            },
            "type": "scattergeo"
           }
          ],
          "scattergl": [
           {
            "marker": {
             "colorbar": {
              "outlinewidth": 0,
              "ticks": ""
             }
            },
            "type": "scattergl"
           }
          ],
          "scattermapbox": [
           {
            "marker": {
             "colorbar": {
              "outlinewidth": 0,
              "ticks": ""
             }
            },
            "type": "scattermapbox"
           }
          ],
          "scatterpolar": [
           {
            "marker": {
             "colorbar": {
              "outlinewidth": 0,
              "ticks": ""
             }
            },
            "type": "scatterpolar"
           }
          ],
          "scatterpolargl": [
           {
            "marker": {
             "colorbar": {
              "outlinewidth": 0,
              "ticks": ""
             }
            },
            "type": "scatterpolargl"
           }
          ],
          "scatterternary": [
           {
            "marker": {
             "colorbar": {
              "outlinewidth": 0,
              "ticks": ""
             }
            },
            "type": "scatterternary"
           }
          ],
          "surface": [
           {
            "colorbar": {
             "outlinewidth": 0,
             "ticks": ""
            },
            "colorscale": [
             [
              0,
              "#0d0887"
             ],
             [
              0.1111111111111111,
              "#46039f"
             ],
             [
              0.2222222222222222,
              "#7201a8"
             ],
             [
              0.3333333333333333,
              "#9c179e"
             ],
             [
              0.4444444444444444,
              "#bd3786"
             ],
             [
              0.5555555555555556,
              "#d8576b"
             ],
             [
              0.6666666666666666,
              "#ed7953"
             ],
             [
              0.7777777777777778,
              "#fb9f3a"
             ],
             [
              0.8888888888888888,
              "#fdca26"
             ],
             [
              1,
              "#f0f921"
             ]
            ],
            "type": "surface"
           }
          ],
          "table": [
           {
            "cells": {
             "fill": {
              "color": "#EBF0F8"
             },
             "line": {
              "color": "white"
             }
            },
            "header": {
             "fill": {
              "color": "#C8D4E3"
             },
             "line": {
              "color": "white"
             }
            },
            "type": "table"
           }
          ]
         },
         "layout": {
          "annotationdefaults": {
           "arrowcolor": "#2a3f5f",
           "arrowhead": 0,
           "arrowwidth": 1
          },
          "autotypenumbers": "strict",
          "coloraxis": {
           "colorbar": {
            "outlinewidth": 0,
            "ticks": ""
           }
          },
          "colorscale": {
           "diverging": [
            [
             0,
             "#8e0152"
            ],
            [
             0.1,
             "#c51b7d"
            ],
            [
             0.2,
             "#de77ae"
            ],
            [
             0.3,
             "#f1b6da"
            ],
            [
             0.4,
             "#fde0ef"
            ],
            [
             0.5,
             "#f7f7f7"
            ],
            [
             0.6,
             "#e6f5d0"
            ],
            [
             0.7,
             "#b8e186"
            ],
            [
             0.8,
             "#7fbc41"
            ],
            [
             0.9,
             "#4d9221"
            ],
            [
             1,
             "#276419"
            ]
           ],
           "sequential": [
            [
             0,
             "#0d0887"
            ],
            [
             0.1111111111111111,
             "#46039f"
            ],
            [
             0.2222222222222222,
             "#7201a8"
            ],
            [
             0.3333333333333333,
             "#9c179e"
            ],
            [
             0.4444444444444444,
             "#bd3786"
            ],
            [
             0.5555555555555556,
             "#d8576b"
            ],
            [
             0.6666666666666666,
             "#ed7953"
            ],
            [
             0.7777777777777778,
             "#fb9f3a"
            ],
            [
             0.8888888888888888,
             "#fdca26"
            ],
            [
             1,
             "#f0f921"
            ]
           ],
           "sequentialminus": [
            [
             0,
             "#0d0887"
            ],
            [
             0.1111111111111111,
             "#46039f"
            ],
            [
             0.2222222222222222,
             "#7201a8"
            ],
            [
             0.3333333333333333,
             "#9c179e"
            ],
            [
             0.4444444444444444,
             "#bd3786"
            ],
            [
             0.5555555555555556,
             "#d8576b"
            ],
            [
             0.6666666666666666,
             "#ed7953"
            ],
            [
             0.7777777777777778,
             "#fb9f3a"
            ],
            [
             0.8888888888888888,
             "#fdca26"
            ],
            [
             1,
             "#f0f921"
            ]
           ]
          },
          "colorway": [
           "#636efa",
           "#EF553B",
           "#00cc96",
           "#ab63fa",
           "#FFA15A",
           "#19d3f3",
           "#FF6692",
           "#B6E880",
           "#FF97FF",
           "#FECB52"
          ],
          "font": {
           "color": "#2a3f5f"
          },
          "geo": {
           "bgcolor": "white",
           "lakecolor": "white",
           "landcolor": "#E5ECF6",
           "showlakes": true,
           "showland": true,
           "subunitcolor": "white"
          },
          "hoverlabel": {
           "align": "left"
          },
          "hovermode": "closest",
          "mapbox": {
           "style": "light"
          },
          "paper_bgcolor": "white",
          "plot_bgcolor": "#E5ECF6",
          "polar": {
           "angularaxis": {
            "gridcolor": "white",
            "linecolor": "white",
            "ticks": ""
           },
           "bgcolor": "#E5ECF6",
           "radialaxis": {
            "gridcolor": "white",
            "linecolor": "white",
            "ticks": ""
           }
          },
          "scene": {
           "xaxis": {
            "backgroundcolor": "#E5ECF6",
            "gridcolor": "white",
            "gridwidth": 2,
            "linecolor": "white",
            "showbackground": true,
            "ticks": "",
            "zerolinecolor": "white"
           },
           "yaxis": {
            "backgroundcolor": "#E5ECF6",
            "gridcolor": "white",
            "gridwidth": 2,
            "linecolor": "white",
            "showbackground": true,
            "ticks": "",
            "zerolinecolor": "white"
           },
           "zaxis": {
            "backgroundcolor": "#E5ECF6",
            "gridcolor": "white",
            "gridwidth": 2,
            "linecolor": "white",
            "showbackground": true,
            "ticks": "",
            "zerolinecolor": "white"
           }
          },
          "shapedefaults": {
           "line": {
            "color": "#2a3f5f"
           }
          },
          "ternary": {
           "aaxis": {
            "gridcolor": "white",
            "linecolor": "white",
            "ticks": ""
           },
           "baxis": {
            "gridcolor": "white",
            "linecolor": "white",
            "ticks": ""
           },
           "bgcolor": "#E5ECF6",
           "caxis": {
            "gridcolor": "white",
            "linecolor": "white",
            "ticks": ""
           }
          },
          "title": {
           "x": 0.05
          },
          "xaxis": {
           "automargin": true,
           "gridcolor": "white",
           "linecolor": "white",
           "ticks": "",
           "title": {
            "standoff": 15
           },
           "zerolinecolor": "white",
           "zerolinewidth": 2
          },
          "yaxis": {
           "automargin": true,
           "gridcolor": "white",
           "linecolor": "white",
           "ticks": "",
           "title": {
            "standoff": 15
           },
           "zerolinecolor": "white",
           "zerolinewidth": 2
          }
         }
        },
        "xaxis": {
         "anchor": "y",
         "domain": [
          0,
          1
         ],
         "title": {
          "text": "topping"
         }
        },
        "yaxis": {
         "anchor": "x",
         "domain": [
          0,
          1
         ],
         "title": {
          "text": "count"
         }
        }
       }
      },
      "text/html": [
       "<div>                            <div id=\"58b62867-3977-4c66-8f01-1cf85263cf95\" class=\"plotly-graph-div\" style=\"height:525px; width:100%;\"></div>            <script type=\"text/javascript\">                require([\"plotly\"], function(Plotly) {                    window.PLOTLYENV=window.PLOTLYENV || {};                                    if (document.getElementById(\"58b62867-3977-4c66-8f01-1cf85263cf95\")) {                    Plotly.newPlot(                        \"58b62867-3977-4c66-8f01-1cf85263cf95\",                        [{\"alignmentgroup\":\"True\",\"hovertemplate\":\"topping=%{x}<br>count=%{y}<extra></extra>\",\"legendgroup\":\"\",\"marker\":{\"color\":\"#636efa\",\"pattern\":{\"shape\":\"\"}},\"name\":\"\",\"offsetgroup\":\"\",\"orientation\":\"v\",\"showlegend\":false,\"textposition\":\"auto\",\"x\":[\"Garlic\",\"Tomatoes\",\"RedOnions\",\"RedPeppers\",\"MozzarellaCheese\",\"Pepperoni\",\"Spinach\",\"Mushrooms\",\"Chicken\",\"Capocollo\",\"GreenOlives\",\"Artichokes\",\"JalapenoPeppers\",\"GreenPeppers\",\"FetaCheese\",\"Pineapple\",\"Bacon\",\"AsiagoCheese\",\"Cilantro\",\"Corn\",\"ChipotleSauce\",\"GoatCheese\",\"KalamataOlives\",\"FontinaCheese\",\"PestoSauce\",\"Zucchini\",\"BarbecuedChicken\",\"BarbecueSauce\",\"SlicedHam\",\"ThaiSweetChilliSauce\",\"Artichoke\",\"GoudaCheese\",\"Onions\",\"LuganegaSausage\",\"CoarseSicilianSalami\",\"Peperonciniverdi\",\"Sun-driedTomatoes\",\"GorgonzolaPiccanteCheese\",\"ParmigianoReggianoCheese\",\"RicottaCheese\",\"CalabreseSalami\",\"ChorizoSausage\",\"ItalianSausage\",\"Anchovies\",\"Arugula\",\"ProsciuttodiSanDaniele\",\"GenoaSalami\",\"Oregano\",\"BeefChuckRoast\",\"ProvoloneCheese\",\"SmokedGoudaCheese\",\"RomanoCheese\",\"BlueCheese\",\"AlfredoSauce\",\"Eggplant\",\"SoppressataSalami\",\"FriggitelloPeppers\",\"Pancetta\",\"NdujaSalami\",\"PlumTomatoes\",\"BrieCarreCheese\",\"Prosciutto\",\"CaramelizedOnions\",\"Pears\",\"Thyme\"],\"xaxis\":\"x\",\"y\":[27422,26601,19547,16284,10333,10300,10012,9624,8443,6572,6174,5682,5643,5224,4748,4685,4227,3342,3341,3341,3341,3301,3269,3259,2893,2485,2372,2372,2370,2315,2302,2302,1887,1887,1887,1887,1880,1850,1850,1850,1849,1811,1811,1451,1428,1428,1422,1414,1406,1359,1359,1359,1359,980,975,957,927,927,927,923,480,480,480,480,480],\"yaxis\":\"y\",\"type\":\"bar\"}],                        {\"template\":{\"data\":{\"histogram2dcontour\":[{\"type\":\"histogram2dcontour\",\"colorbar\":{\"outlinewidth\":0,\"ticks\":\"\"},\"colorscale\":[[0.0,\"#0d0887\"],[0.1111111111111111,\"#46039f\"],[0.2222222222222222,\"#7201a8\"],[0.3333333333333333,\"#9c179e\"],[0.4444444444444444,\"#bd3786\"],[0.5555555555555556,\"#d8576b\"],[0.6666666666666666,\"#ed7953\"],[0.7777777777777778,\"#fb9f3a\"],[0.8888888888888888,\"#fdca26\"],[1.0,\"#f0f921\"]]}],\"choropleth\":[{\"type\":\"choropleth\",\"colorbar\":{\"outlinewidth\":0,\"ticks\":\"\"}}],\"histogram2d\":[{\"type\":\"histogram2d\",\"colorbar\":{\"outlinewidth\":0,\"ticks\":\"\"},\"colorscale\":[[0.0,\"#0d0887\"],[0.1111111111111111,\"#46039f\"],[0.2222222222222222,\"#7201a8\"],[0.3333333333333333,\"#9c179e\"],[0.4444444444444444,\"#bd3786\"],[0.5555555555555556,\"#d8576b\"],[0.6666666666666666,\"#ed7953\"],[0.7777777777777778,\"#fb9f3a\"],[0.8888888888888888,\"#fdca26\"],[1.0,\"#f0f921\"]]}],\"heatmap\":[{\"type\":\"heatmap\",\"colorbar\":{\"outlinewidth\":0,\"ticks\":\"\"},\"colorscale\":[[0.0,\"#0d0887\"],[0.1111111111111111,\"#46039f\"],[0.2222222222222222,\"#7201a8\"],[0.3333333333333333,\"#9c179e\"],[0.4444444444444444,\"#bd3786\"],[0.5555555555555556,\"#d8576b\"],[0.6666666666666666,\"#ed7953\"],[0.7777777777777778,\"#fb9f3a\"],[0.8888888888888888,\"#fdca26\"],[1.0,\"#f0f921\"]]}],\"heatmapgl\":[{\"type\":\"heatmapgl\",\"colorbar\":{\"outlinewidth\":0,\"ticks\":\"\"},\"colorscale\":[[0.0,\"#0d0887\"],[0.1111111111111111,\"#46039f\"],[0.2222222222222222,\"#7201a8\"],[0.3333333333333333,\"#9c179e\"],[0.4444444444444444,\"#bd3786\"],[0.5555555555555556,\"#d8576b\"],[0.6666666666666666,\"#ed7953\"],[0.7777777777777778,\"#fb9f3a\"],[0.8888888888888888,\"#fdca26\"],[1.0,\"#f0f921\"]]}],\"contourcarpet\":[{\"type\":\"contourcarpet\",\"colorbar\":{\"outlinewidth\":0,\"ticks\":\"\"}}],\"contour\":[{\"type\":\"contour\",\"colorbar\":{\"outlinewidth\":0,\"ticks\":\"\"},\"colorscale\":[[0.0,\"#0d0887\"],[0.1111111111111111,\"#46039f\"],[0.2222222222222222,\"#7201a8\"],[0.3333333333333333,\"#9c179e\"],[0.4444444444444444,\"#bd3786\"],[0.5555555555555556,\"#d8576b\"],[0.6666666666666666,\"#ed7953\"],[0.7777777777777778,\"#fb9f3a\"],[0.8888888888888888,\"#fdca26\"],[1.0,\"#f0f921\"]]}],\"surface\":[{\"type\":\"surface\",\"colorbar\":{\"outlinewidth\":0,\"ticks\":\"\"},\"colorscale\":[[0.0,\"#0d0887\"],[0.1111111111111111,\"#46039f\"],[0.2222222222222222,\"#7201a8\"],[0.3333333333333333,\"#9c179e\"],[0.4444444444444444,\"#bd3786\"],[0.5555555555555556,\"#d8576b\"],[0.6666666666666666,\"#ed7953\"],[0.7777777777777778,\"#fb9f3a\"],[0.8888888888888888,\"#fdca26\"],[1.0,\"#f0f921\"]]}],\"mesh3d\":[{\"type\":\"mesh3d\",\"colorbar\":{\"outlinewidth\":0,\"ticks\":\"\"}}],\"scatter\":[{\"fillpattern\":{\"fillmode\":\"overlay\",\"size\":10,\"solidity\":0.2},\"type\":\"scatter\"}],\"parcoords\":[{\"type\":\"parcoords\",\"line\":{\"colorbar\":{\"outlinewidth\":0,\"ticks\":\"\"}}}],\"scatterpolargl\":[{\"type\":\"scatterpolargl\",\"marker\":{\"colorbar\":{\"outlinewidth\":0,\"ticks\":\"\"}}}],\"bar\":[{\"error_x\":{\"color\":\"#2a3f5f\"},\"error_y\":{\"color\":\"#2a3f5f\"},\"marker\":{\"line\":{\"color\":\"#E5ECF6\",\"width\":0.5},\"pattern\":{\"fillmode\":\"overlay\",\"size\":10,\"solidity\":0.2}},\"type\":\"bar\"}],\"scattergeo\":[{\"type\":\"scattergeo\",\"marker\":{\"colorbar\":{\"outlinewidth\":0,\"ticks\":\"\"}}}],\"scatterpolar\":[{\"type\":\"scatterpolar\",\"marker\":{\"colorbar\":{\"outlinewidth\":0,\"ticks\":\"\"}}}],\"histogram\":[{\"marker\":{\"pattern\":{\"fillmode\":\"overlay\",\"size\":10,\"solidity\":0.2}},\"type\":\"histogram\"}],\"scattergl\":[{\"type\":\"scattergl\",\"marker\":{\"colorbar\":{\"outlinewidth\":0,\"ticks\":\"\"}}}],\"scatter3d\":[{\"type\":\"scatter3d\",\"line\":{\"colorbar\":{\"outlinewidth\":0,\"ticks\":\"\"}},\"marker\":{\"colorbar\":{\"outlinewidth\":0,\"ticks\":\"\"}}}],\"scattermapbox\":[{\"type\":\"scattermapbox\",\"marker\":{\"colorbar\":{\"outlinewidth\":0,\"ticks\":\"\"}}}],\"scatterternary\":[{\"type\":\"scatterternary\",\"marker\":{\"colorbar\":{\"outlinewidth\":0,\"ticks\":\"\"}}}],\"scattercarpet\":[{\"type\":\"scattercarpet\",\"marker\":{\"colorbar\":{\"outlinewidth\":0,\"ticks\":\"\"}}}],\"carpet\":[{\"aaxis\":{\"endlinecolor\":\"#2a3f5f\",\"gridcolor\":\"white\",\"linecolor\":\"white\",\"minorgridcolor\":\"white\",\"startlinecolor\":\"#2a3f5f\"},\"baxis\":{\"endlinecolor\":\"#2a3f5f\",\"gridcolor\":\"white\",\"linecolor\":\"white\",\"minorgridcolor\":\"white\",\"startlinecolor\":\"#2a3f5f\"},\"type\":\"carpet\"}],\"table\":[{\"cells\":{\"fill\":{\"color\":\"#EBF0F8\"},\"line\":{\"color\":\"white\"}},\"header\":{\"fill\":{\"color\":\"#C8D4E3\"},\"line\":{\"color\":\"white\"}},\"type\":\"table\"}],\"barpolar\":[{\"marker\":{\"line\":{\"color\":\"#E5ECF6\",\"width\":0.5},\"pattern\":{\"fillmode\":\"overlay\",\"size\":10,\"solidity\":0.2}},\"type\":\"barpolar\"}],\"pie\":[{\"automargin\":true,\"type\":\"pie\"}]},\"layout\":{\"autotypenumbers\":\"strict\",\"colorway\":[\"#636efa\",\"#EF553B\",\"#00cc96\",\"#ab63fa\",\"#FFA15A\",\"#19d3f3\",\"#FF6692\",\"#B6E880\",\"#FF97FF\",\"#FECB52\"],\"font\":{\"color\":\"#2a3f5f\"},\"hovermode\":\"closest\",\"hoverlabel\":{\"align\":\"left\"},\"paper_bgcolor\":\"white\",\"plot_bgcolor\":\"#E5ECF6\",\"polar\":{\"bgcolor\":\"#E5ECF6\",\"angularaxis\":{\"gridcolor\":\"white\",\"linecolor\":\"white\",\"ticks\":\"\"},\"radialaxis\":{\"gridcolor\":\"white\",\"linecolor\":\"white\",\"ticks\":\"\"}},\"ternary\":{\"bgcolor\":\"#E5ECF6\",\"aaxis\":{\"gridcolor\":\"white\",\"linecolor\":\"white\",\"ticks\":\"\"},\"baxis\":{\"gridcolor\":\"white\",\"linecolor\":\"white\",\"ticks\":\"\"},\"caxis\":{\"gridcolor\":\"white\",\"linecolor\":\"white\",\"ticks\":\"\"}},\"coloraxis\":{\"colorbar\":{\"outlinewidth\":0,\"ticks\":\"\"}},\"colorscale\":{\"sequential\":[[0.0,\"#0d0887\"],[0.1111111111111111,\"#46039f\"],[0.2222222222222222,\"#7201a8\"],[0.3333333333333333,\"#9c179e\"],[0.4444444444444444,\"#bd3786\"],[0.5555555555555556,\"#d8576b\"],[0.6666666666666666,\"#ed7953\"],[0.7777777777777778,\"#fb9f3a\"],[0.8888888888888888,\"#fdca26\"],[1.0,\"#f0f921\"]],\"sequentialminus\":[[0.0,\"#0d0887\"],[0.1111111111111111,\"#46039f\"],[0.2222222222222222,\"#7201a8\"],[0.3333333333333333,\"#9c179e\"],[0.4444444444444444,\"#bd3786\"],[0.5555555555555556,\"#d8576b\"],[0.6666666666666666,\"#ed7953\"],[0.7777777777777778,\"#fb9f3a\"],[0.8888888888888888,\"#fdca26\"],[1.0,\"#f0f921\"]],\"diverging\":[[0,\"#8e0152\"],[0.1,\"#c51b7d\"],[0.2,\"#de77ae\"],[0.3,\"#f1b6da\"],[0.4,\"#fde0ef\"],[0.5,\"#f7f7f7\"],[0.6,\"#e6f5d0\"],[0.7,\"#b8e186\"],[0.8,\"#7fbc41\"],[0.9,\"#4d9221\"],[1,\"#276419\"]]},\"xaxis\":{\"gridcolor\":\"white\",\"linecolor\":\"white\",\"ticks\":\"\",\"title\":{\"standoff\":15},\"zerolinecolor\":\"white\",\"automargin\":true,\"zerolinewidth\":2},\"yaxis\":{\"gridcolor\":\"white\",\"linecolor\":\"white\",\"ticks\":\"\",\"title\":{\"standoff\":15},\"zerolinecolor\":\"white\",\"automargin\":true,\"zerolinewidth\":2},\"scene\":{\"xaxis\":{\"backgroundcolor\":\"#E5ECF6\",\"gridcolor\":\"white\",\"linecolor\":\"white\",\"showbackground\":true,\"ticks\":\"\",\"zerolinecolor\":\"white\",\"gridwidth\":2},\"yaxis\":{\"backgroundcolor\":\"#E5ECF6\",\"gridcolor\":\"white\",\"linecolor\":\"white\",\"showbackground\":true,\"ticks\":\"\",\"zerolinecolor\":\"white\",\"gridwidth\":2},\"zaxis\":{\"backgroundcolor\":\"#E5ECF6\",\"gridcolor\":\"white\",\"linecolor\":\"white\",\"showbackground\":true,\"ticks\":\"\",\"zerolinecolor\":\"white\",\"gridwidth\":2}},\"shapedefaults\":{\"line\":{\"color\":\"#2a3f5f\"}},\"annotationdefaults\":{\"arrowcolor\":\"#2a3f5f\",\"arrowhead\":0,\"arrowwidth\":1},\"geo\":{\"bgcolor\":\"white\",\"landcolor\":\"#E5ECF6\",\"subunitcolor\":\"white\",\"showland\":true,\"showlakes\":true,\"lakecolor\":\"white\"},\"title\":{\"x\":0.05},\"mapbox\":{\"style\":\"light\"}}},\"xaxis\":{\"anchor\":\"y\",\"domain\":[0.0,1.0],\"title\":{\"text\":\"topping\"}},\"yaxis\":{\"anchor\":\"x\",\"domain\":[0.0,1.0],\"title\":{\"text\":\"count\"}},\"legend\":{\"tracegroupgap\":0},\"margin\":{\"t\":60},\"barmode\":\"relative\"},                        {\"responsive\": true}                    ).then(function(){\n",
       "                            \n",
       "var gd = document.getElementById('58b62867-3977-4c66-8f01-1cf85263cf95');\n",
       "var x = new MutationObserver(function (mutations, observer) {{\n",
       "        var display = window.getComputedStyle(gd).display;\n",
       "        if (!display || display === 'none') {{\n",
       "            console.log([gd, 'removed!']);\n",
       "            Plotly.purge(gd);\n",
       "            observer.disconnect();\n",
       "        }}\n",
       "}});\n",
       "\n",
       "// Listen for the removal of the full notebook cells\n",
       "var notebookContainer = gd.closest('#notebook-container');\n",
       "if (notebookContainer) {{\n",
       "    x.observe(notebookContainer, {childList: true});\n",
       "}}\n",
       "\n",
       "// Listen for the clearing of the current output cell\n",
       "var outputEl = gd.closest('.output');\n",
       "if (outputEl) {{\n",
       "    x.observe(outputEl, {childList: true});\n",
       "}}\n",
       "\n",
       "                        })                };                });            </script>        </div>"
      ]
     },
     "metadata": {},
     "output_type": "display_data"
    }
   ],
   "source": [
    "px.bar(toppings_df_sorted,x=\"topping\",y=\"count\")"
   ]
  },
  {
   "cell_type": "markdown",
   "id": "28bc006b",
   "metadata": {},
   "source": [
    "## Price distribution "
   ]
  },
  {
   "cell_type": "markdown",
   "id": "817116dd",
   "metadata": {},
   "source": [
    "### Frequency"
   ]
  },
  {
   "cell_type": "code",
   "execution_count": 4,
   "id": "74a1a5cb",
   "metadata": {
    "ExecuteTime": {
     "end_time": "2022-12-05T16:28:14.270816Z",
     "start_time": "2022-12-05T16:28:14.254388Z"
    }
   },
   "outputs": [
    {
     "data": {
      "text/html": [
       "<div>\n",
       "<style scoped>\n",
       "    .dataframe tbody tr th:only-of-type {\n",
       "        vertical-align: middle;\n",
       "    }\n",
       "\n",
       "    .dataframe tbody tr th {\n",
       "        vertical-align: top;\n",
       "    }\n",
       "\n",
       "    .dataframe thead th {\n",
       "        text-align: right;\n",
       "    }\n",
       "</style>\n",
       "<table border=\"1\" class=\"dataframe\">\n",
       "  <thead>\n",
       "    <tr style=\"text-align: right;\">\n",
       "      <th></th>\n",
       "      <th>pizza_category</th>\n",
       "      <th>unit_price</th>\n",
       "    </tr>\n",
       "  </thead>\n",
       "  <tbody>\n",
       "    <tr>\n",
       "      <th>0</th>\n",
       "      <td>Classic</td>\n",
       "      <td>13.25</td>\n",
       "    </tr>\n",
       "    <tr>\n",
       "      <th>1</th>\n",
       "      <td>Classic</td>\n",
       "      <td>16.00</td>\n",
       "    </tr>\n",
       "    <tr>\n",
       "      <th>2</th>\n",
       "      <td>Veggie</td>\n",
       "      <td>18.50</td>\n",
       "    </tr>\n",
       "    <tr>\n",
       "      <th>3</th>\n",
       "      <td>Supreme</td>\n",
       "      <td>20.75</td>\n",
       "    </tr>\n",
       "    <tr>\n",
       "      <th>4</th>\n",
       "      <td>Veggie</td>\n",
       "      <td>16.00</td>\n",
       "    </tr>\n",
       "    <tr>\n",
       "      <th>...</th>\n",
       "      <td>...</td>\n",
       "      <td>...</td>\n",
       "    </tr>\n",
       "    <tr>\n",
       "      <th>48615</th>\n",
       "      <td>Chicken</td>\n",
       "      <td>16.75</td>\n",
       "    </tr>\n",
       "    <tr>\n",
       "      <th>48616</th>\n",
       "      <td>Veggie</td>\n",
       "      <td>17.95</td>\n",
       "    </tr>\n",
       "    <tr>\n",
       "      <th>48617</th>\n",
       "      <td>Classic</td>\n",
       "      <td>12.00</td>\n",
       "    </tr>\n",
       "    <tr>\n",
       "      <th>48618</th>\n",
       "      <td>Veggie</td>\n",
       "      <td>20.25</td>\n",
       "    </tr>\n",
       "    <tr>\n",
       "      <th>48619</th>\n",
       "      <td>Chicken</td>\n",
       "      <td>12.75</td>\n",
       "    </tr>\n",
       "  </tbody>\n",
       "</table>\n",
       "<p>48620 rows × 2 columns</p>\n",
       "</div>"
      ],
      "text/plain": [
       "      pizza_category  unit_price\n",
       "0            Classic       13.25\n",
       "1            Classic       16.00\n",
       "2             Veggie       18.50\n",
       "3            Supreme       20.75\n",
       "4             Veggie       16.00\n",
       "...              ...         ...\n",
       "48615        Chicken       16.75\n",
       "48616         Veggie       17.95\n",
       "48617        Classic       12.00\n",
       "48618         Veggie       20.25\n",
       "48619        Chicken       12.75\n",
       "\n",
       "[48620 rows x 2 columns]"
      ]
     },
     "execution_count": 4,
     "metadata": {},
     "output_type": "execute_result"
    }
   ],
   "source": [
    "frequency = df.loc[:, [\"pizza_category\",\"unit_price\"]]\n",
    "frequency"
   ]
  },
  {
   "cell_type": "code",
   "execution_count": 6,
   "id": "aaa7a0d2",
   "metadata": {
    "ExecuteTime": {
     "end_time": "2022-12-05T16:33:33.962824Z",
     "start_time": "2022-12-05T16:33:33.884817Z"
    }
   },
   "outputs": [],
   "source": [
    "pivot1 = frequency.pivot(columns = 'pizza_category',values = 'unit_price')"
   ]
  },
  {
   "cell_type": "code",
   "execution_count": 451,
   "id": "26d3ea68",
   "metadata": {
    "ExecuteTime": {
     "end_time": "2022-12-02T16:50:42.380773Z",
     "start_time": "2022-12-02T16:50:42.309388Z"
    }
   },
   "outputs": [
    {
     "data": {
      "text/html": [
       "<div>\n",
       "<style scoped>\n",
       "    .dataframe tbody tr th:only-of-type {\n",
       "        vertical-align: middle;\n",
       "    }\n",
       "\n",
       "    .dataframe tbody tr th {\n",
       "        vertical-align: top;\n",
       "    }\n",
       "\n",
       "    .dataframe thead th {\n",
       "        text-align: right;\n",
       "    }\n",
       "</style>\n",
       "<table border=\"1\" class=\"dataframe\">\n",
       "  <thead>\n",
       "    <tr style=\"text-align: right;\">\n",
       "      <th>pizza_category</th>\n",
       "      <th>Chicken</th>\n",
       "      <th>Classic</th>\n",
       "      <th>Supreme</th>\n",
       "      <th>Veggie</th>\n",
       "    </tr>\n",
       "  </thead>\n",
       "  <tbody>\n",
       "    <tr>\n",
       "      <th>0</th>\n",
       "      <td>NaN</td>\n",
       "      <td>13.25</td>\n",
       "      <td>NaN</td>\n",
       "      <td>NaN</td>\n",
       "    </tr>\n",
       "    <tr>\n",
       "      <th>1</th>\n",
       "      <td>NaN</td>\n",
       "      <td>16.00</td>\n",
       "      <td>NaN</td>\n",
       "      <td>NaN</td>\n",
       "    </tr>\n",
       "    <tr>\n",
       "      <th>2</th>\n",
       "      <td>NaN</td>\n",
       "      <td>NaN</td>\n",
       "      <td>NaN</td>\n",
       "      <td>18.50</td>\n",
       "    </tr>\n",
       "    <tr>\n",
       "      <th>3</th>\n",
       "      <td>NaN</td>\n",
       "      <td>NaN</td>\n",
       "      <td>20.75</td>\n",
       "      <td>NaN</td>\n",
       "    </tr>\n",
       "    <tr>\n",
       "      <th>4</th>\n",
       "      <td>NaN</td>\n",
       "      <td>NaN</td>\n",
       "      <td>NaN</td>\n",
       "      <td>16.00</td>\n",
       "    </tr>\n",
       "    <tr>\n",
       "      <th>...</th>\n",
       "      <td>...</td>\n",
       "      <td>...</td>\n",
       "      <td>...</td>\n",
       "      <td>...</td>\n",
       "    </tr>\n",
       "    <tr>\n",
       "      <th>48615</th>\n",
       "      <td>16.75</td>\n",
       "      <td>NaN</td>\n",
       "      <td>NaN</td>\n",
       "      <td>NaN</td>\n",
       "    </tr>\n",
       "    <tr>\n",
       "      <th>48616</th>\n",
       "      <td>NaN</td>\n",
       "      <td>NaN</td>\n",
       "      <td>NaN</td>\n",
       "      <td>17.95</td>\n",
       "    </tr>\n",
       "    <tr>\n",
       "      <th>48617</th>\n",
       "      <td>NaN</td>\n",
       "      <td>12.00</td>\n",
       "      <td>NaN</td>\n",
       "      <td>NaN</td>\n",
       "    </tr>\n",
       "    <tr>\n",
       "      <th>48618</th>\n",
       "      <td>NaN</td>\n",
       "      <td>NaN</td>\n",
       "      <td>NaN</td>\n",
       "      <td>20.25</td>\n",
       "    </tr>\n",
       "    <tr>\n",
       "      <th>48619</th>\n",
       "      <td>12.75</td>\n",
       "      <td>NaN</td>\n",
       "      <td>NaN</td>\n",
       "      <td>NaN</td>\n",
       "    </tr>\n",
       "  </tbody>\n",
       "</table>\n",
       "<p>48620 rows × 4 columns</p>\n",
       "</div>"
      ],
      "text/plain": [
       "pizza_category  Chicken  Classic  Supreme  Veggie\n",
       "0                   NaN    13.25      NaN     NaN\n",
       "1                   NaN    16.00      NaN     NaN\n",
       "2                   NaN      NaN      NaN   18.50\n",
       "3                   NaN      NaN    20.75     NaN\n",
       "4                   NaN      NaN      NaN   16.00\n",
       "...                 ...      ...      ...     ...\n",
       "48615             16.75      NaN      NaN     NaN\n",
       "48616               NaN      NaN      NaN   17.95\n",
       "48617               NaN    12.00      NaN     NaN\n",
       "48618               NaN      NaN      NaN   20.25\n",
       "48619             12.75      NaN      NaN     NaN\n",
       "\n",
       "[48620 rows x 4 columns]"
      ]
     },
     "execution_count": 451,
     "metadata": {},
     "output_type": "execute_result"
    }
   ],
   "source": [
    "pivot1"
   ]
  },
  {
   "cell_type": "code",
   "execution_count": 26,
   "id": "7a25147d",
   "metadata": {
    "ExecuteTime": {
     "end_time": "2022-12-05T16:47:01.888633Z",
     "start_time": "2022-12-05T16:47:01.881351Z"
    }
   },
   "outputs": [],
   "source": [
    "from matplotlib import font_manager\n",
    "import matplotlib.ticker as tick\n",
    "from matplotlib.ticker import EngFormatter, StrMethodFormatter"
   ]
  },
  {
   "cell_type": "code",
   "execution_count": 29,
   "id": "00728f7f",
   "metadata": {
    "ExecuteTime": {
     "end_time": "2022-12-05T16:48:21.089926Z",
     "start_time": "2022-12-05T16:48:20.371667Z"
    }
   },
   "outputs": [
    {
     "data": {
      "image/png": "[encoded data removed]",
      "text/plain": [
       "<Figure size 576x432 with 1 Axes>"
      ]
     },
     "metadata": {
      "needs_background": "light"
     },
     "output_type": "display_data"
    }
   ],
   "source": [
    "fig = plt.figure(figsize=(8,6))\n",
    "ax = fig.add_subplot(111)\n",
    "\n",
    "x = frequency[\"unit_price\"]\n",
    "\n",
    "ax.hist(pivot1[\"Chicken\"], bins=6, alpha=0.5, label=\"Chicken\", color=\"#eec9e5\")\n",
    "ax.hist(pivot1[\"Classic\"], bins=25, alpha=0.5, label=\"Classic\", color=\"#b9ddf1\")\n",
    "ax.hist(pivot1[\"Supreme\"], bins=10, alpha=0.5, label=\"Supreme\", color=\"#ffbeb2\")\n",
    "ax.hist(pivot1[\"Veggie\"], bins=9, alpha=0.5, label=\"Veggie\", color=\"#b3e1a6\")\n",
    "\n",
    "ax.set_frame_on(False) \n",
    "\n",
    "ax.text(14, 4900, \"Average\", fontsize = 9, color=\"red\")\n",
    "\n",
    "plt.xlabel(\"Price (USD)\", size=10, labelpad=20)\n",
    "plt.ylabel(\"Frequency\", size=10, labelpad=20)\n",
    "\n",
    "ax.xaxis.set_major_formatter(StrMethodFormatter(\"${x:.0f}\"))\n",
    "\n",
    "ax.tick_params(axis=u'y', which=u'both',length=0)\n",
    "ax.tick_params(axis=u'x', which=u'both',length=0)\n",
    "\n",
    "plt.title(\"Frequency Distributions of Pizza Restaurant Price Range\", size=15, pad=26)\n",
    "plt.legend(loc='upper right', frameon=False)\n",
    "\n",
    "plt.axvline(x.mean(), color='red', linestyle='dashed', linewidth=1)\n",
    "\n",
    "plt.tight_layout()\n",
    "plt.savefig('consumer preference1.jpg',dpi=250)\n",
    "\n",
    "plt.show()"
   ]
  },
  {
   "cell_type": "markdown",
   "id": "7c4d3a6d",
   "metadata": {},
   "source": [
    "### Graph"
   ]
  },
  {
   "cell_type": "code",
   "execution_count": 181,
   "id": "e11da74f",
   "metadata": {
    "ExecuteTime": {
     "end_time": "2022-11-30T12:44:04.605278Z",
     "start_time": "2022-11-30T12:44:04.471395Z"
    }
   },
   "outputs": [
    {
     "data": {
      "text/html": [
       "<div>\n",
       "<style scoped>\n",
       "    .dataframe tbody tr th:only-of-type {\n",
       "        vertical-align: middle;\n",
       "    }\n",
       "\n",
       "    .dataframe tbody tr th {\n",
       "        vertical-align: top;\n",
       "    }\n",
       "\n",
       "    .dataframe thead th {\n",
       "        text-align: right;\n",
       "    }\n",
       "</style>\n",
       "<table border=\"1\" class=\"dataframe\">\n",
       "  <thead>\n",
       "    <tr style=\"text-align: right;\">\n",
       "      <th></th>\n",
       "      <th>pizza_category</th>\n",
       "      <th>pizza_size</th>\n",
       "      <th>unit_price</th>\n",
       "    </tr>\n",
       "  </thead>\n",
       "  <tbody>\n",
       "    <tr>\n",
       "      <th>0</th>\n",
       "      <td>Classic</td>\n",
       "      <td>M</td>\n",
       "      <td>13.25</td>\n",
       "    </tr>\n",
       "    <tr>\n",
       "      <th>1</th>\n",
       "      <td>Classic</td>\n",
       "      <td>M</td>\n",
       "      <td>16.00</td>\n",
       "    </tr>\n",
       "    <tr>\n",
       "      <th>2</th>\n",
       "      <td>Veggie</td>\n",
       "      <td>L</td>\n",
       "      <td>18.50</td>\n",
       "    </tr>\n",
       "    <tr>\n",
       "      <th>3</th>\n",
       "      <td>Supreme</td>\n",
       "      <td>L</td>\n",
       "      <td>20.75</td>\n",
       "    </tr>\n",
       "    <tr>\n",
       "      <th>4</th>\n",
       "      <td>Veggie</td>\n",
       "      <td>M</td>\n",
       "      <td>16.00</td>\n",
       "    </tr>\n",
       "    <tr>\n",
       "      <th>...</th>\n",
       "      <td>...</td>\n",
       "      <td>...</td>\n",
       "      <td>...</td>\n",
       "    </tr>\n",
       "    <tr>\n",
       "      <th>48615</th>\n",
       "      <td>Chicken</td>\n",
       "      <td>M</td>\n",
       "      <td>16.75</td>\n",
       "    </tr>\n",
       "    <tr>\n",
       "      <th>48616</th>\n",
       "      <td>Veggie</td>\n",
       "      <td>L</td>\n",
       "      <td>17.95</td>\n",
       "    </tr>\n",
       "    <tr>\n",
       "      <th>48617</th>\n",
       "      <td>Classic</td>\n",
       "      <td>S</td>\n",
       "      <td>12.00</td>\n",
       "    </tr>\n",
       "    <tr>\n",
       "      <th>48618</th>\n",
       "      <td>Veggie</td>\n",
       "      <td>L</td>\n",
       "      <td>20.25</td>\n",
       "    </tr>\n",
       "    <tr>\n",
       "      <th>48619</th>\n",
       "      <td>Chicken</td>\n",
       "      <td>S</td>\n",
       "      <td>12.75</td>\n",
       "    </tr>\n",
       "  </tbody>\n",
       "</table>\n",
       "<p>48620 rows × 3 columns</p>\n",
       "</div>"
      ],
      "text/plain": [
       "      pizza_category pizza_size  unit_price\n",
       "0            Classic          M       13.25\n",
       "1            Classic          M       16.00\n",
       "2             Veggie          L       18.50\n",
       "3            Supreme          L       20.75\n",
       "4             Veggie          M       16.00\n",
       "...              ...        ...         ...\n",
       "48615        Chicken          M       16.75\n",
       "48616         Veggie          L       17.95\n",
       "48617        Classic          S       12.00\n",
       "48618         Veggie          L       20.25\n",
       "48619        Chicken          S       12.75\n",
       "\n",
       "[48620 rows x 3 columns]"
      ]
     },
     "execution_count": 181,
     "metadata": {},
     "output_type": "execute_result"
    }
   ],
   "source": [
    "price = df.loc[:, [\"pizza_category\",\"pizza_size\",\"unit_price\"]]\n",
    "price"
   ]
  },
  {
   "cell_type": "code",
   "execution_count": 267,
   "id": "c3d04b5c",
   "metadata": {
    "ExecuteTime": {
     "end_time": "2022-11-30T15:25:28.062350Z",
     "start_time": "2022-11-30T15:25:28.018333Z"
    },
    "scrolled": true
   },
   "outputs": [
    {
     "data": {
      "text/html": [
       "<div>\n",
       "<style scoped>\n",
       "    .dataframe tbody tr th:only-of-type {\n",
       "        vertical-align: middle;\n",
       "    }\n",
       "\n",
       "    .dataframe tbody tr th {\n",
       "        vertical-align: top;\n",
       "    }\n",
       "\n",
       "    .dataframe thead th {\n",
       "        text-align: right;\n",
       "    }\n",
       "</style>\n",
       "<table border=\"1\" class=\"dataframe\">\n",
       "  <thead>\n",
       "    <tr style=\"text-align: right;\">\n",
       "      <th>pizza_size</th>\n",
       "      <th>L</th>\n",
       "      <th>M</th>\n",
       "      <th>S</th>\n",
       "      <th>XL</th>\n",
       "      <th>XXL</th>\n",
       "    </tr>\n",
       "    <tr>\n",
       "      <th>pizza_category</th>\n",
       "      <th></th>\n",
       "      <th></th>\n",
       "      <th></th>\n",
       "      <th></th>\n",
       "      <th></th>\n",
       "    </tr>\n",
       "  </thead>\n",
       "  <tbody>\n",
       "    <tr>\n",
       "      <th>Chicken</th>\n",
       "      <td>20.750000</td>\n",
       "      <td>16.750000</td>\n",
       "      <td>12.750000</td>\n",
       "      <td>NaN</td>\n",
       "      <td>NaN</td>\n",
       "    </tr>\n",
       "    <tr>\n",
       "      <th>Classic</th>\n",
       "      <td>18.376850</td>\n",
       "      <td>14.739122</td>\n",
       "      <td>11.375021</td>\n",
       "      <td>25.5</td>\n",
       "      <td>35.95</td>\n",
       "    </tr>\n",
       "    <tr>\n",
       "      <th>Supreme</th>\n",
       "      <td>20.652837</td>\n",
       "      <td>16.429972</td>\n",
       "      <td>14.048149</td>\n",
       "      <td>NaN</td>\n",
       "      <td>NaN</td>\n",
       "    </tr>\n",
       "    <tr>\n",
       "      <th>Veggie</th>\n",
       "      <td>19.295383</td>\n",
       "      <td>15.938485</td>\n",
       "      <td>12.161352</td>\n",
       "      <td>NaN</td>\n",
       "      <td>NaN</td>\n",
       "    </tr>\n",
       "  </tbody>\n",
       "</table>\n",
       "</div>"
      ],
      "text/plain": [
       "pizza_size              L          M          S    XL    XXL\n",
       "pizza_category                                              \n",
       "Chicken         20.750000  16.750000  12.750000   NaN    NaN\n",
       "Classic         18.376850  14.739122  11.375021  25.5  35.95\n",
       "Supreme         20.652837  16.429972  14.048149   NaN    NaN\n",
       "Veggie          19.295383  15.938485  12.161352   NaN    NaN"
      ]
     },
     "execution_count": 267,
     "metadata": {},
     "output_type": "execute_result"
    }
   ],
   "source": [
    "price_pivot = pd.pivot_table(price, values='unit_price', index=[\"pizza_category\"],\n",
    "                    columns=['pizza_size'],aggfunc=np.mean)\n",
    "price_pivot"
   ]
  },
  {
   "cell_type": "code",
   "execution_count": 268,
   "id": "3c991072",
   "metadata": {
    "ExecuteTime": {
     "end_time": "2022-11-30T15:25:32.763776Z",
     "start_time": "2022-11-30T15:25:32.740995Z"
    },
    "scrolled": true
   },
   "outputs": [
    {
     "data": {
      "text/html": [
       "<div>\n",
       "<style scoped>\n",
       "    .dataframe tbody tr th:only-of-type {\n",
       "        vertical-align: middle;\n",
       "    }\n",
       "\n",
       "    .dataframe tbody tr th {\n",
       "        vertical-align: top;\n",
       "    }\n",
       "\n",
       "    .dataframe thead th {\n",
       "        text-align: right;\n",
       "    }\n",
       "</style>\n",
       "<table border=\"1\" class=\"dataframe\">\n",
       "  <thead>\n",
       "    <tr style=\"text-align: right;\">\n",
       "      <th></th>\n",
       "      <th>pizza_category</th>\n",
       "      <th>L</th>\n",
       "      <th>M</th>\n",
       "      <th>S</th>\n",
       "      <th>XL</th>\n",
       "      <th>XXL</th>\n",
       "    </tr>\n",
       "  </thead>\n",
       "  <tbody>\n",
       "    <tr>\n",
       "      <th>0</th>\n",
       "      <td>Chicken</td>\n",
       "      <td>20.750000</td>\n",
       "      <td>16.750000</td>\n",
       "      <td>12.750000</td>\n",
       "      <td>NaN</td>\n",
       "      <td>NaN</td>\n",
       "    </tr>\n",
       "    <tr>\n",
       "      <th>1</th>\n",
       "      <td>Classic</td>\n",
       "      <td>18.376850</td>\n",
       "      <td>14.739122</td>\n",
       "      <td>11.375021</td>\n",
       "      <td>25.5</td>\n",
       "      <td>35.95</td>\n",
       "    </tr>\n",
       "    <tr>\n",
       "      <th>2</th>\n",
       "      <td>Supreme</td>\n",
       "      <td>20.652837</td>\n",
       "      <td>16.429972</td>\n",
       "      <td>14.048149</td>\n",
       "      <td>NaN</td>\n",
       "      <td>NaN</td>\n",
       "    </tr>\n",
       "    <tr>\n",
       "      <th>3</th>\n",
       "      <td>Veggie</td>\n",
       "      <td>19.295383</td>\n",
       "      <td>15.938485</td>\n",
       "      <td>12.161352</td>\n",
       "      <td>NaN</td>\n",
       "      <td>NaN</td>\n",
       "    </tr>\n",
       "  </tbody>\n",
       "</table>\n",
       "</div>"
      ],
      "text/plain": [
       "  pizza_category          L          M          S    XL    XXL\n",
       "0        Chicken  20.750000  16.750000  12.750000   NaN    NaN\n",
       "1        Classic  18.376850  14.739122  11.375021  25.5  35.95\n",
       "2        Supreme  20.652837  16.429972  14.048149   NaN    NaN\n",
       "3         Veggie  19.295383  15.938485  12.161352   NaN    NaN"
      ]
     },
     "execution_count": 268,
     "metadata": {},
     "output_type": "execute_result"
    }
   ],
   "source": [
    "price_pivot = price_pivot.reset_index().rename_axis(None, axis=1)\n",
    "price_pivot"
   ]
  },
  {
   "cell_type": "code",
   "execution_count": 269,
   "id": "b6edb1cd",
   "metadata": {
    "ExecuteTime": {
     "end_time": "2022-11-30T15:25:38.494157Z",
     "start_time": "2022-11-30T15:25:38.473702Z"
    },
    "scrolled": true
   },
   "outputs": [
    {
     "data": {
      "text/html": [
       "<div>\n",
       "<style scoped>\n",
       "    .dataframe tbody tr th:only-of-type {\n",
       "        vertical-align: middle;\n",
       "    }\n",
       "\n",
       "    .dataframe tbody tr th {\n",
       "        vertical-align: top;\n",
       "    }\n",
       "\n",
       "    .dataframe thead th {\n",
       "        text-align: right;\n",
       "    }\n",
       "</style>\n",
       "<table border=\"1\" class=\"dataframe\">\n",
       "  <thead>\n",
       "    <tr style=\"text-align: right;\">\n",
       "      <th></th>\n",
       "      <th>L</th>\n",
       "      <th>M</th>\n",
       "      <th>S</th>\n",
       "      <th>XL</th>\n",
       "      <th>XXL</th>\n",
       "    </tr>\n",
       "    <tr>\n",
       "      <th>pizza_category</th>\n",
       "      <th></th>\n",
       "      <th></th>\n",
       "      <th></th>\n",
       "      <th></th>\n",
       "      <th></th>\n",
       "    </tr>\n",
       "  </thead>\n",
       "  <tbody>\n",
       "    <tr>\n",
       "      <th>Chicken</th>\n",
       "      <td>20.750000</td>\n",
       "      <td>16.750000</td>\n",
       "      <td>12.750000</td>\n",
       "      <td>NaN</td>\n",
       "      <td>NaN</td>\n",
       "    </tr>\n",
       "    <tr>\n",
       "      <th>Classic</th>\n",
       "      <td>18.376850</td>\n",
       "      <td>14.739122</td>\n",
       "      <td>11.375021</td>\n",
       "      <td>25.5</td>\n",
       "      <td>35.95</td>\n",
       "    </tr>\n",
       "    <tr>\n",
       "      <th>Supreme</th>\n",
       "      <td>20.652837</td>\n",
       "      <td>16.429972</td>\n",
       "      <td>14.048149</td>\n",
       "      <td>NaN</td>\n",
       "      <td>NaN</td>\n",
       "    </tr>\n",
       "    <tr>\n",
       "      <th>Veggie</th>\n",
       "      <td>19.295383</td>\n",
       "      <td>15.938485</td>\n",
       "      <td>12.161352</td>\n",
       "      <td>NaN</td>\n",
       "      <td>NaN</td>\n",
       "    </tr>\n",
       "  </tbody>\n",
       "</table>\n",
       "</div>"
      ],
      "text/plain": [
       "                        L          M          S    XL    XXL\n",
       "pizza_category                                              \n",
       "Chicken         20.750000  16.750000  12.750000   NaN    NaN\n",
       "Classic         18.376850  14.739122  11.375021  25.5  35.95\n",
       "Supreme         20.652837  16.429972  14.048149   NaN    NaN\n",
       "Veggie          19.295383  15.938485  12.161352   NaN    NaN"
      ]
     },
     "execution_count": 269,
     "metadata": {},
     "output_type": "execute_result"
    }
   ],
   "source": [
    "price_pivot.set_index([\"pizza_category\"],inplace=True)\n",
    "price_pivot"
   ]
  },
  {
   "cell_type": "code",
   "execution_count": 297,
   "id": "f292edc6",
   "metadata": {
    "ExecuteTime": {
     "end_time": "2022-11-30T15:53:16.237164Z",
     "start_time": "2022-11-30T15:53:16.211623Z"
    }
   },
   "outputs": [
    {
     "data": {
      "application/vnd.plotly.v1+json": {
       "config": {
        "plotlyServerURL": "https://plot.ly"
       },
       "data": [
        {
         "fill": "toself",
         "name": "Classic",
         "r": [
          18.37684976172561,
          14.73912237330037,
          11.375020920502092,
          25.5,
          35.95
         ],
         "theta": [
          "L",
          "M",
          "S",
          "XL",
          "XXL"
         ],
         "type": "scatterpolar"
        },
        {
         "fill": "toself",
         "name": "Supreme",
         "r": [
          20.652836721018538,
          16.42997234096052,
          14.048149262714414,
          null,
          null
         ],
         "theta": [
          "L",
          "M",
          "S",
          "XL",
          "XXL"
         ],
         "type": "scatterpolar"
        },
        {
         "fill": "toself",
         "name": "Veggie",
         "r": [
          19.295382861485844,
          15.93848536036036,
          12.161351556567958,
          null,
          null
         ],
         "theta": [
          "L",
          "M",
          "S",
          "XL",
          "XXL"
         ],
         "type": "scatterpolar"
        },
        {
         "fill": "toself",
         "name": "Chicken",
         "r": [
          20.75,
          16.75,
          12.75,
          null,
          null
         ],
         "theta": [
          "L",
          "M",
          "S",
          "XL",
          "XXL"
         ],
         "type": "scatterpolar"
        }
       ],
       "layout": {
        "polar": {
         "radialaxis": {
          "range": [
           0,
           40
          ],
          "visible": true
         }
        },
        "showlegend": true,
        "template": {
         "data": {
          "bar": [
           {
            "error_x": {
             "color": "#2a3f5f"
            },
            "error_y": {
             "color": "#2a3f5f"
            },
            "marker": {
             "line": {
              "color": "#E5ECF6",
              "width": 0.5
             },
             "pattern": {
              "fillmode": "overlay",
              "size": 10,
              "solidity": 0.2
             }
            },
            "type": "bar"
           }
          ],
          "barpolar": [
           {
            "marker": {
             "line": {
              "color": "#E5ECF6",
              "width": 0.5
             },
             "pattern": {
              "fillmode": "overlay",
              "size": 10,
              "solidity": 0.2
             }
            },
            "type": "barpolar"
           }
          ],
          "carpet": [
           {
            "aaxis": {
             "endlinecolor": "#2a3f5f",
             "gridcolor": "white",
             "linecolor": "white",
             "minorgridcolor": "white",
             "startlinecolor": "#2a3f5f"
            },
            "baxis": {
             "endlinecolor": "#2a3f5f",
             "gridcolor": "white",
             "linecolor": "white",
             "minorgridcolor": "white",
             "startlinecolor": "#2a3f5f"
            },
            "type": "carpet"
           }
          ],
          "choropleth": [
           {
            "colorbar": {
             "outlinewidth": 0,
             "ticks": ""
            },
            "type": "choropleth"
           }
          ],
          "contour": [
           {
            "colorbar": {
             "outlinewidth": 0,
             "ticks": ""
            },
            "colorscale": [
             [
              0,
              "#0d0887"
             ],
             [
              0.1111111111111111,
              "#46039f"
             ],
             [
              0.2222222222222222,
              "#7201a8"
             ],
             [
              0.3333333333333333,
              "#9c179e"
             ],
             [
              0.4444444444444444,
              "#bd3786"
             ],
             [
              0.5555555555555556,
              "#d8576b"
             ],
             [
              0.6666666666666666,
              "#ed7953"
             ],
             [
              0.7777777777777778,
              "#fb9f3a"
             ],
             [
              0.8888888888888888,
              "#fdca26"
             ],
             [
              1,
              "#f0f921"
             ]
            ],
            "type": "contour"
           }
          ],
          "contourcarpet": [
           {
            "colorbar": {
             "outlinewidth": 0,
             "ticks": ""
            },
            "type": "contourcarpet"
           }
          ],
          "heatmap": [
           {
            "colorbar": {
             "outlinewidth": 0,
             "ticks": ""
            },
            "colorscale": [
             [
              0,
              "#0d0887"
             ],
             [
              0.1111111111111111,
              "#46039f"
             ],
             [
              0.2222222222222222,
              "#7201a8"
             ],
             [
              0.3333333333333333,
              "#9c179e"
             ],
             [
              0.4444444444444444,
              "#bd3786"
             ],
             [
              0.5555555555555556,
              "#d8576b"
             ],
             [
              0.6666666666666666,
              "#ed7953"
             ],
             [
              0.7777777777777778,
              "#fb9f3a"
             ],
             [
              0.8888888888888888,
              "#fdca26"
             ],
             [
              1,
              "#f0f921"
             ]
            ],
            "type": "heatmap"
           }
          ],
          "heatmapgl": [
           {
            "colorbar": {
             "outlinewidth": 0,
             "ticks": ""
            },
            "colorscale": [
             [
              0,
              "#0d0887"
             ],
             [
              0.1111111111111111,
              "#46039f"
             ],
             [
              0.2222222222222222,
              "#7201a8"
             ],
             [
              0.3333333333333333,
              "#9c179e"
             ],
             [
              0.4444444444444444,
              "#bd3786"
             ],
             [
              0.5555555555555556,
              "#d8576b"
             ],
             [
              0.6666666666666666,
              "#ed7953"
             ],
             [
              0.7777777777777778,
              "#fb9f3a"
             ],
             [
              0.8888888888888888,
              "#fdca26"
             ],
             [
              1,
              "#f0f921"
             ]
            ],
            "type": "heatmapgl"
           }
          ],
          "histogram": [
           {
            "marker": {
             "pattern": {
              "fillmode": "overlay",
              "size": 10,
              "solidity": 0.2
             }
            },
            "type": "histogram"
           }
          ],
          "histogram2d": [
           {
            "colorbar": {
             "outlinewidth": 0,
             "ticks": ""
            },
            "colorscale": [
             [
              0,
              "#0d0887"
             ],
             [
              0.1111111111111111,
              "#46039f"
             ],
             [
              0.2222222222222222,
              "#7201a8"
             ],
             [
              0.3333333333333333,
              "#9c179e"
             ],
             [
              0.4444444444444444,
              "#bd3786"
             ],
             [
              0.5555555555555556,
              "#d8576b"
             ],
             [
              0.6666666666666666,
              "#ed7953"
             ],
             [
              0.7777777777777778,
              "#fb9f3a"
             ],
             [
              0.8888888888888888,
              "#fdca26"
             ],
             [
              1,
              "#f0f921"
             ]
            ],
            "type": "histogram2d"
           }
          ],
          "histogram2dcontour": [
           {
            "colorbar": {
             "outlinewidth": 0,
             "ticks": ""
            },
            "colorscale": [
             [
              0,
              "#0d0887"
             ],
             [
              0.1111111111111111,
              "#46039f"
             ],
             [
              0.2222222222222222,
              "#7201a8"
             ],
             [
              0.3333333333333333,
              "#9c179e"
             ],
             [
              0.4444444444444444,
              "#bd3786"
             ],
             [
              0.5555555555555556,
              "#d8576b"
             ],
             [
              0.6666666666666666,
              "#ed7953"
             ],
             [
              0.7777777777777778,
              "#fb9f3a"
             ],
             [
              0.8888888888888888,
              "#fdca26"
             ],
             [
              1,
              "#f0f921"
             ]
            ],
            "type": "histogram2dcontour"
           }
          ],
          "mesh3d": [
           {
            "colorbar": {
             "outlinewidth": 0,
             "ticks": ""
            },
            "type": "mesh3d"
           }
          ],
          "parcoords": [
           {
            "line": {
             "colorbar": {
              "outlinewidth": 0,
              "ticks": ""
             }
            },
            "type": "parcoords"
           }
          ],
          "pie": [
           {
            "automargin": true,
            "type": "pie"
           }
          ],
          "scatter": [
           {
            "fillpattern": {
             "fillmode": "overlay",
             "size": 10,
             "solidity": 0.2
            },
            "type": "scatter"
           }
          ],
          "scatter3d": [
           {
            "line": {
             "colorbar": {
              "outlinewidth": 0,
              "ticks": ""
             }
            },
            "marker": {
             "colorbar": {
              "outlinewidth": 0,
              "ticks": ""
             }
            },
            "type": "scatter3d"
           }
          ],
          "scattercarpet": [
           {
            "marker": {
             "colorbar": {
              "outlinewidth": 0,
              "ticks": ""
             }
            },
            "type": "scattercarpet"
           }
          ],
          "scattergeo": [
           {
            "marker": {
             "colorbar": {
              "outlinewidth": 0,
              "ticks": ""
             }
            },
            "type": "scattergeo"
           }
          ],
          "scattergl": [
           {
            "marker": {
             "colorbar": {
              "outlinewidth": 0,
              "ticks": ""
             }
            },
            "type": "scattergl"
           }
          ],
          "scattermapbox": [
           {
            "marker": {
             "colorbar": {
              "outlinewidth": 0,
              "ticks": ""
             }
            },
            "type": "scattermapbox"
           }
          ],
          "scatterpolar": [
           {
            "marker": {
             "colorbar": {
              "outlinewidth": 0,
              "ticks": ""
             }
            },
            "type": "scatterpolar"
           }
          ],
          "scatterpolargl": [
           {
            "marker": {
             "colorbar": {
              "outlinewidth": 0,
              "ticks": ""
             }
            },
            "type": "scatterpolargl"
           }
          ],
          "scatterternary": [
           {
            "marker": {
             "colorbar": {
              "outlinewidth": 0,
              "ticks": ""
             }
            },
            "type": "scatterternary"
           }
          ],
          "surface": [
           {
            "colorbar": {
             "outlinewidth": 0,
             "ticks": ""
            },
            "colorscale": [
             [
              0,
              "#0d0887"
             ],
             [
              0.1111111111111111,
              "#46039f"
             ],
             [
              0.2222222222222222,
              "#7201a8"
             ],
             [
              0.3333333333333333,
              "#9c179e"
             ],
             [
              0.4444444444444444,
              "#bd3786"
             ],
             [
              0.5555555555555556,
              "#d8576b"
             ],
             [
              0.6666666666666666,
              "#ed7953"
             ],
             [
              0.7777777777777778,
              "#fb9f3a"
             ],
             [
              0.8888888888888888,
              "#fdca26"
             ],
             [
              1,
              "#f0f921"
             ]
            ],
            "type": "surface"
           }
          ],
          "table": [
           {
            "cells": {
             "fill": {
              "color": "#EBF0F8"
             },
             "line": {
              "color": "white"
             }
            },
            "header": {
             "fill": {
              "color": "#C8D4E3"
             },
             "line": {
              "color": "white"
             }
            },
            "type": "table"
           }
          ]
         },
         "layout": {
          "annotationdefaults": {
           "arrowcolor": "#2a3f5f",
           "arrowhead": 0,
           "arrowwidth": 1
          },
          "autotypenumbers": "strict",
          "coloraxis": {
           "colorbar": {
            "outlinewidth": 0,
            "ticks": ""
           }
          },
          "colorscale": {
           "diverging": [
            [
             0,
             "#8e0152"
            ],
            [
             0.1,
             "#c51b7d"
            ],
            [
             0.2,
             "#de77ae"
            ],
            [
             0.3,
             "#f1b6da"
            ],
            [
             0.4,
             "#fde0ef"
            ],
            [
             0.5,
             "#f7f7f7"
            ],
            [
             0.6,
             "#e6f5d0"
            ],
            [
             0.7,
             "#b8e186"
            ],
            [
             0.8,
             "#7fbc41"
            ],
            [
             0.9,
             "#4d9221"
            ],
            [
             1,
             "#276419"
            ]
           ],
           "sequential": [
            [
             0,
             "#0d0887"
            ],
            [
             0.1111111111111111,
             "#46039f"
            ],
            [
             0.2222222222222222,
             "#7201a8"
            ],
            [
             0.3333333333333333,
             "#9c179e"
            ],
            [
             0.4444444444444444,
             "#bd3786"
            ],
            [
             0.5555555555555556,
             "#d8576b"
            ],
            [
             0.6666666666666666,
             "#ed7953"
            ],
            [
             0.7777777777777778,
             "#fb9f3a"
            ],
            [
             0.8888888888888888,
             "#fdca26"
            ],
            [
             1,
             "#f0f921"
            ]
           ],
           "sequentialminus": [
            [
             0,
             "#0d0887"
            ],
            [
             0.1111111111111111,
             "#46039f"
            ],
            [
             0.2222222222222222,
             "#7201a8"
            ],
            [
             0.3333333333333333,
             "#9c179e"
            ],
            [
             0.4444444444444444,
             "#bd3786"
            ],
            [
             0.5555555555555556,
             "#d8576b"
            ],
            [
             0.6666666666666666,
             "#ed7953"
            ],
            [
             0.7777777777777778,
             "#fb9f3a"
            ],
            [
             0.8888888888888888,
             "#fdca26"
            ],
            [
             1,
             "#f0f921"
            ]
           ]
          },
          "colorway": [
           "#636efa",
           "#EF553B",
           "#00cc96",
           "#ab63fa",
           "#FFA15A",
           "#19d3f3",
           "#FF6692",
           "#B6E880",
           "#FF97FF",
           "#FECB52"
          ],
          "font": {
           "color": "#2a3f5f"
          },
          "geo": {
           "bgcolor": "white",
           "lakecolor": "white",
           "landcolor": "#E5ECF6",
           "showlakes": true,
           "showland": true,
           "subunitcolor": "white"
          },
          "hoverlabel": {
           "align": "left"
          },
          "hovermode": "closest",
          "mapbox": {
           "style": "light"
          },
          "paper_bgcolor": "white",
          "plot_bgcolor": "#E5ECF6",
          "polar": {
           "angularaxis": {
            "gridcolor": "white",
            "linecolor": "white",
            "ticks": ""
           },
           "bgcolor": "#E5ECF6",
           "radialaxis": {
            "gridcolor": "white",
            "linecolor": "white",
            "ticks": ""
           }
          },
          "scene": {
           "xaxis": {
            "backgroundcolor": "#E5ECF6",
            "gridcolor": "white",
            "gridwidth": 2,
            "linecolor": "white",
            "showbackground": true,
            "ticks": "",
            "zerolinecolor": "white"
           },
           "yaxis": {
            "backgroundcolor": "#E5ECF6",
            "gridcolor": "white",
            "gridwidth": 2,
            "linecolor": "white",
            "showbackground": true,
            "ticks": "",
            "zerolinecolor": "white"
           },
           "zaxis": {
            "backgroundcolor": "#E5ECF6",
            "gridcolor": "white",
            "gridwidth": 2,
            "linecolor": "white",
            "showbackground": true,
            "ticks": "",
            "zerolinecolor": "white"
           }
          },
          "shapedefaults": {
           "line": {
            "color": "#2a3f5f"
           }
          },
          "ternary": {
           "aaxis": {
            "gridcolor": "white",
            "linecolor": "white",
            "ticks": ""
           },
           "baxis": {
            "gridcolor": "white",
            "linecolor": "white",
            "ticks": ""
           },
           "bgcolor": "#E5ECF6",
           "caxis": {
            "gridcolor": "white",
            "linecolor": "white",
            "ticks": ""
           }
          },
          "title": {
           "x": 0.05
          },
          "xaxis": {
           "automargin": true,
           "gridcolor": "white",
           "linecolor": "white",
           "ticks": "",
           "title": {
            "standoff": 15
           },
           "zerolinecolor": "white",
           "zerolinewidth": 2
          },
          "yaxis": {
           "automargin": true,
           "gridcolor": "white",
           "linecolor": "white",
           "ticks": "",
           "title": {
            "standoff": 15
           },
           "zerolinecolor": "white",
           "zerolinewidth": 2
          }
         }
        }
       }
      },
      "text/html": [
       "<div>                            <div id=\"476e1a4b-a375-4b3c-92bf-3baade19a836\" class=\"plotly-graph-div\" style=\"height:525px; width:100%;\"></div>            <script type=\"text/javascript\">                require([\"plotly\"], function(Plotly) {                    window.PLOTLYENV=window.PLOTLYENV || {};                                    if (document.getElementById(\"476e1a4b-a375-4b3c-92bf-3baade19a836\")) {                    Plotly.newPlot(                        \"476e1a4b-a375-4b3c-92bf-3baade19a836\",                        [{\"fill\":\"toself\",\"name\":\"Classic\",\"r\":[18.37684976172561,14.73912237330037,11.375020920502092,25.5,35.95],\"theta\":[\"L\",\"M\",\"S\",\"XL\",\"XXL\"],\"type\":\"scatterpolar\"},{\"fill\":\"toself\",\"name\":\"Supreme\",\"r\":[20.652836721018538,16.42997234096052,14.048149262714414,null,null],\"theta\":[\"L\",\"M\",\"S\",\"XL\",\"XXL\"],\"type\":\"scatterpolar\"},{\"fill\":\"toself\",\"name\":\"Veggie\",\"r\":[19.295382861485844,15.93848536036036,12.161351556567958,null,null],\"theta\":[\"L\",\"M\",\"S\",\"XL\",\"XXL\"],\"type\":\"scatterpolar\"},{\"fill\":\"toself\",\"name\":\"Chicken\",\"r\":[20.75,16.75,12.75,null,null],\"theta\":[\"L\",\"M\",\"S\",\"XL\",\"XXL\"],\"type\":\"scatterpolar\"}],                        {\"template\":{\"data\":{\"histogram2dcontour\":[{\"type\":\"histogram2dcontour\",\"colorbar\":{\"outlinewidth\":0,\"ticks\":\"\"},\"colorscale\":[[0.0,\"#0d0887\"],[0.1111111111111111,\"#46039f\"],[0.2222222222222222,\"#7201a8\"],[0.3333333333333333,\"#9c179e\"],[0.4444444444444444,\"#bd3786\"],[0.5555555555555556,\"#d8576b\"],[0.6666666666666666,\"#ed7953\"],[0.7777777777777778,\"#fb9f3a\"],[0.8888888888888888,\"#fdca26\"],[1.0,\"#f0f921\"]]}],\"choropleth\":[{\"type\":\"choropleth\",\"colorbar\":{\"outlinewidth\":0,\"ticks\":\"\"}}],\"histogram2d\":[{\"type\":\"histogram2d\",\"colorbar\":{\"outlinewidth\":0,\"ticks\":\"\"},\"colorscale\":[[0.0,\"#0d0887\"],[0.1111111111111111,\"#46039f\"],[0.2222222222222222,\"#7201a8\"],[0.3333333333333333,\"#9c179e\"],[0.4444444444444444,\"#bd3786\"],[0.5555555555555556,\"#d8576b\"],[0.6666666666666666,\"#ed7953\"],[0.7777777777777778,\"#fb9f3a\"],[0.8888888888888888,\"#fdca26\"],[1.0,\"#f0f921\"]]}],\"heatmap\":[{\"type\":\"heatmap\",\"colorbar\":{\"outlinewidth\":0,\"ticks\":\"\"},\"colorscale\":[[0.0,\"#0d0887\"],[0.1111111111111111,\"#46039f\"],[0.2222222222222222,\"#7201a8\"],[0.3333333333333333,\"#9c179e\"],[0.4444444444444444,\"#bd3786\"],[0.5555555555555556,\"#d8576b\"],[0.6666666666666666,\"#ed7953\"],[0.7777777777777778,\"#fb9f3a\"],[0.8888888888888888,\"#fdca26\"],[1.0,\"#f0f921\"]]}],\"heatmapgl\":[{\"type\":\"heatmapgl\",\"colorbar\":{\"outlinewidth\":0,\"ticks\":\"\"},\"colorscale\":[[0.0,\"#0d0887\"],[0.1111111111111111,\"#46039f\"],[0.2222222222222222,\"#7201a8\"],[0.3333333333333333,\"#9c179e\"],[0.4444444444444444,\"#bd3786\"],[0.5555555555555556,\"#d8576b\"],[0.6666666666666666,\"#ed7953\"],[0.7777777777777778,\"#fb9f3a\"],[0.8888888888888888,\"#fdca26\"],[1.0,\"#f0f921\"]]}],\"contourcarpet\":[{\"type\":\"contourcarpet\",\"colorbar\":{\"outlinewidth\":0,\"ticks\":\"\"}}],\"contour\":[{\"type\":\"contour\",\"colorbar\":{\"outlinewidth\":0,\"ticks\":\"\"},\"colorscale\":[[0.0,\"#0d0887\"],[0.1111111111111111,\"#46039f\"],[0.2222222222222222,\"#7201a8\"],[0.3333333333333333,\"#9c179e\"],[0.4444444444444444,\"#bd3786\"],[0.5555555555555556,\"#d8576b\"],[0.6666666666666666,\"#ed7953\"],[0.7777777777777778,\"#fb9f3a\"],[0.8888888888888888,\"#fdca26\"],[1.0,\"#f0f921\"]]}],\"surface\":[{\"type\":\"surface\",\"colorbar\":{\"outlinewidth\":0,\"ticks\":\"\"},\"colorscale\":[[0.0,\"#0d0887\"],[0.1111111111111111,\"#46039f\"],[0.2222222222222222,\"#7201a8\"],[0.3333333333333333,\"#9c179e\"],[0.4444444444444444,\"#bd3786\"],[0.5555555555555556,\"#d8576b\"],[0.6666666666666666,\"#ed7953\"],[0.7777777777777778,\"#fb9f3a\"],[0.8888888888888888,\"#fdca26\"],[1.0,\"#f0f921\"]]}],\"mesh3d\":[{\"type\":\"mesh3d\",\"colorbar\":{\"outlinewidth\":0,\"ticks\":\"\"}}],\"scatter\":[{\"fillpattern\":{\"fillmode\":\"overlay\",\"size\":10,\"solidity\":0.2},\"type\":\"scatter\"}],\"parcoords\":[{\"type\":\"parcoords\",\"line\":{\"colorbar\":{\"outlinewidth\":0,\"ticks\":\"\"}}}],\"scatterpolargl\":[{\"type\":\"scatterpolargl\",\"marker\":{\"colorbar\":{\"outlinewidth\":0,\"ticks\":\"\"}}}],\"bar\":[{\"error_x\":{\"color\":\"#2a3f5f\"},\"error_y\":{\"color\":\"#2a3f5f\"},\"marker\":{\"line\":{\"color\":\"#E5ECF6\",\"width\":0.5},\"pattern\":{\"fillmode\":\"overlay\",\"size\":10,\"solidity\":0.2}},\"type\":\"bar\"}],\"scattergeo\":[{\"type\":\"scattergeo\",\"marker\":{\"colorbar\":{\"outlinewidth\":0,\"ticks\":\"\"}}}],\"scatterpolar\":[{\"type\":\"scatterpolar\",\"marker\":{\"colorbar\":{\"outlinewidth\":0,\"ticks\":\"\"}}}],\"histogram\":[{\"marker\":{\"pattern\":{\"fillmode\":\"overlay\",\"size\":10,\"solidity\":0.2}},\"type\":\"histogram\"}],\"scattergl\":[{\"type\":\"scattergl\",\"marker\":{\"colorbar\":{\"outlinewidth\":0,\"ticks\":\"\"}}}],\"scatter3d\":[{\"type\":\"scatter3d\",\"line\":{\"colorbar\":{\"outlinewidth\":0,\"ticks\":\"\"}},\"marker\":{\"colorbar\":{\"outlinewidth\":0,\"ticks\":\"\"}}}],\"scattermapbox\":[{\"type\":\"scattermapbox\",\"marker\":{\"colorbar\":{\"outlinewidth\":0,\"ticks\":\"\"}}}],\"scatterternary\":[{\"type\":\"scatterternary\",\"marker\":{\"colorbar\":{\"outlinewidth\":0,\"ticks\":\"\"}}}],\"scattercarpet\":[{\"type\":\"scattercarpet\",\"marker\":{\"colorbar\":{\"outlinewidth\":0,\"ticks\":\"\"}}}],\"carpet\":[{\"aaxis\":{\"endlinecolor\":\"#2a3f5f\",\"gridcolor\":\"white\",\"linecolor\":\"white\",\"minorgridcolor\":\"white\",\"startlinecolor\":\"#2a3f5f\"},\"baxis\":{\"endlinecolor\":\"#2a3f5f\",\"gridcolor\":\"white\",\"linecolor\":\"white\",\"minorgridcolor\":\"white\",\"startlinecolor\":\"#2a3f5f\"},\"type\":\"carpet\"}],\"table\":[{\"cells\":{\"fill\":{\"color\":\"#EBF0F8\"},\"line\":{\"color\":\"white\"}},\"header\":{\"fill\":{\"color\":\"#C8D4E3\"},\"line\":{\"color\":\"white\"}},\"type\":\"table\"}],\"barpolar\":[{\"marker\":{\"line\":{\"color\":\"#E5ECF6\",\"width\":0.5},\"pattern\":{\"fillmode\":\"overlay\",\"size\":10,\"solidity\":0.2}},\"type\":\"barpolar\"}],\"pie\":[{\"automargin\":true,\"type\":\"pie\"}]},\"layout\":{\"autotypenumbers\":\"strict\",\"colorway\":[\"#636efa\",\"#EF553B\",\"#00cc96\",\"#ab63fa\",\"#FFA15A\",\"#19d3f3\",\"#FF6692\",\"#B6E880\",\"#FF97FF\",\"#FECB52\"],\"font\":{\"color\":\"#2a3f5f\"},\"hovermode\":\"closest\",\"hoverlabel\":{\"align\":\"left\"},\"paper_bgcolor\":\"white\",\"plot_bgcolor\":\"#E5ECF6\",\"polar\":{\"bgcolor\":\"#E5ECF6\",\"angularaxis\":{\"gridcolor\":\"white\",\"linecolor\":\"white\",\"ticks\":\"\"},\"radialaxis\":{\"gridcolor\":\"white\",\"linecolor\":\"white\",\"ticks\":\"\"}},\"ternary\":{\"bgcolor\":\"#E5ECF6\",\"aaxis\":{\"gridcolor\":\"white\",\"linecolor\":\"white\",\"ticks\":\"\"},\"baxis\":{\"gridcolor\":\"white\",\"linecolor\":\"white\",\"ticks\":\"\"},\"caxis\":{\"gridcolor\":\"white\",\"linecolor\":\"white\",\"ticks\":\"\"}},\"coloraxis\":{\"colorbar\":{\"outlinewidth\":0,\"ticks\":\"\"}},\"colorscale\":{\"sequential\":[[0.0,\"#0d0887\"],[0.1111111111111111,\"#46039f\"],[0.2222222222222222,\"#7201a8\"],[0.3333333333333333,\"#9c179e\"],[0.4444444444444444,\"#bd3786\"],[0.5555555555555556,\"#d8576b\"],[0.6666666666666666,\"#ed7953\"],[0.7777777777777778,\"#fb9f3a\"],[0.8888888888888888,\"#fdca26\"],[1.0,\"#f0f921\"]],\"sequentialminus\":[[0.0,\"#0d0887\"],[0.1111111111111111,\"#46039f\"],[0.2222222222222222,\"#7201a8\"],[0.3333333333333333,\"#9c179e\"],[0.4444444444444444,\"#bd3786\"],[0.5555555555555556,\"#d8576b\"],[0.6666666666666666,\"#ed7953\"],[0.7777777777777778,\"#fb9f3a\"],[0.8888888888888888,\"#fdca26\"],[1.0,\"#f0f921\"]],\"diverging\":[[0,\"#8e0152\"],[0.1,\"#c51b7d\"],[0.2,\"#de77ae\"],[0.3,\"#f1b6da\"],[0.4,\"#fde0ef\"],[0.5,\"#f7f7f7\"],[0.6,\"#e6f5d0\"],[0.7,\"#b8e186\"],[0.8,\"#7fbc41\"],[0.9,\"#4d9221\"],[1,\"#276419\"]]},\"xaxis\":{\"gridcolor\":\"white\",\"linecolor\":\"white\",\"ticks\":\"\",\"title\":{\"standoff\":15},\"zerolinecolor\":\"white\",\"automargin\":true,\"zerolinewidth\":2},\"yaxis\":{\"gridcolor\":\"white\",\"linecolor\":\"white\",\"ticks\":\"\",\"title\":{\"standoff\":15},\"zerolinecolor\":\"white\",\"automargin\":true,\"zerolinewidth\":2},\"scene\":{\"xaxis\":{\"backgroundcolor\":\"#E5ECF6\",\"gridcolor\":\"white\",\"linecolor\":\"white\",\"showbackground\":true,\"ticks\":\"\",\"zerolinecolor\":\"white\",\"gridwidth\":2},\"yaxis\":{\"backgroundcolor\":\"#E5ECF6\",\"gridcolor\":\"white\",\"linecolor\":\"white\",\"showbackground\":true,\"ticks\":\"\",\"zerolinecolor\":\"white\",\"gridwidth\":2},\"zaxis\":{\"backgroundcolor\":\"#E5ECF6\",\"gridcolor\":\"white\",\"linecolor\":\"white\",\"showbackground\":true,\"ticks\":\"\",\"zerolinecolor\":\"white\",\"gridwidth\":2}},\"shapedefaults\":{\"line\":{\"color\":\"#2a3f5f\"}},\"annotationdefaults\":{\"arrowcolor\":\"#2a3f5f\",\"arrowhead\":0,\"arrowwidth\":1},\"geo\":{\"bgcolor\":\"white\",\"landcolor\":\"#E5ECF6\",\"subunitcolor\":\"white\",\"showland\":true,\"showlakes\":true,\"lakecolor\":\"white\"},\"title\":{\"x\":0.05},\"mapbox\":{\"style\":\"light\"}}},\"polar\":{\"radialaxis\":{\"visible\":true,\"range\":[0,40]}},\"showlegend\":true},                        {\"responsive\": true}                    ).then(function(){\n",
       "                            \n",
       "var gd = document.getElementById('476e1a4b-a375-4b3c-92bf-3baade19a836');\n",
       "var x = new MutationObserver(function (mutations, observer) {{\n",
       "        var display = window.getComputedStyle(gd).display;\n",
       "        if (!display || display === 'none') {{\n",
       "            console.log([gd, 'removed!']);\n",
       "            Plotly.purge(gd);\n",
       "            observer.disconnect();\n",
       "        }}\n",
       "}});\n",
       "\n",
       "// Listen for the removal of the full notebook cells\n",
       "var notebookContainer = gd.closest('#notebook-container');\n",
       "if (notebookContainer) {{\n",
       "    x.observe(notebookContainer, {childList: true});\n",
       "}}\n",
       "\n",
       "// Listen for the clearing of the current output cell\n",
       "var outputEl = gd.closest('.output');\n",
       "if (outputEl) {{\n",
       "    x.observe(outputEl, {childList: true});\n",
       "}}\n",
       "\n",
       "                        })                };                });            </script>        </div>"
      ]
     },
     "metadata": {},
     "output_type": "display_data"
    }
   ],
   "source": [
    "categories = price_pivot.columns\n",
    "\n",
    "fig = go.Figure()\n",
    "\n",
    "\n",
    "fig.add_trace(go.Scatterpolar(\n",
    "      r=list(price_pivot.loc[\"Classic\"].values),\n",
    "      theta=categories,\n",
    "      fill='toself',\n",
    "      name='Classic'\n",
    "))\n",
    "\n",
    "\n",
    "fig.add_trace(go.Scatterpolar(\n",
    "      r=list(price_pivot.loc[\"Supreme\"].values),\n",
    "      theta=categories,\n",
    "      fill='toself',\n",
    "      name='Supreme'\n",
    "))\n",
    "\n",
    "fig.add_trace(go.Scatterpolar(\n",
    "      r=list(price_pivot.loc[\"Veggie\"].values),\n",
    "      theta=categories,\n",
    "      fill='toself',\n",
    "      name='Veggie'\n",
    "))\n",
    "\n",
    "fig.add_trace(go.Scatterpolar(\n",
    "      r=list(price_pivot.loc[\"Chicken\"].values),\n",
    "      theta=categories,\n",
    "      fill='toself',\n",
    "      name='Chicken'\n",
    "))\n",
    "\n",
    "fig.update_layout(\n",
    "  polar=dict(\n",
    "    radialaxis=dict(\n",
    "      visible=True,\n",
    "      range=[0, 40]\n",
    "    )),\n",
    "  showlegend=True\n",
    ")\n",
    "\n",
    "fig.show()"
   ]
  },
  {
   "cell_type": "markdown",
   "id": "016770fc",
   "metadata": {},
   "source": [
    "## The most popular pizza"
   ]
  },
  {
   "cell_type": "code",
   "execution_count": 370,
   "id": "40985417",
   "metadata": {
    "ExecuteTime": {
     "end_time": "2022-12-01T16:24:18.568840Z",
     "start_time": "2022-12-01T16:24:17.576133Z"
    }
   },
   "outputs": [
    {
     "data": {
      "application/vnd.plotly.v1+json": {
       "config": {
        "plotlyServerURL": "https://plot.ly"
       },
       "data": [
        {
         "branchvalues": "total",
         "domain": {
          "x": [
           0,
           1
          ],
          "y": [
           0,
           1
          ]
         },
         "hovertemplate": "labels=%{label}<br>quantity=%{value}<br>parent=%{parent}<br>id=%{id}<extra></extra>",
         "ids": [
          "Chicken/The Barbecue Chicken Pizza/L",
          "Supreme/The Calabrese Pizza/L",
          "Chicken/The California Chicken Pizza/L",
          "Chicken/The Chicken Alfredo Pizza/L",
          "Chicken/The Chicken Pesto Pizza/L",
          "Classic/The Classic Deluxe Pizza/L",
          "Veggie/The Five Cheese Pizza/L",
          "Veggie/The Four Cheese Pizza/L",
          "Classic/The Greek Pizza/L",
          "Veggie/The Green Garden Pizza/L",
          "Classic/The Hawaiian Pizza/L",
          "Classic/The Italian Capocollo Pizza/L",
          "Supreme/The Italian Supreme Pizza/L",
          "Veggie/The Italian Vegetables Pizza/L",
          "Veggie/The Mediterranean Pizza/L",
          "Veggie/The Mexicana Pizza/L",
          "Classic/The Napolitana Pizza/L",
          "Supreme/The Pepper Salami Pizza/L",
          "Classic/The Pepperoni Pizza/L",
          "Classic/The Pepperoni, Mushroom, and Peppers Pizza/L",
          "Supreme/The Prosciutto and Arugula Pizza/L",
          "Supreme/The Sicilian Pizza/L",
          "Supreme/The Soppressata Pizza/L",
          "Chicken/The Southwest Chicken Pizza/L",
          "Supreme/The Spicy Italian Pizza/L",
          "Veggie/The Spinach Pesto Pizza/L",
          "Supreme/The Spinach Supreme Pizza/L",
          "Veggie/The Spinach and Feta Pizza/L",
          "Chicken/The Thai Chicken Pizza/L",
          "Veggie/The Vegetables + Vegetables Pizza/L",
          "Chicken/The Barbecue Chicken Pizza/M",
          "Supreme/The Calabrese Pizza/M",
          "Chicken/The California Chicken Pizza/M",
          "Chicken/The Chicken Alfredo Pizza/M",
          "Chicken/The Chicken Pesto Pizza/M",
          "Classic/The Classic Deluxe Pizza/M",
          "Veggie/The Four Cheese Pizza/M",
          "Classic/The Greek Pizza/M",
          "Veggie/The Green Garden Pizza/M",
          "Classic/The Hawaiian Pizza/M",
          "Classic/The Italian Capocollo Pizza/M",
          "Supreme/The Italian Supreme Pizza/M",
          "Veggie/The Italian Vegetables Pizza/M",
          "Veggie/The Mediterranean Pizza/M",
          "Veggie/The Mexicana Pizza/M",
          "Classic/The Napolitana Pizza/M",
          "Supreme/The Pepper Salami Pizza/M",
          "Classic/The Pepperoni Pizza/M",
          "Classic/The Pepperoni, Mushroom, and Peppers Pizza/M",
          "Supreme/The Prosciutto and Arugula Pizza/M",
          "Supreme/The Sicilian Pizza/M",
          "Supreme/The Soppressata Pizza/M",
          "Chicken/The Southwest Chicken Pizza/M",
          "Supreme/The Spicy Italian Pizza/M",
          "Veggie/The Spinach Pesto Pizza/M",
          "Supreme/The Spinach Supreme Pizza/M",
          "Veggie/The Spinach and Feta Pizza/M",
          "Chicken/The Thai Chicken Pizza/M",
          "Veggie/The Vegetables + Vegetables Pizza/M",
          "Chicken/The Barbecue Chicken Pizza/S",
          "Classic/The Big Meat Pizza/S",
          "Supreme/The Brie Carre Pizza/S",
          "Supreme/The Calabrese Pizza/S",
          "Chicken/The California Chicken Pizza/S",
          "Chicken/The Chicken Alfredo Pizza/S",
          "Chicken/The Chicken Pesto Pizza/S",
          "Classic/The Classic Deluxe Pizza/S",
          "Classic/The Greek Pizza/S",
          "Veggie/The Green Garden Pizza/S",
          "Classic/The Hawaiian Pizza/S",
          "Classic/The Italian Capocollo Pizza/S",
          "Supreme/The Italian Supreme Pizza/S",
          "Veggie/The Italian Vegetables Pizza/S",
          "Veggie/The Mediterranean Pizza/S",
          "Veggie/The Mexicana Pizza/S",
          "Classic/The Napolitana Pizza/S",
          "Supreme/The Pepper Salami Pizza/S",
          "Classic/The Pepperoni Pizza/S",
          "Classic/The Pepperoni, Mushroom, and Peppers Pizza/S",
          "Supreme/The Prosciutto and Arugula Pizza/S",
          "Supreme/The Sicilian Pizza/S",
          "Supreme/The Soppressata Pizza/S",
          "Chicken/The Southwest Chicken Pizza/S",
          "Supreme/The Spicy Italian Pizza/S",
          "Veggie/The Spinach Pesto Pizza/S",
          "Supreme/The Spinach Supreme Pizza/S",
          "Veggie/The Spinach and Feta Pizza/S",
          "Chicken/The Thai Chicken Pizza/S",
          "Veggie/The Vegetables + Vegetables Pizza/S",
          "Classic/The Greek Pizza/XL",
          "Classic/The Greek Pizza/XXL",
          "Chicken/The Barbecue Chicken Pizza",
          "Classic/The Big Meat Pizza",
          "Supreme/The Brie Carre Pizza",
          "Supreme/The Calabrese Pizza",
          "Chicken/The California Chicken Pizza",
          "Chicken/The Chicken Alfredo Pizza",
          "Chicken/The Chicken Pesto Pizza",
          "Classic/The Classic Deluxe Pizza",
          "Veggie/The Five Cheese Pizza",
          "Veggie/The Four Cheese Pizza",
          "Classic/The Greek Pizza",
          "Veggie/The Green Garden Pizza",
          "Classic/The Hawaiian Pizza",
          "Classic/The Italian Capocollo Pizza",
          "Supreme/The Italian Supreme Pizza",
          "Veggie/The Italian Vegetables Pizza",
          "Veggie/The Mediterranean Pizza",
          "Veggie/The Mexicana Pizza",
          "Classic/The Napolitana Pizza",
          "Supreme/The Pepper Salami Pizza",
          "Classic/The Pepperoni Pizza",
          "Classic/The Pepperoni, Mushroom, and Peppers Pizza",
          "Supreme/The Prosciutto and Arugula Pizza",
          "Supreme/The Sicilian Pizza",
          "Supreme/The Soppressata Pizza",
          "Chicken/The Southwest Chicken Pizza",
          "Supreme/The Spicy Italian Pizza",
          "Veggie/The Spinach Pesto Pizza",
          "Supreme/The Spinach Supreme Pizza",
          "Veggie/The Spinach and Feta Pizza",
          "Chicken/The Thai Chicken Pizza",
          "Veggie/The Vegetables + Vegetables Pizza",
          "Chicken",
          "Classic",
          "Supreme",
          "Veggie"
         ],
         "labels": [
          "L",
          "L",
          "L",
          "L",
          "L",
          "L",
          "L",
          "L",
          "L",
          "L",
          "L",
          "L",
          "L",
          "L",
          "L",
          "L",
          "L",
          "L",
          "L",
          "L",
          "L",
          "L",
          "L",
          "L",
          "L",
          "L",
          "L",
          "L",
          "L",
          "L",
          "M",
          "M",
          "M",
          "M",
          "M",
          "M",
          "M",
          "M",
          "M",
          "M",
          "M",
          "M",
          "M",
          "M",
          "M",
          "M",
          "M",
          "M",
          "M",
          "M",
          "M",
          "M",
          "M",
          "M",
          "M",
          "M",
          "M",
          "M",
          "M",
          "S",
          "S",
          "S",
          "S",
          "S",
          "S",
          "S",
          "S",
          "S",
          "S",
          "S",
          "S",
          "S",
          "S",
          "S",
          "S",
          "S",
          "S",
          "S",
          "S",
          "S",
          "S",
          "S",
          "S",
          "S",
          "S",
          "S",
          "S",
          "S",
          "S",
          "XL",
          "XXL",
          "The Barbecue Chicken Pizza",
          "The Big Meat Pizza",
          "The Brie Carre Pizza",
          "The Calabrese Pizza",
          "The California Chicken Pizza",
          "The Chicken Alfredo Pizza",
          "The Chicken Pesto Pizza",
          "The Classic Deluxe Pizza",
          "The Five Cheese Pizza",
          "The Four Cheese Pizza",
          "The Greek Pizza",
          "The Green Garden Pizza",
          "The Hawaiian Pizza",
          "The Italian Capocollo Pizza",
          "The Italian Supreme Pizza",
          "The Italian Vegetables Pizza",
          "The Mediterranean Pizza",
          "The Mexicana Pizza",
          "The Napolitana Pizza",
          "The Pepper Salami Pizza",
          "The Pepperoni Pizza",
          "The Pepperoni, Mushroom, and Peppers Pizza",
          "The Prosciutto and Arugula Pizza",
          "The Sicilian Pizza",
          "The Soppressata Pizza",
          "The Southwest Chicken Pizza",
          "The Spicy Italian Pizza",
          "The Spinach Pesto Pizza",
          "The Spinach Supreme Pizza",
          "The Spinach and Feta Pizza",
          "The Thai Chicken Pizza",
          "The Vegetables + Vegetables Pizza",
          "Chicken",
          "Classic",
          "Supreme",
          "Veggie"
         ],
         "name": "",
         "parents": [
          "Chicken/The Barbecue Chicken Pizza",
          "Supreme/The Calabrese Pizza",
          "Chicken/The California Chicken Pizza",
          "Chicken/The Chicken Alfredo Pizza",
          "Chicken/The Chicken Pesto Pizza",
          "Classic/The Classic Deluxe Pizza",
          "Veggie/The Five Cheese Pizza",
          "Veggie/The Four Cheese Pizza",
          "Classic/The Greek Pizza",
          "Veggie/The Green Garden Pizza",
          "Classic/The Hawaiian Pizza",
          "Classic/The Italian Capocollo Pizza",
          "Supreme/The Italian Supreme Pizza",
          "Veggie/The Italian Vegetables Pizza",
          "Veggie/The Mediterranean Pizza",
          "Veggie/The Mexicana Pizza",
          "Classic/The Napolitana Pizza",
          "Supreme/The Pepper Salami Pizza",
          "Classic/The Pepperoni Pizza",
          "Classic/The Pepperoni, Mushroom, and Peppers Pizza",
          "Supreme/The Prosciutto and Arugula Pizza",
          "Supreme/The Sicilian Pizza",
          "Supreme/The Soppressata Pizza",
          "Chicken/The Southwest Chicken Pizza",
          "Supreme/The Spicy Italian Pizza",
          "Veggie/The Spinach Pesto Pizza",
          "Supreme/The Spinach Supreme Pizza",
          "Veggie/The Spinach and Feta Pizza",
          "Chicken/The Thai Chicken Pizza",
          "Veggie/The Vegetables + Vegetables Pizza",
          "Chicken/The Barbecue Chicken Pizza",
          "Supreme/The Calabrese Pizza",
          "Chicken/The California Chicken Pizza",
          "Chicken/The Chicken Alfredo Pizza",
          "Chicken/The Chicken Pesto Pizza",
          "Classic/The Classic Deluxe Pizza",
          "Veggie/The Four Cheese Pizza",
          "Classic/The Greek Pizza",
          "Veggie/The Green Garden Pizza",
          "Classic/The Hawaiian Pizza",
          "Classic/The Italian Capocollo Pizza",
          "Supreme/The Italian Supreme Pizza",
          "Veggie/The Italian Vegetables Pizza",
          "Veggie/The Mediterranean Pizza",
          "Veggie/The Mexicana Pizza",
          "Classic/The Napolitana Pizza",
          "Supreme/The Pepper Salami Pizza",
          "Classic/The Pepperoni Pizza",
          "Classic/The Pepperoni, Mushroom, and Peppers Pizza",
          "Supreme/The Prosciutto and Arugula Pizza",
          "Supreme/The Sicilian Pizza",
          "Supreme/The Soppressata Pizza",
          "Chicken/The Southwest Chicken Pizza",
          "Supreme/The Spicy Italian Pizza",
          "Veggie/The Spinach Pesto Pizza",
          "Supreme/The Spinach Supreme Pizza",
          "Veggie/The Spinach and Feta Pizza",
          "Chicken/The Thai Chicken Pizza",
          "Veggie/The Vegetables + Vegetables Pizza",
          "Chicken/The Barbecue Chicken Pizza",
          "Classic/The Big Meat Pizza",
          "Supreme/The Brie Carre Pizza",
          "Supreme/The Calabrese Pizza",
          "Chicken/The California Chicken Pizza",
          "Chicken/The Chicken Alfredo Pizza",
          "Chicken/The Chicken Pesto Pizza",
          "Classic/The Classic Deluxe Pizza",
          "Classic/The Greek Pizza",
          "Veggie/The Green Garden Pizza",
          "Classic/The Hawaiian Pizza",
          "Classic/The Italian Capocollo Pizza",
          "Supreme/The Italian Supreme Pizza",
          "Veggie/The Italian Vegetables Pizza",
          "Veggie/The Mediterranean Pizza",
          "Veggie/The Mexicana Pizza",
          "Classic/The Napolitana Pizza",
          "Supreme/The Pepper Salami Pizza",
          "Classic/The Pepperoni Pizza",
          "Classic/The Pepperoni, Mushroom, and Peppers Pizza",
          "Supreme/The Prosciutto and Arugula Pizza",
          "Supreme/The Sicilian Pizza",
          "Supreme/The Soppressata Pizza",
          "Chicken/The Southwest Chicken Pizza",
          "Supreme/The Spicy Italian Pizza",
          "Veggie/The Spinach Pesto Pizza",
          "Supreme/The Spinach Supreme Pizza",
          "Veggie/The Spinach and Feta Pizza",
          "Chicken/The Thai Chicken Pizza",
          "Veggie/The Vegetables + Vegetables Pizza",
          "Classic/The Greek Pizza",
          "Classic/The Greek Pizza",
          "Chicken",
          "Classic",
          "Supreme",
          "Supreme",
          "Chicken",
          "Chicken",
          "Chicken",
          "Classic",
          "Veggie",
          "Veggie",
          "Classic",
          "Veggie",
          "Classic",
          "Classic",
          "Supreme",
          "Veggie",
          "Veggie",
          "Veggie",
          "Classic",
          "Supreme",
          "Classic",
          "Classic",
          "Supreme",
          "Supreme",
          "Supreme",
          "Chicken",
          "Supreme",
          "Veggie",
          "Supreme",
          "Veggie",
          "Chicken",
          "Veggie",
          "",
          "",
          "",
          ""
         ],
         "type": "treemap",
         "values": [
          992,
          276,
          927,
          188,
          399,
          473,
          1409,
          1316,
          255,
          95,
          919,
          732,
          747,
          190,
          370,
          867,
          566,
          696,
          728,
          384,
          435,
          613,
          405,
          1016,
          1109,
          284,
          283,
          445,
          1410,
          427,
          956,
          562,
          944,
          703,
          276,
          1181,
          586,
          281,
          302,
          483,
          404,
          941,
          486,
          275,
          455,
          427,
          428,
          939,
          397,
          598,
          574,
          268,
          534,
          408,
          282,
          267,
          562,
          481,
          635,
          484,
          1914,
          490,
          99,
          499,
          96,
          298,
          799,
          304,
          600,
          1020,
          302,
          196,
          305,
          289,
          162,
          471,
          322,
          751,
          578,
          424,
          751,
          288,
          367,
          407,
          404,
          400,
          439,
          480,
          464,
          552,
          28,
          2432,
          1914,
          490,
          937,
          2370,
          987,
          973,
          2453,
          1409,
          1902,
          1420,
          997,
          2422,
          1438,
          1884,
          981,
          934,
          1484,
          1464,
          1446,
          2418,
          1359,
          1457,
          1938,
          961,
          1917,
          1924,
          970,
          950,
          1446,
          2371,
          1526,
          11050,
          14888,
          11987,
          11649
         ]
        }
       ],
       "layout": {
        "height": 600,
        "legend": {
         "tracegroupgap": 0
        },
        "margin": {
         "t": 100
        },
        "template": {
         "data": {
          "bar": [
           {
            "error_x": {
             "color": "rgb(36,36,36)"
            },
            "error_y": {
             "color": "rgb(36,36,36)"
            },
            "marker": {
             "line": {
              "color": "white",
              "width": 0.5
             },
             "pattern": {
              "fillmode": "overlay",
              "size": 10,
              "solidity": 0.2
             }
            },
            "type": "bar"
           }
          ],
          "barpolar": [
           {
            "marker": {
             "line": {
              "color": "white",
              "width": 0.5
             },
             "pattern": {
              "fillmode": "overlay",
              "size": 10,
              "solidity": 0.2
             }
            },
            "type": "barpolar"
           }
          ],
          "carpet": [
           {
            "aaxis": {
             "endlinecolor": "rgb(36,36,36)",
             "gridcolor": "white",
             "linecolor": "white",
             "minorgridcolor": "white",
             "startlinecolor": "rgb(36,36,36)"
            },
            "baxis": {
             "endlinecolor": "rgb(36,36,36)",
             "gridcolor": "white",
             "linecolor": "white",
             "minorgridcolor": "white",
             "startlinecolor": "rgb(36,36,36)"
            },
            "type": "carpet"
           }
          ],
          "choropleth": [
           {
            "colorbar": {
             "outlinewidth": 1,
             "tickcolor": "rgb(36,36,36)",
             "ticks": "outside"
            },
            "type": "choropleth"
           }
          ],
          "contour": [
           {
            "colorbar": {
             "outlinewidth": 1,
             "tickcolor": "rgb(36,36,36)",
             "ticks": "outside"
            },
            "colorscale": [
             [
              0,
              "#440154"
             ],
             [
              0.1111111111111111,
              "#482878"
             ],
             [
              0.2222222222222222,
              "#3e4989"
             ],
             [
              0.3333333333333333,
              "#31688e"
             ],
             [
              0.4444444444444444,
              "#26828e"
             ],
             [
              0.5555555555555556,
              "#1f9e89"
             ],
             [
              0.6666666666666666,
              "#35b779"
             ],
             [
              0.7777777777777778,
              "#6ece58"
             ],
             [
              0.8888888888888888,
              "#b5de2b"
             ],
             [
              1,
              "#fde725"
             ]
            ],
            "type": "contour"
           }
          ],
          "contourcarpet": [
           {
            "colorbar": {
             "outlinewidth": 1,
             "tickcolor": "rgb(36,36,36)",
             "ticks": "outside"
            },
            "type": "contourcarpet"
           }
          ],
          "heatmap": [
           {
            "colorbar": {
             "outlinewidth": 1,
             "tickcolor": "rgb(36,36,36)",
             "ticks": "outside"
            },
            "colorscale": [
             [
              0,
              "#440154"
             ],
             [
              0.1111111111111111,
              "#482878"
             ],
             [
              0.2222222222222222,
              "#3e4989"
             ],
             [
              0.3333333333333333,
              "#31688e"
             ],
             [
              0.4444444444444444,
              "#26828e"
             ],
             [
              0.5555555555555556,
              "#1f9e89"
             ],
             [
              0.6666666666666666,
              "#35b779"
             ],
             [
              0.7777777777777778,
              "#6ece58"
             ],
             [
              0.8888888888888888,
              "#b5de2b"
             ],
             [
              1,
              "#fde725"
             ]
            ],
            "type": "heatmap"
           }
          ],
          "heatmapgl": [
           {
            "colorbar": {
             "outlinewidth": 1,
             "tickcolor": "rgb(36,36,36)",
             "ticks": "outside"
            },
            "colorscale": [
             [
              0,
              "#440154"
             ],
             [
              0.1111111111111111,
              "#482878"
             ],
             [
              0.2222222222222222,
              "#3e4989"
             ],
             [
              0.3333333333333333,
              "#31688e"
             ],
             [
              0.4444444444444444,
              "#26828e"
             ],
             [
              0.5555555555555556,
              "#1f9e89"
             ],
             [
              0.6666666666666666,
              "#35b779"
             ],
             [
              0.7777777777777778,
              "#6ece58"
             ],
             [
              0.8888888888888888,
              "#b5de2b"
             ],
             [
              1,
              "#fde725"
             ]
            ],
            "type": "heatmapgl"
           }
          ],
          "histogram": [
           {
            "marker": {
             "line": {
              "color": "white",
              "width": 0.6
             }
            },
            "type": "histogram"
           }
          ],
          "histogram2d": [
           {
            "colorbar": {
             "outlinewidth": 1,
             "tickcolor": "rgb(36,36,36)",
             "ticks": "outside"
            },
            "colorscale": [
             [
              0,
              "#440154"
             ],
             [
              0.1111111111111111,
              "#482878"
             ],
             [
              0.2222222222222222,
              "#3e4989"
             ],
             [
              0.3333333333333333,
              "#31688e"
             ],
             [
              0.4444444444444444,
              "#26828e"
             ],
             [
              0.5555555555555556,
              "#1f9e89"
             ],
             [
              0.6666666666666666,
              "#35b779"
             ],
             [
              0.7777777777777778,
              "#6ece58"
             ],
             [
              0.8888888888888888,
              "#b5de2b"
             ],
             [
              1,
              "#fde725"
             ]
            ],
            "type": "histogram2d"
           }
          ],
          "histogram2dcontour": [
           {
            "colorbar": {
             "outlinewidth": 1,
             "tickcolor": "rgb(36,36,36)",
             "ticks": "outside"
            },
            "colorscale": [
             [
              0,
              "#440154"
             ],
             [
              0.1111111111111111,
              "#482878"
             ],
             [
              0.2222222222222222,
              "#3e4989"
             ],
             [
              0.3333333333333333,
              "#31688e"
             ],
             [
              0.4444444444444444,
              "#26828e"
             ],
             [
              0.5555555555555556,
              "#1f9e89"
             ],
             [
              0.6666666666666666,
              "#35b779"
             ],
             [
              0.7777777777777778,
              "#6ece58"
             ],
             [
              0.8888888888888888,
              "#b5de2b"
             ],
             [
              1,
              "#fde725"
             ]
            ],
            "type": "histogram2dcontour"
           }
          ],
          "mesh3d": [
           {
            "colorbar": {
             "outlinewidth": 1,
             "tickcolor": "rgb(36,36,36)",
             "ticks": "outside"
            },
            "type": "mesh3d"
           }
          ],
          "parcoords": [
           {
            "line": {
             "colorbar": {
              "outlinewidth": 1,
              "tickcolor": "rgb(36,36,36)",
              "ticks": "outside"
             }
            },
            "type": "parcoords"
           }
          ],
          "pie": [
           {
            "automargin": true,
            "type": "pie"
           }
          ],
          "scatter": [
           {
            "fillpattern": {
             "fillmode": "overlay",
             "size": 10,
             "solidity": 0.2
            },
            "type": "scatter"
           }
          ],
          "scatter3d": [
           {
            "line": {
             "colorbar": {
              "outlinewidth": 1,
              "tickcolor": "rgb(36,36,36)",
              "ticks": "outside"
             }
            },
            "marker": {
             "colorbar": {
              "outlinewidth": 1,
              "tickcolor": "rgb(36,36,36)",
              "ticks": "outside"
             }
            },
            "type": "scatter3d"
           }
          ],
          "scattercarpet": [
           {
            "marker": {
             "colorbar": {
              "outlinewidth": 1,
              "tickcolor": "rgb(36,36,36)",
              "ticks": "outside"
             }
            },
            "type": "scattercarpet"
           }
          ],
          "scattergeo": [
           {
            "marker": {
             "colorbar": {
              "outlinewidth": 1,
              "tickcolor": "rgb(36,36,36)",
              "ticks": "outside"
             }
            },
            "type": "scattergeo"
           }
          ],
          "scattergl": [
           {
            "marker": {
             "colorbar": {
              "outlinewidth": 1,
              "tickcolor": "rgb(36,36,36)",
              "ticks": "outside"
             }
            },
            "type": "scattergl"
           }
          ],
          "scattermapbox": [
           {
            "marker": {
             "colorbar": {
              "outlinewidth": 1,
              "tickcolor": "rgb(36,36,36)",
              "ticks": "outside"
             }
            },
            "type": "scattermapbox"
           }
          ],
          "scatterpolar": [
           {
            "marker": {
             "colorbar": {
              "outlinewidth": 1,
              "tickcolor": "rgb(36,36,36)",
              "ticks": "outside"
             }
            },
            "type": "scatterpolar"
           }
          ],
          "scatterpolargl": [
           {
            "marker": {
             "colorbar": {
              "outlinewidth": 1,
              "tickcolor": "rgb(36,36,36)",
              "ticks": "outside"
             }
            },
            "type": "scatterpolargl"
           }
          ],
          "scatterternary": [
           {
            "marker": {
             "colorbar": {
              "outlinewidth": 1,
              "tickcolor": "rgb(36,36,36)",
              "ticks": "outside"
             }
            },
            "type": "scatterternary"
           }
          ],
          "surface": [
           {
            "colorbar": {
             "outlinewidth": 1,
             "tickcolor": "rgb(36,36,36)",
             "ticks": "outside"
            },
            "colorscale": [
             [
              0,
              "#440154"
             ],
             [
              0.1111111111111111,
              "#482878"
             ],
             [
              0.2222222222222222,
              "#3e4989"
             ],
             [
              0.3333333333333333,
              "#31688e"
             ],
             [
              0.4444444444444444,
              "#26828e"
             ],
             [
              0.5555555555555556,
              "#1f9e89"
             ],
             [
              0.6666666666666666,
              "#35b779"
             ],
             [
              0.7777777777777778,
              "#6ece58"
             ],
             [
              0.8888888888888888,
              "#b5de2b"
             ],
             [
              1,
              "#fde725"
             ]
            ],
            "type": "surface"
           }
          ],
          "table": [
           {
            "cells": {
             "fill": {
              "color": "rgb(237,237,237)"
             },
             "line": {
              "color": "white"
             }
            },
            "header": {
             "fill": {
              "color": "rgb(217,217,217)"
             },
             "line": {
              "color": "white"
             }
            },
            "type": "table"
           }
          ]
         },
         "layout": {
          "annotationdefaults": {
           "arrowhead": 0,
           "arrowwidth": 1
          },
          "autotypenumbers": "strict",
          "coloraxis": {
           "colorbar": {
            "outlinewidth": 1,
            "tickcolor": "rgb(36,36,36)",
            "ticks": "outside"
           }
          },
          "colorscale": {
           "diverging": [
            [
             0,
             "rgb(103,0,31)"
            ],
            [
             0.1,
             "rgb(178,24,43)"
            ],
            [
             0.2,
             "rgb(214,96,77)"
            ],
            [
             0.3,
             "rgb(244,165,130)"
            ],
            [
             0.4,
             "rgb(253,219,199)"
            ],
            [
             0.5,
             "rgb(247,247,247)"
            ],
            [
             0.6,
             "rgb(209,229,240)"
            ],
            [
             0.7,
             "rgb(146,197,222)"
            ],
            [
             0.8,
             "rgb(67,147,195)"
            ],
            [
             0.9,
             "rgb(33,102,172)"
            ],
            [
             1,
             "rgb(5,48,97)"
            ]
           ],
           "sequential": [
            [
             0,
             "#440154"
            ],
            [
             0.1111111111111111,
             "#482878"
            ],
            [
             0.2222222222222222,
             "#3e4989"
            ],
            [
             0.3333333333333333,
             "#31688e"
            ],
            [
             0.4444444444444444,
             "#26828e"
            ],
            [
             0.5555555555555556,
             "#1f9e89"
            ],
            [
             0.6666666666666666,
             "#35b779"
            ],
            [
             0.7777777777777778,
             "#6ece58"
            ],
            [
             0.8888888888888888,
             "#b5de2b"
            ],
            [
             1,
             "#fde725"
            ]
           ],
           "sequentialminus": [
            [
             0,
             "#440154"
            ],
            [
             0.1111111111111111,
             "#482878"
            ],
            [
             0.2222222222222222,
             "#3e4989"
            ],
            [
             0.3333333333333333,
             "#31688e"
            ],
            [
             0.4444444444444444,
             "#26828e"
            ],
            [
             0.5555555555555556,
             "#1f9e89"
            ],
            [
             0.6666666666666666,
             "#35b779"
            ],
            [
             0.7777777777777778,
             "#6ece58"
            ],
            [
             0.8888888888888888,
             "#b5de2b"
            ],
            [
             1,
             "#fde725"
            ]
           ]
          },
          "colorway": [
           "#1F77B4",
           "#FF7F0E",
           "#2CA02C",
           "#D62728",
           "#9467BD",
           "#8C564B",
           "#E377C2",
           "#7F7F7F",
           "#BCBD22",
           "#17BECF"
          ],
          "font": {
           "color": "rgb(36,36,36)"
          },
          "geo": {
           "bgcolor": "white",
           "lakecolor": "white",
           "landcolor": "white",
           "showlakes": true,
           "showland": true,
           "subunitcolor": "white"
          },
          "hoverlabel": {
           "align": "left"
          },
          "hovermode": "closest",
          "mapbox": {
           "style": "light"
          },
          "paper_bgcolor": "white",
          "plot_bgcolor": "white",
          "polar": {
           "angularaxis": {
            "gridcolor": "rgb(232,232,232)",
            "linecolor": "rgb(36,36,36)",
            "showgrid": false,
            "showline": true,
            "ticks": "outside"
           },
           "bgcolor": "white",
           "radialaxis": {
            "gridcolor": "rgb(232,232,232)",
            "linecolor": "rgb(36,36,36)",
            "showgrid": false,
            "showline": true,
            "ticks": "outside"
           }
          },
          "scene": {
           "xaxis": {
            "backgroundcolor": "white",
            "gridcolor": "rgb(232,232,232)",
            "gridwidth": 2,
            "linecolor": "rgb(36,36,36)",
            "showbackground": true,
            "showgrid": false,
            "showline": true,
            "ticks": "outside",
            "zeroline": false,
            "zerolinecolor": "rgb(36,36,36)"
           },
           "yaxis": {
            "backgroundcolor": "white",
            "gridcolor": "rgb(232,232,232)",
            "gridwidth": 2,
            "linecolor": "rgb(36,36,36)",
            "showbackground": true,
            "showgrid": false,
            "showline": true,
            "ticks": "outside",
            "zeroline": false,
            "zerolinecolor": "rgb(36,36,36)"
           },
           "zaxis": {
            "backgroundcolor": "white",
            "gridcolor": "rgb(232,232,232)",
            "gridwidth": 2,
            "linecolor": "rgb(36,36,36)",
            "showbackground": true,
            "showgrid": false,
            "showline": true,
            "ticks": "outside",
            "zeroline": false,
            "zerolinecolor": "rgb(36,36,36)"
           }
          },
          "shapedefaults": {
           "fillcolor": "black",
           "line": {
            "width": 0
           },
           "opacity": 0.3
          },
          "ternary": {
           "aaxis": {
            "gridcolor": "rgb(232,232,232)",
            "linecolor": "rgb(36,36,36)",
            "showgrid": false,
            "showline": true,
            "ticks": "outside"
           },
           "baxis": {
            "gridcolor": "rgb(232,232,232)",
            "linecolor": "rgb(36,36,36)",
            "showgrid": false,
            "showline": true,
            "ticks": "outside"
           },
           "bgcolor": "white",
           "caxis": {
            "gridcolor": "rgb(232,232,232)",
            "linecolor": "rgb(36,36,36)",
            "showgrid": false,
            "showline": true,
            "ticks": "outside"
           }
          },
          "title": {
           "x": 0.05
          },
          "xaxis": {
           "automargin": true,
           "gridcolor": "rgb(232,232,232)",
           "linecolor": "rgb(36,36,36)",
           "showgrid": false,
           "showline": true,
           "ticks": "outside",
           "title": {
            "standoff": 15
           },
           "zeroline": false,
           "zerolinecolor": "rgb(36,36,36)"
          },
          "yaxis": {
           "automargin": true,
           "gridcolor": "rgb(232,232,232)",
           "linecolor": "rgb(36,36,36)",
           "showgrid": false,
           "showline": true,
           "ticks": "outside",
           "title": {
            "standoff": 15
           },
           "zeroline": false,
           "zerolinecolor": "rgb(36,36,36)"
          }
         }
        },
        "title": {
         "font": {
          "size": 24
         },
         "text": "The Best Selling Pizza"
        },
        "treemapcolorway": [
         "#9fc5e8",
         "#f36a6a",
         "#5F8D37",
         "#fba6d0"
        ],
        "width": 1000
       }
      },
      "text/html": [
       "<div>                            <div id=\"4c5130ef-635c-46b9-8cee-9cc043213c96\" class=\"plotly-graph-div\" style=\"height:600px; width:1000px;\"></div>            <script type=\"text/javascript\">                require([\"plotly\"], function(Plotly) {                    window.PLOTLYENV=window.PLOTLYENV || {};                                    if (document.getElementById(\"4c5130ef-635c-46b9-8cee-9cc043213c96\")) {                    Plotly.newPlot(                        \"4c5130ef-635c-46b9-8cee-9cc043213c96\",                        [{\"branchvalues\":\"total\",\"domain\":{\"x\":[0.0,1.0],\"y\":[0.0,1.0]},\"hovertemplate\":\"labels=%{label}<br>quantity=%{value}<br>parent=%{parent}<br>id=%{id}<extra></extra>\",\"ids\":[\"Chicken/The Barbecue Chicken Pizza/L\",\"Supreme/The Calabrese Pizza/L\",\"Chicken/The California Chicken Pizza/L\",\"Chicken/The Chicken Alfredo Pizza/L\",\"Chicken/The Chicken Pesto Pizza/L\",\"Classic/The Classic Deluxe Pizza/L\",\"Veggie/The Five Cheese Pizza/L\",\"Veggie/The Four Cheese Pizza/L\",\"Classic/The Greek Pizza/L\",\"Veggie/The Green Garden Pizza/L\",\"Classic/The Hawaiian Pizza/L\",\"Classic/The Italian Capocollo Pizza/L\",\"Supreme/The Italian Supreme Pizza/L\",\"Veggie/The Italian Vegetables Pizza/L\",\"Veggie/The Mediterranean Pizza/L\",\"Veggie/The Mexicana Pizza/L\",\"Classic/The Napolitana Pizza/L\",\"Supreme/The Pepper Salami Pizza/L\",\"Classic/The Pepperoni Pizza/L\",\"Classic/The Pepperoni, Mushroom, and Peppers Pizza/L\",\"Supreme/The Prosciutto and Arugula Pizza/L\",\"Supreme/The Sicilian Pizza/L\",\"Supreme/The Soppressata Pizza/L\",\"Chicken/The Southwest Chicken Pizza/L\",\"Supreme/The Spicy Italian Pizza/L\",\"Veggie/The Spinach Pesto Pizza/L\",\"Supreme/The Spinach Supreme Pizza/L\",\"Veggie/The Spinach and Feta Pizza/L\",\"Chicken/The Thai Chicken Pizza/L\",\"Veggie/The Vegetables + Vegetables Pizza/L\",\"Chicken/The Barbecue Chicken Pizza/M\",\"Supreme/The Calabrese Pizza/M\",\"Chicken/The California Chicken Pizza/M\",\"Chicken/The Chicken Alfredo Pizza/M\",\"Chicken/The Chicken Pesto Pizza/M\",\"Classic/The Classic Deluxe Pizza/M\",\"Veggie/The Four Cheese Pizza/M\",\"Classic/The Greek Pizza/M\",\"Veggie/The Green Garden Pizza/M\",\"Classic/The Hawaiian Pizza/M\",\"Classic/The Italian Capocollo Pizza/M\",\"Supreme/The Italian Supreme Pizza/M\",\"Veggie/The Italian Vegetables Pizza/M\",\"Veggie/The Mediterranean Pizza/M\",\"Veggie/The Mexicana Pizza/M\",\"Classic/The Napolitana Pizza/M\",\"Supreme/The Pepper Salami Pizza/M\",\"Classic/The Pepperoni Pizza/M\",\"Classic/The Pepperoni, Mushroom, and Peppers Pizza/M\",\"Supreme/The Prosciutto and Arugula Pizza/M\",\"Supreme/The Sicilian Pizza/M\",\"Supreme/The Soppressata Pizza/M\",\"Chicken/The Southwest Chicken Pizza/M\",\"Supreme/The Spicy Italian Pizza/M\",\"Veggie/The Spinach Pesto Pizza/M\",\"Supreme/The Spinach Supreme Pizza/M\",\"Veggie/The Spinach and Feta Pizza/M\",\"Chicken/The Thai Chicken Pizza/M\",\"Veggie/The Vegetables + Vegetables Pizza/M\",\"Chicken/The Barbecue Chicken Pizza/S\",\"Classic/The Big Meat Pizza/S\",\"Supreme/The Brie Carre Pizza/S\",\"Supreme/The Calabrese Pizza/S\",\"Chicken/The California Chicken Pizza/S\",\"Chicken/The Chicken Alfredo Pizza/S\",\"Chicken/The Chicken Pesto Pizza/S\",\"Classic/The Classic Deluxe Pizza/S\",\"Classic/The Greek Pizza/S\",\"Veggie/The Green Garden Pizza/S\",\"Classic/The Hawaiian Pizza/S\",\"Classic/The Italian Capocollo Pizza/S\",\"Supreme/The Italian Supreme Pizza/S\",\"Veggie/The Italian Vegetables Pizza/S\",\"Veggie/The Mediterranean Pizza/S\",\"Veggie/The Mexicana Pizza/S\",\"Classic/The Napolitana Pizza/S\",\"Supreme/The Pepper Salami Pizza/S\",\"Classic/The Pepperoni Pizza/S\",\"Classic/The Pepperoni, Mushroom, and Peppers Pizza/S\",\"Supreme/The Prosciutto and Arugula Pizza/S\",\"Supreme/The Sicilian Pizza/S\",\"Supreme/The Soppressata Pizza/S\",\"Chicken/The Southwest Chicken Pizza/S\",\"Supreme/The Spicy Italian Pizza/S\",\"Veggie/The Spinach Pesto Pizza/S\",\"Supreme/The Spinach Supreme Pizza/S\",\"Veggie/The Spinach and Feta Pizza/S\",\"Chicken/The Thai Chicken Pizza/S\",\"Veggie/The Vegetables + Vegetables Pizza/S\",\"Classic/The Greek Pizza/XL\",\"Classic/The Greek Pizza/XXL\",\"Chicken/The Barbecue Chicken Pizza\",\"Classic/The Big Meat Pizza\",\"Supreme/The Brie Carre Pizza\",\"Supreme/The Calabrese Pizza\",\"Chicken/The California Chicken Pizza\",\"Chicken/The Chicken Alfredo Pizza\",\"Chicken/The Chicken Pesto Pizza\",\"Classic/The Classic Deluxe Pizza\",\"Veggie/The Five Cheese Pizza\",\"Veggie/The Four Cheese Pizza\",\"Classic/The Greek Pizza\",\"Veggie/The Green Garden Pizza\",\"Classic/The Hawaiian Pizza\",\"Classic/The Italian Capocollo Pizza\",\"Supreme/The Italian Supreme Pizza\",\"Veggie/The Italian Vegetables Pizza\",\"Veggie/The Mediterranean Pizza\",\"Veggie/The Mexicana Pizza\",\"Classic/The Napolitana Pizza\",\"Supreme/The Pepper Salami Pizza\",\"Classic/The Pepperoni Pizza\",\"Classic/The Pepperoni, Mushroom, and Peppers Pizza\",\"Supreme/The Prosciutto and Arugula Pizza\",\"Supreme/The Sicilian Pizza\",\"Supreme/The Soppressata Pizza\",\"Chicken/The Southwest Chicken Pizza\",\"Supreme/The Spicy Italian Pizza\",\"Veggie/The Spinach Pesto Pizza\",\"Supreme/The Spinach Supreme Pizza\",\"Veggie/The Spinach and Feta Pizza\",\"Chicken/The Thai Chicken Pizza\",\"Veggie/The Vegetables + Vegetables Pizza\",\"Chicken\",\"Classic\",\"Supreme\",\"Veggie\"],\"labels\":[\"L\",\"L\",\"L\",\"L\",\"L\",\"L\",\"L\",\"L\",\"L\",\"L\",\"L\",\"L\",\"L\",\"L\",\"L\",\"L\",\"L\",\"L\",\"L\",\"L\",\"L\",\"L\",\"L\",\"L\",\"L\",\"L\",\"L\",\"L\",\"L\",\"L\",\"M\",\"M\",\"M\",\"M\",\"M\",\"M\",\"M\",\"M\",\"M\",\"M\",\"M\",\"M\",\"M\",\"M\",\"M\",\"M\",\"M\",\"M\",\"M\",\"M\",\"M\",\"M\",\"M\",\"M\",\"M\",\"M\",\"M\",\"M\",\"M\",\"S\",\"S\",\"S\",\"S\",\"S\",\"S\",\"S\",\"S\",\"S\",\"S\",\"S\",\"S\",\"S\",\"S\",\"S\",\"S\",\"S\",\"S\",\"S\",\"S\",\"S\",\"S\",\"S\",\"S\",\"S\",\"S\",\"S\",\"S\",\"S\",\"S\",\"XL\",\"XXL\",\"The Barbecue Chicken Pizza\",\"The Big Meat Pizza\",\"The Brie Carre Pizza\",\"The Calabrese Pizza\",\"The California Chicken Pizza\",\"The Chicken Alfredo Pizza\",\"The Chicken Pesto Pizza\",\"The Classic Deluxe Pizza\",\"The Five Cheese Pizza\",\"The Four Cheese Pizza\",\"The Greek Pizza\",\"The Green Garden Pizza\",\"The Hawaiian Pizza\",\"The Italian Capocollo Pizza\",\"The Italian Supreme Pizza\",\"The Italian Vegetables Pizza\",\"The Mediterranean Pizza\",\"The Mexicana Pizza\",\"The Napolitana Pizza\",\"The Pepper Salami Pizza\",\"The Pepperoni Pizza\",\"The Pepperoni, Mushroom, and Peppers Pizza\",\"The Prosciutto and Arugula Pizza\",\"The Sicilian Pizza\",\"The Soppressata Pizza\",\"The Southwest Chicken Pizza\",\"The Spicy Italian Pizza\",\"The Spinach Pesto Pizza\",\"The Spinach Supreme Pizza\",\"The Spinach and Feta Pizza\",\"The Thai Chicken Pizza\",\"The Vegetables + Vegetables Pizza\",\"Chicken\",\"Classic\",\"Supreme\",\"Veggie\"],\"name\":\"\",\"parents\":[\"Chicken/The Barbecue Chicken Pizza\",\"Supreme/The Calabrese Pizza\",\"Chicken/The California Chicken Pizza\",\"Chicken/The Chicken Alfredo Pizza\",\"Chicken/The Chicken Pesto Pizza\",\"Classic/The Classic Deluxe Pizza\",\"Veggie/The Five Cheese Pizza\",\"Veggie/The Four Cheese Pizza\",\"Classic/The Greek Pizza\",\"Veggie/The Green Garden Pizza\",\"Classic/The Hawaiian Pizza\",\"Classic/The Italian Capocollo Pizza\",\"Supreme/The Italian Supreme Pizza\",\"Veggie/The Italian Vegetables Pizza\",\"Veggie/The Mediterranean Pizza\",\"Veggie/The Mexicana Pizza\",\"Classic/The Napolitana Pizza\",\"Supreme/The Pepper Salami Pizza\",\"Classic/The Pepperoni Pizza\",\"Classic/The Pepperoni, Mushroom, and Peppers Pizza\",\"Supreme/The Prosciutto and Arugula Pizza\",\"Supreme/The Sicilian Pizza\",\"Supreme/The Soppressata Pizza\",\"Chicken/The Southwest Chicken Pizza\",\"Supreme/The Spicy Italian Pizza\",\"Veggie/The Spinach Pesto Pizza\",\"Supreme/The Spinach Supreme Pizza\",\"Veggie/The Spinach and Feta Pizza\",\"Chicken/The Thai Chicken Pizza\",\"Veggie/The Vegetables + Vegetables Pizza\",\"Chicken/The Barbecue Chicken Pizza\",\"Supreme/The Calabrese Pizza\",\"Chicken/The California Chicken Pizza\",\"Chicken/The Chicken Alfredo Pizza\",\"Chicken/The Chicken Pesto Pizza\",\"Classic/The Classic Deluxe Pizza\",\"Veggie/The Four Cheese Pizza\",\"Classic/The Greek Pizza\",\"Veggie/The Green Garden Pizza\",\"Classic/The Hawaiian Pizza\",\"Classic/The Italian Capocollo Pizza\",\"Supreme/The Italian Supreme Pizza\",\"Veggie/The Italian Vegetables Pizza\",\"Veggie/The Mediterranean Pizza\",\"Veggie/The Mexicana Pizza\",\"Classic/The Napolitana Pizza\",\"Supreme/The Pepper Salami Pizza\",\"Classic/The Pepperoni Pizza\",\"Classic/The Pepperoni, Mushroom, and Peppers Pizza\",\"Supreme/The Prosciutto and Arugula Pizza\",\"Supreme/The Sicilian Pizza\",\"Supreme/The Soppressata Pizza\",\"Chicken/The Southwest Chicken Pizza\",\"Supreme/The Spicy Italian Pizza\",\"Veggie/The Spinach Pesto Pizza\",\"Supreme/The Spinach Supreme Pizza\",\"Veggie/The Spinach and Feta Pizza\",\"Chicken/The Thai Chicken Pizza\",\"Veggie/The Vegetables + Vegetables Pizza\",\"Chicken/The Barbecue Chicken Pizza\",\"Classic/The Big Meat Pizza\",\"Supreme/The Brie Carre Pizza\",\"Supreme/The Calabrese Pizza\",\"Chicken/The California Chicken Pizza\",\"Chicken/The Chicken Alfredo Pizza\",\"Chicken/The Chicken Pesto Pizza\",\"Classic/The Classic Deluxe Pizza\",\"Classic/The Greek Pizza\",\"Veggie/The Green Garden Pizza\",\"Classic/The Hawaiian Pizza\",\"Classic/The Italian Capocollo Pizza\",\"Supreme/The Italian Supreme Pizza\",\"Veggie/The Italian Vegetables Pizza\",\"Veggie/The Mediterranean Pizza\",\"Veggie/The Mexicana Pizza\",\"Classic/The Napolitana Pizza\",\"Supreme/The Pepper Salami Pizza\",\"Classic/The Pepperoni Pizza\",\"Classic/The Pepperoni, Mushroom, and Peppers Pizza\",\"Supreme/The Prosciutto and Arugula Pizza\",\"Supreme/The Sicilian Pizza\",\"Supreme/The Soppressata Pizza\",\"Chicken/The Southwest Chicken Pizza\",\"Supreme/The Spicy Italian Pizza\",\"Veggie/The Spinach Pesto Pizza\",\"Supreme/The Spinach Supreme Pizza\",\"Veggie/The Spinach and Feta Pizza\",\"Chicken/The Thai Chicken Pizza\",\"Veggie/The Vegetables + Vegetables Pizza\",\"Classic/The Greek Pizza\",\"Classic/The Greek Pizza\",\"Chicken\",\"Classic\",\"Supreme\",\"Supreme\",\"Chicken\",\"Chicken\",\"Chicken\",\"Classic\",\"Veggie\",\"Veggie\",\"Classic\",\"Veggie\",\"Classic\",\"Classic\",\"Supreme\",\"Veggie\",\"Veggie\",\"Veggie\",\"Classic\",\"Supreme\",\"Classic\",\"Classic\",\"Supreme\",\"Supreme\",\"Supreme\",\"Chicken\",\"Supreme\",\"Veggie\",\"Supreme\",\"Veggie\",\"Chicken\",\"Veggie\",\"\",\"\",\"\",\"\"],\"values\":[992,276,927,188,399,473,1409,1316,255,95,919,732,747,190,370,867,566,696,728,384,435,613,405,1016,1109,284,283,445,1410,427,956,562,944,703,276,1181,586,281,302,483,404,941,486,275,455,427,428,939,397,598,574,268,534,408,282,267,562,481,635,484,1914,490,99,499,96,298,799,304,600,1020,302,196,305,289,162,471,322,751,578,424,751,288,367,407,404,400,439,480,464,552,28,2432,1914,490,937,2370,987,973,2453,1409,1902,1420,997,2422,1438,1884,981,934,1484,1464,1446,2418,1359,1457,1938,961,1917,1924,970,950,1446,2371,1526,11050,14888,11987,11649],\"type\":\"treemap\"}],                        {\"template\":{\"data\":{\"barpolar\":[{\"marker\":{\"line\":{\"color\":\"white\",\"width\":0.5},\"pattern\":{\"fillmode\":\"overlay\",\"size\":10,\"solidity\":0.2}},\"type\":\"barpolar\"}],\"bar\":[{\"error_x\":{\"color\":\"rgb(36,36,36)\"},\"error_y\":{\"color\":\"rgb(36,36,36)\"},\"marker\":{\"line\":{\"color\":\"white\",\"width\":0.5},\"pattern\":{\"fillmode\":\"overlay\",\"size\":10,\"solidity\":0.2}},\"type\":\"bar\"}],\"carpet\":[{\"aaxis\":{\"endlinecolor\":\"rgb(36,36,36)\",\"gridcolor\":\"white\",\"linecolor\":\"white\",\"minorgridcolor\":\"white\",\"startlinecolor\":\"rgb(36,36,36)\"},\"baxis\":{\"endlinecolor\":\"rgb(36,36,36)\",\"gridcolor\":\"white\",\"linecolor\":\"white\",\"minorgridcolor\":\"white\",\"startlinecolor\":\"rgb(36,36,36)\"},\"type\":\"carpet\"}],\"choropleth\":[{\"colorbar\":{\"outlinewidth\":1,\"tickcolor\":\"rgb(36,36,36)\",\"ticks\":\"outside\"},\"type\":\"choropleth\"}],\"contourcarpet\":[{\"colorbar\":{\"outlinewidth\":1,\"tickcolor\":\"rgb(36,36,36)\",\"ticks\":\"outside\"},\"type\":\"contourcarpet\"}],\"contour\":[{\"colorbar\":{\"outlinewidth\":1,\"tickcolor\":\"rgb(36,36,36)\",\"ticks\":\"outside\"},\"colorscale\":[[0.0,\"#440154\"],[0.1111111111111111,\"#482878\"],[0.2222222222222222,\"#3e4989\"],[0.3333333333333333,\"#31688e\"],[0.4444444444444444,\"#26828e\"],[0.5555555555555556,\"#1f9e89\"],[0.6666666666666666,\"#35b779\"],[0.7777777777777778,\"#6ece58\"],[0.8888888888888888,\"#b5de2b\"],[1.0,\"#fde725\"]],\"type\":\"contour\"}],\"heatmapgl\":[{\"colorbar\":{\"outlinewidth\":1,\"tickcolor\":\"rgb(36,36,36)\",\"ticks\":\"outside\"},\"colorscale\":[[0.0,\"#440154\"],[0.1111111111111111,\"#482878\"],[0.2222222222222222,\"#3e4989\"],[0.3333333333333333,\"#31688e\"],[0.4444444444444444,\"#26828e\"],[0.5555555555555556,\"#1f9e89\"],[0.6666666666666666,\"#35b779\"],[0.7777777777777778,\"#6ece58\"],[0.8888888888888888,\"#b5de2b\"],[1.0,\"#fde725\"]],\"type\":\"heatmapgl\"}],\"heatmap\":[{\"colorbar\":{\"outlinewidth\":1,\"tickcolor\":\"rgb(36,36,36)\",\"ticks\":\"outside\"},\"colorscale\":[[0.0,\"#440154\"],[0.1111111111111111,\"#482878\"],[0.2222222222222222,\"#3e4989\"],[0.3333333333333333,\"#31688e\"],[0.4444444444444444,\"#26828e\"],[0.5555555555555556,\"#1f9e89\"],[0.6666666666666666,\"#35b779\"],[0.7777777777777778,\"#6ece58\"],[0.8888888888888888,\"#b5de2b\"],[1.0,\"#fde725\"]],\"type\":\"heatmap\"}],\"histogram2dcontour\":[{\"colorbar\":{\"outlinewidth\":1,\"tickcolor\":\"rgb(36,36,36)\",\"ticks\":\"outside\"},\"colorscale\":[[0.0,\"#440154\"],[0.1111111111111111,\"#482878\"],[0.2222222222222222,\"#3e4989\"],[0.3333333333333333,\"#31688e\"],[0.4444444444444444,\"#26828e\"],[0.5555555555555556,\"#1f9e89\"],[0.6666666666666666,\"#35b779\"],[0.7777777777777778,\"#6ece58\"],[0.8888888888888888,\"#b5de2b\"],[1.0,\"#fde725\"]],\"type\":\"histogram2dcontour\"}],\"histogram2d\":[{\"colorbar\":{\"outlinewidth\":1,\"tickcolor\":\"rgb(36,36,36)\",\"ticks\":\"outside\"},\"colorscale\":[[0.0,\"#440154\"],[0.1111111111111111,\"#482878\"],[0.2222222222222222,\"#3e4989\"],[0.3333333333333333,\"#31688e\"],[0.4444444444444444,\"#26828e\"],[0.5555555555555556,\"#1f9e89\"],[0.6666666666666666,\"#35b779\"],[0.7777777777777778,\"#6ece58\"],[0.8888888888888888,\"#b5de2b\"],[1.0,\"#fde725\"]],\"type\":\"histogram2d\"}],\"histogram\":[{\"marker\":{\"line\":{\"color\":\"white\",\"width\":0.6}},\"type\":\"histogram\"}],\"mesh3d\":[{\"colorbar\":{\"outlinewidth\":1,\"tickcolor\":\"rgb(36,36,36)\",\"ticks\":\"outside\"},\"type\":\"mesh3d\"}],\"parcoords\":[{\"line\":{\"colorbar\":{\"outlinewidth\":1,\"tickcolor\":\"rgb(36,36,36)\",\"ticks\":\"outside\"}},\"type\":\"parcoords\"}],\"pie\":[{\"automargin\":true,\"type\":\"pie\"}],\"scatter3d\":[{\"line\":{\"colorbar\":{\"outlinewidth\":1,\"tickcolor\":\"rgb(36,36,36)\",\"ticks\":\"outside\"}},\"marker\":{\"colorbar\":{\"outlinewidth\":1,\"tickcolor\":\"rgb(36,36,36)\",\"ticks\":\"outside\"}},\"type\":\"scatter3d\"}],\"scattercarpet\":[{\"marker\":{\"colorbar\":{\"outlinewidth\":1,\"tickcolor\":\"rgb(36,36,36)\",\"ticks\":\"outside\"}},\"type\":\"scattercarpet\"}],\"scattergeo\":[{\"marker\":{\"colorbar\":{\"outlinewidth\":1,\"tickcolor\":\"rgb(36,36,36)\",\"ticks\":\"outside\"}},\"type\":\"scattergeo\"}],\"scattergl\":[{\"marker\":{\"colorbar\":{\"outlinewidth\":1,\"tickcolor\":\"rgb(36,36,36)\",\"ticks\":\"outside\"}},\"type\":\"scattergl\"}],\"scattermapbox\":[{\"marker\":{\"colorbar\":{\"outlinewidth\":1,\"tickcolor\":\"rgb(36,36,36)\",\"ticks\":\"outside\"}},\"type\":\"scattermapbox\"}],\"scatterpolargl\":[{\"marker\":{\"colorbar\":{\"outlinewidth\":1,\"tickcolor\":\"rgb(36,36,36)\",\"ticks\":\"outside\"}},\"type\":\"scatterpolargl\"}],\"scatterpolar\":[{\"marker\":{\"colorbar\":{\"outlinewidth\":1,\"tickcolor\":\"rgb(36,36,36)\",\"ticks\":\"outside\"}},\"type\":\"scatterpolar\"}],\"scatter\":[{\"fillpattern\":{\"fillmode\":\"overlay\",\"size\":10,\"solidity\":0.2},\"type\":\"scatter\"}],\"scatterternary\":[{\"marker\":{\"colorbar\":{\"outlinewidth\":1,\"tickcolor\":\"rgb(36,36,36)\",\"ticks\":\"outside\"}},\"type\":\"scatterternary\"}],\"surface\":[{\"colorbar\":{\"outlinewidth\":1,\"tickcolor\":\"rgb(36,36,36)\",\"ticks\":\"outside\"},\"colorscale\":[[0.0,\"#440154\"],[0.1111111111111111,\"#482878\"],[0.2222222222222222,\"#3e4989\"],[0.3333333333333333,\"#31688e\"],[0.4444444444444444,\"#26828e\"],[0.5555555555555556,\"#1f9e89\"],[0.6666666666666666,\"#35b779\"],[0.7777777777777778,\"#6ece58\"],[0.8888888888888888,\"#b5de2b\"],[1.0,\"#fde725\"]],\"type\":\"surface\"}],\"table\":[{\"cells\":{\"fill\":{\"color\":\"rgb(237,237,237)\"},\"line\":{\"color\":\"white\"}},\"header\":{\"fill\":{\"color\":\"rgb(217,217,217)\"},\"line\":{\"color\":\"white\"}},\"type\":\"table\"}]},\"layout\":{\"annotationdefaults\":{\"arrowhead\":0,\"arrowwidth\":1},\"autotypenumbers\":\"strict\",\"coloraxis\":{\"colorbar\":{\"outlinewidth\":1,\"tickcolor\":\"rgb(36,36,36)\",\"ticks\":\"outside\"}},\"colorscale\":{\"diverging\":[[0.0,\"rgb(103,0,31)\"],[0.1,\"rgb(178,24,43)\"],[0.2,\"rgb(214,96,77)\"],[0.3,\"rgb(244,165,130)\"],[0.4,\"rgb(253,219,199)\"],[0.5,\"rgb(247,247,247)\"],[0.6,\"rgb(209,229,240)\"],[0.7,\"rgb(146,197,222)\"],[0.8,\"rgb(67,147,195)\"],[0.9,\"rgb(33,102,172)\"],[1.0,\"rgb(5,48,97)\"]],\"sequential\":[[0.0,\"#440154\"],[0.1111111111111111,\"#482878\"],[0.2222222222222222,\"#3e4989\"],[0.3333333333333333,\"#31688e\"],[0.4444444444444444,\"#26828e\"],[0.5555555555555556,\"#1f9e89\"],[0.6666666666666666,\"#35b779\"],[0.7777777777777778,\"#6ece58\"],[0.8888888888888888,\"#b5de2b\"],[1.0,\"#fde725\"]],\"sequentialminus\":[[0.0,\"#440154\"],[0.1111111111111111,\"#482878\"],[0.2222222222222222,\"#3e4989\"],[0.3333333333333333,\"#31688e\"],[0.4444444444444444,\"#26828e\"],[0.5555555555555556,\"#1f9e89\"],[0.6666666666666666,\"#35b779\"],[0.7777777777777778,\"#6ece58\"],[0.8888888888888888,\"#b5de2b\"],[1.0,\"#fde725\"]]},\"colorway\":[\"#1F77B4\",\"#FF7F0E\",\"#2CA02C\",\"#D62728\",\"#9467BD\",\"#8C564B\",\"#E377C2\",\"#7F7F7F\",\"#BCBD22\",\"#17BECF\"],\"font\":{\"color\":\"rgb(36,36,36)\"},\"geo\":{\"bgcolor\":\"white\",\"lakecolor\":\"white\",\"landcolor\":\"white\",\"showlakes\":true,\"showland\":true,\"subunitcolor\":\"white\"},\"hoverlabel\":{\"align\":\"left\"},\"hovermode\":\"closest\",\"mapbox\":{\"style\":\"light\"},\"paper_bgcolor\":\"white\",\"plot_bgcolor\":\"white\",\"polar\":{\"angularaxis\":{\"gridcolor\":\"rgb(232,232,232)\",\"linecolor\":\"rgb(36,36,36)\",\"showgrid\":false,\"showline\":true,\"ticks\":\"outside\"},\"bgcolor\":\"white\",\"radialaxis\":{\"gridcolor\":\"rgb(232,232,232)\",\"linecolor\":\"rgb(36,36,36)\",\"showgrid\":false,\"showline\":true,\"ticks\":\"outside\"}},\"scene\":{\"xaxis\":{\"backgroundcolor\":\"white\",\"gridcolor\":\"rgb(232,232,232)\",\"gridwidth\":2,\"linecolor\":\"rgb(36,36,36)\",\"showbackground\":true,\"showgrid\":false,\"showline\":true,\"ticks\":\"outside\",\"zeroline\":false,\"zerolinecolor\":\"rgb(36,36,36)\"},\"yaxis\":{\"backgroundcolor\":\"white\",\"gridcolor\":\"rgb(232,232,232)\",\"gridwidth\":2,\"linecolor\":\"rgb(36,36,36)\",\"showbackground\":true,\"showgrid\":false,\"showline\":true,\"ticks\":\"outside\",\"zeroline\":false,\"zerolinecolor\":\"rgb(36,36,36)\"},\"zaxis\":{\"backgroundcolor\":\"white\",\"gridcolor\":\"rgb(232,232,232)\",\"gridwidth\":2,\"linecolor\":\"rgb(36,36,36)\",\"showbackground\":true,\"showgrid\":false,\"showline\":true,\"ticks\":\"outside\",\"zeroline\":false,\"zerolinecolor\":\"rgb(36,36,36)\"}},\"shapedefaults\":{\"fillcolor\":\"black\",\"line\":{\"width\":0},\"opacity\":0.3},\"ternary\":{\"aaxis\":{\"gridcolor\":\"rgb(232,232,232)\",\"linecolor\":\"rgb(36,36,36)\",\"showgrid\":false,\"showline\":true,\"ticks\":\"outside\"},\"baxis\":{\"gridcolor\":\"rgb(232,232,232)\",\"linecolor\":\"rgb(36,36,36)\",\"showgrid\":false,\"showline\":true,\"ticks\":\"outside\"},\"bgcolor\":\"white\",\"caxis\":{\"gridcolor\":\"rgb(232,232,232)\",\"linecolor\":\"rgb(36,36,36)\",\"showgrid\":false,\"showline\":true,\"ticks\":\"outside\"}},\"title\":{\"x\":0.05},\"xaxis\":{\"automargin\":true,\"gridcolor\":\"rgb(232,232,232)\",\"linecolor\":\"rgb(36,36,36)\",\"showgrid\":false,\"showline\":true,\"ticks\":\"outside\",\"title\":{\"standoff\":15},\"zeroline\":false,\"zerolinecolor\":\"rgb(36,36,36)\"},\"yaxis\":{\"automargin\":true,\"gridcolor\":\"rgb(232,232,232)\",\"linecolor\":\"rgb(36,36,36)\",\"showgrid\":false,\"showline\":true,\"ticks\":\"outside\",\"title\":{\"standoff\":15},\"zeroline\":false,\"zerolinecolor\":\"rgb(36,36,36)\"}}},\"legend\":{\"tracegroupgap\":0},\"margin\":{\"t\":100},\"title\":{\"text\":\"The Best Selling Pizza\",\"font\":{\"size\":24}},\"treemapcolorway\":[\"#9fc5e8\",\"#f36a6a\",\"#5F8D37\",\"#fba6d0\"],\"height\":600,\"width\":1000},                        {\"responsive\": true}                    ).then(function(){\n",
       "                            \n",
       "var gd = document.getElementById('4c5130ef-635c-46b9-8cee-9cc043213c96');\n",
       "var x = new MutationObserver(function (mutations, observer) {{\n",
       "        var display = window.getComputedStyle(gd).display;\n",
       "        if (!display || display === 'none') {{\n",
       "            console.log([gd, 'removed!']);\n",
       "            Plotly.purge(gd);\n",
       "            observer.disconnect();\n",
       "        }}\n",
       "}});\n",
       "\n",
       "// Listen for the removal of the full notebook cells\n",
       "var notebookContainer = gd.closest('#notebook-container');\n",
       "if (notebookContainer) {{\n",
       "    x.observe(notebookContainer, {childList: true});\n",
       "}}\n",
       "\n",
       "// Listen for the clearing of the current output cell\n",
       "var outputEl = gd.closest('.output');\n",
       "if (outputEl) {{\n",
       "    x.observe(outputEl, {childList: true});\n",
       "}}\n",
       "\n",
       "                        })                };                });            </script>        </div>"
      ]
     },
     "metadata": {},
     "output_type": "display_data"
    }
   ],
   "source": [
    "fig = px.treemap(df,\n",
    "                 path = ['pizza_category', 'pizza_name', 'pizza_size'],\n",
    "                 values = 'quantity')\n",
    "\n",
    "fig.update_layout(title=\"The Best Selling Pizza\",\n",
    "                  titlefont={'size': 24,\n",
    "                            },\n",
    "                  template='simple_white',\n",
    "                  treemapcolorway = [\"#9fc5e8\", \"#f36a6a\", '#5F8D37', \"#fba6d0\"],\n",
    "                  height = 600,\n",
    "                  width = 1000,\n",
    "                  margin=dict(t=100)\n",
    "                 )\n",
    "fig.show()"
   ]
  }
 ],
 "metadata": {
  "kernelspec": {
   "display_name": "base",
   "language": "python",
   "name": "python3"
  },
  "language_info": {
   "codemirror_mode": {
    "name": "ipython",
    "version": 3
   },
   "file_extension": ".py",
   "mimetype": "text/x-python",
   "name": "python",
   "nbconvert_exporter": "python",
   "pygments_lexer": "ipython3",
   "version": "3.9.12"
  },
  "toc": {
   "base_numbering": 1,
   "nav_menu": {},
   "number_sections": true,
   "sideBar": true,
   "skip_h1_title": false,
   "title_cell": "Table of Contents",
   "title_sidebar": "Contents",
   "toc_cell": false,
   "toc_position": {},
   "toc_section_display": true,
   "toc_window_display": false
  },
  "varInspector": {
   "cols": {
    "lenName": 16,
    "lenType": 16,
    "lenVar": 40
   },
   "kernels_config": {
    "python": {
     "delete_cmd_postfix": "",
     "delete_cmd_prefix": "del ",
     "library": "var_list.py",
     "varRefreshCmd": "print(var_dic_list())"
    },
    "r": {
     "delete_cmd_postfix": ") ",
     "delete_cmd_prefix": "rm(",
     "library": "var_list.r",
     "varRefreshCmd": "cat(var_dic_list()) "
    }
   },
   "types_to_exclude": [
    "module",
    "function",
    "builtin_function_or_method",
    "instance",
    "_Feature"
   ],
   "window_display": false
  },
  "vscode": {
   "interpreter": {
    "hash": "40d3a090f54c6569ab1632332b64b2c03c39dcf918b08424e98f38b5ae0af88f"
   }
  }
 },
 "nbformat": 4,
 "nbformat_minor": 5
}

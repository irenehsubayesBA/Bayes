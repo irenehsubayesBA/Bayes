{
 "cells": [
  {
   "cell_type": "code",
   "execution_count": 22,
   "id": "c0beba9c",
   "metadata": {
    "ExecuteTime": {
     "end_time": "2022-11-12T13:03:30.384818Z",
     "start_time": "2022-11-12T13:03:30.356665Z"
    }
   },
   "outputs": [],
   "source": [
    "import pandas as pd\n",
    "import numpy as np\n",
    "import matplotlib.pyplot as plt\n",
    "%matplotlib inline"
   ]
  },
  {
   "cell_type": "code",
   "execution_count": 23,
   "id": "3e54425d",
   "metadata": {
    "ExecuteTime": {
     "end_time": "2022-11-12T13:03:31.009557Z",
     "start_time": "2022-11-12T13:03:30.989728Z"
    }
   },
   "outputs": [],
   "source": [
    "df = pd.read_csv(\"HRDataset_v14.csv\")"
   ]
  },
  {
   "cell_type": "code",
   "execution_count": 24,
   "id": "e36b6e68",
   "metadata": {
    "ExecuteTime": {
     "end_time": "2022-11-12T13:03:31.674965Z",
     "start_time": "2022-11-12T13:03:31.564035Z"
    }
   },
   "outputs": [],
   "source": [
    "for index, row in df.iterrows():\n",
    "    if row['HispanicLatino'] == 'No' and row['RaceDesc'] ==  'White':\n",
    "        df.loc[index,\"Racegroup\"] = 'White'\n",
    "    \n",
    "    if row['HispanicLatino'] ==   'Yes' and row['RaceDesc'] ==  'White':\n",
    "        df.loc[index,\"Racegroup\"] = 'Hispanic'\n",
    "\n",
    "    if row['HispanicLatino'] ==   'Yes' and row['RaceDesc'] ==  'Black or African American':\n",
    "        df.loc[index,\"Racegroup\"] = 'Hispanic'\n",
    "    \n",
    "    if row['HispanicLatino'] ==   'No' and row['RaceDesc'] ==  'White':\n",
    "        df.loc[index,\"Racegroup\"] = 'White'\n",
    "\n",
    "    if row['HispanicLatino'] ==  'No' and row['RaceDesc'] ==   'Black or African American':\n",
    "        df.loc[index,\"Racegroup\"] = 'Black or African American'\n",
    "\n",
    "\n",
    "    if row['HispanicLatino'] ==   'No' and row['RaceDesc'] ==   'Asian':\n",
    "        df.loc[index,\"Racegroup\"] = 'Asian'\n",
    "\n",
    "    if row['HispanicLatino'] ==  'No' and (row['RaceDesc'] ==   'Two or more races' or row['RaceDesc'] ==  'American Indian or Alaska Native'):\n",
    "        df.loc[index,\"Racegroup\"] = 'Other'"
   ]
  },
  {
   "cell_type": "code",
   "execution_count": 25,
   "id": "07662f7d",
   "metadata": {
    "ExecuteTime": {
     "end_time": "2022-11-12T13:03:32.167141Z",
     "start_time": "2022-11-12T13:03:32.028088Z"
    }
   },
   "outputs": [],
   "source": [
    "# Convert 'DOB' to datetime format, with a bit of chaining to keep just the date\n",
    "from dateutil.relativedelta import relativedelta\n",
    "df['DOB'] = pd.to_datetime(df['DOB']).dt.date.astype('datetime64')\n",
    "\n",
    "# No employees were born after year 2000, so DOBs like 2068 should have 100 years removed:\n",
    "df.loc[df.DOB.dt.year > 2000, 'DOB'] -= pd.DateOffset(years=100)\n",
    "\n",
    "# Now, to getting the age:\n",
    "df['Age'] = pd.Series(dtype='int')\n",
    "for ind, date in df.DOB.iteritems():\n",
    "    df.loc[ind, 'Age'] = relativedelta(\n",
    "        pd.to_datetime('today'), date).years\n",
    "df.Age = pd.DataFrame(df.Age.astype('int64'))"
   ]
  },
  {
   "cell_type": "code",
   "execution_count": 26,
   "id": "73c707c0",
   "metadata": {
    "ExecuteTime": {
     "end_time": "2022-11-12T13:03:32.414417Z",
     "start_time": "2022-11-12T13:03:32.405468Z"
    }
   },
   "outputs": [],
   "source": [
    "df.loc[:,\"Agegroup\"]= pd.cut(df.Age, [25,40,55,70,75])"
   ]
  },
  {
   "cell_type": "code",
   "execution_count": 27,
   "id": "311a13bc",
   "metadata": {
    "ExecuteTime": {
     "end_time": "2022-11-12T13:03:32.830752Z",
     "start_time": "2022-11-12T13:03:32.820713Z"
    }
   },
   "outputs": [],
   "source": [
    "df.drop(columns=\"Age\", axis=0, inplace = True)"
   ]
  },
  {
   "cell_type": "code",
   "execution_count": 28,
   "id": "5880598c",
   "metadata": {
    "ExecuteTime": {
     "end_time": "2022-11-12T13:03:33.316128Z",
     "start_time": "2022-11-12T13:03:33.307589Z"
    }
   },
   "outputs": [],
   "source": [
    "df[\"Agegroup\"]= df[\"Agegroup\"].astype(str)"
   ]
  },
  {
   "cell_type": "code",
   "execution_count": 29,
   "id": "4dd3383c",
   "metadata": {
    "ExecuteTime": {
     "end_time": "2022-11-12T13:03:33.802512Z",
     "start_time": "2022-11-12T13:03:33.772073Z"
    }
   },
   "outputs": [
    {
     "data": {
      "text/html": [
       "<div>\n",
       "<style scoped>\n",
       "    .dataframe tbody tr th:only-of-type {\n",
       "        vertical-align: middle;\n",
       "    }\n",
       "\n",
       "    .dataframe tbody tr th {\n",
       "        vertical-align: top;\n",
       "    }\n",
       "\n",
       "    .dataframe thead th {\n",
       "        text-align: right;\n",
       "    }\n",
       "</style>\n",
       "<table border=\"1\" class=\"dataframe\">\n",
       "  <thead>\n",
       "    <tr style=\"text-align: right;\">\n",
       "      <th></th>\n",
       "      <th>Employee_Name</th>\n",
       "      <th>EmpID</th>\n",
       "      <th>MarriedID</th>\n",
       "      <th>MaritalStatusID</th>\n",
       "      <th>GenderID</th>\n",
       "      <th>EmpStatusID</th>\n",
       "      <th>DeptID</th>\n",
       "      <th>PerfScoreID</th>\n",
       "      <th>FromDiversityJobFairID</th>\n",
       "      <th>Salary</th>\n",
       "      <th>...</th>\n",
       "      <th>RecruitmentSource</th>\n",
       "      <th>PerformanceScore</th>\n",
       "      <th>EngagementSurvey</th>\n",
       "      <th>EmpSatisfaction</th>\n",
       "      <th>SpecialProjectsCount</th>\n",
       "      <th>LastPerformanceReview_Date</th>\n",
       "      <th>DaysLateLast30</th>\n",
       "      <th>Absences</th>\n",
       "      <th>Racegroup</th>\n",
       "      <th>Agegroup</th>\n",
       "    </tr>\n",
       "  </thead>\n",
       "  <tbody>\n",
       "    <tr>\n",
       "      <th>0</th>\n",
       "      <td>Adinolfi, Wilson  K</td>\n",
       "      <td>10026</td>\n",
       "      <td>0</td>\n",
       "      <td>0</td>\n",
       "      <td>1</td>\n",
       "      <td>1</td>\n",
       "      <td>5</td>\n",
       "      <td>4</td>\n",
       "      <td>0</td>\n",
       "      <td>62506</td>\n",
       "      <td>...</td>\n",
       "      <td>LinkedIn</td>\n",
       "      <td>Exceeds</td>\n",
       "      <td>4.60</td>\n",
       "      <td>5</td>\n",
       "      <td>0</td>\n",
       "      <td>1/17/2019</td>\n",
       "      <td>0</td>\n",
       "      <td>1</td>\n",
       "      <td>White</td>\n",
       "      <td>(25, 40]</td>\n",
       "    </tr>\n",
       "    <tr>\n",
       "      <th>1</th>\n",
       "      <td>Ait Sidi, Karthikeyan</td>\n",
       "      <td>10084</td>\n",
       "      <td>1</td>\n",
       "      <td>1</td>\n",
       "      <td>1</td>\n",
       "      <td>5</td>\n",
       "      <td>3</td>\n",
       "      <td>3</td>\n",
       "      <td>0</td>\n",
       "      <td>104437</td>\n",
       "      <td>...</td>\n",
       "      <td>Indeed</td>\n",
       "      <td>Fully Meets</td>\n",
       "      <td>4.96</td>\n",
       "      <td>3</td>\n",
       "      <td>6</td>\n",
       "      <td>2/24/2016</td>\n",
       "      <td>0</td>\n",
       "      <td>17</td>\n",
       "      <td>White</td>\n",
       "      <td>(40, 55]</td>\n",
       "    </tr>\n",
       "    <tr>\n",
       "      <th>2</th>\n",
       "      <td>Akinkuolie, Sarah</td>\n",
       "      <td>10196</td>\n",
       "      <td>1</td>\n",
       "      <td>1</td>\n",
       "      <td>0</td>\n",
       "      <td>5</td>\n",
       "      <td>5</td>\n",
       "      <td>3</td>\n",
       "      <td>0</td>\n",
       "      <td>64955</td>\n",
       "      <td>...</td>\n",
       "      <td>LinkedIn</td>\n",
       "      <td>Fully Meets</td>\n",
       "      <td>3.02</td>\n",
       "      <td>3</td>\n",
       "      <td>0</td>\n",
       "      <td>5/15/2012</td>\n",
       "      <td>0</td>\n",
       "      <td>3</td>\n",
       "      <td>White</td>\n",
       "      <td>(25, 40]</td>\n",
       "    </tr>\n",
       "    <tr>\n",
       "      <th>3</th>\n",
       "      <td>Alagbe,Trina</td>\n",
       "      <td>10088</td>\n",
       "      <td>1</td>\n",
       "      <td>1</td>\n",
       "      <td>0</td>\n",
       "      <td>1</td>\n",
       "      <td>5</td>\n",
       "      <td>3</td>\n",
       "      <td>0</td>\n",
       "      <td>64991</td>\n",
       "      <td>...</td>\n",
       "      <td>Indeed</td>\n",
       "      <td>Fully Meets</td>\n",
       "      <td>4.84</td>\n",
       "      <td>5</td>\n",
       "      <td>0</td>\n",
       "      <td>1/3/2019</td>\n",
       "      <td>0</td>\n",
       "      <td>15</td>\n",
       "      <td>White</td>\n",
       "      <td>(25, 40]</td>\n",
       "    </tr>\n",
       "    <tr>\n",
       "      <th>4</th>\n",
       "      <td>Anderson, Carol</td>\n",
       "      <td>10069</td>\n",
       "      <td>0</td>\n",
       "      <td>2</td>\n",
       "      <td>0</td>\n",
       "      <td>5</td>\n",
       "      <td>5</td>\n",
       "      <td>3</td>\n",
       "      <td>0</td>\n",
       "      <td>50825</td>\n",
       "      <td>...</td>\n",
       "      <td>Google Search</td>\n",
       "      <td>Fully Meets</td>\n",
       "      <td>5.00</td>\n",
       "      <td>4</td>\n",
       "      <td>0</td>\n",
       "      <td>2/1/2016</td>\n",
       "      <td>0</td>\n",
       "      <td>2</td>\n",
       "      <td>White</td>\n",
       "      <td>(25, 40]</td>\n",
       "    </tr>\n",
       "    <tr>\n",
       "      <th>...</th>\n",
       "      <td>...</td>\n",
       "      <td>...</td>\n",
       "      <td>...</td>\n",
       "      <td>...</td>\n",
       "      <td>...</td>\n",
       "      <td>...</td>\n",
       "      <td>...</td>\n",
       "      <td>...</td>\n",
       "      <td>...</td>\n",
       "      <td>...</td>\n",
       "      <td>...</td>\n",
       "      <td>...</td>\n",
       "      <td>...</td>\n",
       "      <td>...</td>\n",
       "      <td>...</td>\n",
       "      <td>...</td>\n",
       "      <td>...</td>\n",
       "      <td>...</td>\n",
       "      <td>...</td>\n",
       "      <td>...</td>\n",
       "      <td>...</td>\n",
       "    </tr>\n",
       "    <tr>\n",
       "      <th>306</th>\n",
       "      <td>Woodson, Jason</td>\n",
       "      <td>10135</td>\n",
       "      <td>0</td>\n",
       "      <td>0</td>\n",
       "      <td>1</td>\n",
       "      <td>1</td>\n",
       "      <td>5</td>\n",
       "      <td>3</td>\n",
       "      <td>0</td>\n",
       "      <td>65893</td>\n",
       "      <td>...</td>\n",
       "      <td>LinkedIn</td>\n",
       "      <td>Fully Meets</td>\n",
       "      <td>4.07</td>\n",
       "      <td>4</td>\n",
       "      <td>0</td>\n",
       "      <td>2/28/2019</td>\n",
       "      <td>0</td>\n",
       "      <td>13</td>\n",
       "      <td>White</td>\n",
       "      <td>(25, 40]</td>\n",
       "    </tr>\n",
       "    <tr>\n",
       "      <th>307</th>\n",
       "      <td>Ybarra, Catherine</td>\n",
       "      <td>10301</td>\n",
       "      <td>0</td>\n",
       "      <td>0</td>\n",
       "      <td>0</td>\n",
       "      <td>5</td>\n",
       "      <td>5</td>\n",
       "      <td>1</td>\n",
       "      <td>0</td>\n",
       "      <td>48513</td>\n",
       "      <td>...</td>\n",
       "      <td>Google Search</td>\n",
       "      <td>PIP</td>\n",
       "      <td>3.20</td>\n",
       "      <td>2</td>\n",
       "      <td>0</td>\n",
       "      <td>9/2/2015</td>\n",
       "      <td>5</td>\n",
       "      <td>4</td>\n",
       "      <td>Asian</td>\n",
       "      <td>(25, 40]</td>\n",
       "    </tr>\n",
       "    <tr>\n",
       "      <th>308</th>\n",
       "      <td>Zamora, Jennifer</td>\n",
       "      <td>10010</td>\n",
       "      <td>0</td>\n",
       "      <td>0</td>\n",
       "      <td>0</td>\n",
       "      <td>1</td>\n",
       "      <td>3</td>\n",
       "      <td>4</td>\n",
       "      <td>0</td>\n",
       "      <td>220450</td>\n",
       "      <td>...</td>\n",
       "      <td>Employee Referral</td>\n",
       "      <td>Exceeds</td>\n",
       "      <td>4.60</td>\n",
       "      <td>5</td>\n",
       "      <td>6</td>\n",
       "      <td>2/21/2019</td>\n",
       "      <td>0</td>\n",
       "      <td>16</td>\n",
       "      <td>White</td>\n",
       "      <td>(40, 55]</td>\n",
       "    </tr>\n",
       "    <tr>\n",
       "      <th>309</th>\n",
       "      <td>Zhou, Julia</td>\n",
       "      <td>10043</td>\n",
       "      <td>0</td>\n",
       "      <td>0</td>\n",
       "      <td>0</td>\n",
       "      <td>1</td>\n",
       "      <td>3</td>\n",
       "      <td>3</td>\n",
       "      <td>0</td>\n",
       "      <td>89292</td>\n",
       "      <td>...</td>\n",
       "      <td>Employee Referral</td>\n",
       "      <td>Fully Meets</td>\n",
       "      <td>5.00</td>\n",
       "      <td>3</td>\n",
       "      <td>5</td>\n",
       "      <td>2/1/2019</td>\n",
       "      <td>0</td>\n",
       "      <td>11</td>\n",
       "      <td>White</td>\n",
       "      <td>(40, 55]</td>\n",
       "    </tr>\n",
       "    <tr>\n",
       "      <th>310</th>\n",
       "      <td>Zima, Colleen</td>\n",
       "      <td>10271</td>\n",
       "      <td>0</td>\n",
       "      <td>4</td>\n",
       "      <td>0</td>\n",
       "      <td>1</td>\n",
       "      <td>5</td>\n",
       "      <td>3</td>\n",
       "      <td>0</td>\n",
       "      <td>45046</td>\n",
       "      <td>...</td>\n",
       "      <td>LinkedIn</td>\n",
       "      <td>Fully Meets</td>\n",
       "      <td>4.50</td>\n",
       "      <td>5</td>\n",
       "      <td>0</td>\n",
       "      <td>1/30/2019</td>\n",
       "      <td>0</td>\n",
       "      <td>2</td>\n",
       "      <td>Asian</td>\n",
       "      <td>(40, 55]</td>\n",
       "    </tr>\n",
       "  </tbody>\n",
       "</table>\n",
       "<p>311 rows × 38 columns</p>\n",
       "</div>"
      ],
      "text/plain": [
       "                Employee_Name  EmpID  MarriedID  MaritalStatusID  GenderID  \\\n",
       "0         Adinolfi, Wilson  K  10026          0                0         1   \n",
       "1    Ait Sidi, Karthikeyan     10084          1                1         1   \n",
       "2           Akinkuolie, Sarah  10196          1                1         0   \n",
       "3                Alagbe,Trina  10088          1                1         0   \n",
       "4            Anderson, Carol   10069          0                2         0   \n",
       "..                        ...    ...        ...              ...       ...   \n",
       "306            Woodson, Jason  10135          0                0         1   \n",
       "307        Ybarra, Catherine   10301          0                0         0   \n",
       "308          Zamora, Jennifer  10010          0                0         0   \n",
       "309               Zhou, Julia  10043          0                0         0   \n",
       "310             Zima, Colleen  10271          0                4         0   \n",
       "\n",
       "     EmpStatusID  DeptID  PerfScoreID  FromDiversityJobFairID  Salary  ...  \\\n",
       "0              1       5            4                       0   62506  ...   \n",
       "1              5       3            3                       0  104437  ...   \n",
       "2              5       5            3                       0   64955  ...   \n",
       "3              1       5            3                       0   64991  ...   \n",
       "4              5       5            3                       0   50825  ...   \n",
       "..           ...     ...          ...                     ...     ...  ...   \n",
       "306            1       5            3                       0   65893  ...   \n",
       "307            5       5            1                       0   48513  ...   \n",
       "308            1       3            4                       0  220450  ...   \n",
       "309            1       3            3                       0   89292  ...   \n",
       "310            1       5            3                       0   45046  ...   \n",
       "\n",
       "     RecruitmentSource  PerformanceScore EngagementSurvey EmpSatisfaction  \\\n",
       "0             LinkedIn           Exceeds             4.60               5   \n",
       "1               Indeed       Fully Meets             4.96               3   \n",
       "2             LinkedIn       Fully Meets             3.02               3   \n",
       "3               Indeed       Fully Meets             4.84               5   \n",
       "4        Google Search       Fully Meets             5.00               4   \n",
       "..                 ...               ...              ...             ...   \n",
       "306           LinkedIn       Fully Meets             4.07               4   \n",
       "307      Google Search               PIP             3.20               2   \n",
       "308  Employee Referral           Exceeds             4.60               5   \n",
       "309  Employee Referral       Fully Meets             5.00               3   \n",
       "310           LinkedIn       Fully Meets             4.50               5   \n",
       "\n",
       "     SpecialProjectsCount LastPerformanceReview_Date DaysLateLast30 Absences  \\\n",
       "0                       0                  1/17/2019              0        1   \n",
       "1                       6                  2/24/2016              0       17   \n",
       "2                       0                  5/15/2012              0        3   \n",
       "3                       0                   1/3/2019              0       15   \n",
       "4                       0                   2/1/2016              0        2   \n",
       "..                    ...                        ...            ...      ...   \n",
       "306                     0                  2/28/2019              0       13   \n",
       "307                     0                   9/2/2015              5        4   \n",
       "308                     6                  2/21/2019              0       16   \n",
       "309                     5                   2/1/2019              0       11   \n",
       "310                     0                  1/30/2019              0        2   \n",
       "\n",
       "    Racegroup  Agegroup  \n",
       "0       White  (25, 40]  \n",
       "1       White  (40, 55]  \n",
       "2       White  (25, 40]  \n",
       "3       White  (25, 40]  \n",
       "4       White  (25, 40]  \n",
       "..        ...       ...  \n",
       "306     White  (25, 40]  \n",
       "307     Asian  (25, 40]  \n",
       "308     White  (40, 55]  \n",
       "309     White  (40, 55]  \n",
       "310     Asian  (40, 55]  \n",
       "\n",
       "[311 rows x 38 columns]"
      ]
     },
     "execution_count": 29,
     "metadata": {},
     "output_type": "execute_result"
    }
   ],
   "source": [
    "df"
   ]
  },
  {
   "cell_type": "code",
   "execution_count": 30,
   "id": "72e7942d",
   "metadata": {
    "ExecuteTime": {
     "end_time": "2022-11-12T13:03:34.184614Z",
     "start_time": "2022-11-12T13:03:34.154627Z"
    }
   },
   "outputs": [],
   "source": [
    "df.to_csv(\"RaceandAgeroup.csv\")"
   ]
  },
  {
   "cell_type": "code",
   "execution_count": 31,
   "id": "8b17d02a",
   "metadata": {
    "ExecuteTime": {
     "end_time": "2022-11-12T13:03:34.638667Z",
     "start_time": "2022-11-12T13:03:34.622080Z"
    },
    "scrolled": true
   },
   "outputs": [
    {
     "data": {
      "text/html": [
       "<div>\n",
       "<style scoped>\n",
       "    .dataframe tbody tr th:only-of-type {\n",
       "        vertical-align: middle;\n",
       "    }\n",
       "\n",
       "    .dataframe tbody tr th {\n",
       "        vertical-align: top;\n",
       "    }\n",
       "\n",
       "    .dataframe thead th {\n",
       "        text-align: right;\n",
       "    }\n",
       "</style>\n",
       "<table border=\"1\" class=\"dataframe\">\n",
       "  <thead>\n",
       "    <tr style=\"text-align: right;\">\n",
       "      <th></th>\n",
       "      <th>Racegroup</th>\n",
       "      <th>Agegroup</th>\n",
       "    </tr>\n",
       "  </thead>\n",
       "  <tbody>\n",
       "    <tr>\n",
       "      <th>0</th>\n",
       "      <td>White</td>\n",
       "      <td>(25, 40]</td>\n",
       "    </tr>\n",
       "    <tr>\n",
       "      <th>1</th>\n",
       "      <td>White</td>\n",
       "      <td>(40, 55]</td>\n",
       "    </tr>\n",
       "    <tr>\n",
       "      <th>2</th>\n",
       "      <td>White</td>\n",
       "      <td>(25, 40]</td>\n",
       "    </tr>\n",
       "    <tr>\n",
       "      <th>3</th>\n",
       "      <td>White</td>\n",
       "      <td>(25, 40]</td>\n",
       "    </tr>\n",
       "    <tr>\n",
       "      <th>4</th>\n",
       "      <td>White</td>\n",
       "      <td>(25, 40]</td>\n",
       "    </tr>\n",
       "    <tr>\n",
       "      <th>...</th>\n",
       "      <td>...</td>\n",
       "      <td>...</td>\n",
       "    </tr>\n",
       "    <tr>\n",
       "      <th>306</th>\n",
       "      <td>White</td>\n",
       "      <td>(25, 40]</td>\n",
       "    </tr>\n",
       "    <tr>\n",
       "      <th>307</th>\n",
       "      <td>Asian</td>\n",
       "      <td>(25, 40]</td>\n",
       "    </tr>\n",
       "    <tr>\n",
       "      <th>308</th>\n",
       "      <td>White</td>\n",
       "      <td>(40, 55]</td>\n",
       "    </tr>\n",
       "    <tr>\n",
       "      <th>309</th>\n",
       "      <td>White</td>\n",
       "      <td>(40, 55]</td>\n",
       "    </tr>\n",
       "    <tr>\n",
       "      <th>310</th>\n",
       "      <td>Asian</td>\n",
       "      <td>(40, 55]</td>\n",
       "    </tr>\n",
       "  </tbody>\n",
       "</table>\n",
       "<p>311 rows × 2 columns</p>\n",
       "</div>"
      ],
      "text/plain": [
       "    Racegroup  Agegroup\n",
       "0       White  (25, 40]\n",
       "1       White  (40, 55]\n",
       "2       White  (25, 40]\n",
       "3       White  (25, 40]\n",
       "4       White  (25, 40]\n",
       "..        ...       ...\n",
       "306     White  (25, 40]\n",
       "307     Asian  (25, 40]\n",
       "308     White  (40, 55]\n",
       "309     White  (40, 55]\n",
       "310     Asian  (40, 55]\n",
       "\n",
       "[311 rows x 2 columns]"
      ]
     },
     "execution_count": 31,
     "metadata": {},
     "output_type": "execute_result"
    }
   ],
   "source": [
    "df = df[[\"Racegroup\",\"Agegroup\"]]\n",
    "df"
   ]
  },
  {
   "cell_type": "code",
   "execution_count": 32,
   "id": "7d4cff5b",
   "metadata": {
    "ExecuteTime": {
     "end_time": "2022-11-12T13:03:35.070908Z",
     "start_time": "2022-11-12T13:03:35.053493Z"
    }
   },
   "outputs": [],
   "source": [
    "df = pd.DataFrame(df.value_counts())"
   ]
  },
  {
   "cell_type": "code",
   "execution_count": 33,
   "id": "9239b708",
   "metadata": {
    "ExecuteTime": {
     "end_time": "2022-11-12T13:03:35.522941Z",
     "start_time": "2022-11-12T13:03:35.513834Z"
    }
   },
   "outputs": [],
   "source": [
    "df.reset_index(drop=False,inplace=True)"
   ]
  },
  {
   "cell_type": "code",
   "execution_count": 34,
   "id": "eddc8525",
   "metadata": {
    "ExecuteTime": {
     "end_time": "2022-11-12T13:03:36.161231Z",
     "start_time": "2022-11-12T13:03:36.153736Z"
    }
   },
   "outputs": [],
   "source": [
    "df = df.rename(columns={0: \"Count\"})"
   ]
  },
  {
   "cell_type": "code",
   "execution_count": 35,
   "id": "0fd0b943",
   "metadata": {
    "ExecuteTime": {
     "end_time": "2022-11-12T13:03:36.652764Z",
     "start_time": "2022-11-12T13:03:36.646637Z"
    }
   },
   "outputs": [],
   "source": [
    "df['Agegroup'] = df['Agegroup'].str.replace(',','-')"
   ]
  },
  {
   "cell_type": "code",
   "execution_count": 36,
   "id": "745d0297",
   "metadata": {
    "ExecuteTime": {
     "end_time": "2022-11-12T13:03:37.187217Z",
     "start_time": "2022-11-12T13:03:37.181680Z"
    }
   },
   "outputs": [],
   "source": [
    "df['Agegroup'] = df['Agegroup'].str.replace(' ','')"
   ]
  },
  {
   "cell_type": "code",
   "execution_count": 37,
   "id": "fbc70c2d",
   "metadata": {
    "ExecuteTime": {
     "end_time": "2022-11-12T13:03:37.706893Z",
     "start_time": "2022-11-12T13:03:37.666672Z"
    }
   },
   "outputs": [
    {
     "name": "stderr",
     "output_type": "stream",
     "text": [
      "/var/folders/65/l8gwbbg117z6hscwvjl3vg0m0000gn/T/ipykernel_3026/4030688868.py:1: FutureWarning: The default value of regex will change from True to False in a future version. In addition, single character regular expressions will *not* be treated as literal strings when regex=True.\n",
      "  df['Agegroup'] = df['Agegroup'].str.replace('(','')\n"
     ]
    }
   ],
   "source": [
    "df['Agegroup'] = df['Agegroup'].str.replace('(','')"
   ]
  },
  {
   "cell_type": "code",
   "execution_count": 38,
   "id": "b2f26532",
   "metadata": {
    "ExecuteTime": {
     "end_time": "2022-11-12T13:03:38.302286Z",
     "start_time": "2022-11-12T13:03:38.268878Z"
    }
   },
   "outputs": [
    {
     "name": "stderr",
     "output_type": "stream",
     "text": [
      "/var/folders/65/l8gwbbg117z6hscwvjl3vg0m0000gn/T/ipykernel_3026/2057630809.py:1: FutureWarning: The default value of regex will change from True to False in a future version. In addition, single character regular expressions will *not* be treated as literal strings when regex=True.\n",
      "  df['Agegroup'] = df['Agegroup'].str.replace(']','')\n"
     ]
    }
   ],
   "source": [
    "df['Agegroup'] = df['Agegroup'].str.replace(']','')"
   ]
  },
  {
   "cell_type": "code",
   "execution_count": 39,
   "id": "de27d934",
   "metadata": {
    "ExecuteTime": {
     "end_time": "2022-11-12T13:03:39.054123Z",
     "start_time": "2022-11-12T13:03:39.031138Z"
    }
   },
   "outputs": [
    {
     "data": {
      "text/html": [
       "<div>\n",
       "<style scoped>\n",
       "    .dataframe tbody tr th:only-of-type {\n",
       "        vertical-align: middle;\n",
       "    }\n",
       "\n",
       "    .dataframe tbody tr th {\n",
       "        vertical-align: top;\n",
       "    }\n",
       "\n",
       "    .dataframe thead th {\n",
       "        text-align: right;\n",
       "    }\n",
       "</style>\n",
       "<table border=\"1\" class=\"dataframe\">\n",
       "  <thead>\n",
       "    <tr style=\"text-align: right;\">\n",
       "      <th>Racegroup</th>\n",
       "      <th>Agegroup</th>\n",
       "      <th>Asian</th>\n",
       "      <th>Black or African American</th>\n",
       "      <th>Hispanic</th>\n",
       "      <th>Other</th>\n",
       "      <th>White</th>\n",
       "    </tr>\n",
       "  </thead>\n",
       "  <tbody>\n",
       "    <tr>\n",
       "      <th>0</th>\n",
       "      <td>25-40</td>\n",
       "      <td>11.0</td>\n",
       "      <td>30.0</td>\n",
       "      <td>14.0</td>\n",
       "      <td>9.0</td>\n",
       "      <td>78.0</td>\n",
       "    </tr>\n",
       "    <tr>\n",
       "      <th>1</th>\n",
       "      <td>40-55</td>\n",
       "      <td>16.0</td>\n",
       "      <td>34.0</td>\n",
       "      <td>11.0</td>\n",
       "      <td>4.0</td>\n",
       "      <td>71.0</td>\n",
       "    </tr>\n",
       "    <tr>\n",
       "      <th>2</th>\n",
       "      <td>55-70</td>\n",
       "      <td>2.0</td>\n",
       "      <td>7.0</td>\n",
       "      <td>1.0</td>\n",
       "      <td>NaN</td>\n",
       "      <td>18.0</td>\n",
       "    </tr>\n",
       "    <tr>\n",
       "      <th>3</th>\n",
       "      <td>70-75</td>\n",
       "      <td>NaN</td>\n",
       "      <td>1.0</td>\n",
       "      <td>NaN</td>\n",
       "      <td>NaN</td>\n",
       "      <td>1.0</td>\n",
       "    </tr>\n",
       "  </tbody>\n",
       "</table>\n",
       "</div>"
      ],
      "text/plain": [
       "Racegroup Agegroup  Asian  Black or African American  Hispanic  Other  White\n",
       "0            25-40   11.0                       30.0      14.0    9.0   78.0\n",
       "1            40-55   16.0                       34.0      11.0    4.0   71.0\n",
       "2            55-70    2.0                        7.0       1.0    NaN   18.0\n",
       "3            70-75    NaN                        1.0       NaN    NaN    1.0"
      ]
     },
     "execution_count": 39,
     "metadata": {},
     "output_type": "execute_result"
    }
   ],
   "source": [
    "pivot = pd.pivot_table(data=df,index=\"Agegroup\",columns=['Racegroup'], values='Count').reset_index()\n",
    "pivot"
   ]
  },
  {
   "cell_type": "code",
   "execution_count": 40,
   "id": "2fdc9691",
   "metadata": {
    "ExecuteTime": {
     "end_time": "2022-11-12T13:03:39.655682Z",
     "start_time": "2022-11-12T13:03:39.639240Z"
    }
   },
   "outputs": [
    {
     "data": {
      "text/html": [
       "<div>\n",
       "<style scoped>\n",
       "    .dataframe tbody tr th:only-of-type {\n",
       "        vertical-align: middle;\n",
       "    }\n",
       "\n",
       "    .dataframe tbody tr th {\n",
       "        vertical-align: top;\n",
       "    }\n",
       "\n",
       "    .dataframe thead th {\n",
       "        text-align: right;\n",
       "    }\n",
       "</style>\n",
       "<table border=\"1\" class=\"dataframe\">\n",
       "  <thead>\n",
       "    <tr style=\"text-align: right;\">\n",
       "      <th>Racegroup</th>\n",
       "      <th>Agegroup</th>\n",
       "      <th>Asian</th>\n",
       "      <th>Black or African American</th>\n",
       "      <th>Hispanic</th>\n",
       "      <th>Other</th>\n",
       "      <th>White</th>\n",
       "    </tr>\n",
       "  </thead>\n",
       "  <tbody>\n",
       "    <tr>\n",
       "      <th>0</th>\n",
       "      <td>25-40</td>\n",
       "      <td>11.0</td>\n",
       "      <td>30.0</td>\n",
       "      <td>14.0</td>\n",
       "      <td>9.0</td>\n",
       "      <td>78.0</td>\n",
       "    </tr>\n",
       "    <tr>\n",
       "      <th>1</th>\n",
       "      <td>40-55</td>\n",
       "      <td>16.0</td>\n",
       "      <td>34.0</td>\n",
       "      <td>11.0</td>\n",
       "      <td>4.0</td>\n",
       "      <td>71.0</td>\n",
       "    </tr>\n",
       "    <tr>\n",
       "      <th>2</th>\n",
       "      <td>55-70</td>\n",
       "      <td>2.0</td>\n",
       "      <td>7.0</td>\n",
       "      <td>1.0</td>\n",
       "      <td>NaN</td>\n",
       "      <td>18.0</td>\n",
       "    </tr>\n",
       "  </tbody>\n",
       "</table>\n",
       "</div>"
      ],
      "text/plain": [
       "Racegroup Agegroup  Asian  Black or African American  Hispanic  Other  White\n",
       "0            25-40   11.0                       30.0      14.0    9.0   78.0\n",
       "1            40-55   16.0                       34.0      11.0    4.0   71.0\n",
       "2            55-70    2.0                        7.0       1.0    NaN   18.0"
      ]
     },
     "execution_count": 40,
     "metadata": {},
     "output_type": "execute_result"
    }
   ],
   "source": [
    "pivot.drop(pivot[pivot['Agegroup'] == \"70-75\"].index, inplace = True)\n",
    "pivot"
   ]
  },
  {
   "cell_type": "code",
   "execution_count": 48,
   "id": "c5626eed",
   "metadata": {
    "ExecuteTime": {
     "end_time": "2022-11-12T13:17:46.165320Z",
     "start_time": "2022-11-12T13:17:45.440311Z"
    }
   },
   "outputs": [
    {
     "data": {
      "image/png": "[encoded data removed]",
      "text/plain": [
       "<Figure size 720x576 with 1 Axes>"
      ]
     },
     "metadata": {
      "needs_background": "light"
     },
     "output_type": "display_data"
    }
   ],
   "source": [
    "# plot\n",
    "ax = pivot.plot.bar(x='Agegroup', stacked=True,\n",
    "              color=['wheat','orange',\"tomato\",\"brown\",\"indianred\"], \n",
    "                    width=0.2,alpha= 0.8,\n",
    "                   figsize = (10,8), edgecolor='white')\n",
    "# rotate xtick\n",
    "plt.xticks(rotation = \"horizontal\")\n",
    "\n",
    "# BG color\n",
    "ax.set_facecolor('white')\n",
    "\n",
    "# remove grid line\n",
    "ax.grid(False)\n",
    "\n",
    "# Title of Bar Chart\n",
    "plt.title('Overall Diversity', fontdict={'size': 25}, fontfamily = 'Charter', pad=26)\n",
    "\n",
    "# hide ticks\n",
    "ax.tick_params(axis=u'x', which=u'both',length=0)\n",
    "\n",
    "# y label\n",
    "ax.set_ylabel('Numbers of employees',fontdict={'size': 15}, fontfamily = 'Charter',labelpad=20)\n",
    "\n",
    "# x label\n",
    "ax.set_xlabel('Age group',\n",
    "              fontfamily = 'Charter',fontdict={'size': 15}, labelpad=20)\n",
    "\n",
    "# change the fontsyle of x-ticks and y-ticks\n",
    "for tick in ax.get_xticklabels():\n",
    "    tick.set_fontname(\"Charter\")\n",
    "for tick in ax.get_yticklabels():\n",
    "    tick.set_fontname(\"Charter\")\n",
    "\n",
    "# legend\n",
    "L = plt.legend()\n",
    "plt.setp(L.texts, family='Charter', size=15)\n",
    "L.set_frame_on(False)\n",
    "\n",
    "#hide the frame\n",
    "ax.set_frame_on(False) \n",
    "    \n",
    "# change the size of x-ticks and y-ticks\n",
    "ax.tick_params(axis='both', which='major', labelsize=15)\n",
    "plt.tight_layout()\n",
    "plt.savefig('2.jpg',dpi=250)\n",
    "plt.show()"
   ]
  },
  {
   "cell_type": "code",
   "execution_count": null,
   "id": "34123fca",
   "metadata": {},
   "outputs": [],
   "source": []
  }
 ],
 "metadata": {
  "kernelspec": {
   "display_name": "Python 3 (ipykernel)",
   "language": "python",
   "name": "python3"
  },
  "language_info": {
   "codemirror_mode": {
    "name": "ipython",
    "version": 3
   },
   "file_extension": ".py",
   "mimetype": "text/x-python",
   "name": "python",
   "nbconvert_exporter": "python",
   "pygments_lexer": "ipython3",
   "version": "3.9.12"
  },
  "toc": {
   "base_numbering": 1,
   "nav_menu": {},
   "number_sections": true,
   "sideBar": true,
   "skip_h1_title": false,
   "title_cell": "Table of Contents",
   "title_sidebar": "Contents",
   "toc_cell": false,
   "toc_position": {},
   "toc_section_display": true,
   "toc_window_display": false
  },
  "varInspector": {
   "cols": {
    "lenName": 16,
    "lenType": 16,
    "lenVar": 40
   },
   "kernels_config": {
    "python": {
     "delete_cmd_postfix": "",
     "delete_cmd_prefix": "del ",
     "library": "var_list.py",
     "varRefreshCmd": "print(var_dic_list())"
    },
    "r": {
     "delete_cmd_postfix": ") ",
     "delete_cmd_prefix": "rm(",
     "library": "var_list.r",
     "varRefreshCmd": "cat(var_dic_list()) "
    }
   },
   "types_to_exclude": [
    "module",
    "function",
    "builtin_function_or_method",
    "instance",
    "_Feature"
   ],
   "window_display": false
  },
  "vscode": {
   "interpreter": {
    "hash": "d35218ff73312ff990f154ec1c16d56cd6b1c37990d93b866f44fdb00797556b"
   }
  }
 },
 "nbformat": 4,
 "nbformat_minor": 5
}

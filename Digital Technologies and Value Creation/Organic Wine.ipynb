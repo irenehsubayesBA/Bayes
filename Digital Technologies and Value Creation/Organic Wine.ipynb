{
 "cells": [
  {
   "attachments": {},
   "cell_type": "markdown",
   "id": "2d2780fa",
   "metadata": {},
   "source": [
    "# Set up environment\n"
   ]
  },
  {
   "cell_type": "code",
   "execution_count": 17,
   "id": "168c7473",
   "metadata": {
    "ExecuteTime": {
     "end_time": "2022-10-31T22:16:41.690393Z",
     "start_time": "2022-10-31T22:16:37.743934Z"
    }
   },
   "outputs": [],
   "source": [
    "import tweepy\n",
    "import pickle\n",
    "import pandas as pd\n",
    "import numpy as np\n",
    "import matplotlib.pyplot as plt\n",
    "import seaborn as sns\n",
    "import statsmodels.api as sm\n",
    "from datetime import datetime, timedelta\n",
    "import nltk\n",
    "from nltk.sentiment import SentimentIntensityAnalyzer"
   ]
  },
  {
   "cell_type": "code",
   "execution_count": 10,
   "id": "afef7ad1",
   "metadata": {
    "ExecuteTime": {
     "end_time": "2022-10-31T22:16:42.349547Z",
     "start_time": "2022-10-31T22:16:42.338748Z"
    }
   },
   "outputs": [],
   "source": [
    "CONSUMER_API_KEY = 'HXYBuyZLzzRZghuBueZvwx6Xr'\n",
    "CONSUMER_API_SECRET = 'sXspcZNp0gJD0YYSQAQA4aZa4XpHhFnW0SiKg3tNR60FhYNc3P'\n",
    "ACCESS_KEY = '1582982696313257984-HXQtp5N12fm7W21B6PycenaLbFPLyT'\n",
    "ACCESS_SECRET = 'uK8xn2PKLhPnufd3GlKygygPN7VxyF6BOnc5p3CzoIL3r'"
   ]
  },
  {
   "cell_type": "code",
   "execution_count": 11,
   "id": "b59cd9f7",
   "metadata": {
    "ExecuteTime": {
     "end_time": "2022-10-31T22:16:44.123702Z",
     "start_time": "2022-10-31T22:16:44.104749Z"
    }
   },
   "outputs": [],
   "source": [
    "auth = tweepy.OAuthHandler(CONSUMER_API_KEY, CONSUMER_API_SECRET)\n",
    "auth.set_access_token(ACCESS_KEY, ACCESS_SECRET)\n",
    "api = tweepy.API(auth, wait_on_rate_limit = True)"
   ]
  },
  {
   "attachments": {},
   "cell_type": "markdown",
   "id": "00211372",
   "metadata": {},
   "source": [
    "# Search tweets containing #Organic"
   ]
  },
  {
   "cell_type": "code",
   "execution_count": 12,
   "id": "b4cc265a",
   "metadata": {
    "ExecuteTime": {
     "end_time": "2022-11-01T22:22:38.780612Z",
     "start_time": "2022-11-01T22:20:37.384992Z"
    }
   },
   "outputs": [],
   "source": [
    "creat_list = []\n",
    "user_list = []\n",
    "followers_list = []\n",
    "content_list = []\n",
    "location_list = []\n",
    "for tweet in tweepy.Cursor(api.search_tweets,q=\"#organic -filter:retweets\", \n",
    "                           lang=\"en\", tweet_mode='extended').items(50):\n",
    "    \n",
    "    created = str(tweet.created_at)\n",
    "    creat_list.append(created)\n",
    "    \n",
    "    user = tweet.user.screen_name\n",
    "    user_list.append(user)\n",
    "    \n",
    "    followers = str(tweet.user.followers_count)\n",
    "    followers_list.append(followers)\n",
    "    \n",
    "    content = tweet.full_text\n",
    "    content_list.append(content)\n",
    "    \n",
    "    location = tweet.user.location\n",
    "    location_list.append(location)\n",
    "\n",
    "itemdf = pd.DataFrame({\"createdat\":creat_list, \"user\":user_list, \"followers\":followers_list, \n",
    "                       \"content\":content_list, \"location\":location_list})"
   ]
  },
  {
   "cell_type": "code",
   "execution_count": null,
   "id": "501c481e",
   "metadata": {
    "ExecuteTime": {
     "end_time": "2022-10-31T22:03:22.265751Z",
     "start_time": "2022-10-31T22:03:22.257734Z"
    }
   },
   "outputs": [],
   "source": [
    "itemdf.to_csv(\"organic.csv\")"
   ]
  },
  {
   "cell_type": "code",
   "execution_count": 13,
   "id": "e2b758a4",
   "metadata": {},
   "outputs": [],
   "source": [
    "#Text book\n",
    "tweets = []\n",
    "for tweet in tweepy.Cursor(api.search_tweets,q=\"#organic -filter:retweets\", \n",
    "                           lang=\"en\", tweet_mode='extended').items(50):\n",
    "    tweets.append(tweet)"
   ]
  },
  {
   "cell_type": "code",
   "execution_count": 15,
   "id": "b32ce8de",
   "metadata": {},
   "outputs": [
    {
     "data": {
      "text/html": [
       "<div>\n",
       "<style scoped>\n",
       "    .dataframe tbody tr th:only-of-type {\n",
       "        vertical-align: middle;\n",
       "    }\n",
       "\n",
       "    .dataframe tbody tr th {\n",
       "        vertical-align: top;\n",
       "    }\n",
       "\n",
       "    .dataframe thead th {\n",
       "        text-align: right;\n",
       "    }\n",
       "</style>\n",
       "<table border=\"1\" class=\"dataframe\">\n",
       "  <thead>\n",
       "    <tr style=\"text-align: right;\">\n",
       "      <th></th>\n",
       "      <th>hashtag</th>\n",
       "      <th>count</th>\n",
       "    </tr>\n",
       "  </thead>\n",
       "  <tbody>\n",
       "    <tr>\n",
       "      <th>214</th>\n",
       "      <td>organic</td>\n",
       "      <td>50</td>\n",
       "    </tr>\n",
       "    <tr>\n",
       "      <th>267</th>\n",
       "      <td>shopping</td>\n",
       "      <td>6</td>\n",
       "    </tr>\n",
       "    <tr>\n",
       "      <th>20</th>\n",
       "      <td>berlin</td>\n",
       "      <td>5</td>\n",
       "    </tr>\n",
       "    <tr>\n",
       "      <th>89</th>\n",
       "      <td>fashion</td>\n",
       "      <td>5</td>\n",
       "    </tr>\n",
       "    <tr>\n",
       "      <th>52</th>\n",
       "      <td>clothing</td>\n",
       "      <td>5</td>\n",
       "    </tr>\n",
       "    <tr>\n",
       "      <th>...</th>\n",
       "      <td>...</td>\n",
       "      <td>...</td>\n",
       "    </tr>\n",
       "    <tr>\n",
       "      <th>128</th>\n",
       "      <td>hairgrowth</td>\n",
       "      <td>1</td>\n",
       "    </tr>\n",
       "    <tr>\n",
       "      <th>127</th>\n",
       "      <td>hairfall</td>\n",
       "      <td>1</td>\n",
       "    </tr>\n",
       "    <tr>\n",
       "      <th>123</th>\n",
       "      <td>guelph</td>\n",
       "      <td>1</td>\n",
       "    </tr>\n",
       "    <tr>\n",
       "      <th>122</th>\n",
       "      <td>growyourownfood</td>\n",
       "      <td>1</td>\n",
       "    </tr>\n",
       "    <tr>\n",
       "      <th>335</th>\n",
       "      <td>洛杉矶</td>\n",
       "      <td>1</td>\n",
       "    </tr>\n",
       "  </tbody>\n",
       "</table>\n",
       "<p>336 rows × 2 columns</p>\n",
       "</div>"
      ],
      "text/plain": [
       "             hashtag  count\n",
       "214          organic     50\n",
       "267         shopping      6\n",
       "20            berlin      5\n",
       "89           fashion      5\n",
       "52          clothing      5\n",
       "..               ...    ...\n",
       "128       hairgrowth      1\n",
       "127         hairfall      1\n",
       "123           guelph      1\n",
       "122  growyourownfood      1\n",
       "335              洛杉矶      1\n",
       "\n",
       "[336 rows x 2 columns]"
      ]
     },
     "execution_count": 15,
     "metadata": {},
     "output_type": "execute_result"
    }
   ],
   "source": [
    "#Explore other hashtags\n",
    "attached_tags = [tweet.entities['hashtags'] for tweet in tweets if tweet.entities['hashtags'] != []]\n",
    "attached_tags_cleaned = [hashtag['text'].lower() for tags in attached_tags for hashtag in tags if hashtag['text'].lower() != 'organicwine']\n",
    "hashtag_df = pd.DataFrame(attached_tags_cleaned,columns=['hashtag'])\n",
    "hashtag_df = hashtag_df.groupby('hashtag')['hashtag'].count().reset_index(name='count')\n",
    "hashtag_df.sort_values(by='count',ascending=False)"
   ]
  },
  {
   "cell_type": "markdown",
   "id": "04f20c99",
   "metadata": {
    "ExecuteTime": {
     "end_time": "2022-11-01T22:23:54.496881Z",
     "start_time": "2022-11-01T22:23:54.492951Z"
    }
   },
   "source": [
    "## Sentiment analysis #Organic"
   ]
  },
  {
   "cell_type": "code",
   "execution_count": 43,
   "id": "e9a288b3",
   "metadata": {},
   "outputs": [],
   "source": [
    "sia = SentimentIntensityAnalyzer()"
   ]
  },
  {
   "cell_type": "code",
   "execution_count": 44,
   "id": "76f21bb0",
   "metadata": {},
   "outputs": [
    {
     "data": {
      "image/png": "[encoded data removed]",
      "text/plain": [
       "<Figure size 432x288 with 1 Axes>"
      ]
     },
     "metadata": {
      "needs_background": "light"
     },
     "output_type": "display_data"
    }
   ],
   "source": [
    "compound_scores = []\n",
    "for tweet in tweets:\n",
    "    compound_scores.append(sia.polarity_scores(tweet.full_text)['compound'])\n",
    "sns.histplot(compound_scores,bins=10)\n",
    "plt.show()"
   ]
  },
  {
   "cell_type": "code",
   "execution_count": 45,
   "id": "2f3613e8",
   "metadata": {},
   "outputs": [
    {
     "data": {
      "text/html": [
       "<div>\n",
       "<style scoped>\n",
       "    .dataframe tbody tr th:only-of-type {\n",
       "        vertical-align: middle;\n",
       "    }\n",
       "\n",
       "    .dataframe tbody tr th {\n",
       "        vertical-align: top;\n",
       "    }\n",
       "\n",
       "    .dataframe thead th {\n",
       "        text-align: right;\n",
       "    }\n",
       "</style>\n",
       "<table border=\"1\" class=\"dataframe\">\n",
       "  <thead>\n",
       "    <tr style=\"text-align: right;\">\n",
       "      <th></th>\n",
       "      <th>organicwine_score</th>\n",
       "    </tr>\n",
       "  </thead>\n",
       "  <tbody>\n",
       "    <tr>\n",
       "      <th>0</th>\n",
       "      <td>0.7717</td>\n",
       "    </tr>\n",
       "    <tr>\n",
       "      <th>1</th>\n",
       "      <td>0.6114</td>\n",
       "    </tr>\n",
       "    <tr>\n",
       "      <th>2</th>\n",
       "      <td>0.0000</td>\n",
       "    </tr>\n",
       "    <tr>\n",
       "      <th>3</th>\n",
       "      <td>0.2960</td>\n",
       "    </tr>\n",
       "    <tr>\n",
       "      <th>4</th>\n",
       "      <td>0.0000</td>\n",
       "    </tr>\n",
       "    <tr>\n",
       "      <th>5</th>\n",
       "      <td>0.6597</td>\n",
       "    </tr>\n",
       "    <tr>\n",
       "      <th>6</th>\n",
       "      <td>0.8172</td>\n",
       "    </tr>\n",
       "    <tr>\n",
       "      <th>7</th>\n",
       "      <td>0.6705</td>\n",
       "    </tr>\n",
       "    <tr>\n",
       "      <th>8</th>\n",
       "      <td>0.8425</td>\n",
       "    </tr>\n",
       "  </tbody>\n",
       "</table>\n",
       "</div>"
      ],
      "text/plain": [
       "   organicwine_score\n",
       "0             0.7717\n",
       "1             0.6114\n",
       "2             0.0000\n",
       "3             0.2960\n",
       "4             0.0000\n",
       "5             0.6597\n",
       "6             0.8172\n",
       "7             0.6705\n",
       "8             0.8425"
      ]
     },
     "execution_count": 45,
     "metadata": {},
     "output_type": "execute_result"
    }
   ],
   "source": [
    "organicwine_score = pd.DataFrame (compound_scores, columns = ['organicwine_score'])\n",
    "organicwine_score"
   ]
  },
  {
   "cell_type": "code",
   "execution_count": 46,
   "id": "6d4495c3",
   "metadata": {},
   "outputs": [
    {
     "data": {
      "text/html": [
       "<div>\n",
       "<style scoped>\n",
       "    .dataframe tbody tr th:only-of-type {\n",
       "        vertical-align: middle;\n",
       "    }\n",
       "\n",
       "    .dataframe tbody tr th {\n",
       "        vertical-align: top;\n",
       "    }\n",
       "\n",
       "    .dataframe thead th {\n",
       "        text-align: right;\n",
       "    }\n",
       "</style>\n",
       "<table border=\"1\" class=\"dataframe\">\n",
       "  <thead>\n",
       "    <tr style=\"text-align: right;\">\n",
       "      <th></th>\n",
       "      <th>organicwine_score</th>\n",
       "    </tr>\n",
       "  </thead>\n",
       "  <tbody>\n",
       "    <tr>\n",
       "      <th>count</th>\n",
       "      <td>9.000000</td>\n",
       "    </tr>\n",
       "    <tr>\n",
       "      <th>mean</th>\n",
       "      <td>0.518778</td>\n",
       "    </tr>\n",
       "    <tr>\n",
       "      <th>std</th>\n",
       "      <td>0.334882</td>\n",
       "    </tr>\n",
       "    <tr>\n",
       "      <th>min</th>\n",
       "      <td>0.000000</td>\n",
       "    </tr>\n",
       "    <tr>\n",
       "      <th>25%</th>\n",
       "      <td>0.296000</td>\n",
       "    </tr>\n",
       "    <tr>\n",
       "      <th>50%</th>\n",
       "      <td>0.659700</td>\n",
       "    </tr>\n",
       "    <tr>\n",
       "      <th>75%</th>\n",
       "      <td>0.771700</td>\n",
       "    </tr>\n",
       "    <tr>\n",
       "      <th>max</th>\n",
       "      <td>0.842500</td>\n",
       "    </tr>\n",
       "  </tbody>\n",
       "</table>\n",
       "</div>"
      ],
      "text/plain": [
       "       organicwine_score\n",
       "count           9.000000\n",
       "mean            0.518778\n",
       "std             0.334882\n",
       "min             0.000000\n",
       "25%             0.296000\n",
       "50%             0.659700\n",
       "75%             0.771700\n",
       "max             0.842500"
      ]
     },
     "execution_count": 46,
     "metadata": {},
     "output_type": "execute_result"
    }
   ],
   "source": [
    "organicwine_score.describe()"
   ]
  },
  {
   "attachments": {},
   "cell_type": "markdown",
   "id": "194b9da9",
   "metadata": {},
   "source": [
    "Between $-1$ and $1$\n",
    "\n",
    "$>0$ signifies a positive sentiment\n",
    "\n",
    "$<0$ signifies a negative sentiment\n",
    "\n",
    "**The public's view to organic is positive**"
   ]
  },
  {
   "attachments": {},
   "cell_type": "markdown",
   "id": "8785cada",
   "metadata": {},
   "source": [
    "# Search tweets containing #Organic AND #wine (seperate)"
   ]
  },
  {
   "cell_type": "code",
   "execution_count": 20,
   "id": "d06fd57e",
   "metadata": {
    "ExecuteTime": {
     "end_time": "2022-11-01T22:14:53.300073Z",
     "start_time": "2022-11-01T22:14:52.309861Z"
    }
   },
   "outputs": [],
   "source": [
    "creat_list = []\n",
    "user_list = []\n",
    "followers_list = []\n",
    "content_list = []\n",
    "location_list = []\n",
    "for tweet in tweepy.Cursor(api.search_tweets,q=\"#organic AND wine -filter:retweets\", \n",
    "                           lang=\"en\", tweet_mode='extended').items(50):\n",
    "    \n",
    "    created = str(tweet.created_at)\n",
    "    creat_list.append(created)\n",
    "    \n",
    "    user = tweet.user.screen_name\n",
    "    user_list.append(user)\n",
    "    \n",
    "    followers = str(tweet.user.followers_count)\n",
    "    followers_list.append(followers)\n",
    "    \n",
    "    content = tweet.full_text\n",
    "    content_list.append(content)\n",
    "    \n",
    "    location = tweet.user.location\n",
    "    location_list.append(location)\n",
    "\n",
    "itemdfANDextended = pd.DataFrame({\"createdat\":creat_list, \"user\":user_list, \"followers\":followers_list, \n",
    "                       \"content\":content_list, \"location\":location_list})"
   ]
  },
  {
   "cell_type": "code",
   "execution_count": null,
   "id": "b924cbfb",
   "metadata": {
    "ExecuteTime": {
     "end_time": "2022-10-31T22:06:19.226842Z",
     "start_time": "2022-10-31T22:06:19.218757Z"
    }
   },
   "outputs": [],
   "source": [
    "itemdfANDextended.to_csv(\"organic AND wine extended.csv\")"
   ]
  },
  {
   "cell_type": "code",
   "execution_count": 21,
   "id": "c551a0b8",
   "metadata": {
    "ExecuteTime": {
     "end_time": "2022-11-01T22:15:54.117251Z",
     "start_time": "2022-11-01T22:15:52.967200Z"
    }
   },
   "outputs": [],
   "source": [
    "#Text book\n",
    "tweets = []\n",
    "for tweet in tweepy.Cursor(api.search_tweets,q=\"#organic AND wine -filter:retweets\", \n",
    "                           lang=\"en\", tweet_mode='extended').items(50):\n",
    "    tweets.append(tweet)"
   ]
  },
  {
   "cell_type": "code",
   "execution_count": 22,
   "id": "44817411",
   "metadata": {
    "ExecuteTime": {
     "end_time": "2022-11-01T22:15:55.270287Z",
     "start_time": "2022-11-01T22:15:55.027245Z"
    }
   },
   "outputs": [
    {
     "data": {
      "image/png": "[encoded data removed]",
      "text/plain": [
       "<Figure size 432x288 with 1 Axes>"
      ]
     },
     "metadata": {
      "needs_background": "light"
     },
     "output_type": "display_data"
    }
   ],
   "source": [
    "#Create day count\n",
    "tweet_day = [tweet.created_at.date() for tweet in tweets]\n",
    "tweet_day_df = pd.DataFrame(tweet_day,columns=['date'])\n",
    "tweet_day_df = tweet_day_df.groupby('date')['date'].count().reset_index(name='count')\n",
    "sns.lineplot(y=tweet_day_df['count'], x = tweet_day_df['date'])\n",
    "plt.show()"
   ]
  },
  {
   "cell_type": "code",
   "execution_count": 23,
   "id": "73225df8",
   "metadata": {
    "ExecuteTime": {
     "end_time": "2022-11-01T22:15:58.438417Z",
     "start_time": "2022-11-01T22:15:58.368378Z"
    }
   },
   "outputs": [
    {
     "data": {
      "text/html": [
       "<div>\n",
       "<style scoped>\n",
       "    .dataframe tbody tr th:only-of-type {\n",
       "        vertical-align: middle;\n",
       "    }\n",
       "\n",
       "    .dataframe tbody tr th {\n",
       "        vertical-align: top;\n",
       "    }\n",
       "\n",
       "    .dataframe thead th {\n",
       "        text-align: right;\n",
       "    }\n",
       "</style>\n",
       "<table border=\"1\" class=\"dataframe\">\n",
       "  <thead>\n",
       "    <tr style=\"text-align: right;\">\n",
       "      <th></th>\n",
       "      <th>hashtag</th>\n",
       "      <th>count</th>\n",
       "    </tr>\n",
       "  </thead>\n",
       "  <tbody>\n",
       "    <tr>\n",
       "      <th>67</th>\n",
       "      <td>organic</td>\n",
       "      <td>22</td>\n",
       "    </tr>\n",
       "    <tr>\n",
       "      <th>100</th>\n",
       "      <td>wine</td>\n",
       "      <td>16</td>\n",
       "    </tr>\n",
       "    <tr>\n",
       "      <th>31</th>\n",
       "      <td>foodie</td>\n",
       "      <td>4</td>\n",
       "    </tr>\n",
       "    <tr>\n",
       "      <th>49</th>\n",
       "      <td>japanesefood</td>\n",
       "      <td>3</td>\n",
       "    </tr>\n",
       "    <tr>\n",
       "      <th>34</th>\n",
       "      <td>freshmeat</td>\n",
       "      <td>3</td>\n",
       "    </tr>\n",
       "    <tr>\n",
       "      <th>...</th>\n",
       "      <td>...</td>\n",
       "      <td>...</td>\n",
       "    </tr>\n",
       "    <tr>\n",
       "      <th>35</th>\n",
       "      <td>fudre</td>\n",
       "      <td>1</td>\n",
       "    </tr>\n",
       "    <tr>\n",
       "      <th>33</th>\n",
       "      <td>franklandestatewines</td>\n",
       "      <td>1</td>\n",
       "    </tr>\n",
       "    <tr>\n",
       "      <th>32</th>\n",
       "      <td>franklandestate</td>\n",
       "      <td>1</td>\n",
       "    </tr>\n",
       "    <tr>\n",
       "      <th>29</th>\n",
       "      <td>floral</td>\n",
       "      <td>1</td>\n",
       "    </tr>\n",
       "    <tr>\n",
       "      <th>56</th>\n",
       "      <td>mead</td>\n",
       "      <td>1</td>\n",
       "    </tr>\n",
       "  </tbody>\n",
       "</table>\n",
       "<p>113 rows × 2 columns</p>\n",
       "</div>"
      ],
      "text/plain": [
       "                  hashtag  count\n",
       "67                organic     22\n",
       "100                  wine     16\n",
       "31                 foodie      4\n",
       "49           japanesefood      3\n",
       "34              freshmeat      3\n",
       "..                    ...    ...\n",
       "35                  fudre      1\n",
       "33   franklandestatewines      1\n",
       "32        franklandestate      1\n",
       "29                 floral      1\n",
       "56                   mead      1\n",
       "\n",
       "[113 rows x 2 columns]"
      ]
     },
     "execution_count": 23,
     "metadata": {},
     "output_type": "execute_result"
    }
   ],
   "source": [
    "#Explore other hashtags\n",
    "attached_tags = [tweet.entities['hashtags'] for tweet in tweets if tweet.entities['hashtags'] != []]\n",
    "attached_tags_cleaned = [hashtag['text'].lower() for tags in attached_tags for hashtag in tags if hashtag['text'].lower() != 'organicwine']\n",
    "hashtag_df = pd.DataFrame(attached_tags_cleaned,columns=['hashtag'])\n",
    "hashtag_df = hashtag_df.groupby('hashtag')['hashtag'].count().reset_index(name='count')\n",
    "hashtag_df.sort_values(by='count',ascending=False)"
   ]
  },
  {
   "attachments": {},
   "cell_type": "markdown",
   "id": "6e851b33",
   "metadata": {
    "ExecuteTime": {
     "end_time": "2022-11-01T22:16:14.633510Z",
     "start_time": "2022-11-01T22:16:14.627578Z"
    }
   },
   "source": [
    "## Sentiment analysis #Organic AND #wine"
   ]
  },
  {
   "cell_type": "code",
   "execution_count": 101,
   "id": "ba661cb7",
   "metadata": {
    "ExecuteTime": {
     "end_time": "2022-11-01T22:18:21.976920Z",
     "start_time": "2022-11-01T22:18:21.749353Z"
    }
   },
   "outputs": [
    {
     "data": {
      "image/png": "[encoded data removed]",
      "text/plain": [
       "<Figure size 432x288 with 1 Axes>"
      ]
     },
     "metadata": {
      "needs_background": "light"
     },
     "output_type": "display_data"
    }
   ],
   "source": [
    "compound_scores = []\n",
    "for tweet in tweets:\n",
    "    compound_scores.append(sia.polarity_scores(tweet.full_text)['compound'])\n",
    "sns.histplot(compound_scores,bins=10)\n",
    "plt.show()"
   ]
  },
  {
   "cell_type": "code",
   "execution_count": 102,
   "id": "0be55fa6",
   "metadata": {
    "ExecuteTime": {
     "end_time": "2022-11-01T22:18:37.136380Z",
     "start_time": "2022-11-01T22:18:37.077888Z"
    }
   },
   "outputs": [
    {
     "data": {
      "text/html": [
       "<div>\n",
       "<style scoped>\n",
       "    .dataframe tbody tr th:only-of-type {\n",
       "        vertical-align: middle;\n",
       "    }\n",
       "\n",
       "    .dataframe tbody tr th {\n",
       "        vertical-align: top;\n",
       "    }\n",
       "\n",
       "    .dataframe thead th {\n",
       "        text-align: right;\n",
       "    }\n",
       "</style>\n",
       "<table border=\"1\" class=\"dataframe\">\n",
       "  <thead>\n",
       "    <tr style=\"text-align: right;\">\n",
       "      <th></th>\n",
       "      <th>organicwine_score</th>\n",
       "    </tr>\n",
       "  </thead>\n",
       "  <tbody>\n",
       "    <tr>\n",
       "      <th>0</th>\n",
       "      <td>0.6114</td>\n",
       "    </tr>\n",
       "    <tr>\n",
       "      <th>1</th>\n",
       "      <td>0.7896</td>\n",
       "    </tr>\n",
       "    <tr>\n",
       "      <th>2</th>\n",
       "      <td>0.0000</td>\n",
       "    </tr>\n",
       "    <tr>\n",
       "      <th>3</th>\n",
       "      <td>0.8475</td>\n",
       "    </tr>\n",
       "    <tr>\n",
       "      <th>4</th>\n",
       "      <td>0.3612</td>\n",
       "    </tr>\n",
       "    <tr>\n",
       "      <th>5</th>\n",
       "      <td>0.6981</td>\n",
       "    </tr>\n",
       "    <tr>\n",
       "      <th>6</th>\n",
       "      <td>0.3818</td>\n",
       "    </tr>\n",
       "    <tr>\n",
       "      <th>7</th>\n",
       "      <td>0.8316</td>\n",
       "    </tr>\n",
       "    <tr>\n",
       "      <th>8</th>\n",
       "      <td>0.0000</td>\n",
       "    </tr>\n",
       "    <tr>\n",
       "      <th>9</th>\n",
       "      <td>-0.1280</td>\n",
       "    </tr>\n",
       "    <tr>\n",
       "      <th>10</th>\n",
       "      <td>0.8546</td>\n",
       "    </tr>\n",
       "    <tr>\n",
       "      <th>11</th>\n",
       "      <td>0.8828</td>\n",
       "    </tr>\n",
       "    <tr>\n",
       "      <th>12</th>\n",
       "      <td>0.1280</td>\n",
       "    </tr>\n",
       "    <tr>\n",
       "      <th>13</th>\n",
       "      <td>0.0000</td>\n",
       "    </tr>\n",
       "    <tr>\n",
       "      <th>14</th>\n",
       "      <td>0.7177</td>\n",
       "    </tr>\n",
       "    <tr>\n",
       "      <th>15</th>\n",
       "      <td>0.5994</td>\n",
       "    </tr>\n",
       "    <tr>\n",
       "      <th>16</th>\n",
       "      <td>0.6369</td>\n",
       "    </tr>\n",
       "  </tbody>\n",
       "</table>\n",
       "</div>"
      ],
      "text/plain": [
       "    organicwine_score\n",
       "0              0.6114\n",
       "1              0.7896\n",
       "2              0.0000\n",
       "3              0.8475\n",
       "4              0.3612\n",
       "5              0.6981\n",
       "6              0.3818\n",
       "7              0.8316\n",
       "8              0.0000\n",
       "9             -0.1280\n",
       "10             0.8546\n",
       "11             0.8828\n",
       "12             0.1280\n",
       "13             0.0000\n",
       "14             0.7177\n",
       "15             0.5994\n",
       "16             0.6369"
      ]
     },
     "execution_count": 102,
     "metadata": {},
     "output_type": "execute_result"
    }
   ],
   "source": [
    "organicwine_score = pd.DataFrame (compound_scores, columns = ['organicwine_score'])\n",
    "organicwine_score"
   ]
  },
  {
   "cell_type": "code",
   "execution_count": 103,
   "id": "6b3092ba",
   "metadata": {
    "ExecuteTime": {
     "end_time": "2022-11-01T22:18:53.824920Z",
     "start_time": "2022-11-01T22:18:53.812214Z"
    }
   },
   "outputs": [
    {
     "data": {
      "text/html": [
       "<div>\n",
       "<style scoped>\n",
       "    .dataframe tbody tr th:only-of-type {\n",
       "        vertical-align: middle;\n",
       "    }\n",
       "\n",
       "    .dataframe tbody tr th {\n",
       "        vertical-align: top;\n",
       "    }\n",
       "\n",
       "    .dataframe thead th {\n",
       "        text-align: right;\n",
       "    }\n",
       "</style>\n",
       "<table border=\"1\" class=\"dataframe\">\n",
       "  <thead>\n",
       "    <tr style=\"text-align: right;\">\n",
       "      <th></th>\n",
       "      <th>organicwine_score</th>\n",
       "    </tr>\n",
       "  </thead>\n",
       "  <tbody>\n",
       "    <tr>\n",
       "      <th>count</th>\n",
       "      <td>17.000000</td>\n",
       "    </tr>\n",
       "    <tr>\n",
       "      <th>mean</th>\n",
       "      <td>0.483094</td>\n",
       "    </tr>\n",
       "    <tr>\n",
       "      <th>std</th>\n",
       "      <td>0.355816</td>\n",
       "    </tr>\n",
       "    <tr>\n",
       "      <th>min</th>\n",
       "      <td>-0.128000</td>\n",
       "    </tr>\n",
       "    <tr>\n",
       "      <th>25%</th>\n",
       "      <td>0.128000</td>\n",
       "    </tr>\n",
       "    <tr>\n",
       "      <th>50%</th>\n",
       "      <td>0.611400</td>\n",
       "    </tr>\n",
       "    <tr>\n",
       "      <th>75%</th>\n",
       "      <td>0.789600</td>\n",
       "    </tr>\n",
       "    <tr>\n",
       "      <th>max</th>\n",
       "      <td>0.882800</td>\n",
       "    </tr>\n",
       "  </tbody>\n",
       "</table>\n",
       "</div>"
      ],
      "text/plain": [
       "       organicwine_score\n",
       "count          17.000000\n",
       "mean            0.483094\n",
       "std             0.355816\n",
       "min            -0.128000\n",
       "25%             0.128000\n",
       "50%             0.611400\n",
       "75%             0.789600\n",
       "max             0.882800"
      ]
     },
     "execution_count": 103,
     "metadata": {},
     "output_type": "execute_result"
    }
   ],
   "source": [
    "organicwine_score.describe()"
   ]
  },
  {
   "cell_type": "markdown",
   "id": "6310cbe9",
   "metadata": {},
   "source": [
    "Between $-1$ and $1$\n",
    "\n",
    "$>0$ signifies a positive sentiment\n",
    "\n",
    "$<0$ signifies a negative sentiment"
   ]
  },
  {
   "cell_type": "markdown",
   "id": "84677df4",
   "metadata": {},
   "source": [
    "**The public's view to organic wine is positive**"
   ]
  },
  {
   "attachments": {},
   "cell_type": "markdown",
   "id": "99faea47",
   "metadata": {
    "ExecuteTime": {
     "end_time": "2022-10-31T22:01:41.052280Z",
     "start_time": "2022-10-31T22:01:41.046625Z"
    }
   },
   "source": [
    "# Search tweets containg #organicwine (fulltext)"
   ]
  },
  {
   "cell_type": "code",
   "execution_count": 24,
   "id": "1ef7df2a",
   "metadata": {
    "ExecuteTime": {
     "end_time": "2022-10-31T22:17:08.247158Z",
     "start_time": "2022-10-31T22:17:07.104732Z"
    }
   },
   "outputs": [],
   "source": [
    "creat_list = []\n",
    "user_list = []\n",
    "followers_list = []\n",
    "content_list = []\n",
    "location_list = []\n",
    "for tweet in tweepy.Cursor(api.search_tweets,q=\"#organicwine -filter:retweets\", \n",
    "                           lang=\"en\", tweet_mode='extended').items(50):\n",
    "    \n",
    "    created = str(tweet.created_at)\n",
    "    creat_list.append(created)\n",
    "    \n",
    "    user = tweet.user.screen_name\n",
    "    user_list.append(user)\n",
    "    \n",
    "    followers = str(tweet.user.followers_count)\n",
    "    followers_list.append(followers)\n",
    "    \n",
    "    content = tweet.full_text\n",
    "    content_list.append(content)\n",
    "    \n",
    "    location = tweet.user.location\n",
    "    location_list.append(location)\n",
    "\n",
    "itemdf_extended = pd.DataFrame({\"createdat\":creat_list, \"user\":user_list, \"followers\":followers_list, \n",
    "                       \"content\":content_list, \"location\":location_list})"
   ]
  },
  {
   "cell_type": "code",
   "execution_count": null,
   "id": "a83eea47",
   "metadata": {
    "ExecuteTime": {
     "end_time": "2022-10-31T22:03:32.375303Z",
     "start_time": "2022-10-31T22:03:32.367205Z"
    }
   },
   "outputs": [],
   "source": [
    "itemdf_extended.to_csv(\"organicwine_extended.csv\")"
   ]
  },
  {
   "cell_type": "code",
   "execution_count": 25,
   "id": "1a9ef865",
   "metadata": {
    "ExecuteTime": {
     "end_time": "2022-11-01T22:00:45.747225Z",
     "start_time": "2022-11-01T22:00:44.710102Z"
    }
   },
   "outputs": [],
   "source": [
    "#Text book\n",
    "tweets = []\n",
    "for tweet in tweepy.Cursor(api.search_tweets,q=\"#organicwine -filter:retweets\", \n",
    "                           lang=\"en\", tweet_mode='extended').items(50):\n",
    "    tweets.append(tweet)"
   ]
  },
  {
   "cell_type": "code",
   "execution_count": 26,
   "id": "df619dcf",
   "metadata": {
    "ExecuteTime": {
     "end_time": "2022-11-01T21:40:21.958085Z",
     "start_time": "2022-11-01T21:40:21.412102Z"
    }
   },
   "outputs": [
    {
     "data": {
      "image/png": "[encoded data removed]",
      "text/plain": [
       "<Figure size 432x288 with 1 Axes>"
      ]
     },
     "metadata": {
      "needs_background": "light"
     },
     "output_type": "display_data"
    }
   ],
   "source": [
    "#Create day count\n",
    "tweet_day = [tweet.created_at.date() for tweet in tweets]\n",
    "tweet_day_df = pd.DataFrame(tweet_day,columns=['date'])\n",
    "tweet_day_df = tweet_day_df.groupby('date')['date'].count().reset_index(name='count')\n",
    "sns.lineplot(y=tweet_day_df['count'], x = tweet_day_df['date'])\n",
    "plt.show()"
   ]
  },
  {
   "cell_type": "code",
   "execution_count": 27,
   "id": "4f658da4",
   "metadata": {
    "ExecuteTime": {
     "end_time": "2022-11-01T21:54:33.332537Z",
     "start_time": "2022-11-01T21:54:33.313633Z"
    }
   },
   "outputs": [
    {
     "data": {
      "text/html": [
       "<div>\n",
       "<style scoped>\n",
       "    .dataframe tbody tr th:only-of-type {\n",
       "        vertical-align: middle;\n",
       "    }\n",
       "\n",
       "    .dataframe tbody tr th {\n",
       "        vertical-align: top;\n",
       "    }\n",
       "\n",
       "    .dataframe thead th {\n",
       "        text-align: right;\n",
       "    }\n",
       "</style>\n",
       "<table border=\"1\" class=\"dataframe\">\n",
       "  <thead>\n",
       "    <tr style=\"text-align: right;\">\n",
       "      <th></th>\n",
       "      <th>hashtag</th>\n",
       "      <th>count</th>\n",
       "    </tr>\n",
       "  </thead>\n",
       "  <tbody>\n",
       "    <tr>\n",
       "      <th>15</th>\n",
       "      <td>italy</td>\n",
       "      <td>4</td>\n",
       "    </tr>\n",
       "    <tr>\n",
       "      <th>45</th>\n",
       "      <td>wine</td>\n",
       "      <td>4</td>\n",
       "    </tr>\n",
       "    <tr>\n",
       "      <th>14</th>\n",
       "      <td>italianwine</td>\n",
       "      <td>4</td>\n",
       "    </tr>\n",
       "    <tr>\n",
       "      <th>53</th>\n",
       "      <td>winetravel</td>\n",
       "      <td>3</td>\n",
       "    </tr>\n",
       "    <tr>\n",
       "      <th>36</th>\n",
       "      <td>tuscany</td>\n",
       "      <td>3</td>\n",
       "    </tr>\n",
       "    <tr>\n",
       "      <th>28</th>\n",
       "      <td>organicwinery</td>\n",
       "      <td>3</td>\n",
       "    </tr>\n",
       "    <tr>\n",
       "      <th>20</th>\n",
       "      <td>maremma</td>\n",
       "      <td>3</td>\n",
       "    </tr>\n",
       "    <tr>\n",
       "      <th>34</th>\n",
       "      <td>sangiovese</td>\n",
       "      <td>3</td>\n",
       "    </tr>\n",
       "    <tr>\n",
       "      <th>13</th>\n",
       "      <td>instawine</td>\n",
       "      <td>3</td>\n",
       "    </tr>\n",
       "    <tr>\n",
       "      <th>24</th>\n",
       "      <td>naturalwines</td>\n",
       "      <td>3</td>\n",
       "    </tr>\n",
       "    <tr>\n",
       "      <th>35</th>\n",
       "      <td>toscana</td>\n",
       "      <td>3</td>\n",
       "    </tr>\n",
       "    <tr>\n",
       "      <th>37</th>\n",
       "      <td>valdonica</td>\n",
       "      <td>3</td>\n",
       "    </tr>\n",
       "    <tr>\n",
       "      <th>39</th>\n",
       "      <td>vermentino</td>\n",
       "      <td>3</td>\n",
       "    </tr>\n",
       "    <tr>\n",
       "      <th>42</th>\n",
       "      <td>visittuscany</td>\n",
       "      <td>3</td>\n",
       "    </tr>\n",
       "    <tr>\n",
       "      <th>5</th>\n",
       "      <td>breathtakingviews</td>\n",
       "      <td>3</td>\n",
       "    </tr>\n",
       "    <tr>\n",
       "      <th>46</th>\n",
       "      <td>wineenthusiast</td>\n",
       "      <td>3</td>\n",
       "    </tr>\n",
       "    <tr>\n",
       "      <th>52</th>\n",
       "      <td>winetour</td>\n",
       "      <td>3</td>\n",
       "    </tr>\n",
       "    <tr>\n",
       "      <th>23</th>\n",
       "      <td>naturalwinelover</td>\n",
       "      <td>3</td>\n",
       "    </tr>\n",
       "    <tr>\n",
       "      <th>43</th>\n",
       "      <td>véritéduterroir</td>\n",
       "      <td>2</td>\n",
       "    </tr>\n",
       "    <tr>\n",
       "      <th>32</th>\n",
       "      <td>rosewine</td>\n",
       "      <td>2</td>\n",
       "    </tr>\n",
       "    <tr>\n",
       "      <th>31</th>\n",
       "      <td>roseeveryday</td>\n",
       "      <td>2</td>\n",
       "    </tr>\n",
       "    <tr>\n",
       "      <th>30</th>\n",
       "      <td>provencewine</td>\n",
       "      <td>2</td>\n",
       "    </tr>\n",
       "    <tr>\n",
       "      <th>50</th>\n",
       "      <td>winery</td>\n",
       "      <td>2</td>\n",
       "    </tr>\n",
       "    <tr>\n",
       "      <th>1</th>\n",
       "      <td>bio</td>\n",
       "      <td>2</td>\n",
       "    </tr>\n",
       "    <tr>\n",
       "      <th>27</th>\n",
       "      <td>oregonwine</td>\n",
       "      <td>2</td>\n",
       "    </tr>\n",
       "    <tr>\n",
       "      <th>7</th>\n",
       "      <td>chateaulagordonne</td>\n",
       "      <td>2</td>\n",
       "    </tr>\n",
       "    <tr>\n",
       "      <th>11</th>\n",
       "      <td>frenchwine</td>\n",
       "      <td>2</td>\n",
       "    </tr>\n",
       "    <tr>\n",
       "      <th>2</th>\n",
       "      <td>biodynamic</td>\n",
       "      <td>2</td>\n",
       "    </tr>\n",
       "    <tr>\n",
       "      <th>18</th>\n",
       "      <td>lachapelle</td>\n",
       "      <td>2</td>\n",
       "    </tr>\n",
       "    <tr>\n",
       "      <th>17</th>\n",
       "      <td>kingestatewinery</td>\n",
       "      <td>2</td>\n",
       "    </tr>\n",
       "    <tr>\n",
       "      <th>10</th>\n",
       "      <td>drinkpink</td>\n",
       "      <td>2</td>\n",
       "    </tr>\n",
       "    <tr>\n",
       "      <th>16</th>\n",
       "      <td>kingestate</td>\n",
       "      <td>2</td>\n",
       "    </tr>\n",
       "    <tr>\n",
       "      <th>44</th>\n",
       "      <td>wein</td>\n",
       "      <td>1</td>\n",
       "    </tr>\n",
       "    <tr>\n",
       "      <th>6</th>\n",
       "      <td>champagne</td>\n",
       "      <td>1</td>\n",
       "    </tr>\n",
       "    <tr>\n",
       "      <th>4</th>\n",
       "      <td>bocalevini</td>\n",
       "      <td>1</td>\n",
       "    </tr>\n",
       "    <tr>\n",
       "      <th>25</th>\n",
       "      <td>newyearswine</td>\n",
       "      <td>1</td>\n",
       "    </tr>\n",
       "    <tr>\n",
       "      <th>47</th>\n",
       "      <td>winekeller</td>\n",
       "      <td>1</td>\n",
       "    </tr>\n",
       "    <tr>\n",
       "      <th>8</th>\n",
       "      <td>cheers</td>\n",
       "      <td>1</td>\n",
       "    </tr>\n",
       "    <tr>\n",
       "      <th>49</th>\n",
       "      <td>wineoftheweek</td>\n",
       "      <td>1</td>\n",
       "    </tr>\n",
       "    <tr>\n",
       "      <th>3</th>\n",
       "      <td>bocale</td>\n",
       "      <td>1</td>\n",
       "    </tr>\n",
       "    <tr>\n",
       "      <th>51</th>\n",
       "      <td>winetasti</td>\n",
       "      <td>1</td>\n",
       "    </tr>\n",
       "    <tr>\n",
       "      <th>48</th>\n",
       "      <td>winelover</td>\n",
       "      <td>1</td>\n",
       "    </tr>\n",
       "    <tr>\n",
       "      <th>9</th>\n",
       "      <td>côtedesbar</td>\n",
       "      <td>1</td>\n",
       "    </tr>\n",
       "    <tr>\n",
       "      <th>41</th>\n",
       "      <td>vino</td>\n",
       "      <td>1</td>\n",
       "    </tr>\n",
       "    <tr>\n",
       "      <th>40</th>\n",
       "      <td>vineyard</td>\n",
       "      <td>1</td>\n",
       "    </tr>\n",
       "    <tr>\n",
       "      <th>26</th>\n",
       "      <td>nye</td>\n",
       "      <td>1</td>\n",
       "    </tr>\n",
       "    <tr>\n",
       "      <th>38</th>\n",
       "      <td>veganwine</td>\n",
       "      <td>1</td>\n",
       "    </tr>\n",
       "    <tr>\n",
       "      <th>12</th>\n",
       "      <td>instavini</td>\n",
       "      <td>1</td>\n",
       "    </tr>\n",
       "    <tr>\n",
       "      <th>33</th>\n",
       "      <td>sagrantino</td>\n",
       "      <td>1</td>\n",
       "    </tr>\n",
       "    <tr>\n",
       "      <th>19</th>\n",
       "      <td>madeinitaly</td>\n",
       "      <td>1</td>\n",
       "    </tr>\n",
       "    <tr>\n",
       "      <th>29</th>\n",
       "      <td>pacificnorthwestbeauty</td>\n",
       "      <td>1</td>\n",
       "    </tr>\n",
       "    <tr>\n",
       "      <th>21</th>\n",
       "      <td>montefalco</td>\n",
       "      <td>1</td>\n",
       "    </tr>\n",
       "    <tr>\n",
       "      <th>22</th>\n",
       "      <td>méthodechampenoise</td>\n",
       "      <td>1</td>\n",
       "    </tr>\n",
       "    <tr>\n",
       "      <th>0</th>\n",
       "      <td>amateurwein</td>\n",
       "      <td>1</td>\n",
       "    </tr>\n",
       "  </tbody>\n",
       "</table>\n",
       "</div>"
      ],
      "text/plain": [
       "                   hashtag  count\n",
       "15                   italy      4\n",
       "45                    wine      4\n",
       "14             italianwine      4\n",
       "53              winetravel      3\n",
       "36                 tuscany      3\n",
       "28           organicwinery      3\n",
       "20                 maremma      3\n",
       "34              sangiovese      3\n",
       "13               instawine      3\n",
       "24            naturalwines      3\n",
       "35                 toscana      3\n",
       "37               valdonica      3\n",
       "39              vermentino      3\n",
       "42            visittuscany      3\n",
       "5        breathtakingviews      3\n",
       "46          wineenthusiast      3\n",
       "52                winetour      3\n",
       "23        naturalwinelover      3\n",
       "43         véritéduterroir      2\n",
       "32                rosewine      2\n",
       "31            roseeveryday      2\n",
       "30            provencewine      2\n",
       "50                  winery      2\n",
       "1                      bio      2\n",
       "27              oregonwine      2\n",
       "7        chateaulagordonne      2\n",
       "11              frenchwine      2\n",
       "2               biodynamic      2\n",
       "18              lachapelle      2\n",
       "17        kingestatewinery      2\n",
       "10               drinkpink      2\n",
       "16              kingestate      2\n",
       "44                    wein      1\n",
       "6                champagne      1\n",
       "4               bocalevini      1\n",
       "25            newyearswine      1\n",
       "47              winekeller      1\n",
       "8                   cheers      1\n",
       "49           wineoftheweek      1\n",
       "3                   bocale      1\n",
       "51               winetasti      1\n",
       "48               winelover      1\n",
       "9               côtedesbar      1\n",
       "41                    vino      1\n",
       "40                vineyard      1\n",
       "26                     nye      1\n",
       "38               veganwine      1\n",
       "12               instavini      1\n",
       "33              sagrantino      1\n",
       "19             madeinitaly      1\n",
       "29  pacificnorthwestbeauty      1\n",
       "21              montefalco      1\n",
       "22      méthodechampenoise      1\n",
       "0              amateurwein      1"
      ]
     },
     "execution_count": 27,
     "metadata": {},
     "output_type": "execute_result"
    }
   ],
   "source": [
    "#Explore other hashtags\n",
    "attached_tags = [tweet.entities['hashtags'] for tweet in tweets if tweet.entities['hashtags'] != []]\n",
    "attached_tags_cleaned = [hashtag['text'].lower() for tags in attached_tags for hashtag in tags if hashtag['text'].lower() != 'organicwine']\n",
    "hashtag_df = pd.DataFrame(attached_tags_cleaned,columns=['hashtag'])\n",
    "hashtag_df = hashtag_df.groupby('hashtag')['hashtag'].count().reset_index(name='count')\n",
    "hashtag_df.sort_values(by='count',ascending=False)"
   ]
  },
  {
   "attachments": {},
   "cell_type": "markdown",
   "id": "461f599d",
   "metadata": {},
   "source": [
    "## Finding out if lots of people talking about #Organicwine"
   ]
  },
  {
   "cell_type": "code",
   "execution_count": 28,
   "id": "a9bbb6dd",
   "metadata": {
    "ExecuteTime": {
     "end_time": "2022-11-01T22:01:46.321589Z",
     "start_time": "2022-11-01T22:01:46.268749Z"
    }
   },
   "outputs": [],
   "source": [
    "organicwine_tweets = []\n",
    "for tweet in tweets:\n",
    "    if 'organicwine' in tweet.full_text.lower():\n",
    "        organicwine_tweets.append(tweet)"
   ]
  },
  {
   "cell_type": "code",
   "execution_count": 29,
   "id": "a830fab3",
   "metadata": {
    "ExecuteTime": {
     "end_time": "2022-11-01T22:02:13.729862Z",
     "start_time": "2022-11-01T22:02:13.724706Z"
    }
   },
   "outputs": [],
   "source": [
    "user_dict = {}\n",
    "for tweet in organicwine_tweets:\n",
    "    name = tweet.user.screen_name\n",
    "    if name in user_dict:\n",
    "        user_dict[name].append(tweet)\n",
    "    else:\n",
    "        user_dict[name] = [tweet]"
   ]
  },
  {
   "cell_type": "code",
   "execution_count": 30,
   "id": "7ecd98bb",
   "metadata": {
    "ExecuteTime": {
     "end_time": "2022-11-01T22:02:26.388910Z",
     "start_time": "2022-11-01T22:02:26.377462Z"
    }
   },
   "outputs": [],
   "source": [
    "active_tweeters = []\n",
    "inactive_tweeters = []\n",
    "for name in user_dict:\n",
    "    if len(user_dict[name]) > 1:\n",
    "        active_tweeters.append(user_dict[name][0].user)\n",
    "    else:\n",
    "        inactive_tweeters.append(user_dict[name][0].user)"
   ]
  },
  {
   "cell_type": "code",
   "execution_count": 31,
   "id": "c4253590",
   "metadata": {
    "ExecuteTime": {
     "end_time": "2022-11-01T22:02:43.854178Z",
     "start_time": "2022-11-01T22:02:43.848308Z"
    }
   },
   "outputs": [
    {
     "name": "stdout",
     "output_type": "stream",
     "text": [
      "There are 3 users that wrote more than once about Organicwine\n",
      "There are 2 users that wrote only once about Organicwine\n"
     ]
    }
   ],
   "source": [
    "print(\"There are \" + str(len(active_tweeters)) + \" users that wrote more than once about Organicwine\")\n",
    "print(\"There are \" + str(len(inactive_tweeters)) + \" users that wrote only once about Organicwine\")"
   ]
  },
  {
   "cell_type": "markdown",
   "id": "42cba96f",
   "metadata": {},
   "source": [
    "## Text analysis #Organicwine"
   ]
  },
  {
   "cell_type": "code",
   "execution_count": 32,
   "id": "d94fde02",
   "metadata": {
    "ExecuteTime": {
     "end_time": "2022-11-01T22:04:28.332351Z",
     "start_time": "2022-11-01T22:04:28.323798Z"
    },
    "scrolled": true
   },
   "outputs": [
    {
     "data": {
      "text/plain": [
       "['Wishing',\n",
       " 'you',\n",
       " 'a',\n",
       " 'merry',\n",
       " 'and',\n",
       " 'rosé',\n",
       " '2023',\n",
       " '✨',\n",
       " 'Please',\n",
       " 'drink',\n",
       " 'responsibly.',\n",
       " '#drinkpink',\n",
       " '#rosewine',\n",
       " '#chateaulagordonne',\n",
       " '#véritéduterroir',\n",
       " '#provencewine',\n",
       " '#frenchwine',\n",
       " '#roseeveryday',\n",
       " '#LaChapelle',\n",
       " '#organicwine',\n",
       " '#bio',\n",
       " 'https://t.co/SM4paSLG4Q']"
      ]
     },
     "execution_count": 32,
     "metadata": {},
     "output_type": "execute_result"
    }
   ],
   "source": [
    "tweet = tweets[0]\n",
    "tweet.full_text.split()"
   ]
  },
  {
   "cell_type": "code",
   "execution_count": 33,
   "id": "3d94b50d",
   "metadata": {
    "ExecuteTime": {
     "end_time": "2022-11-01T22:04:52.669411Z",
     "start_time": "2022-11-01T22:04:52.607080Z"
    },
    "scrolled": true
   },
   "outputs": [
    {
     "data": {
      "text/plain": [
       "['wishing',\n",
       " 'you',\n",
       " 'a',\n",
       " 'merry',\n",
       " 'and',\n",
       " 'rosé',\n",
       " '2023',\n",
       " '✨',\n",
       " 'please',\n",
       " 'drink',\n",
       " 'responsibly.',\n",
       " 'drinkpink',\n",
       " 'rosewine',\n",
       " 'chateaulagordonne',\n",
       " 'véritéduterroir',\n",
       " 'provencewine',\n",
       " 'frenchwine',\n",
       " 'roseeveryday',\n",
       " 'lachapelle',\n",
       " 'organicwine',\n",
       " 'bio',\n",
       " 'https://t.co/sm4paslg4q',\n",
       " 'happy',\n",
       " 'transition',\n",
       " '-',\n",
       " 'c',\n",
       " 'u',\n",
       " '2023!',\n",
       " 'breathtakingviews',\n",
       " 'valdonica',\n",
       " 'maremma',\n",
       " 'toscana',\n",
       " 'naturalwines',\n",
       " 'naturalwinelover',\n",
       " 'winetour',\n",
       " 'instawine',\n",
       " 'tuscany',\n",
       " 'italy',\n",
       " 'italianwine',\n",
       " 'visittuscany',\n",
       " 'organicwine',\n",
       " 'organicwinery',\n",
       " 'vermentino',\n",
       " 'sangiovese',\n",
       " 'wineenthusiast',\n",
       " 'winetravel',\n",
       " 'wine',\n",
       " 'https://t.co/3wjgtzdpu7',\n",
       " 'somewhere',\n",
       " 'between',\n",
       " 'harvest',\n",
       " 'and',\n",
       " 'bottling,',\n",
       " 'winemakers',\n",
       " 'meet',\n",
       " 'to',\n",
       " 'select',\n",
       " 'wines',\n",
       " 'from',\n",
       " 'individual',\n",
       " 'tanks',\n",
       " 'to',\n",
       " 'blend',\n",
       " 'into',\n",
       " 'the',\n",
       " 'finished',\n",
       " 'wine.',\n",
       " \"here's\",\n",
       " 'a',\n",
       " 'behind-the-scenes',\n",
       " 'look',\n",
       " 'at',\n",
       " 'the',\n",
       " \"winemakers'\",\n",
       " 'process!',\n",
       " '📸:',\n",
       " 'andy',\n",
       " 'nelson',\n",
       " 'kingestatewinery',\n",
       " 'kingestate',\n",
       " 'winery',\n",
       " 'oregonwine',\n",
       " 'organicwine',\n",
       " 'biodynamic',\n",
       " 'https://t.co/goqa4j34s1',\n",
       " 'in',\n",
       " 'case',\n",
       " 'you',\n",
       " 'have',\n",
       " 'any',\n",
       " 'plans',\n",
       " 'for',\n",
       " 'drinking',\n",
       " 'some',\n",
       " 'bubbly',\n",
       " 'in',\n",
       " 'the',\n",
       " 'coming',\n",
       " 'week,',\n",
       " 'our',\n",
       " 'wineoftheweek',\n",
       " 'is',\n",
       " 'an',\n",
       " 'organically',\n",
       " 'farmed',\n",
       " 'champagne,',\n",
       " 'from',\n",
       " 'the',\n",
       " 'côtedesbar:',\n",
       " 'brocard',\n",
       " 'pierre',\n",
       " 'champagne',\n",
       " 'brut',\n",
       " 'tradition.',\n",
       " 'https://t.co/30mhy4vk5s',\n",
       " 'méthodechampenoise',\n",
       " 'cheers',\n",
       " 'nye',\n",
       " 'newyearswine',\n",
       " 'organicwine',\n",
       " 'wine',\n",
       " 'https://t.co/h1tncw3wfm',\n",
       " 'fabolous',\n",
       " 'history!',\n",
       " 'breathtakingviews',\n",
       " 'valdonica',\n",
       " 'maremma',\n",
       " 'toscana',\n",
       " 'naturalwines',\n",
       " 'naturalwinelover',\n",
       " 'winetour',\n",
       " 'instawine',\n",
       " 'tuscany',\n",
       " 'italy',\n",
       " 'italianwine',\n",
       " 'visittuscany',\n",
       " 'organicwine',\n",
       " 'organicwinery',\n",
       " 'vermentino',\n",
       " 'sangiovese',\n",
       " 'wineenthusiast',\n",
       " 'winetravel',\n",
       " 'wine',\n",
       " 'https://t.co/rmtunve1bo',\n",
       " 'wishing',\n",
       " 'you',\n",
       " 'peace,',\n",
       " 'now',\n",
       " 'and',\n",
       " 'in',\n",
       " 'the',\n",
       " 'new',\n",
       " 'year.',\n",
       " 'kingestate',\n",
       " 'kingestatewinery',\n",
       " 'oregonwine',\n",
       " 'organicwine',\n",
       " 'biodynamic',\n",
       " 'pacificnorthwestbeauty',\n",
       " 'https://t.co/fm7j6wp7ih',\n",
       " 'merry',\n",
       " 'christmas',\n",
       " 'and',\n",
       " 'happy',\n",
       " 'new',\n",
       " 'year!',\n",
       " 'bocale',\n",
       " 'bocalevini',\n",
       " 'montefalco',\n",
       " 'sagrantino',\n",
       " 'madeinitaly',\n",
       " 'winelover',\n",
       " 'winekeller',\n",
       " 'vineyard',\n",
       " 'winery',\n",
       " 'italianwine',\n",
       " 'instavini',\n",
       " 'italy',\n",
       " 'winetasti',\n",
       " 'wein',\n",
       " 'amateurwein',\n",
       " 'vino',\n",
       " 'organicwine',\n",
       " 'veganwine',\n",
       " 'https://t.co/pglqf1ludk',\n",
       " 'enjoy',\n",
       " 'the',\n",
       " 'magic',\n",
       " 'of',\n",
       " 'christmas',\n",
       " 'eve',\n",
       " '🎄',\n",
       " 'please',\n",
       " 'drink',\n",
       " 'responsibly.',\n",
       " 'drinkpink',\n",
       " 'rosewine',\n",
       " 'chateaulagordonne',\n",
       " 'véritéduterroir',\n",
       " 'provencewine',\n",
       " 'frenchwine',\n",
       " 'roseeveryday',\n",
       " 'lachapelle',\n",
       " 'organicwine',\n",
       " 'bio',\n",
       " 'https://t.co/qmsarq7ozb',\n",
       " 'happy',\n",
       " 'holidays!',\n",
       " 'breathtakingviews',\n",
       " 'valdonica',\n",
       " 'maremma',\n",
       " 'toscana',\n",
       " 'naturalwines',\n",
       " 'naturalwinelover',\n",
       " 'winetour',\n",
       " 'instawine',\n",
       " 'tuscany',\n",
       " 'italy',\n",
       " 'italianwine',\n",
       " 'visittuscany',\n",
       " 'organicwine',\n",
       " 'organicwinery',\n",
       " 'vermentino',\n",
       " 'sangiovese',\n",
       " 'wineenthusiast',\n",
       " 'winetravel',\n",
       " 'wine',\n",
       " 'https://t.co/wkcbcfxbai']"
      ]
     },
     "execution_count": 33,
     "metadata": {},
     "output_type": "execute_result"
    }
   ],
   "source": [
    "text_list = [tweet.full_text for tweet in tweets]\n",
    "word_list = [word.lower() for text in text_list for word in text.split() ]\n",
    "word_list = [word.replace('#','') for word in word_list ]\n",
    "word_list"
   ]
  },
  {
   "cell_type": "code",
   "execution_count": 34,
   "id": "587853bc",
   "metadata": {
    "ExecuteTime": {
     "end_time": "2022-11-01T22:05:08.592025Z",
     "start_time": "2022-11-01T22:05:08.574641Z"
    },
    "scrolled": true
   },
   "outputs": [
    {
     "data": {
      "text/html": [
       "<div>\n",
       "<style scoped>\n",
       "    .dataframe tbody tr th:only-of-type {\n",
       "        vertical-align: middle;\n",
       "    }\n",
       "\n",
       "    .dataframe tbody tr th {\n",
       "        vertical-align: top;\n",
       "    }\n",
       "\n",
       "    .dataframe thead th {\n",
       "        text-align: right;\n",
       "    }\n",
       "</style>\n",
       "<table border=\"1\" class=\"dataframe\">\n",
       "  <thead>\n",
       "    <tr style=\"text-align: right;\">\n",
       "      <th></th>\n",
       "      <th>word</th>\n",
       "      <th>count</th>\n",
       "    </tr>\n",
       "  </thead>\n",
       "  <tbody>\n",
       "    <tr>\n",
       "      <th>87</th>\n",
       "      <td>organicwine</td>\n",
       "      <td>9</td>\n",
       "    </tr>\n",
       "    <tr>\n",
       "      <th>107</th>\n",
       "      <td>the</td>\n",
       "      <td>6</td>\n",
       "    </tr>\n",
       "    <tr>\n",
       "      <th>65</th>\n",
       "      <td>italy</td>\n",
       "      <td>4</td>\n",
       "    </tr>\n",
       "    <tr>\n",
       "      <th>6</th>\n",
       "      <td>and</td>\n",
       "      <td>4</td>\n",
       "    </tr>\n",
       "    <tr>\n",
       "      <th>123</th>\n",
       "      <td>wine</td>\n",
       "      <td>4</td>\n",
       "    </tr>\n",
       "    <tr>\n",
       "      <th>64</th>\n",
       "      <td>italianwine</td>\n",
       "      <td>4</td>\n",
       "    </tr>\n",
       "    <tr>\n",
       "      <th>18</th>\n",
       "      <td>breathtakingviews</td>\n",
       "      <td>3</td>\n",
       "    </tr>\n",
       "    <tr>\n",
       "      <th>42</th>\n",
       "      <td>happy</td>\n",
       "      <td>3</td>\n",
       "    </tr>\n",
       "    <tr>\n",
       "      <th>112</th>\n",
       "      <td>tuscany</td>\n",
       "      <td>3</td>\n",
       "    </tr>\n",
       "    <tr>\n",
       "      <th>119</th>\n",
       "      <td>visittuscany</td>\n",
       "      <td>3</td>\n",
       "    </tr>\n",
       "    <tr>\n",
       "      <th>109</th>\n",
       "      <td>toscana</td>\n",
       "      <td>3</td>\n",
       "    </tr>\n",
       "    <tr>\n",
       "      <th>102</th>\n",
       "      <td>sangiovese</td>\n",
       "      <td>3</td>\n",
       "    </tr>\n",
       "    <tr>\n",
       "      <th>58</th>\n",
       "      <td>in</td>\n",
       "      <td>3</td>\n",
       "    </tr>\n",
       "    <tr>\n",
       "      <th>125</th>\n",
       "      <td>wineenthusiast</td>\n",
       "      <td>3</td>\n",
       "    </tr>\n",
       "    <tr>\n",
       "      <th>61</th>\n",
       "      <td>instawine</td>\n",
       "      <td>3</td>\n",
       "    </tr>\n",
       "  </tbody>\n",
       "</table>\n",
       "</div>"
      ],
      "text/plain": [
       "                  word  count\n",
       "87         organicwine      9\n",
       "107                the      6\n",
       "65               italy      4\n",
       "6                  and      4\n",
       "123               wine      4\n",
       "64         italianwine      4\n",
       "18   breathtakingviews      3\n",
       "42               happy      3\n",
       "112            tuscany      3\n",
       "119       visittuscany      3\n",
       "109            toscana      3\n",
       "102         sangiovese      3\n",
       "58                  in      3\n",
       "125     wineenthusiast      3\n",
       "61           instawine      3"
      ]
     },
     "execution_count": 34,
     "metadata": {},
     "output_type": "execute_result"
    }
   ],
   "source": [
    "word_df = pd.DataFrame(word_list,columns=['word'])\n",
    "word_df = word_df.groupby('word')['word'].count().reset_index(name='count')\n",
    "word_df.sort_values(by='count',ascending=False).head(15)"
   ]
  },
  {
   "cell_type": "markdown",
   "id": "956906c7",
   "metadata": {
    "ExecuteTime": {
     "end_time": "2022-11-01T22:10:38.175479Z",
     "start_time": "2022-11-01T22:10:38.170641Z"
    }
   },
   "source": [
    "## Sentiment analysis #Organicwine"
   ]
  },
  {
   "cell_type": "code",
   "execution_count": 35,
   "id": "7e3cf58a",
   "metadata": {
    "ExecuteTime": {
     "end_time": "2022-10-31T22:17:11.598414Z",
     "start_time": "2022-10-31T22:17:10.901719Z"
    }
   },
   "outputs": [
    {
     "name": "stderr",
     "output_type": "stream",
     "text": [
      "[nltk_data] Downloading package stopwords to /Users/irene/nltk_data...\n",
      "[nltk_data]   Unzipping corpora/stopwords.zip.\n"
     ]
    },
    {
     "data": {
      "text/plain": [
       "True"
      ]
     },
     "execution_count": 35,
     "metadata": {},
     "output_type": "execute_result"
    }
   ],
   "source": [
    "import nltk\n",
    "from nltk.sentiment import SentimentIntensityAnalyzer\n",
    "nltk.download('stopwords')"
   ]
  },
  {
   "cell_type": "code",
   "execution_count": 36,
   "id": "8ea333e9",
   "metadata": {
    "ExecuteTime": {
     "end_time": "2022-10-31T22:17:12.508042Z",
     "start_time": "2022-10-31T22:17:12.496896Z"
    },
    "scrolled": true
   },
   "outputs": [
    {
     "name": "stderr",
     "output_type": "stream",
     "text": [
      "[nltk_data] Downloading package vader_lexicon to\n",
      "[nltk_data]     /Users/irene/nltk_data...\n"
     ]
    },
    {
     "data": {
      "text/plain": [
       "True"
      ]
     },
     "execution_count": 36,
     "metadata": {},
     "output_type": "execute_result"
    }
   ],
   "source": [
    "nltk.download('vader_lexicon')"
   ]
  },
  {
   "cell_type": "code",
   "execution_count": 37,
   "id": "21228b10",
   "metadata": {
    "ExecuteTime": {
     "end_time": "2022-10-31T23:17:20.766628Z",
     "start_time": "2022-10-31T23:17:20.754023Z"
    }
   },
   "outputs": [
    {
     "data": {
      "text/plain": [
       "['i',\n",
       " 'me',\n",
       " 'my',\n",
       " 'myself',\n",
       " 'we',\n",
       " 'our',\n",
       " 'ours',\n",
       " 'ourselves',\n",
       " 'you',\n",
       " \"you're\",\n",
       " \"you've\",\n",
       " \"you'll\",\n",
       " \"you'd\",\n",
       " 'your',\n",
       " 'yours',\n",
       " 'yourself',\n",
       " 'yourselves',\n",
       " 'he',\n",
       " 'him',\n",
       " 'his',\n",
       " 'himself',\n",
       " 'she',\n",
       " \"she's\",\n",
       " 'her',\n",
       " 'hers',\n",
       " 'herself',\n",
       " 'it',\n",
       " \"it's\",\n",
       " 'its',\n",
       " 'itself',\n",
       " 'they',\n",
       " 'them',\n",
       " 'their',\n",
       " 'theirs',\n",
       " 'themselves',\n",
       " 'what',\n",
       " 'which',\n",
       " 'who',\n",
       " 'whom',\n",
       " 'this',\n",
       " 'that',\n",
       " \"that'll\",\n",
       " 'these',\n",
       " 'those',\n",
       " 'am',\n",
       " 'is',\n",
       " 'are',\n",
       " 'was',\n",
       " 'were',\n",
       " 'be',\n",
       " 'been',\n",
       " 'being',\n",
       " 'have',\n",
       " 'has',\n",
       " 'had',\n",
       " 'having',\n",
       " 'do',\n",
       " 'does',\n",
       " 'did',\n",
       " 'doing',\n",
       " 'a',\n",
       " 'an',\n",
       " 'the',\n",
       " 'and',\n",
       " 'but',\n",
       " 'if',\n",
       " 'or',\n",
       " 'because',\n",
       " 'as',\n",
       " 'until',\n",
       " 'while',\n",
       " 'of',\n",
       " 'at',\n",
       " 'by',\n",
       " 'for',\n",
       " 'with',\n",
       " 'about',\n",
       " 'against',\n",
       " 'between',\n",
       " 'into',\n",
       " 'through',\n",
       " 'during',\n",
       " 'before',\n",
       " 'after',\n",
       " 'above',\n",
       " 'below',\n",
       " 'to',\n",
       " 'from',\n",
       " 'up',\n",
       " 'down',\n",
       " 'in',\n",
       " 'out',\n",
       " 'on',\n",
       " 'off',\n",
       " 'over',\n",
       " 'under',\n",
       " 'again',\n",
       " 'further',\n",
       " 'then',\n",
       " 'once',\n",
       " 'here',\n",
       " 'there',\n",
       " 'when',\n",
       " 'where',\n",
       " 'why',\n",
       " 'how',\n",
       " 'all',\n",
       " 'any',\n",
       " 'both',\n",
       " 'each',\n",
       " 'few',\n",
       " 'more',\n",
       " 'most',\n",
       " 'other',\n",
       " 'some',\n",
       " 'such',\n",
       " 'no',\n",
       " 'nor',\n",
       " 'not',\n",
       " 'only',\n",
       " 'own',\n",
       " 'same',\n",
       " 'so',\n",
       " 'than',\n",
       " 'too',\n",
       " 'very',\n",
       " 's',\n",
       " 't',\n",
       " 'can',\n",
       " 'will',\n",
       " 'just',\n",
       " 'don',\n",
       " \"don't\",\n",
       " 'should',\n",
       " \"should've\",\n",
       " 'now',\n",
       " 'd',\n",
       " 'll',\n",
       " 'm',\n",
       " 'o',\n",
       " 're',\n",
       " 've',\n",
       " 'y',\n",
       " 'ain',\n",
       " 'aren',\n",
       " \"aren't\",\n",
       " 'couldn',\n",
       " \"couldn't\",\n",
       " 'didn',\n",
       " \"didn't\",\n",
       " 'doesn',\n",
       " \"doesn't\",\n",
       " 'hadn',\n",
       " \"hadn't\",\n",
       " 'hasn',\n",
       " \"hasn't\",\n",
       " 'haven',\n",
       " \"haven't\",\n",
       " 'isn',\n",
       " \"isn't\",\n",
       " 'ma',\n",
       " 'mightn',\n",
       " \"mightn't\",\n",
       " 'mustn',\n",
       " \"mustn't\",\n",
       " 'needn',\n",
       " \"needn't\",\n",
       " 'shan',\n",
       " \"shan't\",\n",
       " 'shouldn',\n",
       " \"shouldn't\",\n",
       " 'wasn',\n",
       " \"wasn't\",\n",
       " 'weren',\n",
       " \"weren't\",\n",
       " 'won',\n",
       " \"won't\",\n",
       " 'wouldn',\n",
       " \"wouldn't\"]"
      ]
     },
     "execution_count": 37,
     "metadata": {},
     "output_type": "execute_result"
    }
   ],
   "source": [
    "nltk.corpus.stopwords.words('english')"
   ]
  },
  {
   "cell_type": "code",
   "execution_count": 38,
   "id": "a42580ed",
   "metadata": {
    "ExecuteTime": {
     "end_time": "2022-11-01T22:05:41.838557Z",
     "start_time": "2022-11-01T22:05:41.817917Z"
    }
   },
   "outputs": [
    {
     "data": {
      "text/html": [
       "<div>\n",
       "<style scoped>\n",
       "    .dataframe tbody tr th:only-of-type {\n",
       "        vertical-align: middle;\n",
       "    }\n",
       "\n",
       "    .dataframe tbody tr th {\n",
       "        vertical-align: top;\n",
       "    }\n",
       "\n",
       "    .dataframe thead th {\n",
       "        text-align: right;\n",
       "    }\n",
       "</style>\n",
       "<table border=\"1\" class=\"dataframe\">\n",
       "  <thead>\n",
       "    <tr style=\"text-align: right;\">\n",
       "      <th></th>\n",
       "      <th>word</th>\n",
       "      <th>count</th>\n",
       "    </tr>\n",
       "  </thead>\n",
       "  <tbody>\n",
       "    <tr>\n",
       "      <th>87</th>\n",
       "      <td>organicwine</td>\n",
       "      <td>9</td>\n",
       "    </tr>\n",
       "    <tr>\n",
       "      <th>64</th>\n",
       "      <td>italianwine</td>\n",
       "      <td>4</td>\n",
       "    </tr>\n",
       "    <tr>\n",
       "      <th>65</th>\n",
       "      <td>italy</td>\n",
       "      <td>4</td>\n",
       "    </tr>\n",
       "    <tr>\n",
       "      <th>123</th>\n",
       "      <td>wine</td>\n",
       "      <td>4</td>\n",
       "    </tr>\n",
       "    <tr>\n",
       "      <th>119</th>\n",
       "      <td>visittuscany</td>\n",
       "      <td>3</td>\n",
       "    </tr>\n",
       "    <tr>\n",
       "      <th>114</th>\n",
       "      <td>valdonica</td>\n",
       "      <td>3</td>\n",
       "    </tr>\n",
       "    <tr>\n",
       "      <th>61</th>\n",
       "      <td>instawine</td>\n",
       "      <td>3</td>\n",
       "    </tr>\n",
       "    <tr>\n",
       "      <th>102</th>\n",
       "      <td>sangiovese</td>\n",
       "      <td>3</td>\n",
       "    </tr>\n",
       "    <tr>\n",
       "      <th>109</th>\n",
       "      <td>toscana</td>\n",
       "      <td>3</td>\n",
       "    </tr>\n",
       "    <tr>\n",
       "      <th>112</th>\n",
       "      <td>tuscany</td>\n",
       "      <td>3</td>\n",
       "    </tr>\n",
       "    <tr>\n",
       "      <th>18</th>\n",
       "      <td>breathtakingviews</td>\n",
       "      <td>3</td>\n",
       "    </tr>\n",
       "    <tr>\n",
       "      <th>134</th>\n",
       "      <td>winetour</td>\n",
       "      <td>3</td>\n",
       "    </tr>\n",
       "    <tr>\n",
       "      <th>125</th>\n",
       "      <td>wineenthusiast</td>\n",
       "      <td>3</td>\n",
       "    </tr>\n",
       "    <tr>\n",
       "      <th>135</th>\n",
       "      <td>winetravel</td>\n",
       "      <td>3</td>\n",
       "    </tr>\n",
       "    <tr>\n",
       "      <th>72</th>\n",
       "      <td>maremma</td>\n",
       "      <td>3</td>\n",
       "    </tr>\n",
       "  </tbody>\n",
       "</table>\n",
       "</div>"
      ],
      "text/plain": [
       "                  word  count\n",
       "87         organicwine      9\n",
       "64         italianwine      4\n",
       "65               italy      4\n",
       "123               wine      4\n",
       "119       visittuscany      3\n",
       "114          valdonica      3\n",
       "61           instawine      3\n",
       "102         sangiovese      3\n",
       "109            toscana      3\n",
       "112            tuscany      3\n",
       "18   breathtakingviews      3\n",
       "134           winetour      3\n",
       "125     wineenthusiast      3\n",
       "135         winetravel      3\n",
       "72             maremma      3"
      ]
     },
     "execution_count": 38,
     "metadata": {},
     "output_type": "execute_result"
    }
   ],
   "source": [
    "word_df = word_df[~(word_df['word'].isin(nltk.corpus.stopwords.words('english')))]\n",
    "word_df.sort_values(by='count',ascending=False).head(15)"
   ]
  },
  {
   "cell_type": "code",
   "execution_count": 42,
   "id": "3d3f4f12",
   "metadata": {
    "ExecuteTime": {
     "end_time": "2022-11-01T22:06:24.301178Z",
     "start_time": "2022-11-01T22:06:24.258029Z"
    }
   },
   "outputs": [
    {
     "name": "stdout",
     "output_type": "stream",
     "text": [
      "Wishing you a merry and rosé 2023 ✨\n",
      "\n",
      "Please drink responsibly.\n",
      "\n",
      "#drinkpink #rosewine #chateaulagordonne #véritéduterroir #provencewine #frenchwine #roseeveryday #LaChapelle #organicwine #bio https://t.co/SM4paSLG4Q\n"
     ]
    },
    {
     "data": {
      "text/plain": [
       "0.7717"
      ]
     },
     "execution_count": 42,
     "metadata": {},
     "output_type": "execute_result"
    }
   ],
   "source": [
    "tweet = tweets[0]\n",
    "print(tweet.full_text)\n",
    "sia.polarity_scores(tweet.full_text)['compound']"
   ]
  },
  {
   "cell_type": "code",
   "execution_count": 40,
   "id": "07298f0b",
   "metadata": {
    "ExecuteTime": {
     "end_time": "2022-11-01T22:07:16.109229Z",
     "start_time": "2022-11-01T22:07:16.036661Z"
    }
   },
   "outputs": [],
   "source": [
    "sia = SentimentIntensityAnalyzer()"
   ]
  },
  {
   "cell_type": "code",
   "execution_count": 41,
   "id": "da466096",
   "metadata": {
    "ExecuteTime": {
     "end_time": "2022-11-01T22:07:23.626094Z",
     "start_time": "2022-11-01T22:07:23.380740Z"
    }
   },
   "outputs": [
    {
     "data": {
      "image/png": "[encoded data removed]",
      "text/plain": [
       "<Figure size 432x288 with 1 Axes>"
      ]
     },
     "metadata": {
      "needs_background": "light"
     },
     "output_type": "display_data"
    }
   ],
   "source": [
    "compound_scores = []\n",
    "for tweet in tweets:\n",
    "    compound_scores.append(sia.polarity_scores(tweet.full_text)['compound'])\n",
    "sns.histplot(compound_scores,bins=10)\n",
    "plt.show()"
   ]
  },
  {
   "cell_type": "code",
   "execution_count": 47,
   "id": "6661f580",
   "metadata": {
    "ExecuteTime": {
     "end_time": "2022-11-01T22:08:15.815262Z",
     "start_time": "2022-11-01T22:08:15.802724Z"
    }
   },
   "outputs": [
    {
     "data": {
      "text/plain": [
       "[0.7717, 0.6114, 0.0, 0.296, 0.0, 0.6597, 0.8172, 0.6705, 0.8425]"
      ]
     },
     "execution_count": 47,
     "metadata": {},
     "output_type": "execute_result"
    }
   ],
   "source": [
    "compound_scores"
   ]
  },
  {
   "cell_type": "code",
   "execution_count": 48,
   "id": "ccfeb866",
   "metadata": {
    "ExecuteTime": {
     "end_time": "2022-11-01T22:11:40.529530Z",
     "start_time": "2022-11-01T22:11:40.515842Z"
    }
   },
   "outputs": [
    {
     "data": {
      "text/html": [
       "<div>\n",
       "<style scoped>\n",
       "    .dataframe tbody tr th:only-of-type {\n",
       "        vertical-align: middle;\n",
       "    }\n",
       "\n",
       "    .dataframe tbody tr th {\n",
       "        vertical-align: top;\n",
       "    }\n",
       "\n",
       "    .dataframe thead th {\n",
       "        text-align: right;\n",
       "    }\n",
       "</style>\n",
       "<table border=\"1\" class=\"dataframe\">\n",
       "  <thead>\n",
       "    <tr style=\"text-align: right;\">\n",
       "      <th></th>\n",
       "      <th>organicwine_score</th>\n",
       "    </tr>\n",
       "  </thead>\n",
       "  <tbody>\n",
       "    <tr>\n",
       "      <th>0</th>\n",
       "      <td>0.7717</td>\n",
       "    </tr>\n",
       "    <tr>\n",
       "      <th>1</th>\n",
       "      <td>0.6114</td>\n",
       "    </tr>\n",
       "    <tr>\n",
       "      <th>2</th>\n",
       "      <td>0.0000</td>\n",
       "    </tr>\n",
       "    <tr>\n",
       "      <th>3</th>\n",
       "      <td>0.2960</td>\n",
       "    </tr>\n",
       "    <tr>\n",
       "      <th>4</th>\n",
       "      <td>0.0000</td>\n",
       "    </tr>\n",
       "    <tr>\n",
       "      <th>5</th>\n",
       "      <td>0.6597</td>\n",
       "    </tr>\n",
       "    <tr>\n",
       "      <th>6</th>\n",
       "      <td>0.8172</td>\n",
       "    </tr>\n",
       "    <tr>\n",
       "      <th>7</th>\n",
       "      <td>0.6705</td>\n",
       "    </tr>\n",
       "    <tr>\n",
       "      <th>8</th>\n",
       "      <td>0.8425</td>\n",
       "    </tr>\n",
       "  </tbody>\n",
       "</table>\n",
       "</div>"
      ],
      "text/plain": [
       "   organicwine_score\n",
       "0             0.7717\n",
       "1             0.6114\n",
       "2             0.0000\n",
       "3             0.2960\n",
       "4             0.0000\n",
       "5             0.6597\n",
       "6             0.8172\n",
       "7             0.6705\n",
       "8             0.8425"
      ]
     },
     "execution_count": 48,
     "metadata": {},
     "output_type": "execute_result"
    }
   ],
   "source": [
    "organicwine_score = pd.DataFrame (compound_scores, columns = ['organicwine_score'])\n",
    "organicwine_score"
   ]
  },
  {
   "cell_type": "code",
   "execution_count": 49,
   "id": "16ef010f",
   "metadata": {
    "ExecuteTime": {
     "end_time": "2022-11-01T22:11:54.037808Z",
     "start_time": "2022-11-01T22:11:53.967564Z"
    }
   },
   "outputs": [
    {
     "data": {
      "text/html": [
       "<div>\n",
       "<style scoped>\n",
       "    .dataframe tbody tr th:only-of-type {\n",
       "        vertical-align: middle;\n",
       "    }\n",
       "\n",
       "    .dataframe tbody tr th {\n",
       "        vertical-align: top;\n",
       "    }\n",
       "\n",
       "    .dataframe thead th {\n",
       "        text-align: right;\n",
       "    }\n",
       "</style>\n",
       "<table border=\"1\" class=\"dataframe\">\n",
       "  <thead>\n",
       "    <tr style=\"text-align: right;\">\n",
       "      <th></th>\n",
       "      <th>organicwine_score</th>\n",
       "    </tr>\n",
       "  </thead>\n",
       "  <tbody>\n",
       "    <tr>\n",
       "      <th>count</th>\n",
       "      <td>9.000000</td>\n",
       "    </tr>\n",
       "    <tr>\n",
       "      <th>mean</th>\n",
       "      <td>0.518778</td>\n",
       "    </tr>\n",
       "    <tr>\n",
       "      <th>std</th>\n",
       "      <td>0.334882</td>\n",
       "    </tr>\n",
       "    <tr>\n",
       "      <th>min</th>\n",
       "      <td>0.000000</td>\n",
       "    </tr>\n",
       "    <tr>\n",
       "      <th>25%</th>\n",
       "      <td>0.296000</td>\n",
       "    </tr>\n",
       "    <tr>\n",
       "      <th>50%</th>\n",
       "      <td>0.659700</td>\n",
       "    </tr>\n",
       "    <tr>\n",
       "      <th>75%</th>\n",
       "      <td>0.771700</td>\n",
       "    </tr>\n",
       "    <tr>\n",
       "      <th>max</th>\n",
       "      <td>0.842500</td>\n",
       "    </tr>\n",
       "  </tbody>\n",
       "</table>\n",
       "</div>"
      ],
      "text/plain": [
       "       organicwine_score\n",
       "count           9.000000\n",
       "mean            0.518778\n",
       "std             0.334882\n",
       "min             0.000000\n",
       "25%             0.296000\n",
       "50%             0.659700\n",
       "75%             0.771700\n",
       "max             0.842500"
      ]
     },
     "execution_count": 49,
     "metadata": {},
     "output_type": "execute_result"
    }
   ],
   "source": [
    "organicwine_score.describe()"
   ]
  },
  {
   "cell_type": "markdown",
   "id": "4a042336",
   "metadata": {},
   "source": [
    "Between $-1$ and $1$\n",
    "\n",
    "$>0$ signifies a positive sentiment\n",
    "\n",
    "$<0$ signifies a negative sentiment"
   ]
  },
  {
   "cell_type": "markdown",
   "id": "f54fde4c",
   "metadata": {},
   "source": [
    "**The public's view to organic wine is positive**"
   ]
  }
 ],
 "metadata": {
  "kernelspec": {
   "display_name": "base",
   "language": "python",
   "name": "python3"
  },
  "language_info": {
   "codemirror_mode": {
    "name": "ipython",
    "version": 3
   },
   "file_extension": ".py",
   "mimetype": "text/x-python",
   "name": "python",
   "nbconvert_exporter": "python",
   "pygments_lexer": "ipython3",
   "version": "3.9.12"
  },
  "toc": {
   "base_numbering": 1,
   "nav_menu": {},
   "number_sections": true,
   "sideBar": true,
   "skip_h1_title": false,
   "title_cell": "Table of Contents",
   "title_sidebar": "Contents",
   "toc_cell": false,
   "toc_position": {},
   "toc_section_display": true,
   "toc_window_display": false
  },
  "varInspector": {
   "cols": {
    "lenName": 16,
    "lenType": 16,
    "lenVar": 40
   },
   "kernels_config": {
    "python": {
     "delete_cmd_postfix": "",
     "delete_cmd_prefix": "del ",
     "library": "var_list.py",
     "varRefreshCmd": "print(var_dic_list())"
    },
    "r": {
     "delete_cmd_postfix": ") ",
     "delete_cmd_prefix": "rm(",
     "library": "var_list.r",
     "varRefreshCmd": "cat(var_dic_list()) "
    }
   },
   "types_to_exclude": [
    "module",
    "function",
    "builtin_function_or_method",
    "instance",
    "_Feature"
   ],
   "window_display": false
  },
  "vscode": {
   "interpreter": {
    "hash": "40d3a090f54c6569ab1632332b64b2c03c39dcf918b08424e98f38b5ae0af88f"
   }
  }
 },
 "nbformat": 4,
 "nbformat_minor": 5
}

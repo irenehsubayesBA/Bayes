{
 "cells": [
  {
   "cell_type": "markdown",
   "id": "2d2780fa",
   "metadata": {},
   "source": [
    "# Set up\n"
   ]
  },
  {
   "cell_type": "code",
   "execution_count": 1,
   "id": "168c7473",
   "metadata": {
    "ExecuteTime": {
     "end_time": "2022-10-31T22:16:41.690393Z",
     "start_time": "2022-10-31T22:16:37.743934Z"
    }
   },
   "outputs": [],
   "source": [
    "import tweepy\n",
    "import pickle\n",
    "import pandas as pd\n",
    "import numpy as np\n",
    "import matplotlib.pyplot as plt\n",
    "import seaborn as sns\n",
    "import statsmodels.api as sm\n",
    "from datetime import datetime, timedelta"
   ]
  },
  {
   "cell_type": "code",
   "execution_count": 2,
   "id": "afef7ad1",
   "metadata": {
    "ExecuteTime": {
     "end_time": "2022-10-31T22:16:42.349547Z",
     "start_time": "2022-10-31T22:16:42.338748Z"
    }
   },
   "outputs": [],
   "source": [
    "CONSUMER_API_KEY = 'QOiNJGXEXREs0LVOcSlZhZG4w'\n",
    "CONSUMER_API_SECRET = 'qHYTAtNHMTNaChnnsKixg04X3kTQd5Q7YjAoOO5E9q1c2YkSr4'\n",
    "ACCESS_KEY = '2817119556-1ojynr2Q3Xgmhtnk0GesjRQU1tS4O6yxGwutuk1'\n",
    "ACCESS_SECRET = 'F7aHAcjFpsKBQa4QdBFSCJRgCGdUxmXR5TiMcow6se3dA'"
   ]
  },
  {
   "cell_type": "code",
   "execution_count": 3,
   "id": "b59cd9f7",
   "metadata": {
    "ExecuteTime": {
     "end_time": "2022-10-31T22:16:44.123702Z",
     "start_time": "2022-10-31T22:16:44.104749Z"
    }
   },
   "outputs": [],
   "source": [
    "auth = tweepy.OAuthHandler(CONSUMER_API_KEY, CONSUMER_API_SECRET)\n",
    "auth.set_access_token(ACCESS_KEY, ACCESS_SECRET)\n",
    "api = tweepy.API(auth, wait_on_rate_limit = True)"
   ]
  },
  {
   "cell_type": "markdown",
   "id": "00211372",
   "metadata": {},
   "source": [
    "# #Organic"
   ]
  },
  {
   "cell_type": "code",
   "execution_count": 105,
   "id": "b4cc265a",
   "metadata": {
    "ExecuteTime": {
     "end_time": "2022-11-01T22:22:38.780612Z",
     "start_time": "2022-11-01T22:20:37.384992Z"
    }
   },
   "outputs": [
    {
     "name": "stderr",
     "output_type": "stream",
     "text": [
      "Rate limit reached. Sleeping for: 470\n"
     ]
    },
    {
     "ename": "KeyboardInterrupt",
     "evalue": "",
     "output_type": "error",
     "traceback": [
      "\u001b[0;31m---------------------------------------------------------------------------\u001b[0m",
      "\u001b[0;31mKeyboardInterrupt\u001b[0m                         Traceback (most recent call last)",
      "\u001b[0;32m/var/folders/65/l8gwbbg117z6hscwvjl3vg0m0000gn/T/ipykernel_11794/3493928052.py\u001b[0m in \u001b[0;36m<module>\u001b[0;34m\u001b[0m\n\u001b[1;32m      4\u001b[0m \u001b[0mcontent_list\u001b[0m \u001b[0;34m=\u001b[0m \u001b[0;34m[\u001b[0m\u001b[0;34m]\u001b[0m\u001b[0;34m\u001b[0m\u001b[0;34m\u001b[0m\u001b[0m\n\u001b[1;32m      5\u001b[0m \u001b[0mlocation_list\u001b[0m \u001b[0;34m=\u001b[0m \u001b[0;34m[\u001b[0m\u001b[0;34m]\u001b[0m\u001b[0;34m\u001b[0m\u001b[0;34m\u001b[0m\u001b[0m\n\u001b[0;32m----> 6\u001b[0;31m for tweet in tweepy.Cursor(api.search_tweets,q=\"#organic -filter:retweets\", \n\u001b[0m\u001b[1;32m      7\u001b[0m                            lang=\"en\", tweet_mode='extended').items():\n\u001b[1;32m      8\u001b[0m \u001b[0;34m\u001b[0m\u001b[0m\n",
      "\u001b[0;32m/opt/anaconda3/lib/python3.9/site-packages/tweepy/cursor.py\u001b[0m in \u001b[0;36m__next__\u001b[0;34m(self)\u001b[0m\n\u001b[1;32m     84\u001b[0m \u001b[0;34m\u001b[0m\u001b[0m\n\u001b[1;32m     85\u001b[0m     \u001b[0;32mdef\u001b[0m \u001b[0m__next__\u001b[0m\u001b[0;34m(\u001b[0m\u001b[0mself\u001b[0m\u001b[0;34m)\u001b[0m\u001b[0;34m:\u001b[0m\u001b[0;34m\u001b[0m\u001b[0;34m\u001b[0m\u001b[0m\n\u001b[0;32m---> 86\u001b[0;31m         \u001b[0;32mreturn\u001b[0m \u001b[0mself\u001b[0m\u001b[0;34m.\u001b[0m\u001b[0mnext\u001b[0m\u001b[0;34m(\u001b[0m\u001b[0;34m)\u001b[0m\u001b[0;34m\u001b[0m\u001b[0;34m\u001b[0m\u001b[0m\n\u001b[0m\u001b[1;32m     87\u001b[0m \u001b[0;34m\u001b[0m\u001b[0m\n\u001b[1;32m     88\u001b[0m     \u001b[0;32mdef\u001b[0m \u001b[0mnext\u001b[0m\u001b[0;34m(\u001b[0m\u001b[0mself\u001b[0m\u001b[0;34m)\u001b[0m\u001b[0;34m:\u001b[0m\u001b[0;34m\u001b[0m\u001b[0;34m\u001b[0m\u001b[0m\n",
      "\u001b[0;32m/opt/anaconda3/lib/python3.9/site-packages/tweepy/cursor.py\u001b[0m in \u001b[0;36mnext\u001b[0;34m(self)\u001b[0m\n\u001b[1;32m    284\u001b[0m         \u001b[0;32mif\u001b[0m \u001b[0mself\u001b[0m\u001b[0;34m.\u001b[0m\u001b[0mcurrent_page\u001b[0m \u001b[0;32mis\u001b[0m \u001b[0;32mNone\u001b[0m \u001b[0;32mor\u001b[0m \u001b[0mself\u001b[0m\u001b[0;34m.\u001b[0m\u001b[0mpage_index\u001b[0m \u001b[0;34m==\u001b[0m \u001b[0mlen\u001b[0m\u001b[0;34m(\u001b[0m\u001b[0mself\u001b[0m\u001b[0;34m.\u001b[0m\u001b[0mcurrent_page\u001b[0m\u001b[0;34m)\u001b[0m \u001b[0;34m-\u001b[0m \u001b[0;36m1\u001b[0m\u001b[0;34m:\u001b[0m\u001b[0;34m\u001b[0m\u001b[0;34m\u001b[0m\u001b[0m\n\u001b[1;32m    285\u001b[0m             \u001b[0;31m# Reached end of current page, get the next page...\u001b[0m\u001b[0;34m\u001b[0m\u001b[0;34m\u001b[0m\u001b[0m\n\u001b[0;32m--> 286\u001b[0;31m             \u001b[0mself\u001b[0m\u001b[0;34m.\u001b[0m\u001b[0mcurrent_page\u001b[0m \u001b[0;34m=\u001b[0m \u001b[0mnext\u001b[0m\u001b[0;34m(\u001b[0m\u001b[0mself\u001b[0m\u001b[0;34m.\u001b[0m\u001b[0mpage_iterator\u001b[0m\u001b[0;34m)\u001b[0m\u001b[0;34m\u001b[0m\u001b[0;34m\u001b[0m\u001b[0m\n\u001b[0m\u001b[1;32m    287\u001b[0m             \u001b[0;32mwhile\u001b[0m \u001b[0mlen\u001b[0m\u001b[0;34m(\u001b[0m\u001b[0mself\u001b[0m\u001b[0;34m.\u001b[0m\u001b[0mcurrent_page\u001b[0m\u001b[0;34m)\u001b[0m \u001b[0;34m==\u001b[0m \u001b[0;36m0\u001b[0m\u001b[0;34m:\u001b[0m\u001b[0;34m\u001b[0m\u001b[0;34m\u001b[0m\u001b[0m\n\u001b[1;32m    288\u001b[0m                 \u001b[0mself\u001b[0m\u001b[0;34m.\u001b[0m\u001b[0mcurrent_page\u001b[0m \u001b[0;34m=\u001b[0m \u001b[0mnext\u001b[0m\u001b[0;34m(\u001b[0m\u001b[0mself\u001b[0m\u001b[0;34m.\u001b[0m\u001b[0mpage_iterator\u001b[0m\u001b[0;34m)\u001b[0m\u001b[0;34m\u001b[0m\u001b[0;34m\u001b[0m\u001b[0m\n",
      "\u001b[0;32m/opt/anaconda3/lib/python3.9/site-packages/tweepy/cursor.py\u001b[0m in \u001b[0;36m__next__\u001b[0;34m(self)\u001b[0m\n\u001b[1;32m     84\u001b[0m \u001b[0;34m\u001b[0m\u001b[0m\n\u001b[1;32m     85\u001b[0m     \u001b[0;32mdef\u001b[0m \u001b[0m__next__\u001b[0m\u001b[0;34m(\u001b[0m\u001b[0mself\u001b[0m\u001b[0;34m)\u001b[0m\u001b[0;34m:\u001b[0m\u001b[0;34m\u001b[0m\u001b[0;34m\u001b[0m\u001b[0m\n\u001b[0;32m---> 86\u001b[0;31m         \u001b[0;32mreturn\u001b[0m \u001b[0mself\u001b[0m\u001b[0;34m.\u001b[0m\u001b[0mnext\u001b[0m\u001b[0;34m(\u001b[0m\u001b[0;34m)\u001b[0m\u001b[0;34m\u001b[0m\u001b[0;34m\u001b[0m\u001b[0m\n\u001b[0m\u001b[1;32m     87\u001b[0m \u001b[0;34m\u001b[0m\u001b[0m\n\u001b[1;32m     88\u001b[0m     \u001b[0;32mdef\u001b[0m \u001b[0mnext\u001b[0m\u001b[0;34m(\u001b[0m\u001b[0mself\u001b[0m\u001b[0;34m)\u001b[0m\u001b[0;34m:\u001b[0m\u001b[0;34m\u001b[0m\u001b[0;34m\u001b[0m\u001b[0m\n",
      "\u001b[0;32m/opt/anaconda3/lib/python3.9/site-packages/tweepy/cursor.py\u001b[0m in \u001b[0;36mnext\u001b[0;34m(self)\u001b[0m\n\u001b[1;32m    165\u001b[0m \u001b[0;34m\u001b[0m\u001b[0m\n\u001b[1;32m    166\u001b[0m         \u001b[0;32mif\u001b[0m \u001b[0mself\u001b[0m\u001b[0;34m.\u001b[0m\u001b[0mindex\u001b[0m \u001b[0;34m>=\u001b[0m \u001b[0mlen\u001b[0m\u001b[0;34m(\u001b[0m\u001b[0mself\u001b[0m\u001b[0;34m.\u001b[0m\u001b[0mresults\u001b[0m\u001b[0;34m)\u001b[0m \u001b[0;34m-\u001b[0m \u001b[0;36m1\u001b[0m\u001b[0;34m:\u001b[0m\u001b[0;34m\u001b[0m\u001b[0;34m\u001b[0m\u001b[0m\n\u001b[0;32m--> 167\u001b[0;31m             \u001b[0mdata\u001b[0m \u001b[0;34m=\u001b[0m \u001b[0mself\u001b[0m\u001b[0;34m.\u001b[0m\u001b[0mmethod\u001b[0m\u001b[0;34m(\u001b[0m\u001b[0mmax_id\u001b[0m\u001b[0;34m=\u001b[0m\u001b[0mself\u001b[0m\u001b[0;34m.\u001b[0m\u001b[0mmax_id\u001b[0m\u001b[0;34m,\u001b[0m \u001b[0mparser\u001b[0m\u001b[0;34m=\u001b[0m\u001b[0mRawParser\u001b[0m\u001b[0;34m(\u001b[0m\u001b[0;34m)\u001b[0m\u001b[0;34m,\u001b[0m \u001b[0;34m*\u001b[0m\u001b[0mself\u001b[0m\u001b[0;34m.\u001b[0m\u001b[0margs\u001b[0m\u001b[0;34m,\u001b[0m \u001b[0;34m**\u001b[0m\u001b[0mself\u001b[0m\u001b[0;34m.\u001b[0m\u001b[0mkwargs\u001b[0m\u001b[0;34m)\u001b[0m\u001b[0;34m\u001b[0m\u001b[0;34m\u001b[0m\u001b[0m\n\u001b[0m\u001b[1;32m    168\u001b[0m \u001b[0;34m\u001b[0m\u001b[0m\n\u001b[1;32m    169\u001b[0m             model = ModelParser().parse(\n",
      "\u001b[0;32m/opt/anaconda3/lib/python3.9/site-packages/tweepy/api.py\u001b[0m in \u001b[0;36mwrapper\u001b[0;34m(*args, **kwargs)\u001b[0m\n\u001b[1;32m     31\u001b[0m         \u001b[0;34m@\u001b[0m\u001b[0mfunctools\u001b[0m\u001b[0;34m.\u001b[0m\u001b[0mwraps\u001b[0m\u001b[0;34m(\u001b[0m\u001b[0mmethod\u001b[0m\u001b[0;34m)\u001b[0m\u001b[0;34m\u001b[0m\u001b[0;34m\u001b[0m\u001b[0m\n\u001b[1;32m     32\u001b[0m         \u001b[0;32mdef\u001b[0m \u001b[0mwrapper\u001b[0m\u001b[0;34m(\u001b[0m\u001b[0;34m*\u001b[0m\u001b[0margs\u001b[0m\u001b[0;34m,\u001b[0m \u001b[0;34m**\u001b[0m\u001b[0mkwargs\u001b[0m\u001b[0;34m)\u001b[0m\u001b[0;34m:\u001b[0m\u001b[0;34m\u001b[0m\u001b[0;34m\u001b[0m\u001b[0m\n\u001b[0;32m---> 33\u001b[0;31m             \u001b[0;32mreturn\u001b[0m \u001b[0mmethod\u001b[0m\u001b[0;34m(\u001b[0m\u001b[0;34m*\u001b[0m\u001b[0margs\u001b[0m\u001b[0;34m,\u001b[0m \u001b[0;34m**\u001b[0m\u001b[0mkwargs\u001b[0m\u001b[0;34m)\u001b[0m\u001b[0;34m\u001b[0m\u001b[0;34m\u001b[0m\u001b[0m\n\u001b[0m\u001b[1;32m     34\u001b[0m         \u001b[0mwrapper\u001b[0m\u001b[0;34m.\u001b[0m\u001b[0mpagination_mode\u001b[0m \u001b[0;34m=\u001b[0m \u001b[0mmode\u001b[0m\u001b[0;34m\u001b[0m\u001b[0;34m\u001b[0m\u001b[0m\n\u001b[1;32m     35\u001b[0m         \u001b[0;32mreturn\u001b[0m \u001b[0mwrapper\u001b[0m\u001b[0;34m\u001b[0m\u001b[0;34m\u001b[0m\u001b[0m\n",
      "\u001b[0;32m/opt/anaconda3/lib/python3.9/site-packages/tweepy/api.py\u001b[0m in \u001b[0;36mwrapper\u001b[0;34m(*args, **kwargs)\u001b[0m\n\u001b[1;32m     44\u001b[0m             \u001b[0mkwargs\u001b[0m\u001b[0;34m[\u001b[0m\u001b[0;34m'payload_list'\u001b[0m\u001b[0;34m]\u001b[0m \u001b[0;34m=\u001b[0m \u001b[0mpayload_list\u001b[0m\u001b[0;34m\u001b[0m\u001b[0;34m\u001b[0m\u001b[0m\n\u001b[1;32m     45\u001b[0m             \u001b[0mkwargs\u001b[0m\u001b[0;34m[\u001b[0m\u001b[0;34m'payload_type'\u001b[0m\u001b[0;34m]\u001b[0m \u001b[0;34m=\u001b[0m \u001b[0mpayload_type\u001b[0m\u001b[0;34m\u001b[0m\u001b[0;34m\u001b[0m\u001b[0m\n\u001b[0;32m---> 46\u001b[0;31m             \u001b[0;32mreturn\u001b[0m \u001b[0mmethod\u001b[0m\u001b[0;34m(\u001b[0m\u001b[0;34m*\u001b[0m\u001b[0margs\u001b[0m\u001b[0;34m,\u001b[0m \u001b[0;34m**\u001b[0m\u001b[0mkwargs\u001b[0m\u001b[0;34m)\u001b[0m\u001b[0;34m\u001b[0m\u001b[0;34m\u001b[0m\u001b[0m\n\u001b[0m\u001b[1;32m     47\u001b[0m         \u001b[0mwrapper\u001b[0m\u001b[0;34m.\u001b[0m\u001b[0mpayload_list\u001b[0m \u001b[0;34m=\u001b[0m \u001b[0mpayload_list\u001b[0m\u001b[0;34m\u001b[0m\u001b[0;34m\u001b[0m\u001b[0m\n\u001b[1;32m     48\u001b[0m         \u001b[0mwrapper\u001b[0m\u001b[0;34m.\u001b[0m\u001b[0mpayload_type\u001b[0m \u001b[0;34m=\u001b[0m \u001b[0mpayload_type\u001b[0m\u001b[0;34m\u001b[0m\u001b[0;34m\u001b[0m\u001b[0m\n",
      "\u001b[0;32m/opt/anaconda3/lib/python3.9/site-packages/tweepy/api.py\u001b[0m in \u001b[0;36msearch_tweets\u001b[0;34m(self, q, **kwargs)\u001b[0m\n\u001b[1;32m   1307\u001b[0m         \u001b[0;34m.\u001b[0m\u001b[0;34m.\u001b[0m \u001b[0m_Twitter\u001b[0m\u001b[0;31m'\u001b[0m\u001b[0ms\u001b[0m \u001b[0mdocumentation\u001b[0m \u001b[0mon\u001b[0m \u001b[0mthe\u001b[0m \u001b[0mstandard\u001b[0m \u001b[0msearch\u001b[0m \u001b[0mAPI\u001b[0m\u001b[0;34m:\u001b[0m \u001b[0mhttps\u001b[0m\u001b[0;34m:\u001b[0m\u001b[0;34m//\u001b[0m\u001b[0mdeveloper\u001b[0m\u001b[0;34m.\u001b[0m\u001b[0mtwitter\u001b[0m\u001b[0;34m.\u001b[0m\u001b[0mcom\u001b[0m\u001b[0;34m/\u001b[0m\u001b[0men\u001b[0m\u001b[0;34m/\u001b[0m\u001b[0mdocs\u001b[0m\u001b[0;34m/\u001b[0m\u001b[0mtwitter\u001b[0m\u001b[0;34m-\u001b[0m\u001b[0mapi\u001b[0m\u001b[0;34m/\u001b[0m\u001b[0mv1\u001b[0m\u001b[0;34m/\u001b[0m\u001b[0mtweets\u001b[0m\u001b[0;34m/\u001b[0m\u001b[0msearch\u001b[0m\u001b[0;34m/\u001b[0m\u001b[0moverview\u001b[0m\u001b[0;34m\u001b[0m\u001b[0;34m\u001b[0m\u001b[0m\n\u001b[1;32m   1308\u001b[0m         \"\"\"\n\u001b[0;32m-> 1309\u001b[0;31m         return self.request(\n\u001b[0m\u001b[1;32m   1310\u001b[0m             'GET', 'search/tweets', endpoint_parameters=(\n\u001b[1;32m   1311\u001b[0m                 \u001b[0;34m'q'\u001b[0m\u001b[0;34m,\u001b[0m \u001b[0;34m'geocode'\u001b[0m\u001b[0;34m,\u001b[0m \u001b[0;34m'lang'\u001b[0m\u001b[0;34m,\u001b[0m \u001b[0;34m'locale'\u001b[0m\u001b[0;34m,\u001b[0m \u001b[0;34m'result_type'\u001b[0m\u001b[0;34m,\u001b[0m \u001b[0;34m'count'\u001b[0m\u001b[0;34m,\u001b[0m\u001b[0;34m\u001b[0m\u001b[0;34m\u001b[0m\u001b[0m\n",
      "\u001b[0;32m/opt/anaconda3/lib/python3.9/site-packages/tweepy/api.py\u001b[0m in \u001b[0;36mrequest\u001b[0;34m(self, method, endpoint, endpoint_parameters, params, headers, json_payload, parser, payload_list, payload_type, post_data, files, require_auth, return_cursors, upload_api, use_cache, **kwargs)\u001b[0m\n\u001b[1;32m    211\u001b[0m                     \u001b[0;32mif\u001b[0m \u001b[0msleep_time\u001b[0m \u001b[0;34m>\u001b[0m \u001b[0;36m0\u001b[0m\u001b[0;34m:\u001b[0m\u001b[0;34m\u001b[0m\u001b[0;34m\u001b[0m\u001b[0m\n\u001b[1;32m    212\u001b[0m                         \u001b[0mlog\u001b[0m\u001b[0;34m.\u001b[0m\u001b[0mwarning\u001b[0m\u001b[0;34m(\u001b[0m\u001b[0;34mf\"Rate limit reached. Sleeping for: {sleep_time}\"\u001b[0m\u001b[0;34m)\u001b[0m\u001b[0;34m\u001b[0m\u001b[0;34m\u001b[0m\u001b[0m\n\u001b[0;32m--> 213\u001b[0;31m                         \u001b[0mtime\u001b[0m\u001b[0;34m.\u001b[0m\u001b[0msleep\u001b[0m\u001b[0;34m(\u001b[0m\u001b[0msleep_time\u001b[0m \u001b[0;34m+\u001b[0m \u001b[0;36m1\u001b[0m\u001b[0;34m)\u001b[0m  \u001b[0;31m# Sleep for extra sec\u001b[0m\u001b[0;34m\u001b[0m\u001b[0;34m\u001b[0m\u001b[0m\n\u001b[0m\u001b[1;32m    214\u001b[0m \u001b[0;34m\u001b[0m\u001b[0m\n\u001b[1;32m    215\u001b[0m                 \u001b[0;31m# Apply authentication\u001b[0m\u001b[0;34m\u001b[0m\u001b[0;34m\u001b[0m\u001b[0m\n",
      "\u001b[0;31mKeyboardInterrupt\u001b[0m: "
     ]
    }
   ],
   "source": [
    "creat_list = []\n",
    "user_list = []\n",
    "followers_list = []\n",
    "content_list = []\n",
    "location_list = []\n",
    "for tweet in tweepy.Cursor(api.search_tweets,q=\"#organic -filter:retweets\", \n",
    "                           lang=\"en\", tweet_mode='extended').items():\n",
    "    \n",
    "    created = str(tweet.created_at)\n",
    "    creat_list.append(created)\n",
    "    \n",
    "    user = tweet.user.screen_name\n",
    "    user_list.append(user)\n",
    "    \n",
    "    followers = str(tweet.user.followers_count)\n",
    "    followers_list.append(followers)\n",
    "    \n",
    "    content = tweet.full_text\n",
    "    content_list.append(content)\n",
    "    \n",
    "    location = tweet.user.location\n",
    "    location_list.append(location)\n",
    "\n",
    "itemdf = pd.DataFrame({\"createdat\":creat_list, \"user\":user_list, \"followers\":followers_list, \n",
    "                       \"content\":content_list, \"location\":location_list})"
   ]
  },
  {
   "cell_type": "code",
   "execution_count": null,
   "id": "501c481e",
   "metadata": {
    "ExecuteTime": {
     "end_time": "2022-10-31T22:03:22.265751Z",
     "start_time": "2022-10-31T22:03:22.257734Z"
    }
   },
   "outputs": [],
   "source": [
    "itemdf.to_csv(\"organic.csv\")"
   ]
  },
  {
   "cell_type": "code",
   "execution_count": null,
   "id": "e2b758a4",
   "metadata": {},
   "outputs": [],
   "source": [
    "#Text book\n",
    "tweets = []\n",
    "for tweet in tweepy.Cursor(api.search_tweets,q=\"#organic -filter:retweets\", \n",
    "                           lang=\"en\", tweet_mode='extended').items():\n",
    "    tweets.append(tweet)"
   ]
  },
  {
   "cell_type": "code",
   "execution_count": null,
   "id": "ff52b930",
   "metadata": {},
   "outputs": [],
   "source": [
    "#Create day count\n",
    "tweet_day = [tweet.created_at.date() for tweet in tweets]\n",
    "tweet_day_df = pd.DataFrame(tweet_day,columns=['date'])\n",
    "tweet_day_df = tweet_day_df.groupby('date')['date'].count().reset_index(name='count')\n",
    "sns.lineplot(y=tweet_day_df['count'], x = tweet_day_df['date'])\n",
    "plt.show()"
   ]
  },
  {
   "cell_type": "code",
   "execution_count": null,
   "id": "b32ce8de",
   "metadata": {},
   "outputs": [],
   "source": [
    "#Explore other hashtags\n",
    "attached_tags = [tweet.entities['hashtags'] for tweet in tweets if tweet.entities['hashtags'] != []]\n",
    "attached_tags_cleaned = [hashtag['text'].lower() for tags in attached_tags for hashtag in tags if hashtag['text'].lower() != 'organicwine']\n",
    "hashtag_df = pd.DataFrame(attached_tags_cleaned,columns=['hashtag'])\n",
    "hashtag_df = hashtag_df.groupby('hashtag')['hashtag'].count().reset_index(name='count')\n",
    "hashtag_df.sort_values(by='count',ascending=False)"
   ]
  },
  {
   "cell_type": "markdown",
   "id": "04f20c99",
   "metadata": {
    "ExecuteTime": {
     "end_time": "2022-11-01T22:23:54.496881Z",
     "start_time": "2022-11-01T22:23:54.492951Z"
    }
   },
   "source": [
    "## Sentiment analysis #Organic"
   ]
  },
  {
   "cell_type": "code",
   "execution_count": null,
   "id": "76f21bb0",
   "metadata": {},
   "outputs": [],
   "source": [
    "compound_scores = []\n",
    "for tweet in tweets:\n",
    "    compound_scores.append(sia.polarity_scores(tweet.full_text)['compound'])\n",
    "sns.histplot(compound_scores,bins=10)\n",
    "plt.show()"
   ]
  },
  {
   "cell_type": "code",
   "execution_count": null,
   "id": "2f3613e8",
   "metadata": {},
   "outputs": [],
   "source": [
    "organicwine_score = pd.DataFrame (compound_scores, columns = ['organicwine_score'])\n",
    "organicwine_score"
   ]
  },
  {
   "cell_type": "code",
   "execution_count": null,
   "id": "6d4495c3",
   "metadata": {},
   "outputs": [],
   "source": [
    "organicwine_score.describe()"
   ]
  },
  {
   "cell_type": "markdown",
   "id": "194b9da9",
   "metadata": {},
   "source": [
    "Between $-1$ and $1$\n",
    "\n",
    "$>0$ signifies a positive sentiment\n",
    "\n",
    "$<0$ signifies a negative sentiment"
   ]
  },
  {
   "cell_type": "markdown",
   "id": "8785cada",
   "metadata": {},
   "source": [
    "# #Organic #wine (extended) (seperate)"
   ]
  },
  {
   "cell_type": "code",
   "execution_count": 93,
   "id": "d06fd57e",
   "metadata": {
    "ExecuteTime": {
     "end_time": "2022-11-01T22:14:53.300073Z",
     "start_time": "2022-11-01T22:14:52.309861Z"
    }
   },
   "outputs": [],
   "source": [
    "creat_list = []\n",
    "user_list = []\n",
    "followers_list = []\n",
    "content_list = []\n",
    "location_list = []\n",
    "for tweet in tweepy.Cursor(api.search_tweets,q=\"#organic AND wine -filter:retweets\", \n",
    "                           lang=\"en\", tweet_mode='extended').items():\n",
    "    \n",
    "    created = str(tweet.created_at)\n",
    "    creat_list.append(created)\n",
    "    \n",
    "    user = tweet.user.screen_name\n",
    "    user_list.append(user)\n",
    "    \n",
    "    followers = str(tweet.user.followers_count)\n",
    "    followers_list.append(followers)\n",
    "    \n",
    "    content = tweet.full_text\n",
    "    content_list.append(content)\n",
    "    \n",
    "    location = tweet.user.location\n",
    "    location_list.append(location)\n",
    "\n",
    "itemdfANDextended = pd.DataFrame({\"createdat\":creat_list, \"user\":user_list, \"followers\":followers_list, \n",
    "                       \"content\":content_list, \"location\":location_list})"
   ]
  },
  {
   "cell_type": "code",
   "execution_count": null,
   "id": "b924cbfb",
   "metadata": {
    "ExecuteTime": {
     "end_time": "2022-10-31T22:06:19.226842Z",
     "start_time": "2022-10-31T22:06:19.218757Z"
    }
   },
   "outputs": [],
   "source": [
    "itemdfANDextended.to_csv(\"organic AND wine extended.csv\")"
   ]
  },
  {
   "cell_type": "code",
   "execution_count": 97,
   "id": "c551a0b8",
   "metadata": {
    "ExecuteTime": {
     "end_time": "2022-11-01T22:15:54.117251Z",
     "start_time": "2022-11-01T22:15:52.967200Z"
    }
   },
   "outputs": [],
   "source": [
    "#Text book\n",
    "tweets = []\n",
    "for tweet in tweepy.Cursor(api.search_tweets,q=\"#organic AND wine -filter:retweets\", \n",
    "                           lang=\"en\", tweet_mode='extended').items():\n",
    "    tweets.append(tweet)"
   ]
  },
  {
   "cell_type": "code",
   "execution_count": 98,
   "id": "44817411",
   "metadata": {
    "ExecuteTime": {
     "end_time": "2022-11-01T22:15:55.270287Z",
     "start_time": "2022-11-01T22:15:55.027245Z"
    }
   },
   "outputs": [
    {
     "data": {
      "image/png": "[encoded data removed]",
      "text/plain": [
       "<Figure size 432x288 with 1 Axes>"
      ]
     },
     "metadata": {
      "needs_background": "light"
     },
     "output_type": "display_data"
    }
   ],
   "source": [
    "#Create day count\n",
    "tweet_day = [tweet.created_at.date() for tweet in tweets]\n",
    "tweet_day_df = pd.DataFrame(tweet_day,columns=['date'])\n",
    "tweet_day_df = tweet_day_df.groupby('date')['date'].count().reset_index(name='count')\n",
    "sns.lineplot(y=tweet_day_df['count'], x = tweet_day_df['date'])\n",
    "plt.show()"
   ]
  },
  {
   "cell_type": "code",
   "execution_count": 99,
   "id": "73225df8",
   "metadata": {
    "ExecuteTime": {
     "end_time": "2022-11-01T22:15:58.438417Z",
     "start_time": "2022-11-01T22:15:58.368378Z"
    }
   },
   "outputs": [
    {
     "data": {
      "text/html": [
       "<div>\n",
       "<style scoped>\n",
       "    .dataframe tbody tr th:only-of-type {\n",
       "        vertical-align: middle;\n",
       "    }\n",
       "\n",
       "    .dataframe tbody tr th {\n",
       "        vertical-align: top;\n",
       "    }\n",
       "\n",
       "    .dataframe thead th {\n",
       "        text-align: right;\n",
       "    }\n",
       "</style>\n",
       "<table border=\"1\" class=\"dataframe\">\n",
       "  <thead>\n",
       "    <tr style=\"text-align: right;\">\n",
       "      <th></th>\n",
       "      <th>hashtag</th>\n",
       "      <th>count</th>\n",
       "    </tr>\n",
       "  </thead>\n",
       "  <tbody>\n",
       "    <tr>\n",
       "      <th>52</th>\n",
       "      <td>organic</td>\n",
       "      <td>17</td>\n",
       "    </tr>\n",
       "    <tr>\n",
       "      <th>74</th>\n",
       "      <td>wine</td>\n",
       "      <td>8</td>\n",
       "    </tr>\n",
       "    <tr>\n",
       "      <th>61</th>\n",
       "      <td>vegan</td>\n",
       "      <td>4</td>\n",
       "    </tr>\n",
       "    <tr>\n",
       "      <th>5</th>\n",
       "      <td>biodynamic</td>\n",
       "      <td>3</td>\n",
       "    </tr>\n",
       "    <tr>\n",
       "      <th>70</th>\n",
       "      <td>vino</td>\n",
       "      <td>2</td>\n",
       "    </tr>\n",
       "    <tr>\n",
       "      <th>...</th>\n",
       "      <td>...</td>\n",
       "      <td>...</td>\n",
       "    </tr>\n",
       "    <tr>\n",
       "      <th>26</th>\n",
       "      <td>galvana</td>\n",
       "      <td>1</td>\n",
       "    </tr>\n",
       "    <tr>\n",
       "      <th>25</th>\n",
       "      <td>franklandriver</td>\n",
       "      <td>1</td>\n",
       "    </tr>\n",
       "    <tr>\n",
       "      <th>24</th>\n",
       "      <td>food</td>\n",
       "      <td>1</td>\n",
       "    </tr>\n",
       "    <tr>\n",
       "      <th>23</th>\n",
       "      <td>enjoy</td>\n",
       "      <td>1</td>\n",
       "    </tr>\n",
       "    <tr>\n",
       "      <th>80</th>\n",
       "      <td>yes</td>\n",
       "      <td>1</td>\n",
       "    </tr>\n",
       "  </tbody>\n",
       "</table>\n",
       "<p>81 rows × 2 columns</p>\n",
       "</div>"
      ],
      "text/plain": [
       "           hashtag  count\n",
       "52         organic     17\n",
       "74            wine      8\n",
       "61           vegan      4\n",
       "5       biodynamic      3\n",
       "70            vino      2\n",
       "..             ...    ...\n",
       "26         galvana      1\n",
       "25  franklandriver      1\n",
       "24            food      1\n",
       "23           enjoy      1\n",
       "80             yes      1\n",
       "\n",
       "[81 rows x 2 columns]"
      ]
     },
     "execution_count": 99,
     "metadata": {},
     "output_type": "execute_result"
    }
   ],
   "source": [
    "#Explore other hashtags\n",
    "attached_tags = [tweet.entities['hashtags'] for tweet in tweets if tweet.entities['hashtags'] != []]\n",
    "attached_tags_cleaned = [hashtag['text'].lower() for tags in attached_tags for hashtag in tags if hashtag['text'].lower() != 'organicwine']\n",
    "hashtag_df = pd.DataFrame(attached_tags_cleaned,columns=['hashtag'])\n",
    "hashtag_df = hashtag_df.groupby('hashtag')['hashtag'].count().reset_index(name='count')\n",
    "hashtag_df.sort_values(by='count',ascending=False)"
   ]
  },
  {
   "cell_type": "markdown",
   "id": "6e851b33",
   "metadata": {
    "ExecuteTime": {
     "end_time": "2022-11-01T22:16:14.633510Z",
     "start_time": "2022-11-01T22:16:14.627578Z"
    }
   },
   "source": [
    "## Sentiment analysis #Organic AND wine"
   ]
  },
  {
   "cell_type": "code",
   "execution_count": 101,
   "id": "ba661cb7",
   "metadata": {
    "ExecuteTime": {
     "end_time": "2022-11-01T22:18:21.976920Z",
     "start_time": "2022-11-01T22:18:21.749353Z"
    }
   },
   "outputs": [
    {
     "data": {
      "image/png": "[encoded data removed]",
      "text/plain": [
       "<Figure size 432x288 with 1 Axes>"
      ]
     },
     "metadata": {
      "needs_background": "light"
     },
     "output_type": "display_data"
    }
   ],
   "source": [
    "compound_scores = []\n",
    "for tweet in tweets:\n",
    "    compound_scores.append(sia.polarity_scores(tweet.full_text)['compound'])\n",
    "sns.histplot(compound_scores,bins=10)\n",
    "plt.show()"
   ]
  },
  {
   "cell_type": "code",
   "execution_count": 102,
   "id": "0be55fa6",
   "metadata": {
    "ExecuteTime": {
     "end_time": "2022-11-01T22:18:37.136380Z",
     "start_time": "2022-11-01T22:18:37.077888Z"
    }
   },
   "outputs": [
    {
     "data": {
      "text/html": [
       "<div>\n",
       "<style scoped>\n",
       "    .dataframe tbody tr th:only-of-type {\n",
       "        vertical-align: middle;\n",
       "    }\n",
       "\n",
       "    .dataframe tbody tr th {\n",
       "        vertical-align: top;\n",
       "    }\n",
       "\n",
       "    .dataframe thead th {\n",
       "        text-align: right;\n",
       "    }\n",
       "</style>\n",
       "<table border=\"1\" class=\"dataframe\">\n",
       "  <thead>\n",
       "    <tr style=\"text-align: right;\">\n",
       "      <th></th>\n",
       "      <th>organicwine_score</th>\n",
       "    </tr>\n",
       "  </thead>\n",
       "  <tbody>\n",
       "    <tr>\n",
       "      <th>0</th>\n",
       "      <td>0.6114</td>\n",
       "    </tr>\n",
       "    <tr>\n",
       "      <th>1</th>\n",
       "      <td>0.7896</td>\n",
       "    </tr>\n",
       "    <tr>\n",
       "      <th>2</th>\n",
       "      <td>0.0000</td>\n",
       "    </tr>\n",
       "    <tr>\n",
       "      <th>3</th>\n",
       "      <td>0.8475</td>\n",
       "    </tr>\n",
       "    <tr>\n",
       "      <th>4</th>\n",
       "      <td>0.3612</td>\n",
       "    </tr>\n",
       "    <tr>\n",
       "      <th>5</th>\n",
       "      <td>0.6981</td>\n",
       "    </tr>\n",
       "    <tr>\n",
       "      <th>6</th>\n",
       "      <td>0.3818</td>\n",
       "    </tr>\n",
       "    <tr>\n",
       "      <th>7</th>\n",
       "      <td>0.8316</td>\n",
       "    </tr>\n",
       "    <tr>\n",
       "      <th>8</th>\n",
       "      <td>0.0000</td>\n",
       "    </tr>\n",
       "    <tr>\n",
       "      <th>9</th>\n",
       "      <td>-0.1280</td>\n",
       "    </tr>\n",
       "    <tr>\n",
       "      <th>10</th>\n",
       "      <td>0.8546</td>\n",
       "    </tr>\n",
       "    <tr>\n",
       "      <th>11</th>\n",
       "      <td>0.8828</td>\n",
       "    </tr>\n",
       "    <tr>\n",
       "      <th>12</th>\n",
       "      <td>0.1280</td>\n",
       "    </tr>\n",
       "    <tr>\n",
       "      <th>13</th>\n",
       "      <td>0.0000</td>\n",
       "    </tr>\n",
       "    <tr>\n",
       "      <th>14</th>\n",
       "      <td>0.7177</td>\n",
       "    </tr>\n",
       "    <tr>\n",
       "      <th>15</th>\n",
       "      <td>0.5994</td>\n",
       "    </tr>\n",
       "    <tr>\n",
       "      <th>16</th>\n",
       "      <td>0.6369</td>\n",
       "    </tr>\n",
       "  </tbody>\n",
       "</table>\n",
       "</div>"
      ],
      "text/plain": [
       "    organicwine_score\n",
       "0              0.6114\n",
       "1              0.7896\n",
       "2              0.0000\n",
       "3              0.8475\n",
       "4              0.3612\n",
       "5              0.6981\n",
       "6              0.3818\n",
       "7              0.8316\n",
       "8              0.0000\n",
       "9             -0.1280\n",
       "10             0.8546\n",
       "11             0.8828\n",
       "12             0.1280\n",
       "13             0.0000\n",
       "14             0.7177\n",
       "15             0.5994\n",
       "16             0.6369"
      ]
     },
     "execution_count": 102,
     "metadata": {},
     "output_type": "execute_result"
    }
   ],
   "source": [
    "organicwine_score = pd.DataFrame (compound_scores, columns = ['organicwine_score'])\n",
    "organicwine_score"
   ]
  },
  {
   "cell_type": "code",
   "execution_count": 103,
   "id": "6b3092ba",
   "metadata": {
    "ExecuteTime": {
     "end_time": "2022-11-01T22:18:53.824920Z",
     "start_time": "2022-11-01T22:18:53.812214Z"
    }
   },
   "outputs": [
    {
     "data": {
      "text/html": [
       "<div>\n",
       "<style scoped>\n",
       "    .dataframe tbody tr th:only-of-type {\n",
       "        vertical-align: middle;\n",
       "    }\n",
       "\n",
       "    .dataframe tbody tr th {\n",
       "        vertical-align: top;\n",
       "    }\n",
       "\n",
       "    .dataframe thead th {\n",
       "        text-align: right;\n",
       "    }\n",
       "</style>\n",
       "<table border=\"1\" class=\"dataframe\">\n",
       "  <thead>\n",
       "    <tr style=\"text-align: right;\">\n",
       "      <th></th>\n",
       "      <th>organicwine_score</th>\n",
       "    </tr>\n",
       "  </thead>\n",
       "  <tbody>\n",
       "    <tr>\n",
       "      <th>count</th>\n",
       "      <td>17.000000</td>\n",
       "    </tr>\n",
       "    <tr>\n",
       "      <th>mean</th>\n",
       "      <td>0.483094</td>\n",
       "    </tr>\n",
       "    <tr>\n",
       "      <th>std</th>\n",
       "      <td>0.355816</td>\n",
       "    </tr>\n",
       "    <tr>\n",
       "      <th>min</th>\n",
       "      <td>-0.128000</td>\n",
       "    </tr>\n",
       "    <tr>\n",
       "      <th>25%</th>\n",
       "      <td>0.128000</td>\n",
       "    </tr>\n",
       "    <tr>\n",
       "      <th>50%</th>\n",
       "      <td>0.611400</td>\n",
       "    </tr>\n",
       "    <tr>\n",
       "      <th>75%</th>\n",
       "      <td>0.789600</td>\n",
       "    </tr>\n",
       "    <tr>\n",
       "      <th>max</th>\n",
       "      <td>0.882800</td>\n",
       "    </tr>\n",
       "  </tbody>\n",
       "</table>\n",
       "</div>"
      ],
      "text/plain": [
       "       organicwine_score\n",
       "count          17.000000\n",
       "mean            0.483094\n",
       "std             0.355816\n",
       "min            -0.128000\n",
       "25%             0.128000\n",
       "50%             0.611400\n",
       "75%             0.789600\n",
       "max             0.882800"
      ]
     },
     "execution_count": 103,
     "metadata": {},
     "output_type": "execute_result"
    }
   ],
   "source": [
    "organicwine_score.describe()"
   ]
  },
  {
   "cell_type": "markdown",
   "id": "6310cbe9",
   "metadata": {},
   "source": [
    "Between $-1$ and $1$\n",
    "\n",
    "$>0$ signifies a positive sentiment\n",
    "\n",
    "$<0$ signifies a negative sentiment"
   ]
  },
  {
   "cell_type": "markdown",
   "id": "84677df4",
   "metadata": {},
   "source": [
    "**The public's view to organic wine is positive**"
   ]
  },
  {
   "cell_type": "markdown",
   "id": "99faea47",
   "metadata": {
    "ExecuteTime": {
     "end_time": "2022-10-31T22:01:41.052280Z",
     "start_time": "2022-10-31T22:01:41.046625Z"
    }
   },
   "source": [
    "# #organicwine (extended) (fulltext)"
   ]
  },
  {
   "cell_type": "code",
   "execution_count": 4,
   "id": "1ef7df2a",
   "metadata": {
    "ExecuteTime": {
     "end_time": "2022-10-31T22:17:08.247158Z",
     "start_time": "2022-10-31T22:17:07.104732Z"
    }
   },
   "outputs": [],
   "source": [
    "creat_list = []\n",
    "user_list = []\n",
    "followers_list = []\n",
    "content_list = []\n",
    "location_list = []\n",
    "for tweet in tweepy.Cursor(api.search_tweets,q=\"#organicwine -filter:retweets\", \n",
    "                           lang=\"en\", tweet_mode='extended').items():\n",
    "    \n",
    "    created = str(tweet.created_at)\n",
    "    creat_list.append(created)\n",
    "    \n",
    "    user = tweet.user.screen_name\n",
    "    user_list.append(user)\n",
    "    \n",
    "    followers = str(tweet.user.followers_count)\n",
    "    followers_list.append(followers)\n",
    "    \n",
    "    content = tweet.full_text\n",
    "    content_list.append(content)\n",
    "    \n",
    "    location = tweet.user.location\n",
    "    location_list.append(location)\n",
    "\n",
    "itemdf_extended = pd.DataFrame({\"createdat\":creat_list, \"user\":user_list, \"followers\":followers_list, \n",
    "                       \"content\":content_list, \"location\":location_list})"
   ]
  },
  {
   "cell_type": "code",
   "execution_count": null,
   "id": "a83eea47",
   "metadata": {
    "ExecuteTime": {
     "end_time": "2022-10-31T22:03:32.375303Z",
     "start_time": "2022-10-31T22:03:32.367205Z"
    }
   },
   "outputs": [],
   "source": [
    "itemdf_extended.to_csv(\"organicwine_extended.csv\")"
   ]
  },
  {
   "cell_type": "code",
   "execution_count": 69,
   "id": "1a9ef865",
   "metadata": {
    "ExecuteTime": {
     "end_time": "2022-11-01T22:00:45.747225Z",
     "start_time": "2022-11-01T22:00:44.710102Z"
    }
   },
   "outputs": [],
   "source": [
    "#Text book\n",
    "tweets = []\n",
    "for tweet in tweepy.Cursor(api.search_tweets,q=\"#organicwine -filter:retweets\", \n",
    "                           lang=\"en\", tweet_mode='extended').items():\n",
    "    tweets.append(tweet)"
   ]
  },
  {
   "cell_type": "code",
   "execution_count": 39,
   "id": "df619dcf",
   "metadata": {
    "ExecuteTime": {
     "end_time": "2022-11-01T21:40:21.958085Z",
     "start_time": "2022-11-01T21:40:21.412102Z"
    }
   },
   "outputs": [
    {
     "data": {
      "image/png": "[encoded data removed]",
      "text/plain": [
       "<Figure size 432x288 with 1 Axes>"
      ]
     },
     "metadata": {
      "needs_background": "light"
     },
     "output_type": "display_data"
    }
   ],
   "source": [
    "#Create day count\n",
    "tweet_day = [tweet.created_at.date() for tweet in tweets]\n",
    "tweet_day_df = pd.DataFrame(tweet_day,columns=['date'])\n",
    "tweet_day_df = tweet_day_df.groupby('date')['date'].count().reset_index(name='count')\n",
    "sns.lineplot(y=tweet_day_df['count'], x = tweet_day_df['date'])\n",
    "plt.show()"
   ]
  },
  {
   "cell_type": "code",
   "execution_count": 65,
   "id": "4f658da4",
   "metadata": {
    "ExecuteTime": {
     "end_time": "2022-11-01T21:54:33.332537Z",
     "start_time": "2022-11-01T21:54:33.313633Z"
    }
   },
   "outputs": [
    {
     "data": {
      "text/html": [
       "<div>\n",
       "<style scoped>\n",
       "    .dataframe tbody tr th:only-of-type {\n",
       "        vertical-align: middle;\n",
       "    }\n",
       "\n",
       "    .dataframe tbody tr th {\n",
       "        vertical-align: top;\n",
       "    }\n",
       "\n",
       "    .dataframe thead th {\n",
       "        text-align: right;\n",
       "    }\n",
       "</style>\n",
       "<table border=\"1\" class=\"dataframe\">\n",
       "  <thead>\n",
       "    <tr style=\"text-align: right;\">\n",
       "      <th></th>\n",
       "      <th>hashtag</th>\n",
       "      <th>count</th>\n",
       "    </tr>\n",
       "  </thead>\n",
       "  <tbody>\n",
       "    <tr>\n",
       "      <th>68</th>\n",
       "      <td>wine</td>\n",
       "      <td>6</td>\n",
       "    </tr>\n",
       "    <tr>\n",
       "      <th>3</th>\n",
       "      <td>bio</td>\n",
       "      <td>4</td>\n",
       "    </tr>\n",
       "    <tr>\n",
       "      <th>63</th>\n",
       "      <td>vino</td>\n",
       "      <td>4</td>\n",
       "    </tr>\n",
       "    <tr>\n",
       "      <th>72</th>\n",
       "      <td>winelover</td>\n",
       "      <td>3</td>\n",
       "    </tr>\n",
       "    <tr>\n",
       "      <th>77</th>\n",
       "      <td>winetasting</td>\n",
       "      <td>3</td>\n",
       "    </tr>\n",
       "    <tr>\n",
       "      <th>...</th>\n",
       "      <td>...</td>\n",
       "      <td>...</td>\n",
       "    </tr>\n",
       "    <tr>\n",
       "      <th>39</th>\n",
       "      <td>parklandcounty</td>\n",
       "      <td>1</td>\n",
       "    </tr>\n",
       "    <tr>\n",
       "      <th>1</th>\n",
       "      <td>atxlife</td>\n",
       "      <td>1</td>\n",
       "    </tr>\n",
       "    <tr>\n",
       "      <th>42</th>\n",
       "      <td>redwine</td>\n",
       "      <td>1</td>\n",
       "    </tr>\n",
       "    <tr>\n",
       "      <th>43</th>\n",
       "      <td>regenerativefarming</td>\n",
       "      <td>1</td>\n",
       "    </tr>\n",
       "    <tr>\n",
       "      <th>40</th>\n",
       "      <td>prayingmantis</td>\n",
       "      <td>1</td>\n",
       "    </tr>\n",
       "  </tbody>\n",
       "</table>\n",
       "<p>81 rows × 2 columns</p>\n",
       "</div>"
      ],
      "text/plain": [
       "                hashtag  count\n",
       "68                 wine      6\n",
       "3                   bio      4\n",
       "63                 vino      4\n",
       "72            winelover      3\n",
       "77          winetasting      3\n",
       "..                  ...    ...\n",
       "39       parklandcounty      1\n",
       "1               atxlife      1\n",
       "42              redwine      1\n",
       "43  regenerativefarming      1\n",
       "40        prayingmantis      1\n",
       "\n",
       "[81 rows x 2 columns]"
      ]
     },
     "execution_count": 65,
     "metadata": {},
     "output_type": "execute_result"
    }
   ],
   "source": [
    "#Explore other hashtags\n",
    "attached_tags = [tweet.entities['hashtags'] for tweet in tweets if tweet.entities['hashtags'] != []]\n",
    "attached_tags_cleaned = [hashtag['text'].lower() for tags in attached_tags for hashtag in tags if hashtag['text'].lower() != 'organicwine']\n",
    "hashtag_df = pd.DataFrame(attached_tags_cleaned,columns=['hashtag'])\n",
    "hashtag_df = hashtag_df.groupby('hashtag')['hashtag'].count().reset_index(name='count')\n",
    "hashtag_df.sort_values(by='count',ascending=False)"
   ]
  },
  {
   "cell_type": "markdown",
   "id": "461f599d",
   "metadata": {},
   "source": [
    "## Finding out more about the people talking about #Organicwine"
   ]
  },
  {
   "cell_type": "code",
   "execution_count": 70,
   "id": "a9bbb6dd",
   "metadata": {
    "ExecuteTime": {
     "end_time": "2022-11-01T22:01:46.321589Z",
     "start_time": "2022-11-01T22:01:46.268749Z"
    }
   },
   "outputs": [],
   "source": [
    "organicwine_tweets = []\n",
    "for tweet in tweets:\n",
    "    if 'organicwine' in tweet.full_text.lower():\n",
    "        organicwine_tweets.append(tweet)"
   ]
  },
  {
   "cell_type": "code",
   "execution_count": 72,
   "id": "a830fab3",
   "metadata": {
    "ExecuteTime": {
     "end_time": "2022-11-01T22:02:13.729862Z",
     "start_time": "2022-11-01T22:02:13.724706Z"
    }
   },
   "outputs": [],
   "source": [
    "user_dict = {}\n",
    "for tweet in organicwine_tweets:\n",
    "    name = tweet.user.screen_name\n",
    "    if name in user_dict:\n",
    "        user_dict[name].append(tweet)\n",
    "    else:\n",
    "        user_dict[name] = [tweet]"
   ]
  },
  {
   "cell_type": "code",
   "execution_count": 73,
   "id": "7ecd98bb",
   "metadata": {
    "ExecuteTime": {
     "end_time": "2022-11-01T22:02:26.388910Z",
     "start_time": "2022-11-01T22:02:26.377462Z"
    }
   },
   "outputs": [],
   "source": [
    "active_tweeters = []\n",
    "inactive_tweeters = []\n",
    "for name in user_dict:\n",
    "    if len(user_dict[name]) > 1:\n",
    "        active_tweeters.append(user_dict[name][0].user)\n",
    "    else:\n",
    "        inactive_tweeters.append(user_dict[name][0].user)"
   ]
  },
  {
   "cell_type": "code",
   "execution_count": 74,
   "id": "c4253590",
   "metadata": {
    "ExecuteTime": {
     "end_time": "2022-11-01T22:02:43.854178Z",
     "start_time": "2022-11-01T22:02:43.848308Z"
    }
   },
   "outputs": [
    {
     "name": "stdout",
     "output_type": "stream",
     "text": [
      "There are 3 users that wrote more than once about Organicwine\n",
      "There are 10 users that wrote only once about Organicwine\n"
     ]
    }
   ],
   "source": [
    "print(\"There are \" + str(len(active_tweeters)) + \" users that wrote more than once about Organicwine\")\n",
    "print(\"There are \" + str(len(inactive_tweeters)) + \" users that wrote only once about Organicwine\")"
   ]
  },
  {
   "cell_type": "markdown",
   "id": "42cba96f",
   "metadata": {},
   "source": [
    "## Text analysis #Organicwine"
   ]
  },
  {
   "cell_type": "code",
   "execution_count": 76,
   "id": "d94fde02",
   "metadata": {
    "ExecuteTime": {
     "end_time": "2022-11-01T22:04:28.332351Z",
     "start_time": "2022-11-01T22:04:28.323798Z"
    },
    "scrolled": true
   },
   "outputs": [
    {
     "data": {
      "text/plain": [
       "['Un',\n",
       " 'Blend',\n",
       " 'perfecto',\n",
       " 'para',\n",
       " 'deleitarse',\n",
       " 'con',\n",
       " 'amigos',\n",
       " '🍷',\n",
       " '-------',\n",
       " 'A',\n",
       " 'perfect',\n",
       " 'Blend',\n",
       " 'to',\n",
       " 'enjoy',\n",
       " 'with',\n",
       " 'friends.',\n",
       " '🍷',\n",
       " 'B',\n",
       " 'L',\n",
       " 'E',\n",
       " 'N',\n",
       " 'D',\n",
       " '✧',\n",
       " 'O',\n",
       " 'R',\n",
       " 'G',\n",
       " 'A',\n",
       " 'N',\n",
       " 'I',\n",
       " 'C',\n",
       " '.',\n",
       " '🌿',\n",
       " '#organicwine',\n",
       " '#glutenfree',\n",
       " '#vegan',\n",
       " '🌿',\n",
       " '#ucovalley',\n",
       " '#wine',\n",
       " '#bio',\n",
       " '#nature',\n",
       " '#vinoargentino',\n",
       " '#winelover',\n",
       " '#malbec',\n",
       " '#cabernet',\n",
       " '#vino',\n",
       " '#vinotinto',\n",
       " '#redwine',\n",
       " '#blendwine',\n",
       " 'https://t.co/0Wp3y6M7Uc']"
      ]
     },
     "execution_count": 76,
     "metadata": {},
     "output_type": "execute_result"
    }
   ],
   "source": [
    "tweet = tweets[0]\n",
    "tweet.full_text.split()"
   ]
  },
  {
   "cell_type": "code",
   "execution_count": 78,
   "id": "3d94b50d",
   "metadata": {
    "ExecuteTime": {
     "end_time": "2022-11-01T22:04:52.669411Z",
     "start_time": "2022-11-01T22:04:52.607080Z"
    },
    "scrolled": true
   },
   "outputs": [
    {
     "data": {
      "text/plain": [
       "['un',\n",
       " 'blend',\n",
       " 'perfecto',\n",
       " 'para',\n",
       " 'deleitarse',\n",
       " 'con',\n",
       " 'amigos',\n",
       " '🍷',\n",
       " '-------',\n",
       " 'a',\n",
       " 'perfect',\n",
       " 'blend',\n",
       " 'to',\n",
       " 'enjoy',\n",
       " 'with',\n",
       " 'friends.',\n",
       " '🍷',\n",
       " 'b',\n",
       " 'l',\n",
       " 'e',\n",
       " 'n',\n",
       " 'd',\n",
       " '✧',\n",
       " 'o',\n",
       " 'r',\n",
       " 'g',\n",
       " 'a',\n",
       " 'n',\n",
       " 'i',\n",
       " 'c',\n",
       " '.',\n",
       " '🌿',\n",
       " 'organicwine',\n",
       " 'glutenfree',\n",
       " 'vegan',\n",
       " '🌿',\n",
       " 'ucovalley',\n",
       " 'wine',\n",
       " 'bio',\n",
       " 'nature',\n",
       " 'vinoargentino',\n",
       " 'winelover',\n",
       " 'malbec',\n",
       " 'cabernet',\n",
       " 'vino',\n",
       " 'vinotinto',\n",
       " 'redwine',\n",
       " 'blendwine',\n",
       " 'https://t.co/0wp3y6m7uc',\n",
       " 'this',\n",
       " 'spooky',\n",
       " 'fellow',\n",
       " 'was',\n",
       " 'captured',\n",
       " 'by',\n",
       " 'our',\n",
       " 'team',\n",
       " 'member',\n",
       " 'joe',\n",
       " 'at',\n",
       " 'albet',\n",
       " 'i',\n",
       " 'noya,',\n",
       " 'an',\n",
       " 'organic',\n",
       " 'winery',\n",
       " 'in',\n",
       " 'penedès,',\n",
       " 'spain',\n",
       " '🍇\\u2060',\n",
       " '\\u2060',\n",
       " 'happy',\n",
       " \"hallo'wine\",\n",
       " 'today',\n",
       " '👻🎃\\u2060',\n",
       " 'organicwine',\n",
       " 'prayingmantis',\n",
       " 'organicwinery',\n",
       " 'https://t.co/irxs9id7sp',\n",
       " 'with',\n",
       " 'organic',\n",
       " 'and',\n",
       " 'biodynamic',\n",
       " 'wine',\n",
       " 'on',\n",
       " 'the',\n",
       " 'rise',\n",
       " 'like',\n",
       " 'never',\n",
       " 'before,',\n",
       " 'you',\n",
       " 'may',\n",
       " 'ask-',\n",
       " 'what',\n",
       " 'do',\n",
       " 'these',\n",
       " 'terms',\n",
       " 'mean?',\n",
       " 'jonathan',\n",
       " 'brookes',\n",
       " 'explains',\n",
       " 'what',\n",
       " 'organic',\n",
       " 'and',\n",
       " 'biodynamic',\n",
       " 'actually',\n",
       " 'mean',\n",
       " 'as',\n",
       " 'a',\n",
       " 'viticulture',\n",
       " 'process.',\n",
       " '🍇',\n",
       " 'organicwine',\n",
       " 'organic',\n",
       " 'biodynamic',\n",
       " 'https://t.co/qqm2bqjviy',\n",
       " 'https://t.co/nposfpy1d6',\n",
       " '@moutoncadet',\n",
       " 'organic',\n",
       " 'bordeaux',\n",
       " 'is',\n",
       " 'bursting',\n",
       " 'with',\n",
       " 'notes',\n",
       " 'of',\n",
       " 'blackberry,',\n",
       " 'bilberry,',\n",
       " 'ripe',\n",
       " 'red,',\n",
       " 'and',\n",
       " 'black',\n",
       " 'fruit.',\n",
       " 'sprucegrove',\n",
       " 'stonyplain',\n",
       " 'parklandcounty',\n",
       " 'shoplocal',\n",
       " 'liquoronmcleod',\n",
       " 'organicwine',\n",
       " 'bordeaux',\n",
       " 'https://t.co/knqzo3ffcy',\n",
       " 'weekend',\n",
       " 'plans?',\n",
       " '🌸',\n",
       " 'drinkpink',\n",
       " 'rosewine',\n",
       " 'chateaulagordonne',\n",
       " 'véritéduterroir',\n",
       " 'provencewine',\n",
       " 'frenchwine',\n",
       " 'roseeveryday',\n",
       " 'lachapelle',\n",
       " 'organicwine',\n",
       " 'bio',\n",
       " 'drink',\n",
       " 'responsibly.',\n",
       " 'https://t.co/8cqxcjkutl',\n",
       " 'time',\n",
       " 'for',\n",
       " 'you',\n",
       " '🌸',\n",
       " 'drinkpink',\n",
       " 'rosewine',\n",
       " 'chateaulagordonne',\n",
       " 'véritéduterroir',\n",
       " 'provencewine',\n",
       " 'frenchwine',\n",
       " 'roseeveryday',\n",
       " 'lachapelle',\n",
       " 'organicwine',\n",
       " 'bio',\n",
       " 'please',\n",
       " 'drink',\n",
       " 'responsibly.',\n",
       " 'https://t.co/rs1jq0sgth',\n",
       " 'call',\n",
       " 'for',\n",
       " 'entries',\n",
       " '-',\n",
       " 'announcing',\n",
       " 'the',\n",
       " '2016',\n",
       " '&amp;',\n",
       " '2017',\n",
       " 'library',\n",
       " 'stock',\n",
       " 'aotearoa',\n",
       " 'organic',\n",
       " 'wine',\n",
       " 'awards',\n",
       " '–',\n",
       " 'back',\n",
       " 'by',\n",
       " 'popular',\n",
       " 'demand...',\n",
       " 'more...',\n",
       " 'https://t.co/kxw4dx0hse',\n",
       " 'wine',\n",
       " 'wines',\n",
       " 'nzwine',\n",
       " 'nzwines',\n",
       " 'winenews',\n",
       " 'nzwineindustry',\n",
       " 'newzealandwine',\n",
       " 'wineawards',\n",
       " 'organicwine',\n",
       " 'organicwines',\n",
       " 'organicwineawards',\n",
       " 'https://t.co/ozmyxvemmy',\n",
       " 'although',\n",
       " 'i',\n",
       " 'drink',\n",
       " 'a',\n",
       " 'lot',\n",
       " 'less,',\n",
       " 'i',\n",
       " 'always',\n",
       " 'love',\n",
       " 'a',\n",
       " 'good',\n",
       " 'wine',\n",
       " 'flight!',\n",
       " 'atx',\n",
       " 'atxlife',\n",
       " 'austin',\n",
       " 'winetasting',\n",
       " 'organicwine',\n",
       " 'foodies',\n",
       " 'travel',\n",
       " 'katsjourney',\n",
       " '@',\n",
       " 'house',\n",
       " 'wine',\n",
       " 'https://t.co/vhn46elv8z',\n",
       " 'golden',\n",
       " 'fall',\n",
       " 'breathtakingviews',\n",
       " 'valdonica',\n",
       " 'maremma',\n",
       " 'toscana',\n",
       " 'vino',\n",
       " 'winelover',\n",
       " 'winetasting',\n",
       " 'winetime',\n",
       " 'winery',\n",
       " 'wineoclock',\n",
       " 'winetour',\n",
       " 'instawine',\n",
       " 'tuscany',\n",
       " 'italy',\n",
       " 'italianwine',\n",
       " 'visittuscany',\n",
       " 'organicwine',\n",
       " 'organicwinery',\n",
       " 'vermentino',\n",
       " 'sangiovese',\n",
       " 'wineenthusiast',\n",
       " 'winetravel',\n",
       " 'wine',\n",
       " 'https://t.co/jmsjeseere',\n",
       " 'are',\n",
       " 'there',\n",
       " 'pesticides',\n",
       " 'in',\n",
       " 'your',\n",
       " 'wine?',\n",
       " 'and',\n",
       " 'do',\n",
       " 'practices',\n",
       " 'like',\n",
       " 'organic,',\n",
       " 'biodynamic,',\n",
       " '&amp;',\n",
       " 'sustainable',\n",
       " 'viticulture',\n",
       " 'make',\n",
       " 'a',\n",
       " 'difference',\n",
       " 'in',\n",
       " 'the',\n",
       " 'taste',\n",
       " '&amp;',\n",
       " 'quality',\n",
       " 'of',\n",
       " 'wines',\n",
       " 'we',\n",
       " 'drink?',\n",
       " 'watch',\n",
       " 'the',\n",
       " 'full',\n",
       " 'video',\n",
       " 'here:',\n",
       " 'https://t.co/v4p3rvjbfh',\n",
       " 'wine',\n",
       " 'organicwine',\n",
       " 'https://t.co/o5ps6qbxba',\n",
       " 'nature❤️',\n",
       " 'breathtakingviews',\n",
       " 'valdonica',\n",
       " 'maremma',\n",
       " 'toscana',\n",
       " 'vino',\n",
       " 'winelover',\n",
       " 'winetasting',\n",
       " 'winetime',\n",
       " 'winery',\n",
       " 'wineoclock',\n",
       " 'winetour',\n",
       " 'instawine',\n",
       " 'tuscany',\n",
       " 'italy',\n",
       " 'italianwine',\n",
       " 'visittuscany',\n",
       " 'organicwine',\n",
       " 'organicwinery',\n",
       " 'vermentino',\n",
       " 'sangiovese',\n",
       " 'wineenthusiast',\n",
       " 'winetravel',\n",
       " 'wine',\n",
       " 'https://t.co/z9ke4rbvkq',\n",
       " 'as',\n",
       " 'seen',\n",
       " '@williswinebar',\n",
       " 'the',\n",
       " 'very',\n",
       " 'last',\n",
       " 'few',\n",
       " 'bottles',\n",
       " 'in',\n",
       " 'the',\n",
       " 'wild',\n",
       " 'of',\n",
       " 'the',\n",
       " 'stunning',\n",
       " '2021',\n",
       " 'sauvignonblanc',\n",
       " '☀️',\n",
       " 'smithstorywines',\n",
       " 'organicwine',\n",
       " 'singlevineyard',\n",
       " 'sonomacounty',\n",
       " '@',\n",
       " \"willi's\",\n",
       " 'wine',\n",
       " 'bar',\n",
       " 'https://t.co/9sbfbxpbqv',\n",
       " 'champagne',\n",
       " 'day',\n",
       " 'is',\n",
       " 'this',\n",
       " 'friday,',\n",
       " 'and',\n",
       " 'this',\n",
       " 'is',\n",
       " 'jean-pierre',\n",
       " 'fleury',\n",
       " 'of',\n",
       " 'champagne',\n",
       " 'fleury,',\n",
       " 'who',\n",
       " 'was',\n",
       " 'the',\n",
       " 'first',\n",
       " 'grower',\n",
       " 'in',\n",
       " 'champagne',\n",
       " 'to',\n",
       " 'convert',\n",
       " 'to',\n",
       " 'biodynamics',\n",
       " 'and',\n",
       " 'organic',\n",
       " 'production',\n",
       " '🌱🥂🍾',\n",
       " '\\u2060',\n",
       " 'champagne',\n",
       " 'organicwine',\n",
       " 'biodynamicwin',\n",
       " '\\u2060',\n",
       " 'https://t.co/hebenu7cms',\n",
       " 'repost',\n",
       " 'from',\n",
       " 'greenegrapewine',\n",
       " ':',\n",
       " '\"produced',\n",
       " 'from',\n",
       " '100%',\n",
       " 'mauzac',\n",
       " 'in',\n",
       " 'southwestern',\n",
       " 'france,',\n",
       " 'this',\n",
       " 'organicwine',\n",
       " 'is',\n",
       " 'filled',\n",
       " 'with',\n",
       " 'aromas',\n",
       " 'of',\n",
       " 'bruised',\n",
       " 'orchard',\n",
       " 'fruit,',\n",
       " 'pear',\n",
       " 'cider,',\n",
       " 'and',\n",
       " 'apple',\n",
       " 'compote',\n",
       " 'with',\n",
       " 'hints',\n",
       " 'of',\n",
       " 'toasty,',\n",
       " 'warm',\n",
       " 'spice.\\u2060\"',\n",
       " 'sounds',\n",
       " 'like',\n",
       " 'the',\n",
       " 'perfect',\n",
       " 'autumn',\n",
       " 'wine!!',\n",
       " 'https://t.co/kq8eunzusv',\n",
       " 'el',\n",
       " 'balance',\n",
       " 'perfecto',\n",
       " 'entre',\n",
       " 'intensidad',\n",
       " 'y',\n",
       " 'suavidad.',\n",
       " '🥂',\n",
       " '-------',\n",
       " 'perfect',\n",
       " 'balance',\n",
       " 'within',\n",
       " 'intensity',\n",
       " 'and',\n",
       " 'softness.',\n",
       " '🔹',\n",
       " 'b',\n",
       " 'l',\n",
       " 'a',\n",
       " 'c',\n",
       " 'k',\n",
       " '🌱',\n",
       " 'b',\n",
       " 'r',\n",
       " 'u',\n",
       " 't',\n",
       " '🔹',\n",
       " 'staynatural.',\n",
       " 'organicwine',\n",
       " '🍃',\n",
       " 'glutenfree',\n",
       " '🍃',\n",
       " 'vegan',\n",
       " '🍃',\n",
       " 'vinoargentino',\n",
       " 'champagnelover',\n",
       " 'bio',\n",
       " 'wine',\n",
       " 'winelove',\n",
       " 'ucovalley',\n",
       " 'espumante',\n",
       " 'vino',\n",
       " 'https://t.co/uvosu70ubm',\n",
       " 'huge',\n",
       " 'thanks',\n",
       " 'to',\n",
       " 'andy',\n",
       " 'falk',\n",
       " 'and',\n",
       " 'alex',\n",
       " 'gittins',\n",
       " 'from',\n",
       " '@boutinotwines',\n",
       " 'for',\n",
       " 'bringing',\n",
       " 'some',\n",
       " 'of',\n",
       " 'your',\n",
       " 'lovely',\n",
       " 'customers',\n",
       " 'to',\n",
       " 'experience',\n",
       " 'the',\n",
       " 'circleoflife',\n",
       " '@waterkloofwines',\n",
       " '🐐🐂🐴🌼🍷🇿🇦',\n",
       " 'organicwine',\n",
       " 'regenerativefarming',\n",
       " 'drinksawine',\n",
       " 'sustainability360',\n",
       " 'https://t.co/aywvggaqpt']"
      ]
     },
     "execution_count": 78,
     "metadata": {},
     "output_type": "execute_result"
    }
   ],
   "source": [
    "text_list = [tweet.full_text for tweet in tweets]\n",
    "word_list = [word.lower() for text in text_list for word in text.split() ]\n",
    "word_list = [word.replace('#','') for word in word_list ]\n",
    "word_list"
   ]
  },
  {
   "cell_type": "code",
   "execution_count": 79,
   "id": "587853bc",
   "metadata": {
    "ExecuteTime": {
     "end_time": "2022-11-01T22:05:08.592025Z",
     "start_time": "2022-11-01T22:05:08.574641Z"
    },
    "scrolled": true
   },
   "outputs": [
    {
     "data": {
      "text/html": [
       "<div>\n",
       "<style scoped>\n",
       "    .dataframe tbody tr th:only-of-type {\n",
       "        vertical-align: middle;\n",
       "    }\n",
       "\n",
       "    .dataframe tbody tr th {\n",
       "        vertical-align: top;\n",
       "    }\n",
       "\n",
       "    .dataframe thead th {\n",
       "        text-align: right;\n",
       "    }\n",
       "</style>\n",
       "<table border=\"1\" class=\"dataframe\">\n",
       "  <thead>\n",
       "    <tr style=\"text-align: right;\">\n",
       "      <th></th>\n",
       "      <th>word</th>\n",
       "      <th>count</th>\n",
       "    </tr>\n",
       "  </thead>\n",
       "  <tbody>\n",
       "    <tr>\n",
       "      <th>191</th>\n",
       "      <td>organicwine</td>\n",
       "      <td>16</td>\n",
       "    </tr>\n",
       "    <tr>\n",
       "      <th>283</th>\n",
       "      <td>wine</td>\n",
       "      <td>11</td>\n",
       "    </tr>\n",
       "    <tr>\n",
       "      <th>249</th>\n",
       "      <td>the</td>\n",
       "      <td>10</td>\n",
       "    </tr>\n",
       "    <tr>\n",
       "      <th>23</th>\n",
       "      <td>and</td>\n",
       "      <td>9</td>\n",
       "    </tr>\n",
       "    <tr>\n",
       "      <th>189</th>\n",
       "      <td>organic</td>\n",
       "      <td>7</td>\n",
       "    </tr>\n",
       "    <tr>\n",
       "      <th>186</th>\n",
       "      <td>of</td>\n",
       "      <td>7</td>\n",
       "    </tr>\n",
       "    <tr>\n",
       "      <th>15</th>\n",
       "      <td>a</td>\n",
       "      <td>7</td>\n",
       "    </tr>\n",
       "    <tr>\n",
       "      <th>144</th>\n",
       "      <td>in</td>\n",
       "      <td>6</td>\n",
       "    </tr>\n",
       "    <tr>\n",
       "      <th>298</th>\n",
       "      <td>with</td>\n",
       "      <td>5</td>\n",
       "    </tr>\n",
       "    <tr>\n",
       "      <th>254</th>\n",
       "      <td>to</td>\n",
       "      <td>5</td>\n",
       "    </tr>\n",
       "    <tr>\n",
       "      <th>252</th>\n",
       "      <td>this</td>\n",
       "      <td>4</td>\n",
       "    </tr>\n",
       "    <tr>\n",
       "      <th>143</th>\n",
       "      <td>i</td>\n",
       "      <td>4</td>\n",
       "    </tr>\n",
       "    <tr>\n",
       "      <th>44</th>\n",
       "      <td>bio</td>\n",
       "      <td>4</td>\n",
       "    </tr>\n",
       "    <tr>\n",
       "      <th>65</th>\n",
       "      <td>champagne</td>\n",
       "      <td>4</td>\n",
       "    </tr>\n",
       "    <tr>\n",
       "      <th>268</th>\n",
       "      <td>vino</td>\n",
       "      <td>4</td>\n",
       "    </tr>\n",
       "  </tbody>\n",
       "</table>\n",
       "</div>"
      ],
      "text/plain": [
       "            word  count\n",
       "191  organicwine     16\n",
       "283         wine     11\n",
       "249          the     10\n",
       "23           and      9\n",
       "189      organic      7\n",
       "186           of      7\n",
       "15             a      7\n",
       "144           in      6\n",
       "298         with      5\n",
       "254           to      5\n",
       "252         this      4\n",
       "143            i      4\n",
       "44           bio      4\n",
       "65     champagne      4\n",
       "268         vino      4"
      ]
     },
     "execution_count": 79,
     "metadata": {},
     "output_type": "execute_result"
    }
   ],
   "source": [
    "word_df = pd.DataFrame(word_list,columns=['word'])\n",
    "word_df = word_df.groupby('word')['word'].count().reset_index(name='count')\n",
    "word_df.sort_values(by='count',ascending=False).head(15)"
   ]
  },
  {
   "cell_type": "markdown",
   "id": "956906c7",
   "metadata": {
    "ExecuteTime": {
     "end_time": "2022-11-01T22:10:38.175479Z",
     "start_time": "2022-11-01T22:10:38.170641Z"
    }
   },
   "source": [
    "## Sentiment analysis #Organicwine"
   ]
  },
  {
   "cell_type": "code",
   "execution_count": 5,
   "id": "7e3cf58a",
   "metadata": {
    "ExecuteTime": {
     "end_time": "2022-10-31T22:17:11.598414Z",
     "start_time": "2022-10-31T22:17:10.901719Z"
    }
   },
   "outputs": [
    {
     "name": "stderr",
     "output_type": "stream",
     "text": [
      "[nltk_data] Downloading package stopwords to /Users/irene/nltk_data...\n",
      "[nltk_data]   Package stopwords is already up-to-date!\n"
     ]
    },
    {
     "data": {
      "text/plain": [
       "True"
      ]
     },
     "execution_count": 5,
     "metadata": {},
     "output_type": "execute_result"
    }
   ],
   "source": [
    "import nltk\n",
    "from nltk.sentiment import SentimentIntensityAnalyzer\n",
    "nltk.download('stopwords')"
   ]
  },
  {
   "cell_type": "code",
   "execution_count": 6,
   "id": "8ea333e9",
   "metadata": {
    "ExecuteTime": {
     "end_time": "2022-10-31T22:17:12.508042Z",
     "start_time": "2022-10-31T22:17:12.496896Z"
    },
    "scrolled": true
   },
   "outputs": [
    {
     "name": "stderr",
     "output_type": "stream",
     "text": [
      "[nltk_data] Downloading package vader_lexicon to\n",
      "[nltk_data]     /Users/irene/nltk_data...\n",
      "[nltk_data]   Package vader_lexicon is already up-to-date!\n"
     ]
    },
    {
     "data": {
      "text/plain": [
       "True"
      ]
     },
     "execution_count": 6,
     "metadata": {},
     "output_type": "execute_result"
    }
   ],
   "source": [
    "nltk.download('vader_lexicon')"
   ]
  },
  {
   "cell_type": "code",
   "execution_count": 25,
   "id": "21228b10",
   "metadata": {
    "ExecuteTime": {
     "end_time": "2022-10-31T23:17:20.766628Z",
     "start_time": "2022-10-31T23:17:20.754023Z"
    }
   },
   "outputs": [
    {
     "data": {
      "text/plain": [
       "['i',\n",
       " 'me',\n",
       " 'my',\n",
       " 'myself',\n",
       " 'we',\n",
       " 'our',\n",
       " 'ours',\n",
       " 'ourselves',\n",
       " 'you',\n",
       " \"you're\",\n",
       " \"you've\",\n",
       " \"you'll\",\n",
       " \"you'd\",\n",
       " 'your',\n",
       " 'yours',\n",
       " 'yourself',\n",
       " 'yourselves',\n",
       " 'he',\n",
       " 'him',\n",
       " 'his',\n",
       " 'himself',\n",
       " 'she',\n",
       " \"she's\",\n",
       " 'her',\n",
       " 'hers',\n",
       " 'herself',\n",
       " 'it',\n",
       " \"it's\",\n",
       " 'its',\n",
       " 'itself',\n",
       " 'they',\n",
       " 'them',\n",
       " 'their',\n",
       " 'theirs',\n",
       " 'themselves',\n",
       " 'what',\n",
       " 'which',\n",
       " 'who',\n",
       " 'whom',\n",
       " 'this',\n",
       " 'that',\n",
       " \"that'll\",\n",
       " 'these',\n",
       " 'those',\n",
       " 'am',\n",
       " 'is',\n",
       " 'are',\n",
       " 'was',\n",
       " 'were',\n",
       " 'be',\n",
       " 'been',\n",
       " 'being',\n",
       " 'have',\n",
       " 'has',\n",
       " 'had',\n",
       " 'having',\n",
       " 'do',\n",
       " 'does',\n",
       " 'did',\n",
       " 'doing',\n",
       " 'a',\n",
       " 'an',\n",
       " 'the',\n",
       " 'and',\n",
       " 'but',\n",
       " 'if',\n",
       " 'or',\n",
       " 'because',\n",
       " 'as',\n",
       " 'until',\n",
       " 'while',\n",
       " 'of',\n",
       " 'at',\n",
       " 'by',\n",
       " 'for',\n",
       " 'with',\n",
       " 'about',\n",
       " 'against',\n",
       " 'between',\n",
       " 'into',\n",
       " 'through',\n",
       " 'during',\n",
       " 'before',\n",
       " 'after',\n",
       " 'above',\n",
       " 'below',\n",
       " 'to',\n",
       " 'from',\n",
       " 'up',\n",
       " 'down',\n",
       " 'in',\n",
       " 'out',\n",
       " 'on',\n",
       " 'off',\n",
       " 'over',\n",
       " 'under',\n",
       " 'again',\n",
       " 'further',\n",
       " 'then',\n",
       " 'once',\n",
       " 'here',\n",
       " 'there',\n",
       " 'when',\n",
       " 'where',\n",
       " 'why',\n",
       " 'how',\n",
       " 'all',\n",
       " 'any',\n",
       " 'both',\n",
       " 'each',\n",
       " 'few',\n",
       " 'more',\n",
       " 'most',\n",
       " 'other',\n",
       " 'some',\n",
       " 'such',\n",
       " 'no',\n",
       " 'nor',\n",
       " 'not',\n",
       " 'only',\n",
       " 'own',\n",
       " 'same',\n",
       " 'so',\n",
       " 'than',\n",
       " 'too',\n",
       " 'very',\n",
       " 's',\n",
       " 't',\n",
       " 'can',\n",
       " 'will',\n",
       " 'just',\n",
       " 'don',\n",
       " \"don't\",\n",
       " 'should',\n",
       " \"should've\",\n",
       " 'now',\n",
       " 'd',\n",
       " 'll',\n",
       " 'm',\n",
       " 'o',\n",
       " 're',\n",
       " 've',\n",
       " 'y',\n",
       " 'ain',\n",
       " 'aren',\n",
       " \"aren't\",\n",
       " 'couldn',\n",
       " \"couldn't\",\n",
       " 'didn',\n",
       " \"didn't\",\n",
       " 'doesn',\n",
       " \"doesn't\",\n",
       " 'hadn',\n",
       " \"hadn't\",\n",
       " 'hasn',\n",
       " \"hasn't\",\n",
       " 'haven',\n",
       " \"haven't\",\n",
       " 'isn',\n",
       " \"isn't\",\n",
       " 'ma',\n",
       " 'mightn',\n",
       " \"mightn't\",\n",
       " 'mustn',\n",
       " \"mustn't\",\n",
       " 'needn',\n",
       " \"needn't\",\n",
       " 'shan',\n",
       " \"shan't\",\n",
       " 'shouldn',\n",
       " \"shouldn't\",\n",
       " 'wasn',\n",
       " \"wasn't\",\n",
       " 'weren',\n",
       " \"weren't\",\n",
       " 'won',\n",
       " \"won't\",\n",
       " 'wouldn',\n",
       " \"wouldn't\"]"
      ]
     },
     "execution_count": 25,
     "metadata": {},
     "output_type": "execute_result"
    }
   ],
   "source": [
    "nltk.corpus.stopwords.words('english')"
   ]
  },
  {
   "cell_type": "code",
   "execution_count": 80,
   "id": "a42580ed",
   "metadata": {
    "ExecuteTime": {
     "end_time": "2022-11-01T22:05:41.838557Z",
     "start_time": "2022-11-01T22:05:41.817917Z"
    }
   },
   "outputs": [
    {
     "data": {
      "text/html": [
       "<div>\n",
       "<style scoped>\n",
       "    .dataframe tbody tr th:only-of-type {\n",
       "        vertical-align: middle;\n",
       "    }\n",
       "\n",
       "    .dataframe tbody tr th {\n",
       "        vertical-align: top;\n",
       "    }\n",
       "\n",
       "    .dataframe thead th {\n",
       "        text-align: right;\n",
       "    }\n",
       "</style>\n",
       "<table border=\"1\" class=\"dataframe\">\n",
       "  <thead>\n",
       "    <tr style=\"text-align: right;\">\n",
       "      <th></th>\n",
       "      <th>word</th>\n",
       "      <th>count</th>\n",
       "    </tr>\n",
       "  </thead>\n",
       "  <tbody>\n",
       "    <tr>\n",
       "      <th>191</th>\n",
       "      <td>organicwine</td>\n",
       "      <td>16</td>\n",
       "    </tr>\n",
       "    <tr>\n",
       "      <th>283</th>\n",
       "      <td>wine</td>\n",
       "      <td>11</td>\n",
       "    </tr>\n",
       "    <tr>\n",
       "      <th>189</th>\n",
       "      <td>organic</td>\n",
       "      <td>7</td>\n",
       "    </tr>\n",
       "    <tr>\n",
       "      <th>65</th>\n",
       "      <td>champagne</td>\n",
       "      <td>4</td>\n",
       "    </tr>\n",
       "    <tr>\n",
       "      <th>44</th>\n",
       "      <td>bio</td>\n",
       "      <td>4</td>\n",
       "    </tr>\n",
       "    <tr>\n",
       "      <th>268</th>\n",
       "      <td>vino</td>\n",
       "      <td>4</td>\n",
       "    </tr>\n",
       "    <tr>\n",
       "      <th>289</th>\n",
       "      <td>winelover</td>\n",
       "      <td>3</td>\n",
       "    </tr>\n",
       "    <tr>\n",
       "      <th>292</th>\n",
       "      <td>winery</td>\n",
       "      <td>3</td>\n",
       "    </tr>\n",
       "    <tr>\n",
       "      <th>294</th>\n",
       "      <td>winetasting</td>\n",
       "      <td>3</td>\n",
       "    </tr>\n",
       "    <tr>\n",
       "      <th>1</th>\n",
       "      <td>&amp;amp;</td>\n",
       "      <td>3</td>\n",
       "    </tr>\n",
       "    <tr>\n",
       "      <th>38</th>\n",
       "      <td>b</td>\n",
       "      <td>3</td>\n",
       "    </tr>\n",
       "    <tr>\n",
       "      <th>304</th>\n",
       "      <td>⁠</td>\n",
       "      <td>3</td>\n",
       "    </tr>\n",
       "    <tr>\n",
       "      <th>193</th>\n",
       "      <td>organicwinery</td>\n",
       "      <td>3</td>\n",
       "    </tr>\n",
       "    <tr>\n",
       "      <th>80</th>\n",
       "      <td>drink</td>\n",
       "      <td>3</td>\n",
       "    </tr>\n",
       "    <tr>\n",
       "      <th>161</th>\n",
       "      <td>like</td>\n",
       "      <td>3</td>\n",
       "    </tr>\n",
       "  </tbody>\n",
       "</table>\n",
       "</div>"
      ],
      "text/plain": [
       "              word  count\n",
       "191    organicwine     16\n",
       "283           wine     11\n",
       "189        organic      7\n",
       "65       champagne      4\n",
       "44             bio      4\n",
       "268           vino      4\n",
       "289      winelover      3\n",
       "292         winery      3\n",
       "294    winetasting      3\n",
       "1            &amp;      3\n",
       "38               b      3\n",
       "304              ⁠      3\n",
       "193  organicwinery      3\n",
       "80           drink      3\n",
       "161           like      3"
      ]
     },
     "execution_count": 80,
     "metadata": {},
     "output_type": "execute_result"
    }
   ],
   "source": [
    "word_df = word_df[~(word_df['word'].isin(nltk.corpus.stopwords.words('english')))]\n",
    "word_df.sort_values(by='count',ascending=False).head(15)"
   ]
  },
  {
   "cell_type": "code",
   "execution_count": 83,
   "id": "3d3f4f12",
   "metadata": {
    "ExecuteTime": {
     "end_time": "2022-11-01T22:06:24.301178Z",
     "start_time": "2022-11-01T22:06:24.258029Z"
    }
   },
   "outputs": [
    {
     "name": "stdout",
     "output_type": "stream",
     "text": [
      "Un Blend perfecto para deleitarse con amigos 🍷\n",
      "\n",
      "-------\n",
      "A perfect Blend to enjoy with friends.\n",
      "\n",
      "🍷 B L E N D ✧ O R G A N I C .\n",
      "\n",
      "🌿 #organicwine #glutenfree #vegan\n",
      "🌿 #ucovalley #wine #bio #nature\n",
      "\n",
      "#vinoargentino #winelover #malbec #cabernet #vino\n",
      "#vinotinto #redwine #blendwine https://t.co/0Wp3y6M7Uc\n"
     ]
    },
    {
     "data": {
      "text/plain": [
       "0.9062"
      ]
     },
     "execution_count": 83,
     "metadata": {},
     "output_type": "execute_result"
    }
   ],
   "source": [
    "tweet = tweets[0]\n",
    "print(tweet.full_text)\n",
    "sia.polarity_scores(tweet.full_text)['compound']"
   ]
  },
  {
   "cell_type": "code",
   "execution_count": 84,
   "id": "07298f0b",
   "metadata": {
    "ExecuteTime": {
     "end_time": "2022-11-01T22:07:16.109229Z",
     "start_time": "2022-11-01T22:07:16.036661Z"
    }
   },
   "outputs": [],
   "source": [
    "sia = SentimentIntensityAnalyzer()"
   ]
  },
  {
   "cell_type": "code",
   "execution_count": 86,
   "id": "da466096",
   "metadata": {
    "ExecuteTime": {
     "end_time": "2022-11-01T22:07:23.626094Z",
     "start_time": "2022-11-01T22:07:23.380740Z"
    }
   },
   "outputs": [
    {
     "data": {
      "image/png": "[encoded data removed]",
      "text/plain": [
       "<Figure size 432x288 with 1 Axes>"
      ]
     },
     "metadata": {
      "needs_background": "light"
     },
     "output_type": "display_data"
    }
   ],
   "source": [
    "compound_scores = []\n",
    "for tweet in tweets:\n",
    "    compound_scores.append(sia.polarity_scores(tweet.full_text)['compound'])\n",
    "sns.histplot(compound_scores,bins=10)\n",
    "plt.show()"
   ]
  },
  {
   "cell_type": "code",
   "execution_count": 87,
   "id": "6661f580",
   "metadata": {
    "ExecuteTime": {
     "end_time": "2022-11-01T22:08:15.815262Z",
     "start_time": "2022-11-01T22:08:15.802724Z"
    }
   },
   "outputs": [
    {
     "data": {
      "text/plain": [
       "[0.9062,\n",
       " 0.5719,\n",
       " 0.3612,\n",
       " 0.0,\n",
       " 0.0,\n",
       " 0.3182,\n",
       " 0.7003,\n",
       " 0.7814,\n",
       " 0.0,\n",
       " 0.4329,\n",
       " 0.0,\n",
       " 0.3818,\n",
       " 0.6808,\n",
       " 0.8264,\n",
       " 0.7184,\n",
       " 0.8402]"
      ]
     },
     "execution_count": 87,
     "metadata": {},
     "output_type": "execute_result"
    }
   ],
   "source": [
    "compound_scores"
   ]
  },
  {
   "cell_type": "code",
   "execution_count": 90,
   "id": "ccfeb866",
   "metadata": {
    "ExecuteTime": {
     "end_time": "2022-11-01T22:11:40.529530Z",
     "start_time": "2022-11-01T22:11:40.515842Z"
    }
   },
   "outputs": [
    {
     "data": {
      "text/html": [
       "<div>\n",
       "<style scoped>\n",
       "    .dataframe tbody tr th:only-of-type {\n",
       "        vertical-align: middle;\n",
       "    }\n",
       "\n",
       "    .dataframe tbody tr th {\n",
       "        vertical-align: top;\n",
       "    }\n",
       "\n",
       "    .dataframe thead th {\n",
       "        text-align: right;\n",
       "    }\n",
       "</style>\n",
       "<table border=\"1\" class=\"dataframe\">\n",
       "  <thead>\n",
       "    <tr style=\"text-align: right;\">\n",
       "      <th></th>\n",
       "      <th>organicwine_score</th>\n",
       "    </tr>\n",
       "  </thead>\n",
       "  <tbody>\n",
       "    <tr>\n",
       "      <th>0</th>\n",
       "      <td>0.9062</td>\n",
       "    </tr>\n",
       "    <tr>\n",
       "      <th>1</th>\n",
       "      <td>0.5719</td>\n",
       "    </tr>\n",
       "    <tr>\n",
       "      <th>2</th>\n",
       "      <td>0.3612</td>\n",
       "    </tr>\n",
       "    <tr>\n",
       "      <th>3</th>\n",
       "      <td>0.0000</td>\n",
       "    </tr>\n",
       "    <tr>\n",
       "      <th>4</th>\n",
       "      <td>0.0000</td>\n",
       "    </tr>\n",
       "    <tr>\n",
       "      <th>5</th>\n",
       "      <td>0.3182</td>\n",
       "    </tr>\n",
       "    <tr>\n",
       "      <th>6</th>\n",
       "      <td>0.7003</td>\n",
       "    </tr>\n",
       "    <tr>\n",
       "      <th>7</th>\n",
       "      <td>0.7814</td>\n",
       "    </tr>\n",
       "    <tr>\n",
       "      <th>8</th>\n",
       "      <td>0.0000</td>\n",
       "    </tr>\n",
       "    <tr>\n",
       "      <th>9</th>\n",
       "      <td>0.4329</td>\n",
       "    </tr>\n",
       "    <tr>\n",
       "      <th>10</th>\n",
       "      <td>0.0000</td>\n",
       "    </tr>\n",
       "    <tr>\n",
       "      <th>11</th>\n",
       "      <td>0.3818</td>\n",
       "    </tr>\n",
       "    <tr>\n",
       "      <th>12</th>\n",
       "      <td>0.6808</td>\n",
       "    </tr>\n",
       "    <tr>\n",
       "      <th>13</th>\n",
       "      <td>0.8264</td>\n",
       "    </tr>\n",
       "    <tr>\n",
       "      <th>14</th>\n",
       "      <td>0.7184</td>\n",
       "    </tr>\n",
       "    <tr>\n",
       "      <th>15</th>\n",
       "      <td>0.8402</td>\n",
       "    </tr>\n",
       "  </tbody>\n",
       "</table>\n",
       "</div>"
      ],
      "text/plain": [
       "    organicwine_score\n",
       "0              0.9062\n",
       "1              0.5719\n",
       "2              0.3612\n",
       "3              0.0000\n",
       "4              0.0000\n",
       "5              0.3182\n",
       "6              0.7003\n",
       "7              0.7814\n",
       "8              0.0000\n",
       "9              0.4329\n",
       "10             0.0000\n",
       "11             0.3818\n",
       "12             0.6808\n",
       "13             0.8264\n",
       "14             0.7184\n",
       "15             0.8402"
      ]
     },
     "execution_count": 90,
     "metadata": {},
     "output_type": "execute_result"
    }
   ],
   "source": [
    "organicwine_score = pd.DataFrame (compound_scores, columns = ['organicwine_score'])\n",
    "organicwine_score"
   ]
  },
  {
   "cell_type": "code",
   "execution_count": 92,
   "id": "16ef010f",
   "metadata": {
    "ExecuteTime": {
     "end_time": "2022-11-01T22:11:54.037808Z",
     "start_time": "2022-11-01T22:11:53.967564Z"
    }
   },
   "outputs": [
    {
     "data": {
      "text/html": [
       "<div>\n",
       "<style scoped>\n",
       "    .dataframe tbody tr th:only-of-type {\n",
       "        vertical-align: middle;\n",
       "    }\n",
       "\n",
       "    .dataframe tbody tr th {\n",
       "        vertical-align: top;\n",
       "    }\n",
       "\n",
       "    .dataframe thead th {\n",
       "        text-align: right;\n",
       "    }\n",
       "</style>\n",
       "<table border=\"1\" class=\"dataframe\">\n",
       "  <thead>\n",
       "    <tr style=\"text-align: right;\">\n",
       "      <th></th>\n",
       "      <th>organicwine_score</th>\n",
       "    </tr>\n",
       "  </thead>\n",
       "  <tbody>\n",
       "    <tr>\n",
       "      <th>count</th>\n",
       "      <td>16.000000</td>\n",
       "    </tr>\n",
       "    <tr>\n",
       "      <th>mean</th>\n",
       "      <td>0.469981</td>\n",
       "    </tr>\n",
       "    <tr>\n",
       "      <th>std</th>\n",
       "      <td>0.331512</td>\n",
       "    </tr>\n",
       "    <tr>\n",
       "      <th>min</th>\n",
       "      <td>0.000000</td>\n",
       "    </tr>\n",
       "    <tr>\n",
       "      <th>25%</th>\n",
       "      <td>0.238650</td>\n",
       "    </tr>\n",
       "    <tr>\n",
       "      <th>50%</th>\n",
       "      <td>0.502400</td>\n",
       "    </tr>\n",
       "    <tr>\n",
       "      <th>75%</th>\n",
       "      <td>0.734150</td>\n",
       "    </tr>\n",
       "    <tr>\n",
       "      <th>max</th>\n",
       "      <td>0.906200</td>\n",
       "    </tr>\n",
       "  </tbody>\n",
       "</table>\n",
       "</div>"
      ],
      "text/plain": [
       "       organicwine_score\n",
       "count          16.000000\n",
       "mean            0.469981\n",
       "std             0.331512\n",
       "min             0.000000\n",
       "25%             0.238650\n",
       "50%             0.502400\n",
       "75%             0.734150\n",
       "max             0.906200"
      ]
     },
     "execution_count": 92,
     "metadata": {},
     "output_type": "execute_result"
    }
   ],
   "source": [
    "organicwine_score.describe()"
   ]
  },
  {
   "cell_type": "markdown",
   "id": "4a042336",
   "metadata": {},
   "source": [
    "Between $-1$ and $1$\n",
    "\n",
    "$>0$ signifies a positive sentiment\n",
    "\n",
    "$<0$ signifies a negative sentiment"
   ]
  },
  {
   "cell_type": "markdown",
   "id": "f54fde4c",
   "metadata": {},
   "source": [
    "**The public's view to organic wine is positive**"
   ]
  },
  {
   "cell_type": "code",
   "execution_count": null,
   "id": "17adc5aa",
   "metadata": {},
   "outputs": [],
   "source": []
  }
 ],
 "metadata": {
  "kernelspec": {
   "display_name": "Python 3 (ipykernel)",
   "language": "python",
   "name": "python3"
  },
  "language_info": {
   "codemirror_mode": {
    "name": "ipython",
    "version": 3
   },
   "file_extension": ".py",
   "mimetype": "text/x-python",
   "name": "python",
   "nbconvert_exporter": "python",
   "pygments_lexer": "ipython3",
   "version": "3.9.12"
  },
  "toc": {
   "base_numbering": 1,
   "nav_menu": {},
   "number_sections": true,
   "sideBar": true,
   "skip_h1_title": false,
   "title_cell": "Table of Contents",
   "title_sidebar": "Contents",
   "toc_cell": false,
   "toc_position": {},
   "toc_section_display": true,
   "toc_window_display": false
  },
  "varInspector": {
   "cols": {
    "lenName": 16,
    "lenType": 16,
    "lenVar": 40
   },
   "kernels_config": {
    "python": {
     "delete_cmd_postfix": "",
     "delete_cmd_prefix": "del ",
     "library": "var_list.py",
     "varRefreshCmd": "print(var_dic_list())"
    },
    "r": {
     "delete_cmd_postfix": ") ",
     "delete_cmd_prefix": "rm(",
     "library": "var_list.r",
     "varRefreshCmd": "cat(var_dic_list()) "
    }
   },
   "types_to_exclude": [
    "module",
    "function",
    "builtin_function_or_method",
    "instance",
    "_Feature"
   ],
   "window_display": false
  }
 },
 "nbformat": 4,
 "nbformat_minor": 5
}
